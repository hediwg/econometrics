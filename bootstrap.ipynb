{
 "cells": [
  {
   "cell_type": "markdown",
   "metadata": {},
   "source": [
    "# Bootstrapping in python\n",
    "\n",
    "2019-11-3"
   ]
  },
  {
   "cell_type": "markdown",
   "metadata": {},
   "source": [
    "Bootstrap is a resampling method by independently sampling with replacement from an existing sample data with same sample size n, and performing inference among these resampled data. It is widely applied in statistical inferences such as confidence interval, regression model, and even the field of machine learning. \n",
    "\n",
    "Generally, a non-parameter bootstrap involves the following steps:\n",
    "\n",
    "1. A sample from population with sample size n.\n",
    "2. Draw a sample from the original sample data with replacement with size n, and replicate B times, each re-sampled sample is called a Bootstrap Sample, and there will totally B Bootstrap Samples.\n",
    "3. Evaluate the statistic of θ for each Bootstrap Sample, and there will be totally B estimates of θ.\n",
    "4. Construct a sampling distribution with these B Bootstrap statistics and use it to make further statistical inference, such as:        \n",
    "-Estimating the standard error of statistic for θ.       \n",
    "-Obtaining a Confidence Interval for θ.\n",
    "\n",
    "To do a parameter bootstrap, you can just use an estimator of the population parameter (such as a MOM estimator) to generate a new sample with size n, and resample from the new sample for B times to get your Bootstrap Samples. Here we use a simple non-parameter bootstrap example to illustrate how to do this in Python."
   ]
  },
  {
   "cell_type": "code",
   "execution_count": 1,
   "metadata": {},
   "outputs": [],
   "source": [
    "import matplotlib.pyplot as plt\n",
    "import numpy as np"
   ]
  },
  {
   "cell_type": "code",
   "execution_count": 2,
   "metadata": {},
   "outputs": [
    {
     "data": {
      "image/png": "[encoded data removed]",
      "text/plain": [
       "<Figure size 432x288 with 1 Axes>"
      ]
     },
     "metadata": {
      "needs_background": "light"
     },
     "output_type": "display_data"
    }
   ],
   "source": [
    "# generate a normal population\n",
    "mean=100\n",
    "std = 10\n",
    "pop = np.random.normal(loc=mean, scale=std, size=5000)\n",
    "# plot the population\n",
    "count, bins, ignored = plt.hist(pop, 30, density=True)\n",
    "plt.show()"
   ]
  },
  {
   "cell_type": "code",
   "execution_count": 3,
   "metadata": {},
   "outputs": [
    {
     "data": {
      "text/plain": [
       "(array([5.15533051e-04, 0.00000000e+00, 5.15533051e-04, 5.15533051e-04,\n",
       "        2.06213221e-03, 6.18639662e-03, 1.39193924e-02, 3.35096483e-02,\n",
       "        6.90814289e-02, 9.74357467e-02, 1.61877378e-01, 2.18070481e-01,\n",
       "        3.14475161e-01, 4.28923499e-01, 4.97489395e-01, 5.34607774e-01,\n",
       "        6.07813468e-01, 5.62962092e-01, 4.34594362e-01, 4.07786644e-01,\n",
       "        2.79934447e-01, 2.04666621e-01, 1.34038593e-01, 7.57833586e-02,\n",
       "        3.09319831e-02, 2.21679212e-02, 6.70192967e-03, 5.15533051e-03,\n",
       "        2.57766526e-03, 1.03106610e-03]),\n",
       " array([ 97.00112419,  97.19509818,  97.38907216,  97.58304615,\n",
       "         97.77702013,  97.97099411,  98.1649681 ,  98.35894208,\n",
       "         98.55291607,  98.74689005,  98.94086404,  99.13483802,\n",
       "         99.328812  ,  99.52278599,  99.71675997,  99.91073396,\n",
       "        100.10470794, 100.29868193, 100.49265591, 100.68662989,\n",
       "        100.88060388, 101.07457786, 101.26855185, 101.46252583,\n",
       "        101.65649982, 101.8504738 , 102.04444778, 102.23842177,\n",
       "        102.43239575, 102.62636974, 102.82034372]),\n",
       " <a list of 30 Patch objects>)"
      ]
     },
     "execution_count": 3,
     "metadata": {},
     "output_type": "execute_result"
    },
    {
     "data": {
      "image/png": "[encoded data removed]",
      "text/plain": [
       "<Figure size 432x288 with 1 Axes>"
      ]
     },
     "metadata": {
      "needs_background": "light"
     },
     "output_type": "display_data"
    }
   ],
   "source": [
    "# Now pretend that you do not know your parameter. let's use bootstrap to estimate them.\n",
    "B=10000\n",
    "sample_props = []\n",
    "for i in range(B):\n",
    "    sample = np.random.choice(pop, size=200)\n",
    "    sample_props.append(sample.mean())\n",
    "    \n",
    "# plot the simulated sampling distribution of the sample mean, \n",
    "# under the Central Limit Theorem, it is expected normal.\n",
    "plt.hist(sample_props,30, density=True)"
   ]
  },
  {
   "cell_type": "code",
   "execution_count": 4,
   "metadata": {},
   "outputs": [
    {
     "name": "stdout",
     "output_type": "stream",
     "text": [
      "100.16562479450018 100.15765445005621\n",
      "9.955012092566243 9.834515407664911\n"
     ]
    }
   ],
   "source": [
    "# the simulated mean of the sampling distribution\n",
    "simulated_mean = np.mean(sample_props)\n",
    "\n",
    "# the simulated standard deviation of the sampling distribution\n",
    "simulated_std = np.std(sample_props)\n",
    "\n",
    "# the theorical mean and simulated mean\n",
    "print(pop.mean(), simulated_mean)\n",
    "\n",
    "# the theorical standard error and simulated standard error\n",
    "# the standard error of the sample mean is the population standard error over square root of the sample size.\n",
    "print(pop.std(), simulated_std*200**0.5)"
   ]
  },
  {
   "cell_type": "markdown",
   "metadata": {},
   "source": [
    "There is also a python library called `bootsrapped`. You can use it to construct confidence intervals more easily."
   ]
  },
  {
   "cell_type": "code",
   "execution_count": 5,
   "metadata": {},
   "outputs": [
    {
     "name": "stdout",
     "output_type": "stream",
     "text": [
      "Requirement already satisfied: bootstrapped in /srv/app/venv/lib/python3.6/site-packages\n",
      "Requirement already satisfied: numpy>=1.11.1 in /srv/app/venv/lib/python3.6/site-packages (from bootstrapped)\n",
      "Requirement already satisfied: pandas>=0.18.1 in /srv/app/venv/lib/python3.6/site-packages (from bootstrapped)\n",
      "Requirement already satisfied: matplotlib>=1.5.3 in /srv/app/venv/lib/python3.6/site-packages (from bootstrapped)\n",
      "Requirement already satisfied: pytz>=2011k in /srv/app/venv/lib/python3.6/site-packages (from pandas>=0.18.1->bootstrapped)\n",
      "Requirement already satisfied: python-dateutil>=2.5.0 in /srv/app/venv/lib/python3.6/site-packages (from pandas>=0.18.1->bootstrapped)\n",
      "Requirement already satisfied: kiwisolver>=1.0.1 in /srv/app/venv/lib/python3.6/site-packages (from matplotlib>=1.5.3->bootstrapped)\n",
      "Requirement already satisfied: pyparsing!=2.0.4,!=2.1.2,!=2.1.6,>=2.0.1 in /srv/app/venv/lib/python3.6/site-packages (from matplotlib>=1.5.3->bootstrapped)\n",
      "Requirement already satisfied: cycler>=0.10 in /srv/app/venv/lib/python3.6/site-packages (from matplotlib>=1.5.3->bootstrapped)\n",
      "Requirement already satisfied: six>=1.5 in /srv/app/venv/lib/python3.6/site-packages (from python-dateutil>=2.5.0->pandas>=0.18.1->bootstrapped)\n",
      "Requirement already satisfied: setuptools in /srv/app/venv/lib/python3.6/site-packages (from kiwisolver>=1.0.1->matplotlib>=1.5.3->bootstrapped)\n",
      "\u001b[33mYou are using pip version 9.0.3, however version 19.3.1 is available.\n",
      "You should consider upgrading via the 'pip install --upgrade pip' command.\u001b[0m\n",
      "Note: you may need to restart the kernel to use updated packages.\n"
     ]
    }
   ],
   "source": [
    "pip install bootstrapped"
   ]
  },
  {
   "cell_type": "code",
   "execution_count": 6,
   "metadata": {},
   "outputs": [
    {
     "name": "stdout",
     "output_type": "stream",
     "text": [
      "99.72638138367365    (98.30637933423048, 101.06408051284359)\n",
      "9.772842016344663    (8.744422612570279, 10.866689161741167)\n"
     ]
    }
   ],
   "source": [
    "import numpy as np\n",
    "import bootstrapped.bootstrap as bs\n",
    "import bootstrapped.stats_functions as bs_stats\n",
    "\n",
    "mean = 100\n",
    "std = 10\n",
    "pop = np.random.normal(loc=mean, scale=std, size=1000)\n",
    "sample = np.random.choice(pop, size=200)\n",
    "\n",
    "print(bs.bootstrap(sample, stat_func=bs_stats.mean))\n",
    "print(bs.bootstrap(sample, stat_func=bs_stats.std))\n"
   ]
  }
 ],
 "metadata": {
  "kernelspec": {
   "display_name": "Python 3",
   "language": "python",
   "name": "python3"
  },
  "language_info": {
   "codemirror_mode": {
    "name": "ipython",
    "version": 3
   },
   "file_extension": ".py",
   "mimetype": "text/x-python",
   "name": "python",
   "nbconvert_exporter": "python",
   "pygments_lexer": "ipython3",
   "version": "3.6.8"
  }
 },
 "nbformat": 4,
 "nbformat_minor": 2
}
