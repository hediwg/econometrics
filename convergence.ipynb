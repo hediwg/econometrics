{
 "cells": [
  {
   "cell_type": "markdown",
   "metadata": {},
   "source": [
    "## <font color=\"880000\"> Everything You Know about Cross-Country Convergence Is (Now) Wrong </font>\n",
    "\n",
    "In this [article](https://www.piie.com/blogs/realtime-economic-issues-watch/everything-you-know-about-cross-country-convergence-now-wrong), the authors provide interesting visualizations of the divergence between countries since the 1960s, to argue that while economists were busy refining the econometric tools for studying divergence, the basic facts about economic growth around the world turned completely upside down a quarter century ago—and the literature doesn’t seem to have noticed.     \n",
    "\n",
    "The original [code](https://piie.com/system/files/documents/subramanian20181015data.zip) in stata can be found here. This is a python version of plotting the beta plot and the bubble plot.      \n",
    "\n",
    "You can download the original data sets as suggested in the article, but here I have already cleared the data.    \n",
    "\n",
    "Part of the beta code is attributed to [this open source code](https://github.com/psthomas/convergence/blob/255c7f043e6185af84df994aef28b0d82b512de5/convergence.ipynb). Here we use `matplotlib` to generate the plot instead of altair, since it is an easier visulization tool.  \n"
   ]
  },
  {
   "cell_type": "code",
   "execution_count": 32,
   "metadata": {},
   "outputs": [],
   "source": [
    "import numpy as np\n",
    "import pandas as pd\n",
    "\n",
    "import matplotlib.pyplot as plt\n",
    "import matplotlib\n",
    "\n",
    "import statsmodels.formula.api as smf\n",
    "import statsmodels.api as sm"
   ]
  },
  {
   "cell_type": "code",
   "execution_count": 33,
   "metadata": {},
   "outputs": [
    {
     "data": {
      "text/html": [
       "<div>\n",
       "<style scoped>\n",
       "    .dataframe tbody tr th:only-of-type {\n",
       "        vertical-align: middle;\n",
       "    }\n",
       "\n",
       "    .dataframe tbody tr th {\n",
       "        vertical-align: top;\n",
       "    }\n",
       "\n",
       "    .dataframe thead th {\n",
       "        text-align: right;\n",
       "    }\n",
       "</style>\n",
       "<table border=\"1\" class=\"dataframe\">\n",
       "  <thead>\n",
       "    <tr style=\"text-align: right;\">\n",
       "      <th></th>\n",
       "      <th>ccode</th>\n",
       "      <th>country</th>\n",
       "      <th>year</th>\n",
       "      <th>gdp</th>\n",
       "      <th>pop</th>\n",
       "    </tr>\n",
       "  </thead>\n",
       "  <tbody>\n",
       "    <tr>\n",
       "      <th>0</th>\n",
       "      <td>AFG</td>\n",
       "      <td>Afghanistan</td>\n",
       "      <td>1950</td>\n",
       "      <td>2392.0</td>\n",
       "      <td>8.150</td>\n",
       "    </tr>\n",
       "    <tr>\n",
       "      <th>1</th>\n",
       "      <td>AFG</td>\n",
       "      <td>Afghanistan</td>\n",
       "      <td>1951</td>\n",
       "      <td>2422.0</td>\n",
       "      <td>8.284</td>\n",
       "    </tr>\n",
       "    <tr>\n",
       "      <th>2</th>\n",
       "      <td>AFG</td>\n",
       "      <td>Afghanistan</td>\n",
       "      <td>1952</td>\n",
       "      <td>2462.0</td>\n",
       "      <td>8.425</td>\n",
       "    </tr>\n",
       "    <tr>\n",
       "      <th>3</th>\n",
       "      <td>AFG</td>\n",
       "      <td>Afghanistan</td>\n",
       "      <td>1953</td>\n",
       "      <td>2568.0</td>\n",
       "      <td>8.573</td>\n",
       "    </tr>\n",
       "    <tr>\n",
       "      <th>4</th>\n",
       "      <td>AFG</td>\n",
       "      <td>Afghanistan</td>\n",
       "      <td>1954</td>\n",
       "      <td>2576.0</td>\n",
       "      <td>8.728</td>\n",
       "    </tr>\n",
       "  </tbody>\n",
       "</table>\n",
       "</div>"
      ],
      "text/plain": [
       "  ccode      country  year     gdp    pop\n",
       "0   AFG  Afghanistan  1950  2392.0  8.150\n",
       "1   AFG  Afghanistan  1951  2422.0  8.284\n",
       "2   AFG  Afghanistan  1952  2462.0  8.425\n",
       "3   AFG  Afghanistan  1953  2568.0  8.573\n",
       "4   AFG  Afghanistan  1954  2576.0  8.728"
      ]
     },
     "execution_count": 33,
     "metadata": {},
     "output_type": "execute_result"
    }
   ],
   "source": [
    "md_df=pd.read_csv('mad.csv')\n",
    "md_df.rename({'mad':'gdp','mad_pop':'pop'}, axis=1, inplace=True)\n",
    "md_df.head()"
   ]
  },
  {
   "cell_type": "code",
   "execution_count": 34,
   "metadata": {},
   "outputs": [
    {
     "data": {
      "text/html": [
       "<div>\n",
       "<style scoped>\n",
       "    .dataframe tbody tr th:only-of-type {\n",
       "        vertical-align: middle;\n",
       "    }\n",
       "\n",
       "    .dataframe tbody tr th {\n",
       "        vertical-align: top;\n",
       "    }\n",
       "\n",
       "    .dataframe thead th {\n",
       "        text-align: right;\n",
       "    }\n",
       "</style>\n",
       "<table border=\"1\" class=\"dataframe\">\n",
       "  <thead>\n",
       "    <tr style=\"text-align: right;\">\n",
       "      <th></th>\n",
       "      <th>ccode</th>\n",
       "      <th>country</th>\n",
       "      <th>year</th>\n",
       "      <th>gdp</th>\n",
       "      <th>pop</th>\n",
       "    </tr>\n",
       "  </thead>\n",
       "  <tbody>\n",
       "    <tr>\n",
       "      <th>0</th>\n",
       "      <td>ABW</td>\n",
       "      <td>Aruba</td>\n",
       "      <td>1970</td>\n",
       "      <td>5911.0</td>\n",
       "      <td>0.059065</td>\n",
       "    </tr>\n",
       "    <tr>\n",
       "      <th>1</th>\n",
       "      <td>ABW</td>\n",
       "      <td>Aruba</td>\n",
       "      <td>1971</td>\n",
       "      <td>6403.0</td>\n",
       "      <td>0.059438</td>\n",
       "    </tr>\n",
       "    <tr>\n",
       "      <th>2</th>\n",
       "      <td>ABW</td>\n",
       "      <td>Aruba</td>\n",
       "      <td>1972</td>\n",
       "      <td>6937.0</td>\n",
       "      <td>0.059849</td>\n",
       "    </tr>\n",
       "    <tr>\n",
       "      <th>3</th>\n",
       "      <td>ABW</td>\n",
       "      <td>Aruba</td>\n",
       "      <td>1973</td>\n",
       "      <td>7517.0</td>\n",
       "      <td>0.060239</td>\n",
       "    </tr>\n",
       "    <tr>\n",
       "      <th>4</th>\n",
       "      <td>ABW</td>\n",
       "      <td>Aruba</td>\n",
       "      <td>1974</td>\n",
       "      <td>8136.0</td>\n",
       "      <td>0.060525</td>\n",
       "    </tr>\n",
       "  </tbody>\n",
       "</table>\n",
       "</div>"
      ],
      "text/plain": [
       "  ccode country  year     gdp       pop\n",
       "0   ABW   Aruba  1970  5911.0  0.059065\n",
       "1   ABW   Aruba  1971  6403.0  0.059438\n",
       "2   ABW   Aruba  1972  6937.0  0.059849\n",
       "3   ABW   Aruba  1973  7517.0  0.060239\n",
       "4   ABW   Aruba  1974  8136.0  0.060525"
      ]
     },
     "execution_count": 34,
     "metadata": {},
     "output_type": "execute_result"
    }
   ],
   "source": [
    "pw_df=pd.read_csv('pwt.csv')\n",
    "pw_df.rename({'pwt':'gdp','pwt_pop':'pop'}, axis=1, inplace=True)\n",
    "pw_df.head()"
   ]
  },
  {
   "cell_type": "code",
   "execution_count": 35,
   "metadata": {},
   "outputs": [
    {
     "data": {
      "text/html": [
       "<div>\n",
       "<style scoped>\n",
       "    .dataframe tbody tr th:only-of-type {\n",
       "        vertical-align: middle;\n",
       "    }\n",
       "\n",
       "    .dataframe tbody tr th {\n",
       "        vertical-align: top;\n",
       "    }\n",
       "\n",
       "    .dataframe thead th {\n",
       "        text-align: right;\n",
       "    }\n",
       "</style>\n",
       "<table border=\"1\" class=\"dataframe\">\n",
       "  <thead>\n",
       "    <tr style=\"text-align: right;\">\n",
       "      <th></th>\n",
       "      <th>country</th>\n",
       "      <th>ccode</th>\n",
       "      <th>year</th>\n",
       "      <th>gdpconstlcu</th>\n",
       "      <th>gdp</th>\n",
       "      <th>pop</th>\n",
       "    </tr>\n",
       "  </thead>\n",
       "  <tbody>\n",
       "    <tr>\n",
       "      <th>0</th>\n",
       "      <td>Aruba</td>\n",
       "      <td>ABW</td>\n",
       "      <td>2011</td>\n",
       "      <td>NaN</td>\n",
       "      <td>35973.7810</td>\n",
       "      <td>0.102053</td>\n",
       "    </tr>\n",
       "    <tr>\n",
       "      <th>1</th>\n",
       "      <td>Aruba</td>\n",
       "      <td>ABW</td>\n",
       "      <td>2010</td>\n",
       "      <td>NaN</td>\n",
       "      <td>NaN</td>\n",
       "      <td>0.101669</td>\n",
       "    </tr>\n",
       "    <tr>\n",
       "      <th>2</th>\n",
       "      <td>Afghanistan</td>\n",
       "      <td>AFG</td>\n",
       "      <td>2017</td>\n",
       "      <td>14311.619</td>\n",
       "      <td>1803.9875</td>\n",
       "      <td>35.530081</td>\n",
       "    </tr>\n",
       "    <tr>\n",
       "      <th>3</th>\n",
       "      <td>Afghanistan</td>\n",
       "      <td>AFG</td>\n",
       "      <td>2016</td>\n",
       "      <td>14301.370</td>\n",
       "      <td>1802.6956</td>\n",
       "      <td>34.656032</td>\n",
       "    </tr>\n",
       "    <tr>\n",
       "      <th>4</th>\n",
       "      <td>Afghanistan</td>\n",
       "      <td>AFG</td>\n",
       "      <td>2015</td>\n",
       "      <td>14351.516</td>\n",
       "      <td>1809.0165</td>\n",
       "      <td>33.736494</td>\n",
       "    </tr>\n",
       "  </tbody>\n",
       "</table>\n",
       "</div>"
      ],
      "text/plain": [
       "       country ccode  year  gdpconstlcu         gdp        pop\n",
       "0        Aruba   ABW  2011          NaN  35973.7810   0.102053\n",
       "1        Aruba   ABW  2010          NaN         NaN   0.101669\n",
       "2  Afghanistan   AFG  2017    14311.619   1803.9875  35.530081\n",
       "3  Afghanistan   AFG  2016    14301.370   1802.6956  34.656032\n",
       "4  Afghanistan   AFG  2015    14351.516   1809.0165  33.736494"
      ]
     },
     "execution_count": 35,
     "metadata": {},
     "output_type": "execute_result"
    }
   ],
   "source": [
    "wdi_df=pd.read_csv('wdi.csv')\n",
    "wdi_df.rename({'wdi':'gdp','wdi_pop':'pop'}, axis=1, inplace=True)\n",
    "wdi_df.head()"
   ]
  },
  {
   "cell_type": "code",
   "execution_count": 36,
   "metadata": {},
   "outputs": [],
   "source": [
    "def calculate_growth(year, endyear, df):\n",
    "    '''Returns a dataframe with a log(start_gdp) column\n",
    "    and a growth rate calculated by country between the specified\n",
    "    year and the endyear.'''\n",
    "    initial_df = df[(df['year'] == year)].copy()\n",
    "    initial_df['start_gdp'] = initial_df['gdp']\n",
    "    initial_df = initial_df[['ccode', 'start_gdp']]\n",
    "\n",
    "    end_df = df[df['year'] == endyear].copy()\n",
    "    end_df['end_gdp'] =  end_df['gdp']\n",
    "    end_df = end_df[['ccode', 'end_gdp']]\n",
    "\n",
    "    reg_df = initial_df.merge(end_df, on=['ccode'], how='inner')\n",
    "    reg_df['growth_rate'] = (np.log(reg_df['end_gdp']/reg_df['start_gdp'])/(endyear-year))*100\n",
    "    reg_df['log_start_gdp'] = np.log(reg_df['start_gdp'])\n",
    "    \n",
    "    return reg_df\n",
    "\n",
    "def growth_betas(startyear, endyear, df):\n",
    "    \n",
    "    results = {}\n",
    "    for year in range(startyear, endyear):\n",
    "        reg_df = calculate_growth(year, endyear, df)\n",
    "        # Using robust covariance type to match stata code.  \n",
    "        poly_1 = smf.ols(formula='growth_rate ~ 1 + log_start_gdp', \n",
    "                         missing='drop', data=reg_df).fit(cov_type='HC3')\n",
    "        beta = poly_1.params.log_start_gdp\n",
    "        conf = poly_1.conf_int().loc['log_start_gdp']\n",
    "        results[year] = [beta, conf[0], conf[1]]\n",
    "    \n",
    "    columns = ['beta', 'lower', 'upper']\n",
    "    results_df = pd.DataFrame.from_dict(results, orient='index', columns=columns)\n",
    "    results_df = results_df.reset_index()\n",
    "    results_df.rename({'index':'year'}, axis=\"columns\", inplace=True)\n",
    "    return results_df"
   ]
  },
  {
   "cell_type": "code",
   "execution_count": 37,
   "metadata": {},
   "outputs": [],
   "source": [
    "mdres_df = growth_betas(1950, 2016, md_df)\n",
    "mdres_df['source'] = 'MAD'"
   ]
  },
  {
   "cell_type": "code",
   "execution_count": 38,
   "metadata": {},
   "outputs": [
    {
     "data": {
      "text/html": [
       "<div>\n",
       "<style scoped>\n",
       "    .dataframe tbody tr th:only-of-type {\n",
       "        vertical-align: middle;\n",
       "    }\n",
       "\n",
       "    .dataframe tbody tr th {\n",
       "        vertical-align: top;\n",
       "    }\n",
       "\n",
       "    .dataframe thead th {\n",
       "        text-align: right;\n",
       "    }\n",
       "</style>\n",
       "<table border=\"1\" class=\"dataframe\">\n",
       "  <thead>\n",
       "    <tr style=\"text-align: right;\">\n",
       "      <th></th>\n",
       "      <th>year</th>\n",
       "      <th>beta</th>\n",
       "      <th>lower</th>\n",
       "      <th>upper</th>\n",
       "      <th>source</th>\n",
       "    </tr>\n",
       "  </thead>\n",
       "  <tbody>\n",
       "    <tr>\n",
       "      <th>0</th>\n",
       "      <td>1960</td>\n",
       "      <td>-0.045571</td>\n",
       "      <td>-0.384611</td>\n",
       "      <td>0.293470</td>\n",
       "      <td>PWT</td>\n",
       "    </tr>\n",
       "    <tr>\n",
       "      <th>1</th>\n",
       "      <td>1961</td>\n",
       "      <td>-0.037180</td>\n",
       "      <td>-0.368115</td>\n",
       "      <td>0.293755</td>\n",
       "      <td>PWT</td>\n",
       "    </tr>\n",
       "    <tr>\n",
       "      <th>2</th>\n",
       "      <td>1962</td>\n",
       "      <td>-0.100642</td>\n",
       "      <td>-0.445097</td>\n",
       "      <td>0.243813</td>\n",
       "      <td>PWT</td>\n",
       "    </tr>\n",
       "    <tr>\n",
       "      <th>3</th>\n",
       "      <td>1963</td>\n",
       "      <td>-0.084184</td>\n",
       "      <td>-0.408951</td>\n",
       "      <td>0.240584</td>\n",
       "      <td>PWT</td>\n",
       "    </tr>\n",
       "    <tr>\n",
       "      <th>4</th>\n",
       "      <td>1964</td>\n",
       "      <td>-0.082938</td>\n",
       "      <td>-0.421915</td>\n",
       "      <td>0.256038</td>\n",
       "      <td>PWT</td>\n",
       "    </tr>\n",
       "    <tr>\n",
       "      <th>5</th>\n",
       "      <td>1965</td>\n",
       "      <td>-0.095615</td>\n",
       "      <td>-0.450456</td>\n",
       "      <td>0.259227</td>\n",
       "      <td>PWT</td>\n",
       "    </tr>\n",
       "    <tr>\n",
       "      <th>6</th>\n",
       "      <td>1966</td>\n",
       "      <td>-0.076567</td>\n",
       "      <td>-0.425525</td>\n",
       "      <td>0.272391</td>\n",
       "      <td>PWT</td>\n",
       "    </tr>\n",
       "    <tr>\n",
       "      <th>7</th>\n",
       "      <td>1967</td>\n",
       "      <td>-0.066225</td>\n",
       "      <td>-0.422168</td>\n",
       "      <td>0.289719</td>\n",
       "      <td>PWT</td>\n",
       "    </tr>\n",
       "    <tr>\n",
       "      <th>8</th>\n",
       "      <td>1968</td>\n",
       "      <td>-0.049849</td>\n",
       "      <td>-0.401729</td>\n",
       "      <td>0.302030</td>\n",
       "      <td>PWT</td>\n",
       "    </tr>\n",
       "    <tr>\n",
       "      <th>9</th>\n",
       "      <td>1969</td>\n",
       "      <td>-0.065784</td>\n",
       "      <td>-0.420781</td>\n",
       "      <td>0.289213</td>\n",
       "      <td>PWT</td>\n",
       "    </tr>\n",
       "    <tr>\n",
       "      <th>10</th>\n",
       "      <td>1970</td>\n",
       "      <td>-0.273198</td>\n",
       "      <td>-0.586120</td>\n",
       "      <td>0.039724</td>\n",
       "      <td>PWT</td>\n",
       "    </tr>\n",
       "    <tr>\n",
       "      <th>11</th>\n",
       "      <td>1971</td>\n",
       "      <td>-0.268447</td>\n",
       "      <td>-0.580271</td>\n",
       "      <td>0.043376</td>\n",
       "      <td>PWT</td>\n",
       "    </tr>\n",
       "    <tr>\n",
       "      <th>12</th>\n",
       "      <td>1972</td>\n",
       "      <td>-0.264081</td>\n",
       "      <td>-0.572230</td>\n",
       "      <td>0.044069</td>\n",
       "      <td>PWT</td>\n",
       "    </tr>\n",
       "    <tr>\n",
       "      <th>13</th>\n",
       "      <td>1973</td>\n",
       "      <td>-0.275313</td>\n",
       "      <td>-0.573484</td>\n",
       "      <td>0.022858</td>\n",
       "      <td>PWT</td>\n",
       "    </tr>\n",
       "    <tr>\n",
       "      <th>14</th>\n",
       "      <td>1974</td>\n",
       "      <td>-0.299021</td>\n",
       "      <td>-0.600253</td>\n",
       "      <td>0.002210</td>\n",
       "      <td>PWT</td>\n",
       "    </tr>\n",
       "    <tr>\n",
       "      <th>15</th>\n",
       "      <td>1975</td>\n",
       "      <td>-0.259574</td>\n",
       "      <td>-0.567308</td>\n",
       "      <td>0.048160</td>\n",
       "      <td>PWT</td>\n",
       "    </tr>\n",
       "    <tr>\n",
       "      <th>16</th>\n",
       "      <td>1976</td>\n",
       "      <td>-0.248098</td>\n",
       "      <td>-0.561262</td>\n",
       "      <td>0.065067</td>\n",
       "      <td>PWT</td>\n",
       "    </tr>\n",
       "    <tr>\n",
       "      <th>17</th>\n",
       "      <td>1977</td>\n",
       "      <td>-0.213895</td>\n",
       "      <td>-0.534518</td>\n",
       "      <td>0.106728</td>\n",
       "      <td>PWT</td>\n",
       "    </tr>\n",
       "    <tr>\n",
       "      <th>18</th>\n",
       "      <td>1978</td>\n",
       "      <td>-0.185780</td>\n",
       "      <td>-0.497048</td>\n",
       "      <td>0.125487</td>\n",
       "      <td>PWT</td>\n",
       "    </tr>\n",
       "    <tr>\n",
       "      <th>19</th>\n",
       "      <td>1979</td>\n",
       "      <td>-0.245117</td>\n",
       "      <td>-0.557870</td>\n",
       "      <td>0.067635</td>\n",
       "      <td>PWT</td>\n",
       "    </tr>\n",
       "    <tr>\n",
       "      <th>20</th>\n",
       "      <td>1980</td>\n",
       "      <td>-0.284078</td>\n",
       "      <td>-0.603919</td>\n",
       "      <td>0.035764</td>\n",
       "      <td>PWT</td>\n",
       "    </tr>\n",
       "    <tr>\n",
       "      <th>21</th>\n",
       "      <td>1981</td>\n",
       "      <td>-0.243737</td>\n",
       "      <td>-0.566565</td>\n",
       "      <td>0.079092</td>\n",
       "      <td>PWT</td>\n",
       "    </tr>\n",
       "    <tr>\n",
       "      <th>22</th>\n",
       "      <td>1982</td>\n",
       "      <td>-0.165171</td>\n",
       "      <td>-0.494192</td>\n",
       "      <td>0.163851</td>\n",
       "      <td>PWT</td>\n",
       "    </tr>\n",
       "    <tr>\n",
       "      <th>23</th>\n",
       "      <td>1983</td>\n",
       "      <td>-0.111854</td>\n",
       "      <td>-0.443972</td>\n",
       "      <td>0.220264</td>\n",
       "      <td>PWT</td>\n",
       "    </tr>\n",
       "    <tr>\n",
       "      <th>24</th>\n",
       "      <td>1984</td>\n",
       "      <td>-0.107074</td>\n",
       "      <td>-0.447857</td>\n",
       "      <td>0.233708</td>\n",
       "      <td>PWT</td>\n",
       "    </tr>\n",
       "    <tr>\n",
       "      <th>25</th>\n",
       "      <td>1985</td>\n",
       "      <td>-0.092675</td>\n",
       "      <td>-0.455072</td>\n",
       "      <td>0.269722</td>\n",
       "      <td>PWT</td>\n",
       "    </tr>\n",
       "    <tr>\n",
       "      <th>26</th>\n",
       "      <td>1986</td>\n",
       "      <td>-0.079970</td>\n",
       "      <td>-0.453738</td>\n",
       "      <td>0.293799</td>\n",
       "      <td>PWT</td>\n",
       "    </tr>\n",
       "    <tr>\n",
       "      <th>27</th>\n",
       "      <td>1987</td>\n",
       "      <td>-0.166306</td>\n",
       "      <td>-0.561272</td>\n",
       "      <td>0.228661</td>\n",
       "      <td>PWT</td>\n",
       "    </tr>\n",
       "    <tr>\n",
       "      <th>28</th>\n",
       "      <td>1988</td>\n",
       "      <td>-0.194073</td>\n",
       "      <td>-0.581806</td>\n",
       "      <td>0.193660</td>\n",
       "      <td>PWT</td>\n",
       "    </tr>\n",
       "    <tr>\n",
       "      <th>29</th>\n",
       "      <td>1989</td>\n",
       "      <td>-0.288833</td>\n",
       "      <td>-0.664376</td>\n",
       "      <td>0.086710</td>\n",
       "      <td>PWT</td>\n",
       "    </tr>\n",
       "    <tr>\n",
       "      <th>30</th>\n",
       "      <td>1990</td>\n",
       "      <td>-0.436779</td>\n",
       "      <td>-0.839314</td>\n",
       "      <td>-0.034244</td>\n",
       "      <td>PWT</td>\n",
       "    </tr>\n",
       "    <tr>\n",
       "      <th>31</th>\n",
       "      <td>1991</td>\n",
       "      <td>-0.474092</td>\n",
       "      <td>-0.901282</td>\n",
       "      <td>-0.046902</td>\n",
       "      <td>PWT</td>\n",
       "    </tr>\n",
       "    <tr>\n",
       "      <th>32</th>\n",
       "      <td>1992</td>\n",
       "      <td>-0.505850</td>\n",
       "      <td>-0.912201</td>\n",
       "      <td>-0.099498</td>\n",
       "      <td>PWT</td>\n",
       "    </tr>\n",
       "    <tr>\n",
       "      <th>33</th>\n",
       "      <td>1993</td>\n",
       "      <td>-0.555557</td>\n",
       "      <td>-0.966736</td>\n",
       "      <td>-0.144377</td>\n",
       "      <td>PWT</td>\n",
       "    </tr>\n",
       "    <tr>\n",
       "      <th>34</th>\n",
       "      <td>1994</td>\n",
       "      <td>-0.705863</td>\n",
       "      <td>-1.173845</td>\n",
       "      <td>-0.237880</td>\n",
       "      <td>PWT</td>\n",
       "    </tr>\n",
       "    <tr>\n",
       "      <th>35</th>\n",
       "      <td>1995</td>\n",
       "      <td>-0.699070</td>\n",
       "      <td>-1.125227</td>\n",
       "      <td>-0.272914</td>\n",
       "      <td>PWT</td>\n",
       "    </tr>\n",
       "    <tr>\n",
       "      <th>36</th>\n",
       "      <td>1996</td>\n",
       "      <td>-0.683465</td>\n",
       "      <td>-1.092240</td>\n",
       "      <td>-0.274690</td>\n",
       "      <td>PWT</td>\n",
       "    </tr>\n",
       "    <tr>\n",
       "      <th>37</th>\n",
       "      <td>1997</td>\n",
       "      <td>-0.611108</td>\n",
       "      <td>-0.988514</td>\n",
       "      <td>-0.233703</td>\n",
       "      <td>PWT</td>\n",
       "    </tr>\n",
       "    <tr>\n",
       "      <th>38</th>\n",
       "      <td>1998</td>\n",
       "      <td>-0.716149</td>\n",
       "      <td>-1.125399</td>\n",
       "      <td>-0.306900</td>\n",
       "      <td>PWT</td>\n",
       "    </tr>\n",
       "    <tr>\n",
       "      <th>39</th>\n",
       "      <td>1999</td>\n",
       "      <td>-0.727816</td>\n",
       "      <td>-1.116916</td>\n",
       "      <td>-0.338716</td>\n",
       "      <td>PWT</td>\n",
       "    </tr>\n",
       "    <tr>\n",
       "      <th>40</th>\n",
       "      <td>2000</td>\n",
       "      <td>-0.746147</td>\n",
       "      <td>-1.108361</td>\n",
       "      <td>-0.383934</td>\n",
       "      <td>PWT</td>\n",
       "    </tr>\n",
       "    <tr>\n",
       "      <th>41</th>\n",
       "      <td>2001</td>\n",
       "      <td>-0.680141</td>\n",
       "      <td>-1.053480</td>\n",
       "      <td>-0.306802</td>\n",
       "      <td>PWT</td>\n",
       "    </tr>\n",
       "    <tr>\n",
       "      <th>42</th>\n",
       "      <td>2002</td>\n",
       "      <td>-0.650012</td>\n",
       "      <td>-1.039291</td>\n",
       "      <td>-0.260733</td>\n",
       "      <td>PWT</td>\n",
       "    </tr>\n",
       "    <tr>\n",
       "      <th>43</th>\n",
       "      <td>2003</td>\n",
       "      <td>-0.685554</td>\n",
       "      <td>-1.062318</td>\n",
       "      <td>-0.308790</td>\n",
       "      <td>PWT</td>\n",
       "    </tr>\n",
       "    <tr>\n",
       "      <th>44</th>\n",
       "      <td>2004</td>\n",
       "      <td>-0.681494</td>\n",
       "      <td>-1.049883</td>\n",
       "      <td>-0.313106</td>\n",
       "      <td>PWT</td>\n",
       "    </tr>\n",
       "    <tr>\n",
       "      <th>45</th>\n",
       "      <td>2005</td>\n",
       "      <td>-0.763377</td>\n",
       "      <td>-1.129659</td>\n",
       "      <td>-0.397095</td>\n",
       "      <td>PWT</td>\n",
       "    </tr>\n",
       "    <tr>\n",
       "      <th>46</th>\n",
       "      <td>2006</td>\n",
       "      <td>-0.970570</td>\n",
       "      <td>-1.373167</td>\n",
       "      <td>-0.567973</td>\n",
       "      <td>PWT</td>\n",
       "    </tr>\n",
       "    <tr>\n",
       "      <th>47</th>\n",
       "      <td>2007</td>\n",
       "      <td>-1.145604</td>\n",
       "      <td>-1.607563</td>\n",
       "      <td>-0.683644</td>\n",
       "      <td>PWT</td>\n",
       "    </tr>\n",
       "    <tr>\n",
       "      <th>48</th>\n",
       "      <td>2008</td>\n",
       "      <td>-1.315401</td>\n",
       "      <td>-1.845195</td>\n",
       "      <td>-0.785607</td>\n",
       "      <td>PWT</td>\n",
       "    </tr>\n",
       "    <tr>\n",
       "      <th>49</th>\n",
       "      <td>2009</td>\n",
       "      <td>-0.910293</td>\n",
       "      <td>-1.583832</td>\n",
       "      <td>-0.236755</td>\n",
       "      <td>PWT</td>\n",
       "    </tr>\n",
       "    <tr>\n",
       "      <th>50</th>\n",
       "      <td>2010</td>\n",
       "      <td>-0.658482</td>\n",
       "      <td>-1.212807</td>\n",
       "      <td>-0.104157</td>\n",
       "      <td>PWT</td>\n",
       "    </tr>\n",
       "    <tr>\n",
       "      <th>51</th>\n",
       "      <td>2011</td>\n",
       "      <td>-0.708464</td>\n",
       "      <td>-1.274700</td>\n",
       "      <td>-0.142228</td>\n",
       "      <td>PWT</td>\n",
       "    </tr>\n",
       "    <tr>\n",
       "      <th>52</th>\n",
       "      <td>2012</td>\n",
       "      <td>-0.687799</td>\n",
       "      <td>-1.382247</td>\n",
       "      <td>0.006649</td>\n",
       "      <td>PWT</td>\n",
       "    </tr>\n",
       "    <tr>\n",
       "      <th>53</th>\n",
       "      <td>2013</td>\n",
       "      <td>-0.916624</td>\n",
       "      <td>-1.493675</td>\n",
       "      <td>-0.339574</td>\n",
       "      <td>PWT</td>\n",
       "    </tr>\n",
       "  </tbody>\n",
       "</table>\n",
       "</div>"
      ],
      "text/plain": [
       "    year      beta     lower     upper source\n",
       "0   1960 -0.045571 -0.384611  0.293470    PWT\n",
       "1   1961 -0.037180 -0.368115  0.293755    PWT\n",
       "2   1962 -0.100642 -0.445097  0.243813    PWT\n",
       "3   1963 -0.084184 -0.408951  0.240584    PWT\n",
       "4   1964 -0.082938 -0.421915  0.256038    PWT\n",
       "5   1965 -0.095615 -0.450456  0.259227    PWT\n",
       "6   1966 -0.076567 -0.425525  0.272391    PWT\n",
       "7   1967 -0.066225 -0.422168  0.289719    PWT\n",
       "8   1968 -0.049849 -0.401729  0.302030    PWT\n",
       "9   1969 -0.065784 -0.420781  0.289213    PWT\n",
       "10  1970 -0.273198 -0.586120  0.039724    PWT\n",
       "11  1971 -0.268447 -0.580271  0.043376    PWT\n",
       "12  1972 -0.264081 -0.572230  0.044069    PWT\n",
       "13  1973 -0.275313 -0.573484  0.022858    PWT\n",
       "14  1974 -0.299021 -0.600253  0.002210    PWT\n",
       "15  1975 -0.259574 -0.567308  0.048160    PWT\n",
       "16  1976 -0.248098 -0.561262  0.065067    PWT\n",
       "17  1977 -0.213895 -0.534518  0.106728    PWT\n",
       "18  1978 -0.185780 -0.497048  0.125487    PWT\n",
       "19  1979 -0.245117 -0.557870  0.067635    PWT\n",
       "20  1980 -0.284078 -0.603919  0.035764    PWT\n",
       "21  1981 -0.243737 -0.566565  0.079092    PWT\n",
       "22  1982 -0.165171 -0.494192  0.163851    PWT\n",
       "23  1983 -0.111854 -0.443972  0.220264    PWT\n",
       "24  1984 -0.107074 -0.447857  0.233708    PWT\n",
       "25  1985 -0.092675 -0.455072  0.269722    PWT\n",
       "26  1986 -0.079970 -0.453738  0.293799    PWT\n",
       "27  1987 -0.166306 -0.561272  0.228661    PWT\n",
       "28  1988 -0.194073 -0.581806  0.193660    PWT\n",
       "29  1989 -0.288833 -0.664376  0.086710    PWT\n",
       "30  1990 -0.436779 -0.839314 -0.034244    PWT\n",
       "31  1991 -0.474092 -0.901282 -0.046902    PWT\n",
       "32  1992 -0.505850 -0.912201 -0.099498    PWT\n",
       "33  1993 -0.555557 -0.966736 -0.144377    PWT\n",
       "34  1994 -0.705863 -1.173845 -0.237880    PWT\n",
       "35  1995 -0.699070 -1.125227 -0.272914    PWT\n",
       "36  1996 -0.683465 -1.092240 -0.274690    PWT\n",
       "37  1997 -0.611108 -0.988514 -0.233703    PWT\n",
       "38  1998 -0.716149 -1.125399 -0.306900    PWT\n",
       "39  1999 -0.727816 -1.116916 -0.338716    PWT\n",
       "40  2000 -0.746147 -1.108361 -0.383934    PWT\n",
       "41  2001 -0.680141 -1.053480 -0.306802    PWT\n",
       "42  2002 -0.650012 -1.039291 -0.260733    PWT\n",
       "43  2003 -0.685554 -1.062318 -0.308790    PWT\n",
       "44  2004 -0.681494 -1.049883 -0.313106    PWT\n",
       "45  2005 -0.763377 -1.129659 -0.397095    PWT\n",
       "46  2006 -0.970570 -1.373167 -0.567973    PWT\n",
       "47  2007 -1.145604 -1.607563 -0.683644    PWT\n",
       "48  2008 -1.315401 -1.845195 -0.785607    PWT\n",
       "49  2009 -0.910293 -1.583832 -0.236755    PWT\n",
       "50  2010 -0.658482 -1.212807 -0.104157    PWT\n",
       "51  2011 -0.708464 -1.274700 -0.142228    PWT\n",
       "52  2012 -0.687799 -1.382247  0.006649    PWT\n",
       "53  2013 -0.916624 -1.493675 -0.339574    PWT"
      ]
     },
     "execution_count": 38,
     "metadata": {},
     "output_type": "execute_result"
    }
   ],
   "source": [
    "pwres_df = growth_betas(1960, 2014, pw_df)\n",
    "pwres_df['source'] = 'PWT'\n",
    "pwres_df"
   ]
  },
  {
   "cell_type": "code",
   "execution_count": 39,
   "metadata": {},
   "outputs": [
    {
     "data": {
      "text/html": [
       "<div>\n",
       "<style scoped>\n",
       "    .dataframe tbody tr th:only-of-type {\n",
       "        vertical-align: middle;\n",
       "    }\n",
       "\n",
       "    .dataframe tbody tr th {\n",
       "        vertical-align: top;\n",
       "    }\n",
       "\n",
       "    .dataframe thead th {\n",
       "        text-align: right;\n",
       "    }\n",
       "</style>\n",
       "<table border=\"1\" class=\"dataframe\">\n",
       "  <thead>\n",
       "    <tr style=\"text-align: right;\">\n",
       "      <th></th>\n",
       "      <th>year</th>\n",
       "      <th>beta</th>\n",
       "      <th>lower</th>\n",
       "      <th>upper</th>\n",
       "      <th>source</th>\n",
       "    </tr>\n",
       "  </thead>\n",
       "  <tbody>\n",
       "    <tr>\n",
       "      <th>0</th>\n",
       "      <td>1960</td>\n",
       "      <td>0.003293</td>\n",
       "      <td>-0.354304</td>\n",
       "      <td>0.360890</td>\n",
       "      <td>WDI</td>\n",
       "    </tr>\n",
       "    <tr>\n",
       "      <th>1</th>\n",
       "      <td>1961</td>\n",
       "      <td>-0.043901</td>\n",
       "      <td>-0.435348</td>\n",
       "      <td>0.347547</td>\n",
       "      <td>WDI</td>\n",
       "    </tr>\n",
       "    <tr>\n",
       "      <th>2</th>\n",
       "      <td>1962</td>\n",
       "      <td>-0.047212</td>\n",
       "      <td>-0.459896</td>\n",
       "      <td>0.365473</td>\n",
       "      <td>WDI</td>\n",
       "    </tr>\n",
       "    <tr>\n",
       "      <th>3</th>\n",
       "      <td>1963</td>\n",
       "      <td>-0.046990</td>\n",
       "      <td>-0.445891</td>\n",
       "      <td>0.351911</td>\n",
       "      <td>WDI</td>\n",
       "    </tr>\n",
       "    <tr>\n",
       "      <th>4</th>\n",
       "      <td>1964</td>\n",
       "      <td>-0.060596</td>\n",
       "      <td>-0.439746</td>\n",
       "      <td>0.318555</td>\n",
       "      <td>WDI</td>\n",
       "    </tr>\n",
       "    <tr>\n",
       "      <th>5</th>\n",
       "      <td>1965</td>\n",
       "      <td>-0.061716</td>\n",
       "      <td>-0.427989</td>\n",
       "      <td>0.304557</td>\n",
       "      <td>WDI</td>\n",
       "    </tr>\n",
       "    <tr>\n",
       "      <th>6</th>\n",
       "      <td>1966</td>\n",
       "      <td>-0.057337</td>\n",
       "      <td>-0.412031</td>\n",
       "      <td>0.297357</td>\n",
       "      <td>WDI</td>\n",
       "    </tr>\n",
       "    <tr>\n",
       "      <th>7</th>\n",
       "      <td>1967</td>\n",
       "      <td>-0.073092</td>\n",
       "      <td>-0.433043</td>\n",
       "      <td>0.286859</td>\n",
       "      <td>WDI</td>\n",
       "    </tr>\n",
       "    <tr>\n",
       "      <th>8</th>\n",
       "      <td>1968</td>\n",
       "      <td>-0.104025</td>\n",
       "      <td>-0.458386</td>\n",
       "      <td>0.250335</td>\n",
       "      <td>WDI</td>\n",
       "    </tr>\n",
       "    <tr>\n",
       "      <th>9</th>\n",
       "      <td>1969</td>\n",
       "      <td>-0.110061</td>\n",
       "      <td>-0.448803</td>\n",
       "      <td>0.228680</td>\n",
       "      <td>WDI</td>\n",
       "    </tr>\n",
       "    <tr>\n",
       "      <th>10</th>\n",
       "      <td>1970</td>\n",
       "      <td>-0.075971</td>\n",
       "      <td>-0.393502</td>\n",
       "      <td>0.241561</td>\n",
       "      <td>WDI</td>\n",
       "    </tr>\n",
       "    <tr>\n",
       "      <th>11</th>\n",
       "      <td>1971</td>\n",
       "      <td>-0.078731</td>\n",
       "      <td>-0.397627</td>\n",
       "      <td>0.240165</td>\n",
       "      <td>WDI</td>\n",
       "    </tr>\n",
       "    <tr>\n",
       "      <th>12</th>\n",
       "      <td>1972</td>\n",
       "      <td>-0.108870</td>\n",
       "      <td>-0.428902</td>\n",
       "      <td>0.211161</td>\n",
       "      <td>WDI</td>\n",
       "    </tr>\n",
       "    <tr>\n",
       "      <th>13</th>\n",
       "      <td>1973</td>\n",
       "      <td>-0.122765</td>\n",
       "      <td>-0.442510</td>\n",
       "      <td>0.196981</td>\n",
       "      <td>WDI</td>\n",
       "    </tr>\n",
       "    <tr>\n",
       "      <th>14</th>\n",
       "      <td>1974</td>\n",
       "      <td>-0.176157</td>\n",
       "      <td>-0.499248</td>\n",
       "      <td>0.146934</td>\n",
       "      <td>WDI</td>\n",
       "    </tr>\n",
       "    <tr>\n",
       "      <th>15</th>\n",
       "      <td>1975</td>\n",
       "      <td>-0.223429</td>\n",
       "      <td>-0.550646</td>\n",
       "      <td>0.103788</td>\n",
       "      <td>WDI</td>\n",
       "    </tr>\n",
       "    <tr>\n",
       "      <th>16</th>\n",
       "      <td>1976</td>\n",
       "      <td>-0.236405</td>\n",
       "      <td>-0.575949</td>\n",
       "      <td>0.103139</td>\n",
       "      <td>WDI</td>\n",
       "    </tr>\n",
       "    <tr>\n",
       "      <th>17</th>\n",
       "      <td>1977</td>\n",
       "      <td>-0.221282</td>\n",
       "      <td>-0.567966</td>\n",
       "      <td>0.125401</td>\n",
       "      <td>WDI</td>\n",
       "    </tr>\n",
       "    <tr>\n",
       "      <th>18</th>\n",
       "      <td>1978</td>\n",
       "      <td>-0.168063</td>\n",
       "      <td>-0.512434</td>\n",
       "      <td>0.176309</td>\n",
       "      <td>WDI</td>\n",
       "    </tr>\n",
       "    <tr>\n",
       "      <th>19</th>\n",
       "      <td>1979</td>\n",
       "      <td>-0.190865</td>\n",
       "      <td>-0.535342</td>\n",
       "      <td>0.153612</td>\n",
       "      <td>WDI</td>\n",
       "    </tr>\n",
       "    <tr>\n",
       "      <th>20</th>\n",
       "      <td>1980</td>\n",
       "      <td>-0.304068</td>\n",
       "      <td>-0.619879</td>\n",
       "      <td>0.011744</td>\n",
       "      <td>WDI</td>\n",
       "    </tr>\n",
       "    <tr>\n",
       "      <th>21</th>\n",
       "      <td>1981</td>\n",
       "      <td>-0.267367</td>\n",
       "      <td>-0.575739</td>\n",
       "      <td>0.041006</td>\n",
       "      <td>WDI</td>\n",
       "    </tr>\n",
       "    <tr>\n",
       "      <th>22</th>\n",
       "      <td>1982</td>\n",
       "      <td>-0.230379</td>\n",
       "      <td>-0.529241</td>\n",
       "      <td>0.068483</td>\n",
       "      <td>WDI</td>\n",
       "    </tr>\n",
       "    <tr>\n",
       "      <th>23</th>\n",
       "      <td>1983</td>\n",
       "      <td>-0.221886</td>\n",
       "      <td>-0.516841</td>\n",
       "      <td>0.073069</td>\n",
       "      <td>WDI</td>\n",
       "    </tr>\n",
       "    <tr>\n",
       "      <th>24</th>\n",
       "      <td>1984</td>\n",
       "      <td>-0.278266</td>\n",
       "      <td>-0.565476</td>\n",
       "      <td>0.008944</td>\n",
       "      <td>WDI</td>\n",
       "    </tr>\n",
       "    <tr>\n",
       "      <th>25</th>\n",
       "      <td>1985</td>\n",
       "      <td>-0.259195</td>\n",
       "      <td>-0.546143</td>\n",
       "      <td>0.027752</td>\n",
       "      <td>WDI</td>\n",
       "    </tr>\n",
       "    <tr>\n",
       "      <th>26</th>\n",
       "      <td>1986</td>\n",
       "      <td>-0.237222</td>\n",
       "      <td>-0.520259</td>\n",
       "      <td>0.045815</td>\n",
       "      <td>WDI</td>\n",
       "    </tr>\n",
       "    <tr>\n",
       "      <th>27</th>\n",
       "      <td>1987</td>\n",
       "      <td>-0.236663</td>\n",
       "      <td>-0.517148</td>\n",
       "      <td>0.043821</td>\n",
       "      <td>WDI</td>\n",
       "    </tr>\n",
       "    <tr>\n",
       "      <th>28</th>\n",
       "      <td>1988</td>\n",
       "      <td>-0.256241</td>\n",
       "      <td>-0.538901</td>\n",
       "      <td>0.026418</td>\n",
       "      <td>WDI</td>\n",
       "    </tr>\n",
       "    <tr>\n",
       "      <th>29</th>\n",
       "      <td>1989</td>\n",
       "      <td>-0.277793</td>\n",
       "      <td>-0.565707</td>\n",
       "      <td>0.010121</td>\n",
       "      <td>WDI</td>\n",
       "    </tr>\n",
       "    <tr>\n",
       "      <th>30</th>\n",
       "      <td>1990</td>\n",
       "      <td>-0.279033</td>\n",
       "      <td>-0.566940</td>\n",
       "      <td>0.008873</td>\n",
       "      <td>WDI</td>\n",
       "    </tr>\n",
       "    <tr>\n",
       "      <th>31</th>\n",
       "      <td>1991</td>\n",
       "      <td>-0.300394</td>\n",
       "      <td>-0.596180</td>\n",
       "      <td>-0.004608</td>\n",
       "      <td>WDI</td>\n",
       "    </tr>\n",
       "    <tr>\n",
       "      <th>32</th>\n",
       "      <td>1992</td>\n",
       "      <td>-0.326418</td>\n",
       "      <td>-0.595011</td>\n",
       "      <td>-0.057824</td>\n",
       "      <td>WDI</td>\n",
       "    </tr>\n",
       "    <tr>\n",
       "      <th>33</th>\n",
       "      <td>1993</td>\n",
       "      <td>-0.364679</td>\n",
       "      <td>-0.620132</td>\n",
       "      <td>-0.109226</td>\n",
       "      <td>WDI</td>\n",
       "    </tr>\n",
       "    <tr>\n",
       "      <th>34</th>\n",
       "      <td>1994</td>\n",
       "      <td>-0.483448</td>\n",
       "      <td>-0.738817</td>\n",
       "      <td>-0.228079</td>\n",
       "      <td>WDI</td>\n",
       "    </tr>\n",
       "    <tr>\n",
       "      <th>35</th>\n",
       "      <td>1995</td>\n",
       "      <td>-0.483111</td>\n",
       "      <td>-0.733787</td>\n",
       "      <td>-0.232434</td>\n",
       "      <td>WDI</td>\n",
       "    </tr>\n",
       "    <tr>\n",
       "      <th>36</th>\n",
       "      <td>1996</td>\n",
       "      <td>-0.419229</td>\n",
       "      <td>-0.655948</td>\n",
       "      <td>-0.182510</td>\n",
       "      <td>WDI</td>\n",
       "    </tr>\n",
       "    <tr>\n",
       "      <th>37</th>\n",
       "      <td>1997</td>\n",
       "      <td>-0.394199</td>\n",
       "      <td>-0.628737</td>\n",
       "      <td>-0.159660</td>\n",
       "      <td>WDI</td>\n",
       "    </tr>\n",
       "    <tr>\n",
       "      <th>38</th>\n",
       "      <td>1998</td>\n",
       "      <td>-0.400563</td>\n",
       "      <td>-0.643560</td>\n",
       "      <td>-0.157566</td>\n",
       "      <td>WDI</td>\n",
       "    </tr>\n",
       "    <tr>\n",
       "      <th>39</th>\n",
       "      <td>1999</td>\n",
       "      <td>-0.428715</td>\n",
       "      <td>-0.676494</td>\n",
       "      <td>-0.180936</td>\n",
       "      <td>WDI</td>\n",
       "    </tr>\n",
       "    <tr>\n",
       "      <th>40</th>\n",
       "      <td>2000</td>\n",
       "      <td>-0.491322</td>\n",
       "      <td>-0.735326</td>\n",
       "      <td>-0.247318</td>\n",
       "      <td>WDI</td>\n",
       "    </tr>\n",
       "    <tr>\n",
       "      <th>41</th>\n",
       "      <td>2001</td>\n",
       "      <td>-0.483920</td>\n",
       "      <td>-0.730018</td>\n",
       "      <td>-0.237822</td>\n",
       "      <td>WDI</td>\n",
       "    </tr>\n",
       "    <tr>\n",
       "      <th>42</th>\n",
       "      <td>2002</td>\n",
       "      <td>-0.494424</td>\n",
       "      <td>-0.739102</td>\n",
       "      <td>-0.249746</td>\n",
       "      <td>WDI</td>\n",
       "    </tr>\n",
       "    <tr>\n",
       "      <th>43</th>\n",
       "      <td>2003</td>\n",
       "      <td>-0.536237</td>\n",
       "      <td>-0.781222</td>\n",
       "      <td>-0.291253</td>\n",
       "      <td>WDI</td>\n",
       "    </tr>\n",
       "    <tr>\n",
       "      <th>44</th>\n",
       "      <td>2004</td>\n",
       "      <td>-0.567944</td>\n",
       "      <td>-0.811063</td>\n",
       "      <td>-0.324824</td>\n",
       "      <td>WDI</td>\n",
       "    </tr>\n",
       "    <tr>\n",
       "      <th>45</th>\n",
       "      <td>2005</td>\n",
       "      <td>-0.578156</td>\n",
       "      <td>-0.822112</td>\n",
       "      <td>-0.334200</td>\n",
       "      <td>WDI</td>\n",
       "    </tr>\n",
       "    <tr>\n",
       "      <th>46</th>\n",
       "      <td>2006</td>\n",
       "      <td>-0.626598</td>\n",
       "      <td>-0.873671</td>\n",
       "      <td>-0.379525</td>\n",
       "      <td>WDI</td>\n",
       "    </tr>\n",
       "    <tr>\n",
       "      <th>47</th>\n",
       "      <td>2007</td>\n",
       "      <td>-0.695274</td>\n",
       "      <td>-0.957594</td>\n",
       "      <td>-0.432954</td>\n",
       "      <td>WDI</td>\n",
       "    </tr>\n",
       "    <tr>\n",
       "      <th>48</th>\n",
       "      <td>2008</td>\n",
       "      <td>-0.677253</td>\n",
       "      <td>-0.958189</td>\n",
       "      <td>-0.396317</td>\n",
       "      <td>WDI</td>\n",
       "    </tr>\n",
       "    <tr>\n",
       "      <th>49</th>\n",
       "      <td>2009</td>\n",
       "      <td>-0.473410</td>\n",
       "      <td>-0.773091</td>\n",
       "      <td>-0.173729</td>\n",
       "      <td>WDI</td>\n",
       "    </tr>\n",
       "    <tr>\n",
       "      <th>50</th>\n",
       "      <td>2010</td>\n",
       "      <td>-0.459092</td>\n",
       "      <td>-0.768758</td>\n",
       "      <td>-0.149426</td>\n",
       "      <td>WDI</td>\n",
       "    </tr>\n",
       "    <tr>\n",
       "      <th>51</th>\n",
       "      <td>2011</td>\n",
       "      <td>-0.320917</td>\n",
       "      <td>-0.668067</td>\n",
       "      <td>0.026233</td>\n",
       "      <td>WDI</td>\n",
       "    </tr>\n",
       "    <tr>\n",
       "      <th>52</th>\n",
       "      <td>2012</td>\n",
       "      <td>-0.273477</td>\n",
       "      <td>-0.681940</td>\n",
       "      <td>0.134986</td>\n",
       "      <td>WDI</td>\n",
       "    </tr>\n",
       "    <tr>\n",
       "      <th>53</th>\n",
       "      <td>2013</td>\n",
       "      <td>-0.171255</td>\n",
       "      <td>-0.637599</td>\n",
       "      <td>0.295089</td>\n",
       "      <td>WDI</td>\n",
       "    </tr>\n",
       "    <tr>\n",
       "      <th>54</th>\n",
       "      <td>2014</td>\n",
       "      <td>0.007280</td>\n",
       "      <td>-0.601524</td>\n",
       "      <td>0.616085</td>\n",
       "      <td>WDI</td>\n",
       "    </tr>\n",
       "    <tr>\n",
       "      <th>55</th>\n",
       "      <td>2015</td>\n",
       "      <td>0.223969</td>\n",
       "      <td>-0.418629</td>\n",
       "      <td>0.866566</td>\n",
       "      <td>WDI</td>\n",
       "    </tr>\n",
       "  </tbody>\n",
       "</table>\n",
       "</div>"
      ],
      "text/plain": [
       "    year      beta     lower     upper source\n",
       "0   1960  0.003293 -0.354304  0.360890    WDI\n",
       "1   1961 -0.043901 -0.435348  0.347547    WDI\n",
       "2   1962 -0.047212 -0.459896  0.365473    WDI\n",
       "3   1963 -0.046990 -0.445891  0.351911    WDI\n",
       "4   1964 -0.060596 -0.439746  0.318555    WDI\n",
       "5   1965 -0.061716 -0.427989  0.304557    WDI\n",
       "6   1966 -0.057337 -0.412031  0.297357    WDI\n",
       "7   1967 -0.073092 -0.433043  0.286859    WDI\n",
       "8   1968 -0.104025 -0.458386  0.250335    WDI\n",
       "9   1969 -0.110061 -0.448803  0.228680    WDI\n",
       "10  1970 -0.075971 -0.393502  0.241561    WDI\n",
       "11  1971 -0.078731 -0.397627  0.240165    WDI\n",
       "12  1972 -0.108870 -0.428902  0.211161    WDI\n",
       "13  1973 -0.122765 -0.442510  0.196981    WDI\n",
       "14  1974 -0.176157 -0.499248  0.146934    WDI\n",
       "15  1975 -0.223429 -0.550646  0.103788    WDI\n",
       "16  1976 -0.236405 -0.575949  0.103139    WDI\n",
       "17  1977 -0.221282 -0.567966  0.125401    WDI\n",
       "18  1978 -0.168063 -0.512434  0.176309    WDI\n",
       "19  1979 -0.190865 -0.535342  0.153612    WDI\n",
       "20  1980 -0.304068 -0.619879  0.011744    WDI\n",
       "21  1981 -0.267367 -0.575739  0.041006    WDI\n",
       "22  1982 -0.230379 -0.529241  0.068483    WDI\n",
       "23  1983 -0.221886 -0.516841  0.073069    WDI\n",
       "24  1984 -0.278266 -0.565476  0.008944    WDI\n",
       "25  1985 -0.259195 -0.546143  0.027752    WDI\n",
       "26  1986 -0.237222 -0.520259  0.045815    WDI\n",
       "27  1987 -0.236663 -0.517148  0.043821    WDI\n",
       "28  1988 -0.256241 -0.538901  0.026418    WDI\n",
       "29  1989 -0.277793 -0.565707  0.010121    WDI\n",
       "30  1990 -0.279033 -0.566940  0.008873    WDI\n",
       "31  1991 -0.300394 -0.596180 -0.004608    WDI\n",
       "32  1992 -0.326418 -0.595011 -0.057824    WDI\n",
       "33  1993 -0.364679 -0.620132 -0.109226    WDI\n",
       "34  1994 -0.483448 -0.738817 -0.228079    WDI\n",
       "35  1995 -0.483111 -0.733787 -0.232434    WDI\n",
       "36  1996 -0.419229 -0.655948 -0.182510    WDI\n",
       "37  1997 -0.394199 -0.628737 -0.159660    WDI\n",
       "38  1998 -0.400563 -0.643560 -0.157566    WDI\n",
       "39  1999 -0.428715 -0.676494 -0.180936    WDI\n",
       "40  2000 -0.491322 -0.735326 -0.247318    WDI\n",
       "41  2001 -0.483920 -0.730018 -0.237822    WDI\n",
       "42  2002 -0.494424 -0.739102 -0.249746    WDI\n",
       "43  2003 -0.536237 -0.781222 -0.291253    WDI\n",
       "44  2004 -0.567944 -0.811063 -0.324824    WDI\n",
       "45  2005 -0.578156 -0.822112 -0.334200    WDI\n",
       "46  2006 -0.626598 -0.873671 -0.379525    WDI\n",
       "47  2007 -0.695274 -0.957594 -0.432954    WDI\n",
       "48  2008 -0.677253 -0.958189 -0.396317    WDI\n",
       "49  2009 -0.473410 -0.773091 -0.173729    WDI\n",
       "50  2010 -0.459092 -0.768758 -0.149426    WDI\n",
       "51  2011 -0.320917 -0.668067  0.026233    WDI\n",
       "52  2012 -0.273477 -0.681940  0.134986    WDI\n",
       "53  2013 -0.171255 -0.637599  0.295089    WDI\n",
       "54  2014  0.007280 -0.601524  0.616085    WDI\n",
       "55  2015  0.223969 -0.418629  0.866566    WDI"
      ]
     },
     "execution_count": 39,
     "metadata": {},
     "output_type": "execute_result"
    }
   ],
   "source": [
    "wdires_df = growth_betas(1960, 2016, wdi_df)\n",
    "wdires_df['source'] = 'WDI'\n",
    "wdires_df"
   ]
  },
  {
   "cell_type": "code",
   "execution_count": 40,
   "metadata": {},
   "outputs": [],
   "source": [
    "df1=mdres_df[10:51]\n",
    "x1=list(df1['year'])\n",
    "y1=list(df1['beta'])\n",
    "err1=list(df1['upper']-df1['beta'])\n",
    "\n",
    "df2=pwres_df[0:41]\n",
    "x2=list(df2['year'])\n",
    "y2=list(df2['beta'])\n",
    "err2=list(df2['upper']-df2['beta'])\n",
    "\n",
    "df3=wdires_df[0:41]\n",
    "x3=list(df3['year'])\n",
    "y3=list(df3['beta'])\n",
    "err3=list(df3['upper']-df3['beta'])"
   ]
  },
  {
   "cell_type": "code",
   "execution_count": 41,
   "metadata": {},
   "outputs": [
    {
     "data": {
      "image/png": "[encoded data removed]",
      "text/plain": [
       "<Figure size 720x432 with 1 Axes>"
      ]
     },
     "metadata": {
      "needs_background": "light"
     },
     "output_type": "display_data"
    }
   ],
   "source": [
    "fig=plt.subplots(figsize=(10,6))\n",
    "plt.errorbar(x=x1, y=y1, yerr=err1,ecolor='blue',capsize=3,\n",
    "             linestyle=\"None\", marker=\"s\", markersize=7, mfc=\"blue\", mec=\"black\",label='MAD')\n",
    "\n",
    "plt.errorbar(x=x2, y=y2, yerr=err2,ecolor='yellow',capsize=3,\n",
    "             linestyle=\"None\", marker=\"s\", markersize=7, mfc=\"yellow\", mec=\"black\",label='PWT')\n",
    "\n",
    "plt.errorbar(x=x3, y=y3, yerr=err3,ecolor='pink',capsize=3,\n",
    "             linestyle=\"None\", marker=\"s\", markersize=7, mfc=\"pink\", mec=\"black\",label='WDI')\n",
    "\n",
    "plt.xticks(x1, rotation=90)\n",
    "plt.legend(loc='lower right')\n",
    "plt.show()"
   ]
  },
  {
   "cell_type": "markdown",
   "metadata": {},
   "source": [
    "To easily plot a beautiful bubble plot, we can use the package `ploty`."
   ]
  },
  {
   "cell_type": "code",
   "execution_count": 42,
   "metadata": {},
   "outputs": [
    {
     "name": "stdout",
     "output_type": "stream",
     "text": [
      "Requirement already satisfied: plotly in /srv/app/venv/lib/python3.6/site-packages\n",
      "Requirement already satisfied: six in /srv/app/venv/lib/python3.6/site-packages (from plotly)\n",
      "Requirement already satisfied: retrying>=1.3.3 in /srv/app/venv/lib/python3.6/site-packages (from plotly)\n",
      "\u001b[33mYou are using pip version 9.0.3, however version 19.3.1 is available.\n",
      "You should consider upgrading via the 'pip install --upgrade pip' command.\u001b[0m\n",
      "Note: you may need to restart the kernel to use updated packages.\n"
     ]
    }
   ],
   "source": [
    "pip install plotly"
   ]
  },
  {
   "cell_type": "code",
   "execution_count": 43,
   "metadata": {},
   "outputs": [
    {
     "data": {
      "application/vnd.plotly.v1+json": {
       "config": {
        "plotlyServerURL": "https://plot.ly"
       },
       "data": [
        {
         "hoverlabel": {
          "namelength": 0
         },
         "hovertemplate": "<b>%{hovertext}</b><br><br>ccode=BHR<br>loggdp=%{x}<br>growth rate=%{y}<br>pop=%{marker.size}",
         "hovertext": [
          "BHR"
         ],
         "legendgroup": "ccode=BHR",
         "marker": {
          "color": "#636efa",
          "size": [
           0.157
          ],
          "sizemode": "area",
          "sizeref": 0.18529722222222222,
          "symbol": "circle"
         },
         "mode": "markers",
         "name": "ccode=BHR",
         "showlegend": true,
         "type": "scatter",
         "x": [
          null
         ],
         "xaxis": "x",
         "y": [
          null
         ],
         "yaxis": "y"
        },
        {
         "hoverlabel": {
          "namelength": 0
         },
         "hovertemplate": "<b>%{hovertext}</b><br><br>ccode=COD<br>loggdp=%{x}<br>growth rate=%{y}<br>pop=%{marker.size}",
         "hovertext": [
          "COD"
         ],
         "legendgroup": "ccode=COD",
         "marker": {
          "color": "#EF553B",
          "size": [
           16.61
          ],
          "sizemode": "area",
          "sizeref": 0.18529722222222222,
          "symbol": "circle"
         },
         "mode": "markers",
         "name": "ccode=COD",
         "showlegend": true,
         "type": "scatter",
         "x": [
          7.6586995582682995
         ],
         "xaxis": "x",
         "y": [
          -1.7832
         ],
         "yaxis": "y"
        },
        {
         "hoverlabel": {
          "namelength": 0
         },
         "hovertemplate": "<b>%{hovertext}</b><br><br>ccode=MYS<br>loggdp=%{x}<br>growth rate=%{y}<br>pop=%{marker.size}",
         "hovertext": [
          "MYS"
         ],
         "legendgroup": "ccode=MYS",
         "marker": {
          "color": "#00cc96",
          "size": [
           8.427999999999999
          ],
          "sizemode": "area",
          "sizeref": 0.18529722222222222,
          "symbol": "circle"
         },
         "mode": "markers",
         "name": "ccode=MYS",
         "showlegend": true,
         "type": "scatter",
         "x": [
          7.8160138391590275
         ],
         "xaxis": "x",
         "y": [
          4.0662
         ],
         "yaxis": "y"
        },
        {
         "hoverlabel": {
          "namelength": 0
         },
         "hovertemplate": "<b>%{hovertext}</b><br><br>ccode=SYC<br>loggdp=%{x}<br>growth rate=%{y}<br>pop=%{marker.size}",
         "hovertext": [
          "SYC"
         ],
         "legendgroup": "ccode=SYC",
         "marker": {
          "color": "#ab63fa",
          "size": [
           0.042
          ],
          "sizemode": "area",
          "sizeref": 0.18529722222222222,
          "symbol": "circle"
         },
         "mode": "markers",
         "name": "ccode=SYC",
         "showlegend": true,
         "type": "scatter",
         "x": [
          8.716535732544495
         ],
         "xaxis": "x",
         "y": [
          2.4574
         ],
         "yaxis": "y"
        },
        {
         "hoverlabel": {
          "namelength": 0
         },
         "hovertemplate": "<b>%{hovertext}</b><br><br>ccode=JOR<br>loggdp=%{x}<br>growth rate=%{y}<br>pop=%{marker.size}",
         "hovertext": [
          "JOR"
         ],
         "legendgroup": "ccode=JOR",
         "marker": {
          "color": "#FFA15A",
          "size": [
           0.8490000000000001
          ],
          "sizemode": "area",
          "sizeref": 0.18529722222222222,
          "symbol": "circle"
         },
         "mode": "markers",
         "name": "ccode=JOR",
         "showlegend": true,
         "type": "scatter",
         "x": [
          7.872073979866873
         ],
         "xaxis": "x",
         "y": [
          2.8144
         ],
         "yaxis": "y"
        },
        {
         "hoverlabel": {
          "namelength": 0
         },
         "hovertemplate": "<b>%{hovertext}</b><br><br>ccode=NZL<br>loggdp=%{x}<br>growth rate=%{y}<br>pop=%{marker.size}",
         "hovertext": [
          "NZL"
         ],
         "legendgroup": "ccode=NZL",
         "marker": {
          "color": "#19d3f3",
          "size": [
           2.372
          ],
          "sizemode": "area",
          "sizeref": 0.18529722222222222,
          "symbol": "circle"
         },
         "mode": "markers",
         "name": "ccode=NZL",
         "showlegend": true,
         "type": "scatter",
         "x": [
          9.447544606938727
         ],
         "xaxis": "x",
         "y": [
          1.7927
         ],
         "yaxis": "y"
        },
        {
         "hoverlabel": {
          "namelength": 0
         },
         "hovertemplate": "<b>%{hovertext}</b><br><br>ccode=PRK<br>loggdp=%{x}<br>growth rate=%{y}<br>pop=%{marker.size}",
         "hovertext": [
          "PRK"
         ],
         "legendgroup": "ccode=PRK",
         "marker": {
          "color": "#FF6692",
          "size": [
           10.448
          ],
          "sizemode": "area",
          "sizeref": 0.18529722222222222,
          "symbol": "circle"
         },
         "mode": "markers",
         "name": "ccode=PRK",
         "showlegend": true,
         "type": "scatter",
         "x": [
          6.694562058521095
         ],
         "xaxis": "x",
         "y": [
          1.4403
         ],
         "yaxis": "y"
        },
        {
         "hoverlabel": {
          "namelength": 0
         },
         "hovertemplate": "<b>%{hovertext}</b><br><br>ccode=MLI<br>loggdp=%{x}<br>growth rate=%{y}<br>pop=%{marker.size}",
         "hovertext": [
          "MLI"
         ],
         "legendgroup": "ccode=MLI",
         "marker": {
          "color": "#B6E880",
          "size": [
           4.495
          ],
          "sizemode": "area",
          "sizeref": 0.18529722222222222,
          "symbol": "circle"
         },
         "mode": "markers",
         "name": "ccode=MLI",
         "showlegend": true,
         "type": "scatter",
         "x": [
          7.059617628291383
         ],
         "xaxis": "x",
         "y": [
          0.488
         ],
         "yaxis": "y"
        },
        {
         "hoverlabel": {
          "namelength": 0
         },
         "hovertemplate": "<b>%{hovertext}</b><br><br>ccode=URY<br>loggdp=%{x}<br>growth rate=%{y}<br>pop=%{marker.size}",
         "hovertext": [
          "URY"
         ],
         "legendgroup": "ccode=URY",
         "marker": {
          "color": "#FF97FF",
          "size": [
           2.531
          ],
          "sizemode": "area",
          "sizeref": 0.18529722222222222,
          "symbol": "circle"
         },
         "mode": "markers",
         "name": "ccode=URY",
         "showlegend": true,
         "type": "scatter",
         "x": [
          8.834482608620677
         ],
         "xaxis": "x",
         "y": [
          1.9595
         ],
         "yaxis": "y"
        },
        {
         "hoverlabel": {
          "namelength": 0
         },
         "hovertemplate": "<b>%{hovertext}</b><br><br>ccode=BWA<br>loggdp=%{x}<br>growth rate=%{y}<br>pop=%{marker.size}",
         "hovertext": [
          "BWA"
         ],
         "legendgroup": "ccode=BWA",
         "marker": {
          "color": "#FECB52",
          "size": [
           0.49700000000000005
          ],
          "sizemode": "area",
          "sizeref": 0.18529722222222222,
          "symbol": "circle"
         },
         "mode": "markers",
         "name": "ccode=BWA",
         "showlegend": true,
         "type": "scatter",
         "x": [
          7.090076835776092
         ],
         "xaxis": "x",
         "y": [
          4.7754
         ],
         "yaxis": "y"
        },
        {
         "hoverlabel": {
          "namelength": 0
         },
         "hovertemplate": "<b>%{hovertext}</b><br><br>ccode=BFA<br>loggdp=%{x}<br>growth rate=%{y}<br>pop=%{marker.size}",
         "hovertext": [
          "BFA"
         ],
         "legendgroup": "ccode=BFA",
         "marker": {
          "color": "#636efa",
          "size": [
           4.8660000000000005
          ],
          "sizemode": "area",
          "sizeref": 0.18529722222222222,
          "symbol": "circle"
         },
         "mode": "markers",
         "name": "ccode=BFA",
         "showlegend": true,
         "type": "scatter",
         "x": [
          7.350516171833998
         ],
         "xaxis": "x",
         "y": [
          -0.0531
         ],
         "yaxis": "y"
        },
        {
         "hoverlabel": {
          "namelength": 0
         },
         "hovertemplate": "<b>%{hovertext}</b><br><br>ccode=TTO<br>loggdp=%{x}<br>growth rate=%{y}<br>pop=%{marker.size}",
         "hovertext": [
          "TTO"
         ],
         "legendgroup": "ccode=TTO",
         "marker": {
          "color": "#EF553B",
          "size": [
           0.841
          ],
          "sizemode": "area",
          "sizeref": 0.18529722222222222,
          "symbol": "circle"
         },
         "mode": "markers",
         "name": "ccode=TTO",
         "showlegend": true,
         "type": "scatter",
         "x": [
          8.958411469230219
         ],
         "xaxis": "x",
         "y": [
          2.5968
         ],
         "yaxis": "y"
        },
        {
         "hoverlabel": {
          "namelength": 0
         },
         "hovertemplate": "<b>%{hovertext}</b><br><br>ccode=MMR<br>loggdp=%{x}<br>growth rate=%{y}<br>pop=%{marker.size}",
         "hovertext": [
          "MMR"
         ],
         "legendgroup": "ccode=MMR",
         "marker": {
          "color": "#00cc96",
          "size": [
           22.839000000000002
          ],
          "sizemode": "area",
          "sizeref": 0.18529722222222222,
          "symbol": "circle"
         },
         "mode": "markers",
         "name": "ccode=MMR",
         "showlegend": true,
         "type": "scatter",
         "x": [
          6.672032945461067
         ],
         "xaxis": "x",
         "y": [
          3.6564
         ],
         "yaxis": "y"
        },
        {
         "hoverlabel": {
          "namelength": 0
         },
         "hovertemplate": "<b>%{hovertext}</b><br><br>ccode=CZE<br>loggdp=%{x}<br>growth rate=%{y}<br>pop=%{marker.size}",
         "hovertext": [
          "CZE"
         ],
         "legendgroup": "ccode=CZE",
         "marker": {
          "color": "#ab63fa",
          "size": [
           9.66
          ],
          "sizemode": "area",
          "sizeref": 0.18529722222222222,
          "symbol": "circle"
         },
         "mode": "markers",
         "name": "ccode=CZE",
         "showlegend": true,
         "type": "scatter",
         "x": [
          null
         ],
         "xaxis": "x",
         "y": [
          null
         ],
         "yaxis": "y"
        },
        {
         "hoverlabel": {
          "namelength": 0
         },
         "hovertemplate": "<b>%{hovertext}</b><br><br>ccode=HUN<br>loggdp=%{x}<br>growth rate=%{y}<br>pop=%{marker.size}",
         "hovertext": [
          "HUN"
         ],
         "legendgroup": "ccode=HUN",
         "marker": {
          "color": "#FFA15A",
          "size": [
           9.984
          ],
          "sizemode": "area",
          "sizeref": 0.18529722222222222,
          "symbol": "circle"
         },
         "mode": "markers",
         "name": "ccode=HUN",
         "showlegend": true,
         "type": "scatter",
         "x": [
          8.413387022690648
         ],
         "xaxis": "x",
         "y": [
          3.0448
         ],
         "yaxis": "y"
        },
        {
         "hoverlabel": {
          "namelength": 0
         },
         "hovertemplate": "<b>%{hovertext}</b><br><br>ccode=TWN<br>loggdp=%{x}<br>growth rate=%{y}<br>pop=%{marker.size}",
         "hovertext": [
          "TWN"
         ],
         "legendgroup": "ccode=TWN",
         "marker": {
          "color": "#19d3f3",
          "size": [
           10.860999999999999
          ],
          "sizemode": "area",
          "sizeref": 0.18529722222222222,
          "symbol": "circle"
         },
         "mode": "markers",
         "name": "ccode=TWN",
         "showlegend": true,
         "type": "scatter",
         "x": [
          7.656810091480378
         ],
         "xaxis": "x",
         "y": [
          5.6722
         ],
         "yaxis": "y"
        },
        {
         "hoverlabel": {
          "namelength": 0
         },
         "hovertemplate": "<b>%{hovertext}</b><br><br>ccode=SGP<br>loggdp=%{x}<br>growth rate=%{y}<br>pop=%{marker.size}",
         "hovertext": [
          "SGP"
         ],
         "legendgroup": "ccode=SGP",
         "marker": {
          "color": "#FF6692",
          "size": [
           1.646
          ],
          "sizemode": "area",
          "sizeref": 0.18529722222222222,
          "symbol": "circle"
         },
         "mode": "markers",
         "name": "ccode=SGP",
         "showlegend": true,
         "type": "scatter",
         "x": [
          7.768533300926033
         ],
         "xaxis": "x",
         "y": [
          6.3913
         ],
         "yaxis": "y"
        },
        {
         "hoverlabel": {
          "namelength": 0
         },
         "hovertemplate": "<b>%{hovertext}</b><br><br>ccode=MNE<br>loggdp=%{x}<br>growth rate=%{y}<br>pop=%{marker.size}",
         "hovertext": [
          "MNE"
         ],
         "legendgroup": "ccode=MNE",
         "marker": {
          "color": "#B6E880",
          "size": [
           0.461
          ],
          "sizemode": "area",
          "sizeref": 0.18529722222222222,
          "symbol": "circle"
         },
         "mode": "markers",
         "name": "ccode=MNE",
         "showlegend": true,
         "type": "scatter",
         "x": [
          8.37539918579835
         ],
         "xaxis": "x",
         "y": [
          2.5502
         ],
         "yaxis": "y"
        },
        {
         "hoverlabel": {
          "namelength": 0
         },
         "hovertemplate": "<b>%{hovertext}</b><br><br>ccode=SRB<br>loggdp=%{x}<br>growth rate=%{y}<br>pop=%{marker.size}",
         "hovertext": [
          "SRB"
         ],
         "legendgroup": "ccode=SRB",
         "marker": {
          "color": "#FF97FF",
          "size": [
           7.471
          ],
          "sizemode": "area",
          "sizeref": 0.18529722222222222,
          "symbol": "circle"
         },
         "mode": "markers",
         "name": "ccode=SRB",
         "showlegend": true,
         "type": "scatter",
         "x": [
          7.994294986415977
         ],
         "xaxis": "x",
         "y": [
          2.8315
         ],
         "yaxis": "y"
        },
        {
         "hoverlabel": {
          "namelength": 0
         },
         "hovertemplate": "<b>%{hovertext}</b><br><br>ccode=LBY<br>loggdp=%{x}<br>growth rate=%{y}<br>pop=%{marker.size}",
         "hovertext": [
          "LBY"
         ],
         "legendgroup": "ccode=LBY",
         "marker": {
          "color": "#FECB52",
          "size": [
           1.338
          ],
          "sizemode": "area",
          "sizeref": 0.18529722222222222,
          "symbol": "circle"
         },
         "mode": "markers",
         "name": "ccode=LBY",
         "showlegend": true,
         "type": "scatter",
         "x": [
          8.756682421266532
         ],
         "xaxis": "x",
         "y": [
          0.7937
         ],
         "yaxis": "y"
        },
        {
         "hoverlabel": {
          "namelength": 0
         },
         "hovertemplate": "<b>%{hovertext}</b><br><br>ccode=ZWE<br>loggdp=%{x}<br>growth rate=%{y}<br>pop=%{marker.size}",
         "hovertext": [
          "ZWE"
         ],
         "legendgroup": "ccode=ZWE",
         "marker": {
          "color": "#636efa",
          "size": [
           4.011
          ],
          "sizemode": "area",
          "sizeref": 0.18529722222222222,
          "symbol": "circle"
         },
         "mode": "markers",
         "name": "ccode=ZWE",
         "showlegend": true,
         "type": "scatter",
         "x": [
          7.904703913873747
         ],
         "xaxis": "x",
         "y": [
          -0.7579
         ],
         "yaxis": "y"
        },
        {
         "hoverlabel": {
          "namelength": 0
         },
         "hovertemplate": "<b>%{hovertext}</b><br><br>ccode=LBN<br>loggdp=%{x}<br>growth rate=%{y}<br>pop=%{marker.size}",
         "hovertext": [
          "LBN"
         ],
         "legendgroup": "ccode=LBN",
         "marker": {
          "color": "#EF553B",
          "size": [
           1.786
          ],
          "sizemode": "area",
          "sizeref": 0.18529722222222222,
          "symbol": "circle"
         },
         "mode": "markers",
         "name": "ccode=LBN",
         "showlegend": true,
         "type": "scatter",
         "x": [
          9.128045129249353
         ],
         "xaxis": "x",
         "y": [
          0.657
         ],
         "yaxis": "y"
        },
        {
         "hoverlabel": {
          "namelength": 0
         },
         "hovertemplate": "<b>%{hovertext}</b><br><br>ccode=ETH<br>loggdp=%{x}<br>growth rate=%{y}<br>pop=%{marker.size}",
         "hovertext": [
          "ETH"
         ],
         "legendgroup": "ccode=ETH",
         "marker": {
          "color": "#00cc96",
          "size": [
           25.783
          ],
          "sizemode": "area",
          "sizeref": 0.18529722222222222,
          "symbol": "circle"
         },
         "mode": "markers",
         "name": "ccode=ETH",
         "showlegend": true,
         "type": "scatter",
         "x": [
          6.620073206530356
         ],
         "xaxis": "x",
         "y": [
          1.268
         ],
         "yaxis": "y"
        },
        {
         "hoverlabel": {
          "namelength": 0
         },
         "hovertemplate": "<b>%{hovertext}</b><br><br>ccode=EGY<br>loggdp=%{x}<br>growth rate=%{y}<br>pop=%{marker.size}",
         "hovertext": [
          "EGY"
         ],
         "legendgroup": "ccode=EGY",
         "marker": {
          "color": "#ab63fa",
          "size": [
           26.846999999999998
          ],
          "sizemode": "area",
          "sizeref": 0.18529722222222222,
          "symbol": "circle"
         },
         "mode": "markers",
         "name": "ccode=EGY",
         "showlegend": true,
         "type": "scatter",
         "x": [
          7.413970290190444
         ],
         "xaxis": "x",
         "y": [
          3.5812
         ],
         "yaxis": "y"
        },
        {
         "hoverlabel": {
          "namelength": 0
         },
         "hovertemplate": "<b>%{hovertext}</b><br><br>ccode=FIN<br>loggdp=%{x}<br>growth rate=%{y}<br>pop=%{marker.size}",
         "hovertext": [
          "FIN"
         ],
         "legendgroup": "ccode=FIN",
         "marker": {
          "color": "#FFA15A",
          "size": [
           4.43
          ],
          "sizemode": "area",
          "sizeref": 0.18529722222222222,
          "symbol": "circle"
         },
         "mode": "markers",
         "name": "ccode=FIN",
         "showlegend": true,
         "type": "scatter",
         "x": [
          9.03931477492408
         ],
         "xaxis": "x",
         "y": [
          2.8253
         ],
         "yaxis": "y"
        },
        {
         "hoverlabel": {
          "namelength": 0
         },
         "hovertemplate": "<b>%{hovertext}</b><br><br>ccode=SVN<br>loggdp=%{x}<br>growth rate=%{y}<br>pop=%{marker.size}",
         "hovertext": [
          "SVN"
         ],
         "legendgroup": "ccode=SVN",
         "marker": {
          "color": "#19d3f3",
          "size": [
           1.558
          ],
          "sizemode": "area",
          "sizeref": 0.18529722222222222,
          "symbol": "circle"
         },
         "mode": "markers",
         "name": "ccode=SVN",
         "showlegend": true,
         "type": "scatter",
         "x": [
          8.795430805040018
         ],
         "xaxis": "x",
         "y": [
          2.6743
         ],
         "yaxis": "y"
        },
        {
         "hoverlabel": {
          "namelength": 0
         },
         "hovertemplate": "<b>%{hovertext}</b><br><br>ccode=BLR<br>loggdp=%{x}<br>growth rate=%{y}<br>pop=%{marker.size}",
         "hovertext": [
          "BLR"
         ],
         "legendgroup": "ccode=BLR",
         "marker": {
          "color": "#FF6692",
          "size": [
           8.168
          ],
          "sizemode": "area",
          "sizeref": 0.18529722222222222,
          "symbol": "circle"
         },
         "mode": "markers",
         "name": "ccode=BLR",
         "showlegend": true,
         "type": "scatter",
         "x": [
          null
         ],
         "xaxis": "x",
         "y": [
          null
         ],
         "yaxis": "y"
        },
        {
         "hoverlabel": {
          "namelength": 0
         },
         "hovertemplate": "<b>%{hovertext}</b><br><br>ccode=ESP<br>loggdp=%{x}<br>growth rate=%{y}<br>pop=%{marker.size}",
         "hovertext": [
          "ESP"
         ],
         "legendgroup": "ccode=ESP",
         "marker": {
          "color": "#B6E880",
          "size": [
           30.641
          ],
          "sizemode": "area",
          "sizeref": 0.18529722222222222,
          "symbol": "circle"
         },
         "mode": "markers",
         "name": "ccode=ESP",
         "showlegend": true,
         "type": "scatter",
         "x": [
          8.607399459302387
         ],
         "xaxis": "x",
         "y": [
          3.3425
         ],
         "yaxis": "y"
        },
        {
         "hoverlabel": {
          "namelength": 0
         },
         "hovertemplate": "<b>%{hovertext}</b><br><br>ccode=ALB<br>loggdp=%{x}<br>growth rate=%{y}<br>pop=%{marker.size}",
         "hovertext": [
          "ALB"
         ],
         "legendgroup": "ccode=ALB",
         "marker": {
          "color": "#FF97FF",
          "size": [
           1.6230000000000002
          ],
          "sizemode": "area",
          "sizeref": 0.18529722222222222,
          "symbol": "circle"
         },
         "mode": "markers",
         "name": "ccode=ALB",
         "showlegend": true,
         "type": "scatter",
         "x": [
          7.669495251007694
         ],
         "xaxis": "x",
         "y": [
          3.0241
         ],
         "yaxis": "y"
        },
        {
         "hoverlabel": {
          "namelength": 0
         },
         "hovertemplate": "<b>%{hovertext}</b><br><br>ccode=GMB<br>loggdp=%{x}<br>growth rate=%{y}<br>pop=%{marker.size}",
         "hovertext": [
          "GMB"
         ],
         "legendgroup": "ccode=GMB",
         "marker": {
          "color": "#FECB52",
          "size": [
           0.35200000000000004
          ],
          "sizemode": "area",
          "sizeref": 0.18529722222222222,
          "symbol": "circle"
         },
         "mode": "markers",
         "name": "ccode=GMB",
         "showlegend": true,
         "type": "scatter",
         "x": [
          7.597897950521784
         ],
         "xaxis": "x",
         "y": [
          -0.0884
         ],
         "yaxis": "y"
        },
        {
         "hoverlabel": {
          "namelength": 0
         },
         "hovertemplate": "<b>%{hovertext}</b><br><br>ccode=KOR<br>loggdp=%{x}<br>growth rate=%{y}<br>pop=%{marker.size}",
         "hovertext": [
          "KOR"
         ],
         "legendgroup": "ccode=KOR",
         "marker": {
          "color": "#636efa",
          "size": [
           24.784000000000002
          ],
          "sizemode": "area",
          "sizeref": 0.18529722222222222,
          "symbol": "circle"
         },
         "mode": "markers",
         "name": "ccode=KOR",
         "showlegend": true,
         "type": "scatter",
         "x": [
          7.304515946460155
         ],
         "xaxis": "x",
         "y": [
          5.9976
         ],
         "yaxis": "y"
        },
        {
         "hoverlabel": {
          "namelength": 0
         },
         "hovertemplate": "<b>%{hovertext}</b><br><br>ccode=GNQ<br>loggdp=%{x}<br>growth rate=%{y}<br>pop=%{marker.size}",
         "hovertext": [
          "GNQ"
         ],
         "legendgroup": "ccode=GNQ",
         "marker": {
          "color": "#EF553B",
          "size": [
           0.244
          ],
          "sizemode": "area",
          "sizeref": 0.18529722222222222,
          "symbol": "circle"
         },
         "mode": "markers",
         "name": "ccode=GNQ",
         "showlegend": true,
         "type": "scatter",
         "x": [
          7.047517221357296
         ],
         "xaxis": "x",
         "y": [
          6.7735
         ],
         "yaxis": "y"
        },
        {
         "hoverlabel": {
          "namelength": 0
         },
         "hovertemplate": "<b>%{hovertext}</b><br><br>ccode=MDG<br>loggdp=%{x}<br>growth rate=%{y}<br>pop=%{marker.size}",
         "hovertext": [
          "MDG"
         ],
         "legendgroup": "ccode=MDG",
         "marker": {
          "color": "#00cc96",
          "size": [
           5.482
          ],
          "sizemode": "area",
          "sizeref": 0.18529722222222222,
          "symbol": "circle"
         },
         "mode": "markers",
         "name": "ccode=MDG",
         "showlegend": true,
         "type": "scatter",
         "x": [
          7.02197642307216
         ],
         "xaxis": "x",
         "y": [
          0.2488
         ],
         "yaxis": "y"
        },
        {
         "hoverlabel": {
          "namelength": 0
         },
         "hovertemplate": "<b>%{hovertext}</b><br><br>ccode=LCA<br>loggdp=%{x}<br>growth rate=%{y}<br>pop=%{marker.size}",
         "hovertext": [
          "LCA"
         ],
         "legendgroup": "ccode=LCA",
         "marker": {
          "color": "#ab63fa",
          "size": [
           0.08800000000000001
          ],
          "sizemode": "area",
          "sizeref": 0.18529722222222222,
          "symbol": "circle"
         },
         "mode": "markers",
         "name": "ccode=LCA",
         "showlegend": true,
         "type": "scatter",
         "x": [
          7.903596289614301
         ],
         "xaxis": "x",
         "y": [
          2.5473
         ],
         "yaxis": "y"
        },
        {
         "hoverlabel": {
          "namelength": 0
         },
         "hovertemplate": "<b>%{hovertext}</b><br><br>ccode=MRT<br>loggdp=%{x}<br>growth rate=%{y}<br>pop=%{marker.size}",
         "hovertext": [
          "MRT"
         ],
         "legendgroup": "ccode=MRT",
         "marker": {
          "color": "#FFA15A",
          "size": [
           1.117
          ],
          "sizemode": "area",
          "sizeref": 0.18529722222222222,
          "symbol": "circle"
         },
         "mode": "markers",
         "name": "ccode=MRT",
         "showlegend": true,
         "type": "scatter",
         "x": [
          6.9440872082295275
         ],
         "xaxis": "x",
         "y": [
          2.1992
         ],
         "yaxis": "y"
        },
        {
         "hoverlabel": {
          "namelength": 0
         },
         "hovertemplate": "<b>%{hovertext}</b><br><br>ccode=TCD<br>loggdp=%{x}<br>growth rate=%{y}<br>pop=%{marker.size}",
         "hovertext": [
          "TCD"
         ],
         "legendgroup": "ccode=TCD",
         "marker": {
          "color": "#19d3f3",
          "size": [
           3.042
          ],
          "sizemode": "area",
          "sizeref": 0.18529722222222222,
          "symbol": "circle"
         },
         "mode": "markers",
         "name": "ccode=TCD",
         "showlegend": true,
         "type": "scatter",
         "x": [
          7.301147805856032
         ],
         "xaxis": "x",
         "y": [
          0.8026
         ],
         "yaxis": "y"
        },
        {
         "hoverlabel": {
          "namelength": 0
         },
         "hovertemplate": "<b>%{hovertext}</b><br><br>ccode=MNG<br>loggdp=%{x}<br>growth rate=%{y}<br>pop=%{marker.size}",
         "hovertext": [
          "MNG"
         ],
         "legendgroup": "ccode=MNG",
         "marker": {
          "color": "#FF6692",
          "size": [
           0.955
          ],
          "sizemode": "area",
          "sizeref": 0.18529722222222222,
          "symbol": "circle"
         },
         "mode": "markers",
         "name": "ccode=MNG",
         "showlegend": true,
         "type": "scatter",
         "x": [
          6.802394763324311
         ],
         "xaxis": "x",
         "y": [
          4.7509
         ],
         "yaxis": "y"
        },
        {
         "hoverlabel": {
          "namelength": 0
         },
         "hovertemplate": "<b>%{hovertext}</b><br><br>ccode=TUR<br>loggdp=%{x}<br>growth rate=%{y}<br>pop=%{marker.size}",
         "hovertext": [
          "TUR"
         ],
         "legendgroup": "ccode=TUR",
         "marker": {
          "color": "#B6E880",
          "size": [
           28.217
          ],
          "sizemode": "area",
          "sizeref": 0.18529722222222222,
          "symbol": "circle"
         },
         "mode": "markers",
         "name": "ccode=TUR",
         "showlegend": true,
         "type": "scatter",
         "x": [
          8.025843344150903
         ],
         "xaxis": "x",
         "y": [
          3.5594
         ],
         "yaxis": "y"
        },
        {
         "hoverlabel": {
          "namelength": 0
         },
         "hovertemplate": "<b>%{hovertext}</b><br><br>ccode=KEN<br>loggdp=%{x}<br>growth rate=%{y}<br>pop=%{marker.size}",
         "hovertext": [
          "KEN"
         ],
         "legendgroup": "ccode=KEN",
         "marker": {
          "color": "#FF97FF",
          "size": [
           8.157
          ],
          "sizemode": "area",
          "sizeref": 0.18529722222222222,
          "symbol": "circle"
         },
         "mode": "markers",
         "name": "ccode=KEN",
         "showlegend": true,
         "type": "scatter",
         "x": [
          7.241366283322318
         ],
         "xaxis": "x",
         "y": [
          1.4167
         ],
         "yaxis": "y"
        },
        {
         "hoverlabel": {
          "namelength": 0
         },
         "hovertemplate": "<b>%{hovertext}</b><br><br>ccode=VEN<br>loggdp=%{x}<br>growth rate=%{y}<br>pop=%{marker.size}",
         "hovertext": [
          "VEN"
         ],
         "legendgroup": "ccode=VEN",
         "marker": {
          "color": "#FECB52",
          "size": [
           7.556
          ],
          "sizemode": "area",
          "sizeref": 0.18529722222222222,
          "symbol": "circle"
         },
         "mode": "markers",
         "name": "ccode=VEN",
         "showlegend": true,
         "type": "scatter",
         "x": [
          8.649448770536708
         ],
         "xaxis": "x",
         "y": [
          2.104
         ],
         "yaxis": "y"
        },
        {
         "hoverlabel": {
          "namelength": 0
         },
         "hovertemplate": "<b>%{hovertext}</b><br><br>ccode=KGZ<br>loggdp=%{x}<br>growth rate=%{y}<br>pop=%{marker.size}",
         "hovertext": [
          "KGZ"
         ],
         "legendgroup": "ccode=KGZ",
         "marker": {
          "color": "#636efa",
          "size": [
           2.171
          ],
          "sizemode": "area",
          "sizeref": 0.18529722222222222,
          "symbol": "circle"
         },
         "mode": "markers",
         "name": "ccode=KGZ",
         "showlegend": true,
         "type": "scatter",
         "x": [
          null
         ],
         "xaxis": "x",
         "y": [
          null
         ],
         "yaxis": "y"
        },
        {
         "hoverlabel": {
          "namelength": 0
         },
         "hovertemplate": "<b>%{hovertext}</b><br><br>ccode=UGA<br>loggdp=%{x}<br>growth rate=%{y}<br>pop=%{marker.size}",
         "hovertext": [
          "UGA"
         ],
         "legendgroup": "ccode=UGA",
         "marker": {
          "color": "#EF553B",
          "size": [
           7.2620000000000005
          ],
          "sizemode": "area",
          "sizeref": 0.18529722222222222,
          "symbol": "circle"
         },
         "mode": "markers",
         "name": "ccode=UGA",
         "showlegend": true,
         "type": "scatter",
         "x": [
          7.098375638590786
         ],
         "xaxis": "x",
         "y": [
          0.7924
         ],
         "yaxis": "y"
        },
        {
         "hoverlabel": {
          "namelength": 0
         },
         "hovertemplate": "<b>%{hovertext}</b><br><br>ccode=LBR<br>loggdp=%{x}<br>growth rate=%{y}<br>pop=%{marker.size}",
         "hovertext": [
          "LBR"
         ],
         "legendgroup": "ccode=LBR",
         "marker": {
          "color": "#00cc96",
          "size": [
           1.055
          ],
          "sizemode": "area",
          "sizeref": 0.18529722222222222,
          "symbol": "circle"
         },
         "mode": "markers",
         "name": "ccode=LBR",
         "showlegend": true,
         "type": "scatter",
         "x": [
          6.787844982309579
         ],
         "xaxis": "x",
         "y": [
          -0.1544
         ],
         "yaxis": "y"
        },
        {
         "hoverlabel": {
          "namelength": 0
         },
         "hovertemplate": "<b>%{hovertext}</b><br><br>ccode=PAN<br>loggdp=%{x}<br>growth rate=%{y}<br>pop=%{marker.size}",
         "hovertext": [
          "PAN"
         ],
         "legendgroup": "ccode=PAN",
         "marker": {
          "color": "#ab63fa",
          "size": [
           1.148
          ],
          "sizemode": "area",
          "sizeref": 0.18529722222222222,
          "symbol": "circle"
         },
         "mode": "markers",
         "name": "ccode=PAN",
         "showlegend": true,
         "type": "scatter",
         "x": [
          7.77485576666552
         ],
         "xaxis": "x",
         "y": [
          4.0146
         ],
         "yaxis": "y"
        },
        {
         "hoverlabel": {
          "namelength": 0
         },
         "hovertemplate": "<b>%{hovertext}</b><br><br>ccode=AGO<br>loggdp=%{x}<br>growth rate=%{y}<br>pop=%{marker.size}",
         "hovertext": [
          "AGO"
         ],
         "legendgroup": "ccode=AGO",
         "marker": {
          "color": "#FFA15A",
          "size": [
           4.797
          ],
          "sizemode": "area",
          "sizeref": 0.18529722222222222,
          "symbol": "circle"
         },
         "mode": "markers",
         "name": "ccode=AGO",
         "showlegend": true,
         "type": "scatter",
         "x": [
          null
         ],
         "xaxis": "x",
         "y": [
          null
         ],
         "yaxis": "y"
        },
        {
         "hoverlabel": {
          "namelength": 0
         },
         "hovertemplate": "<b>%{hovertext}</b><br><br>ccode=KAZ<br>loggdp=%{x}<br>growth rate=%{y}<br>pop=%{marker.size}",
         "hovertext": [
          "KAZ"
         ],
         "legendgroup": "ccode=KAZ",
         "marker": {
          "color": "#19d3f3",
          "size": [
           9.982000000000001
          ],
          "sizemode": "area",
          "sizeref": 0.18529722222222222,
          "symbol": "circle"
         },
         "mode": "markers",
         "name": "ccode=KAZ",
         "showlegend": true,
         "type": "scatter",
         "x": [
          null
         ],
         "xaxis": "x",
         "y": [
          null
         ],
         "yaxis": "y"
        },
        {
         "hoverlabel": {
          "namelength": 0
         },
         "hovertemplate": "<b>%{hovertext}</b><br><br>ccode=SWZ<br>loggdp=%{x}<br>growth rate=%{y}<br>pop=%{marker.size}",
         "hovertext": [
          "SWZ"
         ],
         "legendgroup": "ccode=SWZ",
         "marker": {
          "color": "#FF6692",
          "size": [
           0.35200000000000004
          ],
          "sizemode": "area",
          "sizeref": 0.18529722222222222,
          "symbol": "circle"
         },
         "mode": "markers",
         "name": "ccode=SWZ",
         "showlegend": true,
         "type": "scatter",
         "x": [
          6.862757913051401
         ],
         "xaxis": "x",
         "y": [
          3.9352
         ],
         "yaxis": "y"
        },
        {
         "hoverlabel": {
          "namelength": 0
         },
         "hovertemplate": "<b>%{hovertext}</b><br><br>ccode=DNK<br>loggdp=%{x}<br>growth rate=%{y}<br>pop=%{marker.size}",
         "hovertext": [
          "DNK"
         ],
         "legendgroup": "ccode=DNK",
         "marker": {
          "color": "#B6E880",
          "size": [
           4.581
          ],
          "sizemode": "area",
          "sizeref": 0.18529722222222222,
          "symbol": "circle"
         },
         "mode": "markers",
         "name": "ccode=DNK",
         "showlegend": true,
         "type": "scatter",
         "x": [
          9.397068870588344
         ],
         "xaxis": "x",
         "y": [
          2.4501
         ],
         "yaxis": "y"
        },
        {
         "hoverlabel": {
          "namelength": 0
         },
         "hovertemplate": "<b>%{hovertext}</b><br><br>ccode=CAN<br>loggdp=%{x}<br>growth rate=%{y}<br>pop=%{marker.size}",
         "hovertext": [
          "CAN"
         ],
         "legendgroup": "ccode=CAN",
         "marker": {
          "color": "#FF97FF",
          "size": [
           18.267
          ],
          "sizemode": "area",
          "sizeref": 0.18529722222222222,
          "symbol": "circle"
         },
         "mode": "markers",
         "name": "ccode=CAN",
         "showlegend": true,
         "type": "scatter",
         "x": [
          9.519735011333614
         ],
         "xaxis": "x",
         "y": [
          2.1436
         ],
         "yaxis": "y"
        },
        {
         "hoverlabel": {
          "namelength": 0
         },
         "hovertemplate": "<b>%{hovertext}</b><br><br>ccode=ECU<br>loggdp=%{x}<br>growth rate=%{y}<br>pop=%{marker.size}",
         "hovertext": [
          "ECU"
         ],
         "legendgroup": "ccode=ECU",
         "marker": {
          "color": "#FECB52",
          "size": [
           4.416
          ],
          "sizemode": "area",
          "sizeref": 0.18529722222222222,
          "symbol": "circle"
         },
         "mode": "markers",
         "name": "ccode=ECU",
         "showlegend": true,
         "type": "scatter",
         "x": [
          7.98139158158007
         ],
         "xaxis": "x",
         "y": [
          2.4906
         ],
         "yaxis": "y"
        },
        {
         "hoverlabel": {
          "namelength": 0
         },
         "hovertemplate": "<b>%{hovertext}</b><br><br>ccode=LUX<br>loggdp=%{x}<br>growth rate=%{y}<br>pop=%{marker.size}",
         "hovertext": [
          "LUX"
         ],
         "legendgroup": "ccode=LUX",
         "marker": {
          "color": "#636efa",
          "size": [
           0.314
          ],
          "sizemode": "area",
          "sizeref": 0.18529722222222222,
          "symbol": "circle"
         },
         "mode": "markers",
         "name": "ccode=LUX",
         "showlegend": true,
         "type": "scatter",
         "x": [
          9.672815734801127
         ],
         "xaxis": "x",
         "y": [
          2.6947
         ],
         "yaxis": "y"
        },
        {
         "hoverlabel": {
          "namelength": 0
         },
         "hovertemplate": "<b>%{hovertext}</b><br><br>ccode=THA<br>loggdp=%{x}<br>growth rate=%{y}<br>pop=%{marker.size}",
         "hovertext": [
          "THA"
         ],
         "legendgroup": "ccode=THA",
         "marker": {
          "color": "#EF553B",
          "size": [
           27.513
          ],
          "sizemode": "area",
          "sizeref": 0.18529722222222222,
          "symbol": "circle"
         },
         "mode": "markers",
         "name": "ccode=THA",
         "showlegend": true,
         "type": "scatter",
         "x": [
          7.221105098182496
         ],
         "xaxis": "x",
         "y": [
          4.3431
         ],
         "yaxis": "y"
        },
        {
         "hoverlabel": {
          "namelength": 0
         },
         "hovertemplate": "<b>%{hovertext}</b><br><br>ccode=PER<br>loggdp=%{x}<br>growth rate=%{y}<br>pop=%{marker.size}",
         "hovertext": [
          "PER"
         ],
         "legendgroup": "ccode=PER",
         "marker": {
          "color": "#00cc96",
          "size": [
           9.931000000000001
          ],
          "sizemode": "area",
          "sizeref": 0.18529722222222222,
          "symbol": "circle"
         },
         "mode": "markers",
         "name": "ccode=PER",
         "showlegend": true,
         "type": "scatter",
         "x": [
          7.818430272070656
         ],
         "xaxis": "x",
         "y": [
          2.7856
         ],
         "yaxis": "y"
        },
        {
         "hoverlabel": {
          "namelength": 0
         },
         "hovertemplate": "<b>%{hovertext}</b><br><br>ccode=CUB<br>loggdp=%{x}<br>growth rate=%{y}<br>pop=%{marker.size}",
         "hovertext": [
          "CUB"
         ],
         "legendgroup": "ccode=CUB",
         "marker": {
          "color": "#ab63fa",
          "size": [
           7.027
          ],
          "sizemode": "area",
          "sizeref": 0.18529722222222222,
          "symbol": "circle"
         },
         "mode": "markers",
         "name": "ccode=CUB",
         "showlegend": true,
         "type": "scatter",
         "x": [
          8.38022733634308
         ],
         "xaxis": "x",
         "y": [
          1.0412
         ],
         "yaxis": "y"
        },
        {
         "hoverlabel": {
          "namelength": 0
         },
         "hovertemplate": "<b>%{hovertext}</b><br><br>ccode=PAK<br>loggdp=%{x}<br>growth rate=%{y}<br>pop=%{marker.size}",
         "hovertext": [
          "PAK"
         ],
         "legendgroup": "ccode=PAK",
         "marker": {
          "color": "#FFA15A",
          "size": [
           50.387
          ],
          "sizemode": "area",
          "sizeref": 0.18529722222222222,
          "symbol": "circle"
         },
         "mode": "markers",
         "name": "ccode=PAK",
         "showlegend": true,
         "type": "scatter",
         "x": [
          6.999422467507961
         ],
         "xaxis": "x",
         "y": [
          2.8027
         ],
         "yaxis": "y"
        },
        {
         "hoverlabel": {
          "namelength": 0
         },
         "hovertemplate": "<b>%{hovertext}</b><br><br>ccode=ZMB<br>loggdp=%{x}<br>growth rate=%{y}<br>pop=%{marker.size}",
         "hovertext": [
          "ZMB"
         ],
         "legendgroup": "ccode=ZMB",
         "marker": {
          "color": "#19d3f3",
          "size": [
           3.2539999999999996
          ],
          "sizemode": "area",
          "sizeref": 0.18529722222222222,
          "symbol": "circle"
         },
         "mode": "markers",
         "name": "ccode=ZMB",
         "showlegend": true,
         "type": "scatter",
         "x": [
          7.441906728051625
         ],
         "xaxis": "x",
         "y": [
          1.3594
         ],
         "yaxis": "y"
        },
        {
         "hoverlabel": {
          "namelength": 0
         },
         "hovertemplate": "<b>%{hovertext}</b><br><br>ccode=ARG<br>loggdp=%{x}<br>growth rate=%{y}<br>pop=%{marker.size}",
         "hovertext": [
          "ARG"
         ],
         "legendgroup": "ccode=ARG",
         "marker": {
          "color": "#FF6692",
          "size": [
           20.616
          ],
          "sizemode": "area",
          "sizeref": 0.18529722222222222,
          "symbol": "circle"
         },
         "mode": "markers",
         "name": "ccode=ARG",
         "showlegend": true,
         "type": "scatter",
         "x": [
          9.096947684621092
         ],
         "xaxis": "x",
         "y": [
          1.4084
         ],
         "yaxis": "y"
        },
        {
         "hoverlabel": {
          "namelength": 0
         },
         "hovertemplate": "<b>%{hovertext}</b><br><br>ccode=AUS<br>loggdp=%{x}<br>growth rate=%{y}<br>pop=%{marker.size}",
         "hovertext": [
          "AUS"
         ],
         "legendgroup": "ccode=AUS",
         "marker": {
          "color": "#B6E880",
          "size": [
           10.360999999999999
          ],
          "sizemode": "area",
          "sizeref": 0.18529722222222222,
          "symbol": "circle"
         },
         "mode": "markers",
         "name": "ccode=AUS",
         "showlegend": true,
         "type": "scatter",
         "x": [
          9.628787514307517
         ],
         "xaxis": "x",
         "y": [
          1.9835
         ],
         "yaxis": "y"
        },
        {
         "hoverlabel": {
          "namelength": 0
         },
         "hovertemplate": "<b>%{hovertext}</b><br><br>ccode=CHN<br>loggdp=%{x}<br>growth rate=%{y}<br>pop=%{marker.size}",
         "hovertext": [
          "CHN"
         ],
         "legendgroup": "ccode=CHN",
         "marker": {
          "color": "#FF97FF",
          "size": [
           667.07
          ],
          "sizemode": "area",
          "sizeref": 0.18529722222222222,
          "symbol": "circle"
         },
         "mode": "markers",
         "name": "ccode=CHN",
         "showlegend": true,
         "type": "scatter",
         "x": [
          6.827629234502852
         ],
         "xaxis": "x",
         "y": [
          4.8169
         ],
         "yaxis": "y"
        },
        {
         "hoverlabel": {
          "namelength": 0
         },
         "hovertemplate": "<b>%{hovertext}</b><br><br>ccode=IRN<br>loggdp=%{x}<br>growth rate=%{y}<br>pop=%{marker.size}",
         "hovertext": [
          "IRN"
         ],
         "legendgroup": "ccode=IRN",
         "marker": {
          "color": "#FECB52",
          "size": [
           21.548000000000002
          ],
          "sizemode": "area",
          "sizeref": 0.18529722222222222,
          "symbol": "circle"
         },
         "mode": "markers",
         "name": "ccode=IRN",
         "showlegend": true,
         "type": "scatter",
         "x": [
          8.0702808933939
         ],
         "xaxis": "x",
         "y": [
          2.9363
         ],
         "yaxis": "y"
        },
        {
         "hoverlabel": {
          "namelength": 0
         },
         "hovertemplate": "<b>%{hovertext}</b><br><br>ccode=RWA<br>loggdp=%{x}<br>growth rate=%{y}<br>pop=%{marker.size}",
         "hovertext": [
          "RWA"
         ],
         "legendgroup": "ccode=RWA",
         "marker": {
          "color": "#636efa",
          "size": [
           3.032
          ],
          "sizemode": "area",
          "sizeref": 0.18529722222222222,
          "symbol": "circle"
         },
         "mode": "markers",
         "name": "ccode=RWA",
         "showlegend": true,
         "type": "scatter",
         "x": [
          6.590301048196686
         ],
         "xaxis": "x",
         "y": [
          1.4678
         ],
         "yaxis": "y"
        },
        {
         "hoverlabel": {
          "namelength": 0
         },
         "hovertemplate": "<b>%{hovertext}</b><br><br>ccode=IRQ<br>loggdp=%{x}<br>growth rate=%{y}<br>pop=%{marker.size}",
         "hovertext": [
          "IRQ"
         ],
         "legendgroup": "ccode=IRQ",
         "marker": {
          "color": "#EF553B",
          "size": [
           6.822
          ],
          "sizemode": "area",
          "sizeref": 0.18529722222222222,
          "symbol": "circle"
         },
         "mode": "markers",
         "name": "ccode=IRQ",
         "showlegend": true,
         "type": "scatter",
         "x": [
          8.708309295891688
         ],
         "xaxis": "x",
         "y": [
          1.4095
         ],
         "yaxis": "y"
        },
        {
         "hoverlabel": {
          "namelength": 0
         },
         "hovertemplate": "<b>%{hovertext}</b><br><br>ccode=AFG<br>loggdp=%{x}<br>growth rate=%{y}<br>pop=%{marker.size}",
         "hovertext": [
          "AFG"
         ],
         "legendgroup": "ccode=AFG",
         "marker": {
          "color": "#00cc96",
          "size": [
           9.829
          ],
          "sizemode": "area",
          "sizeref": 0.18529722222222222,
          "symbol": "circle"
         },
         "mode": "markers",
         "name": "ccode=AFG",
         "showlegend": true,
         "type": "scatter",
         "x": [
          7.917171988845776
         ],
         "xaxis": "x",
         "y": [
          -0.5638
         ],
         "yaxis": "y"
        },
        {
         "hoverlabel": {
          "namelength": 0
         },
         "hovertemplate": "<b>%{hovertext}</b><br><br>ccode=MDA<br>loggdp=%{x}<br>growth rate=%{y}<br>pop=%{marker.size}",
         "hovertext": [
          "MDA"
         ],
         "legendgroup": "ccode=MDA",
         "marker": {
          "color": "#ab63fa",
          "size": [
           2.9989999999999997
          ],
          "sizemode": "area",
          "sizeref": 0.18529722222222222,
          "symbol": "circle"
         },
         "mode": "markers",
         "name": "ccode=MDA",
         "showlegend": true,
         "type": "scatter",
         "x": [
          null
         ],
         "xaxis": "x",
         "y": [
          null
         ],
         "yaxis": "y"
        },
        {
         "hoverlabel": {
          "namelength": 0
         },
         "hovertemplate": "<b>%{hovertext}</b><br><br>ccode=EST<br>loggdp=%{x}<br>growth rate=%{y}<br>pop=%{marker.size}",
         "hovertext": [
          "EST"
         ],
         "legendgroup": "ccode=EST",
         "marker": {
          "color": "#FFA15A",
          "size": [
           1.2109999999999999
          ],
          "sizemode": "area",
          "sizeref": 0.18529722222222222,
          "symbol": "circle"
         },
         "mode": "markers",
         "name": "ccode=EST",
         "showlegend": true,
         "type": "scatter",
         "x": [
          null
         ],
         "xaxis": "x",
         "y": [
          null
         ],
         "yaxis": "y"
        },
        {
         "hoverlabel": {
          "namelength": 0
         },
         "hovertemplate": "<b>%{hovertext}</b><br><br>ccode=ARE<br>loggdp=%{x}<br>growth rate=%{y}<br>pop=%{marker.size}",
         "hovertext": [
          "ARE"
         ],
         "legendgroup": "ccode=ARE",
         "marker": {
          "color": "#19d3f3",
          "size": [
           0.10300000000000001
          ],
          "sizemode": "area",
          "sizeref": 0.18529722222222222,
          "symbol": "circle"
         },
         "mode": "markers",
         "name": "ccode=ARE",
         "showlegend": true,
         "type": "scatter",
         "x": [
          null
         ],
         "xaxis": "x",
         "y": [
          null
         ],
         "yaxis": "y"
        },
        {
         "hoverlabel": {
          "namelength": 0
         },
         "hovertemplate": "<b>%{hovertext}</b><br><br>ccode=KHM<br>loggdp=%{x}<br>growth rate=%{y}<br>pop=%{marker.size}",
         "hovertext": [
          "KHM"
         ],
         "legendgroup": "ccode=KHM",
         "marker": {
          "color": "#FF6692",
          "size": [
           5.761
          ],
          "sizemode": "area",
          "sizeref": 0.18529722222222222,
          "symbol": "circle"
         },
         "mode": "markers",
         "name": "ccode=KHM",
         "showlegend": true,
         "type": "scatter",
         "x": [
          6.645090969505644
         ],
         "xaxis": "x",
         "y": [
          2.5409
         ],
         "yaxis": "y"
        },
        {
         "hoverlabel": {
          "namelength": 0
         },
         "hovertemplate": "<b>%{hovertext}</b><br><br>ccode=BIH<br>loggdp=%{x}<br>growth rate=%{y}<br>pop=%{marker.size}",
         "hovertext": [
          "BIH"
         ],
         "legendgroup": "ccode=BIH",
         "marker": {
          "color": "#B6E880",
          "size": [
           3.24
          ],
          "sizemode": "area",
          "sizeref": 0.18529722222222222,
          "symbol": "circle"
         },
         "mode": "markers",
         "name": "ccode=BIH",
         "showlegend": true,
         "type": "scatter",
         "x": [
          6.8690144506657065
         ],
         "xaxis": "x",
         "y": [
          4.4284
         ],
         "yaxis": "y"
        },
        {
         "hoverlabel": {
          "namelength": 0
         },
         "hovertemplate": "<b>%{hovertext}</b><br><br>ccode=BGR<br>loggdp=%{x}<br>growth rate=%{y}<br>pop=%{marker.size}",
         "hovertext": [
          "BGR"
         ],
         "legendgroup": "ccode=BGR",
         "marker": {
          "color": "#FF97FF",
          "size": [
           7.867000000000001
          ],
          "sizemode": "area",
          "sizeref": 0.18529722222222222,
          "symbol": "circle"
         },
         "mode": "markers",
         "name": "ccode=BGR",
         "showlegend": true,
         "type": "scatter",
         "x": [
          8.547334348328224
         ],
         "xaxis": "x",
         "y": [
          2.185
         ],
         "yaxis": "y"
        },
        {
         "hoverlabel": {
          "namelength": 0
         },
         "hovertemplate": "<b>%{hovertext}</b><br><br>ccode=COM<br>loggdp=%{x}<br>growth rate=%{y}<br>pop=%{marker.size}",
         "hovertext": [
          "COM"
         ],
         "legendgroup": "ccode=COM",
         "marker": {
          "color": "#FECB52",
          "size": [
           0.183
          ],
          "sizemode": "area",
          "sizeref": 0.18529722222222222,
          "symbol": "circle"
         },
         "mode": "markers",
         "name": "ccode=COM",
         "showlegend": true,
         "type": "scatter",
         "x": [
          7.005789019253503
         ],
         "xaxis": "x",
         "y": [
          0.7576
         ],
         "yaxis": "y"
        },
        {
         "hoverlabel": {
          "namelength": 0
         },
         "hovertemplate": "<b>%{hovertext}</b><br><br>ccode=CAF<br>loggdp=%{x}<br>growth rate=%{y}<br>pop=%{marker.size}",
         "hovertext": [
          "CAF"
         ],
         "legendgroup": "ccode=CAF",
         "marker": {
          "color": "#636efa",
          "size": [
           1.4669999999999999
          ],
          "sizemode": "area",
          "sizeref": 0.18529722222222222,
          "symbol": "circle"
         },
         "mode": "markers",
         "name": "ccode=CAF",
         "showlegend": true,
         "type": "scatter",
         "x": [
          7.240649694255466
         ],
         "xaxis": "x",
         "y": [
          -1.584
         ],
         "yaxis": "y"
        },
        {
         "hoverlabel": {
          "namelength": 0
         },
         "hovertemplate": "<b>%{hovertext}</b><br><br>ccode=RUS<br>loggdp=%{x}<br>growth rate=%{y}<br>pop=%{marker.size}",
         "hovertext": [
          "RUS"
         ],
         "legendgroup": "ccode=RUS",
         "marker": {
          "color": "#EF553B",
          "size": [
           119.632
          ],
          "sizemode": "area",
          "sizeref": 0.18529722222222222,
          "symbol": "circle"
         },
         "mode": "markers",
         "name": "ccode=RUS",
         "showlegend": true,
         "type": "scatter",
         "x": [
          9.013351778138825
         ],
         "xaxis": "x",
         "y": [
          1.9899
         ],
         "yaxis": "y"
        },
        {
         "hoverlabel": {
          "namelength": 0
         },
         "hovertemplate": "<b>%{hovertext}</b><br><br>ccode=FRA<br>loggdp=%{x}<br>growth rate=%{y}<br>pop=%{marker.size}",
         "hovertext": [
          "FRA"
         ],
         "legendgroup": "ccode=FRA",
         "marker": {
          "color": "#00cc96",
          "size": [
           46.583999999999996
          ],
          "sizemode": "area",
          "sizeref": 0.18529722222222222,
          "symbol": "circle"
         },
         "mode": "markers",
         "name": "ccode=FRA",
         "showlegend": true,
         "type": "scatter",
         "x": [
          9.23834456838578
         ],
         "xaxis": "x",
         "y": [
          2.4566
         ],
         "yaxis": "y"
        },
        {
         "hoverlabel": {
          "namelength": 0
         },
         "hovertemplate": "<b>%{hovertext}</b><br><br>ccode=NOR<br>loggdp=%{x}<br>growth rate=%{y}<br>pop=%{marker.size}",
         "hovertext": [
          "NOR"
         ],
         "legendgroup": "ccode=NOR",
         "marker": {
          "color": "#ab63fa",
          "size": [
           3.5810000000000004
          ],
          "sizemode": "area",
          "sizeref": 0.18529722222222222,
          "symbol": "circle"
         },
         "mode": "markers",
         "name": "ccode=NOR",
         "showlegend": true,
         "type": "scatter",
         "x": [
          9.235032984566555
         ],
         "xaxis": "x",
         "y": [
          3.7759
         ],
         "yaxis": "y"
        },
        {
         "hoverlabel": {
          "namelength": 0
         },
         "hovertemplate": "<b>%{hovertext}</b><br><br>ccode=NPL<br>loggdp=%{x}<br>growth rate=%{y}<br>pop=%{marker.size}",
         "hovertext": [
          "NPL"
         ],
         "legendgroup": "ccode=NPL",
         "marker": {
          "color": "#FFA15A",
          "size": [
           10.035
          ],
          "sizemode": "area",
          "sizeref": 0.18529722222222222,
          "symbol": "circle"
         },
         "mode": "markers",
         "name": "ccode=NPL",
         "showlegend": true,
         "type": "scatter",
         "x": [
          6.535241271013659
         ],
         "xaxis": "x",
         "y": [
          2.4685
         ],
         "yaxis": "y"
        },
        {
         "hoverlabel": {
          "namelength": 0
         },
         "hovertemplate": "<b>%{hovertext}</b><br><br>ccode=ITA<br>loggdp=%{x}<br>growth rate=%{y}<br>pop=%{marker.size}",
         "hovertext": [
          "ITA"
         ],
         "legendgroup": "ccode=ITA",
         "marker": {
          "color": "#19d3f3",
          "size": [
           50.198
          ],
          "sizemode": "area",
          "sizeref": 0.18529722222222222,
          "symbol": "circle"
         },
         "mode": "markers",
         "name": "ccode=ITA",
         "showlegend": true,
         "type": "scatter",
         "x": [
          8.863191340690854
         ],
         "xaxis": "x",
         "y": [
          2.9725
         ],
         "yaxis": "y"
        },
        {
         "hoverlabel": {
          "namelength": 0
         },
         "hovertemplate": "<b>%{hovertext}</b><br><br>ccode=TKM<br>loggdp=%{x}<br>growth rate=%{y}<br>pop=%{marker.size}",
         "hovertext": [
          "TKM"
         ],
         "legendgroup": "ccode=TKM",
         "marker": {
          "color": "#FF6692",
          "size": [
           1.585
          ],
          "sizemode": "area",
          "sizeref": 0.18529722222222222,
          "symbol": "circle"
         },
         "mode": "markers",
         "name": "ccode=TKM",
         "showlegend": true,
         "type": "scatter",
         "x": [
          null
         ],
         "xaxis": "x",
         "y": [
          null
         ],
         "yaxis": "y"
        },
        {
         "hoverlabel": {
          "namelength": 0
         },
         "hovertemplate": "<b>%{hovertext}</b><br><br>ccode=HRV<br>loggdp=%{x}<br>growth rate=%{y}<br>pop=%{marker.size}",
         "hovertext": [
          "HRV"
         ],
         "legendgroup": "ccode=HRV",
         "marker": {
          "color": "#B6E880",
          "size": [
           4.0360000000000005
          ],
          "sizemode": "area",
          "sizeref": 0.18529722222222222,
          "symbol": "circle"
         },
         "mode": "markers",
         "name": "ccode=HRV",
         "showlegend": true,
         "type": "scatter",
         "x": [
          8.667680024690174
         ],
         "xaxis": "x",
         "y": [
          2.3586
         ],
         "yaxis": "y"
        },
        {
         "hoverlabel": {
          "namelength": 0
         },
         "hovertemplate": "<b>%{hovertext}</b><br><br>ccode=MAR<br>loggdp=%{x}<br>growth rate=%{y}<br>pop=%{marker.size}",
         "hovertext": [
          "MAR"
         ],
         "legendgroup": "ccode=MAR",
         "marker": {
          "color": "#FF97FF",
          "size": [
           12.423
          ],
          "sizemode": "area",
          "sizeref": 0.18529722222222222,
          "symbol": "circle"
         },
         "mode": "markers",
         "name": "ccode=MAR",
         "showlegend": true,
         "type": "scatter",
         "x": [
          7.814399633804487
         ],
         "xaxis": "x",
         "y": [
          2.0287
         ],
         "yaxis": "y"
        },
        {
         "hoverlabel": {
          "namelength": 0
         },
         "hovertemplate": "<b>%{hovertext}</b><br><br>ccode=PHL<br>loggdp=%{x}<br>growth rate=%{y}<br>pop=%{marker.size}",
         "hovertext": [
          "PHL"
         ],
         "legendgroup": "ccode=PHL",
         "marker": {
          "color": "#FECB52",
          "size": [
           28.529
          ],
          "sizemode": "area",
          "sizeref": 0.18529722222222222,
          "symbol": "circle"
         },
         "mode": "markers",
         "name": "ccode=PHL",
         "showlegend": true,
         "type": "scatter",
         "x": [
          7.483806687665835
         ],
         "xaxis": "x",
         "y": [
          2.4552
         ],
         "yaxis": "y"
        },
        {
         "hoverlabel": {
          "namelength": 0
         },
         "hovertemplate": "<b>%{hovertext}</b><br><br>ccode=DJI<br>loggdp=%{x}<br>growth rate=%{y}<br>pop=%{marker.size}",
         "hovertext": [
          "DJI"
         ],
         "legendgroup": "ccode=DJI",
         "marker": {
          "color": "#636efa",
          "size": [
           0.111
          ],
          "sizemode": "area",
          "sizeref": 0.18529722222222222,
          "symbol": "circle"
         },
         "mode": "markers",
         "name": "ccode=DJI",
         "showlegend": true,
         "type": "scatter",
         "x": [
          8.522578663692576
         ],
         "xaxis": "x",
         "y": [
          -0.8753
         ],
         "yaxis": "y"
        },
        {
         "hoverlabel": {
          "namelength": 0
         },
         "hovertemplate": "<b>%{hovertext}</b><br><br>ccode=CHE<br>loggdp=%{x}<br>growth rate=%{y}<br>pop=%{marker.size}",
         "hovertext": [
          "CHE"
         ],
         "legendgroup": "ccode=CHE",
         "marker": {
          "color": "#EF553B",
          "size": [
           5.362
          ],
          "sizemode": "area",
          "sizeref": 0.18529722222222222,
          "symbol": "circle"
         },
         "mode": "markers",
         "name": "ccode=CHE",
         "showlegend": true,
         "type": "scatter",
         "x": [
          9.590624414887088
         ],
         "xaxis": "x",
         "y": [
          2.7002
         ],
         "yaxis": "y"
        },
        {
         "hoverlabel": {
          "namelength": 0
         },
         "hovertemplate": "<b>%{hovertext}</b><br><br>ccode=DZA<br>loggdp=%{x}<br>growth rate=%{y}<br>pop=%{marker.size}",
         "hovertext": [
          "DZA"
         ],
         "legendgroup": "ccode=DZA",
         "marker": {
          "color": "#00cc96",
          "size": [
           10.909
          ],
          "sizemode": "area",
          "sizeref": 0.18529722222222222,
          "symbol": "circle"
         },
         "mode": "markers",
         "name": "ccode=DZA",
         "showlegend": true,
         "type": "scatter",
         "x": [
          null
         ],
         "xaxis": "x",
         "y": [
          null
         ],
         "yaxis": "y"
        },
        {
         "hoverlabel": {
          "namelength": 0
         },
         "hovertemplate": "<b>%{hovertext}</b><br><br>ccode=NIC<br>loggdp=%{x}<br>growth rate=%{y}<br>pop=%{marker.size}",
         "hovertext": [
          "NIC"
         ],
         "legendgroup": "ccode=NIC",
         "marker": {
          "color": "#ab63fa",
          "size": [
           1.493
          ],
          "sizemode": "area",
          "sizeref": 0.18529722222222222,
          "symbol": "circle"
         },
         "mode": "markers",
         "name": "ccode=NIC",
         "showlegend": true,
         "type": "scatter",
         "x": [
          7.658227526161352
         ],
         "xaxis": "x",
         "y": [
          1.4153
         ],
         "yaxis": "y"
        },
        {
         "hoverlabel": {
          "namelength": 0
         },
         "hovertemplate": "<b>%{hovertext}</b><br><br>ccode=IDN<br>loggdp=%{x}<br>growth rate=%{y}<br>pop=%{marker.size}",
         "hovertext": [
          "IDN"
         ],
         "legendgroup": "ccode=IDN",
         "marker": {
          "color": "#FFA15A",
          "size": [
           95.961
          ],
          "sizemode": "area",
          "sizeref": 0.18529722222222222,
          "symbol": "circle"
         },
         "mode": "markers",
         "name": "ccode=IDN",
         "showlegend": true,
         "type": "scatter",
         "x": [
          7.29641326877392
         ],
         "xaxis": "x",
         "y": [
          3.5534
         ],
         "yaxis": "y"
        },
        {
         "hoverlabel": {
          "namelength": 0
         },
         "hovertemplate": "<b>%{hovertext}</b><br><br>ccode=LKA<br>loggdp=%{x}<br>growth rate=%{y}<br>pop=%{marker.size}",
         "hovertext": [
          "LKA"
         ],
         "legendgroup": "ccode=LKA",
         "marker": {
          "color": "#19d3f3",
          "size": [
           9.913
          ],
          "sizemode": "area",
          "sizeref": 0.18529722222222222,
          "symbol": "circle"
         },
         "mode": "markers",
         "name": "ccode=LKA",
         "showlegend": true,
         "type": "scatter",
         "x": [
          7.318539548567902
         ],
         "xaxis": "x",
         "y": [
          3.6246
         ],
         "yaxis": "y"
        },
        {
         "hoverlabel": {
          "namelength": 0
         },
         "hovertemplate": "<b>%{hovertext}</b><br><br>ccode=JAM<br>loggdp=%{x}<br>growth rate=%{y}<br>pop=%{marker.size}",
         "hovertext": [
          "JAM"
         ],
         "legendgroup": "ccode=JAM",
         "marker": {
          "color": "#FF6692",
          "size": [
           1.632
          ],
          "sizemode": "area",
          "sizeref": 0.18529722222222222,
          "symbol": "circle"
         },
         "mode": "markers",
         "name": "ccode=JAM",
         "showlegend": true,
         "type": "scatter",
         "x": [
          8.33758794211651
         ],
         "xaxis": "x",
         "y": [
          0.9858
         ],
         "yaxis": "y"
        },
        {
         "hoverlabel": {
          "namelength": 0
         },
         "hovertemplate": "<b>%{hovertext}</b><br><br>ccode=SDN<br>loggdp=%{x}<br>growth rate=%{y}<br>pop=%{marker.size}",
         "hovertext": [
          "SDN"
         ],
         "legendgroup": "ccode=SDN",
         "marker": {
          "color": "#B6E880",
          "size": [
           10.589
          ],
          "sizemode": "area",
          "sizeref": 0.18529722222222222,
          "symbol": "circle"
         },
         "mode": "markers",
         "name": "ccode=SDN",
         "showlegend": true,
         "type": "scatter",
         "x": [
          7.652545692693921
         ],
         "xaxis": "x",
         "y": [
          1.0113
         ],
         "yaxis": "y"
        },
        {
         "hoverlabel": {
          "namelength": 0
         },
         "hovertemplate": "<b>%{hovertext}</b><br><br>ccode=VNM<br>loggdp=%{x}<br>growth rate=%{y}<br>pop=%{marker.size}",
         "hovertext": [
          "VNM"
         ],
         "legendgroup": "ccode=VNM",
         "marker": {
          "color": "#FF97FF",
          "size": [
           31.656
          ],
          "sizemode": "area",
          "sizeref": 0.18529722222222222,
          "symbol": "circle"
         },
         "mode": "markers",
         "name": "ccode=VNM",
         "showlegend": true,
         "type": "scatter",
         "x": [
          6.984716320118266
         ],
         "xaxis": "x",
         "y": [
          3.0348
         ],
         "yaxis": "y"
        },
        {
         "hoverlabel": {
          "namelength": 0
         },
         "hovertemplate": "<b>%{hovertext}</b><br><br>ccode=COG<br>loggdp=%{x}<br>growth rate=%{y}<br>pop=%{marker.size}",
         "hovertext": [
          "COG"
         ],
         "legendgroup": "ccode=COG",
         "marker": {
          "color": "#FECB52",
          "size": [
           1.002
          ],
          "sizemode": "area",
          "sizeref": 0.18529722222222222,
          "symbol": "circle"
         },
         "mode": "markers",
         "name": "ccode=COG",
         "showlegend": true,
         "type": "scatter",
         "x": [
          7.241366283322318
         ],
         "xaxis": "x",
         "y": [
          2.2167
         ],
         "yaxis": "y"
        },
        {
         "hoverlabel": {
          "namelength": 0
         },
         "hovertemplate": "<b>%{hovertext}</b><br><br>ccode=SVK<br>loggdp=%{x}<br>growth rate=%{y}<br>pop=%{marker.size}",
         "hovertext": [
          "SVK"
         ],
         "legendgroup": "ccode=SVK",
         "marker": {
          "color": "#636efa",
          "size": [
           3.9939999999999998
          ],
          "sizemode": "area",
          "sizeref": 0.18529722222222222,
          "symbol": "circle"
         },
         "mode": "markers",
         "name": "ccode=SVK",
         "showlegend": true,
         "type": "scatter",
         "x": [
          null
         ],
         "xaxis": "x",
         "y": [
          null
         ],
         "yaxis": "y"
        },
        {
         "hoverlabel": {
          "namelength": 0
         },
         "hovertemplate": "<b>%{hovertext}</b><br><br>ccode=SLE<br>loggdp=%{x}<br>growth rate=%{y}<br>pop=%{marker.size}",
         "hovertext": [
          "SLE"
         ],
         "legendgroup": "ccode=SLE",
         "marker": {
          "color": "#EF553B",
          "size": [
           2.396
          ],
          "sizemode": "area",
          "sizeref": 0.18529722222222222,
          "symbol": "circle"
         },
         "mode": "markers",
         "name": "ccode=SLE",
         "showlegend": true,
         "type": "scatter",
         "x": [
          7.581719640125308
         ],
         "xaxis": "x",
         "y": [
          -0.7229
         ],
         "yaxis": "y"
        },
        {
         "hoverlabel": {
          "namelength": 0
         },
         "hovertemplate": "<b>%{hovertext}</b><br><br>ccode=BOL<br>loggdp=%{x}<br>growth rate=%{y}<br>pop=%{marker.size}",
         "hovertext": [
          "BOL"
         ],
         "legendgroup": "ccode=BOL",
         "marker": {
          "color": "#00cc96",
          "size": [
           3.4339999999999997
          ],
          "sizemode": "area",
          "sizeref": 0.18529722222222222,
          "symbol": "circle"
         },
         "mode": "markers",
         "name": "ccode=BOL",
         "showlegend": true,
         "type": "scatter",
         "x": [
          7.1204443723924875
         ],
         "xaxis": "x",
         "y": [
          2.8975
         ],
         "yaxis": "y"
        },
        {
         "hoverlabel": {
          "namelength": 0
         },
         "hovertemplate": "<b>%{hovertext}</b><br><br>ccode=CMR<br>loggdp=%{x}<br>growth rate=%{y}<br>pop=%{marker.size}",
         "hovertext": [
          "CMR"
         ],
         "legendgroup": "ccode=CMR",
         "marker": {
          "color": "#ab63fa",
          "size": [
           5.609
          ],
          "sizemode": "area",
          "sizeref": 0.18529722222222222,
          "symbol": "circle"
         },
         "mode": "markers",
         "name": "ccode=CMR",
         "showlegend": true,
         "type": "scatter",
         "x": [
          6.9726062513017535
         ],
         "xaxis": "x",
         "y": [
          1.7145
         ],
         "yaxis": "y"
        },
        {
         "hoverlabel": {
          "namelength": 0
         },
         "hovertemplate": "<b>%{hovertext}</b><br><br>ccode=POL<br>loggdp=%{x}<br>growth rate=%{y}<br>pop=%{marker.size}",
         "hovertext": [
          "POL"
         ],
         "legendgroup": "ccode=POL",
         "marker": {
          "color": "#FFA15A",
          "size": [
           29.59
          ],
          "sizemode": "area",
          "sizeref": 0.18529722222222222,
          "symbol": "circle"
         },
         "mode": "markers",
         "name": "ccode=POL",
         "showlegend": true,
         "type": "scatter",
         "x": [
          8.325063693631197
         ],
         "xaxis": "x",
         "y": [
          3.3426
         ],
         "yaxis": "y"
        },
        {
         "hoverlabel": {
          "namelength": 0
         },
         "hovertemplate": "<b>%{hovertext}</b><br><br>ccode=PRT<br>loggdp=%{x}<br>growth rate=%{y}<br>pop=%{marker.size}",
         "hovertext": [
          "PRT"
         ],
         "legendgroup": "ccode=PRT",
         "marker": {
          "color": "#19d3f3",
          "size": [
           9.037
          ],
          "sizemode": "area",
          "sizeref": 0.18529722222222222,
          "symbol": "circle"
         },
         "mode": "markers",
         "name": "ccode=PRT",
         "showlegend": true,
         "type": "scatter",
         "x": [
          8.268731832117737
         ],
         "xaxis": "x",
         "y": [
          3.6278
         ],
         "yaxis": "y"
        },
        {
         "hoverlabel": {
          "namelength": 0
         },
         "hovertemplate": "<b>%{hovertext}</b><br><br>ccode=MEX<br>loggdp=%{x}<br>growth rate=%{y}<br>pop=%{marker.size}",
         "hovertext": [
          "MEX"
         ],
         "legendgroup": "ccode=MEX",
         "marker": {
          "color": "#FF6692",
          "size": [
           38.579
          ],
          "sizemode": "area",
          "sizeref": 0.18529722222222222,
          "symbol": "circle"
         },
         "mode": "markers",
         "name": "ccode=MEX",
         "showlegend": true,
         "type": "scatter",
         "x": [
          8.125630988477065
         ],
         "xaxis": "x",
         "y": [
          2.8643
         ],
         "yaxis": "y"
        },
        {
         "hoverlabel": {
          "namelength": 0
         },
         "hovertemplate": "<b>%{hovertext}</b><br><br>ccode=DOM<br>loggdp=%{x}<br>growth rate=%{y}<br>pop=%{marker.size}",
         "hovertext": [
          "DOM"
         ],
         "legendgroup": "ccode=DOM",
         "marker": {
          "color": "#B6E880",
          "size": [
           3.2310000000000003
          ],
          "sizemode": "area",
          "sizeref": 0.18529722222222222,
          "symbol": "circle"
         },
         "mode": "markers",
         "name": "ccode=DOM",
         "showlegend": true,
         "type": "scatter",
         "x": [
          7.618251097876695
         ],
         "xaxis": "x",
         "y": [
          3.4426
         ],
         "yaxis": "y"
        },
        {
         "hoverlabel": {
          "namelength": 0
         },
         "hovertemplate": "<b>%{hovertext}</b><br><br>ccode=LSO<br>loggdp=%{x}<br>growth rate=%{y}<br>pop=%{marker.size}",
         "hovertext": [
          "LSO"
         ],
         "legendgroup": "ccode=LSO",
         "marker": {
          "color": "#FF97FF",
          "size": [
           0.8590000000000001
          ],
          "sizemode": "area",
          "sizeref": 0.18529722222222222,
          "symbol": "circle"
         },
         "mode": "markers",
         "name": "ccode=LSO",
         "showlegend": true,
         "type": "scatter",
         "x": [
          6.2422232654551655
         ],
         "xaxis": "x",
         "y": [
          3.2435
         ],
         "yaxis": "y"
        },
        {
         "hoverlabel": {
          "namelength": 0
         },
         "hovertemplate": "<b>%{hovertext}</b><br><br>ccode=CPV<br>loggdp=%{x}<br>growth rate=%{y}<br>pop=%{marker.size}",
         "hovertext": [
          "CPV"
         ],
         "legendgroup": "ccode=CPV",
         "marker": {
          "color": "#FECB52",
          "size": [
           0.19699999999999998
          ],
          "sizemode": "area",
          "sizeref": 0.18529722222222222,
          "symbol": "circle"
         },
         "mode": "markers",
         "name": "ccode=CPV",
         "showlegend": true,
         "type": "scatter",
         "x": [
          7.157735484249907
         ],
         "xaxis": "x",
         "y": [
          3.0053
         ],
         "yaxis": "y"
        },
        {
         "hoverlabel": {
          "namelength": 0
         },
         "hovertemplate": "<b>%{hovertext}</b><br><br>ccode=SLV<br>loggdp=%{x}<br>growth rate=%{y}<br>pop=%{marker.size}",
         "hovertext": [
          "SLV"
         ],
         "legendgroup": "ccode=SLV",
         "marker": {
          "color": "#636efa",
          "size": [
           2.582
          ],
          "sizemode": "area",
          "sizeref": 0.18529722222222222,
          "symbol": "circle"
         },
         "mode": "markers",
         "name": "ccode=SLV",
         "showlegend": true,
         "type": "scatter",
         "x": [
          7.330405211844402
         ],
         "xaxis": "x",
         "y": [
          3.1128
         ],
         "yaxis": "y"
        },
        {
         "hoverlabel": {
          "namelength": 0
         },
         "hovertemplate": "<b>%{hovertext}</b><br><br>ccode=TGO<br>loggdp=%{x}<br>growth rate=%{y}<br>pop=%{marker.size}",
         "hovertext": [
          "TGO"
         ],
         "legendgroup": "ccode=TGO",
         "marker": {
          "color": "#EF553B",
          "size": [
           1.456
          ],
          "sizemode": "area",
          "sizeref": 0.18529722222222222,
          "symbol": "circle"
         },
         "mode": "markers",
         "name": "ccode=TGO",
         "showlegend": true,
         "type": "scatter",
         "x": [
          7.004881989712859
         ],
         "xaxis": "x",
         "y": [
          0.5005
         ],
         "yaxis": "y"
        },
        {
         "hoverlabel": {
          "namelength": 0
         },
         "hovertemplate": "<b>%{hovertext}</b><br><br>ccode=DEU<br>loggdp=%{x}<br>growth rate=%{y}<br>pop=%{marker.size}",
         "hovertext": [
          "DEU"
         ],
         "legendgroup": "ccode=DEU",
         "marker": {
          "color": "#00cc96",
          "size": [
           72.48100000000001
          ],
          "sizemode": "area",
          "sizeref": 0.18529722222222222,
          "symbol": "circle"
         },
         "mode": "markers",
         "name": "ccode=DEU",
         "showlegend": true,
         "type": "scatter",
         "x": [
          9.357639058997062
         ],
         "xaxis": "x",
         "y": [
          2.5877
         ],
         "yaxis": "y"
        },
        {
         "hoverlabel": {
          "namelength": 0
         },
         "hovertemplate": "<b>%{hovertext}</b><br><br>ccode=CHL<br>loggdp=%{x}<br>growth rate=%{y}<br>pop=%{marker.size}",
         "hovertext": [
          "CHL"
         ],
         "legendgroup": "ccode=CHL",
         "marker": {
          "color": "#ab63fa",
          "size": [
           7.585
          ],
          "sizemode": "area",
          "sizeref": 0.18529722222222222,
          "symbol": "circle"
         },
         "mode": "markers",
         "name": "ccode=CHL",
         "showlegend": true,
         "type": "scatter",
         "x": [
          8.509161019718974
         ],
         "xaxis": "x",
         "y": [
          2.7166
         ],
         "yaxis": "y"
        },
        {
         "hoverlabel": {
          "namelength": 0
         },
         "hovertemplate": "<b>%{hovertext}</b><br><br>ccode=HKG<br>loggdp=%{x}<br>growth rate=%{y}<br>pop=%{marker.size}",
         "hovertext": [
          "HKG"
         ],
         "legendgroup": "ccode=HKG",
         "marker": {
          "color": "#FFA15A",
          "size": [
           3.0189999999999997
          ],
          "sizemode": "area",
          "sizeref": 0.18529722222222222,
          "symbol": "circle"
         },
         "mode": "markers",
         "name": "ccode=HKG",
         "showlegend": true,
         "type": "scatter",
         "x": [
          8.517593111437565
         ],
         "xaxis": "x",
         "y": [
          4.1854
         ],
         "yaxis": "y"
        },
        {
         "hoverlabel": {
          "namelength": 0
         },
         "hovertemplate": "<b>%{hovertext}</b><br><br>ccode=BEL<br>loggdp=%{x}<br>growth rate=%{y}<br>pop=%{marker.size}",
         "hovertext": [
          "BEL"
         ],
         "legendgroup": "ccode=BEL",
         "marker": {
          "color": "#19d3f3",
          "size": [
           9.119
          ],
          "sizemode": "area",
          "sizeref": 0.18529722222222222,
          "symbol": "circle"
         },
         "mode": "markers",
         "name": "ccode=BEL",
         "showlegend": true,
         "type": "scatter",
         "x": [
          9.117457244496126
         ],
         "xaxis": "x",
         "y": [
          2.7378
         ],
         "yaxis": "y"
        },
        {
         "hoverlabel": {
          "namelength": 0
         },
         "hovertemplate": "<b>%{hovertext}</b><br><br>ccode=PSE<br>loggdp=%{x}<br>growth rate=%{y}<br>pop=%{marker.size}",
         "hovertext": [
          "PSE"
         ],
         "legendgroup": "ccode=PSE",
         "marker": {
          "color": "#FF6692",
          "size": [
           1.113
          ],
          "sizemode": "area",
          "sizeref": 0.18529722222222222,
          "symbol": "circle"
         },
         "mode": "markers",
         "name": "ccode=PSE",
         "showlegend": true,
         "type": "scatter",
         "x": [
          7.052721049232323
         ],
         "xaxis": "x",
         "y": [
          2.491
         ],
         "yaxis": "y"
        },
        {
         "hoverlabel": {
          "namelength": 0
         },
         "hovertemplate": "<b>%{hovertext}</b><br><br>ccode=IND<br>loggdp=%{x}<br>growth rate=%{y}<br>pop=%{marker.size}",
         "hovertext": [
          "IND"
         ],
         "legendgroup": "ccode=IND",
         "marker": {
          "color": "#B6E880",
          "size": [
           434
          ],
          "sizemode": "area",
          "sizeref": 0.18529722222222222,
          "symbol": "circle"
         },
         "mode": "markers",
         "name": "ccode=IND",
         "showlegend": true,
         "type": "scatter",
         "x": [
          7.246368080102461
         ],
         "xaxis": "x",
         "y": [
          2.4961
         ],
         "yaxis": "y"
        },
        {
         "hoverlabel": {
          "namelength": 0
         },
         "hovertemplate": "<b>%{hovertext}</b><br><br>ccode=BRA<br>loggdp=%{x}<br>growth rate=%{y}<br>pop=%{marker.size}",
         "hovertext": [
          "BRA"
         ],
         "legendgroup": "ccode=BRA",
         "marker": {
          "color": "#FF97FF",
          "size": [
           71.695
          ],
          "sizemode": "area",
          "sizeref": 0.18529722222222222,
          "symbol": "circle"
         },
         "mode": "markers",
         "name": "ccode=BRA",
         "showlegend": true,
         "type": "scatter",
         "x": [
          7.731930721948486
         ],
         "xaxis": "x",
         "y": [
          3.5277
         ],
         "yaxis": "y"
        },
        {
         "hoverlabel": {
          "namelength": 0
         },
         "hovertemplate": "<b>%{hovertext}</b><br><br>ccode=BRB<br>loggdp=%{x}<br>growth rate=%{y}<br>pop=%{marker.size}",
         "hovertext": [
          "BRB"
         ],
         "legendgroup": "ccode=BRB",
         "marker": {
          "color": "#FECB52",
          "size": [
           0.23199999999999998
          ],
          "sizemode": "area",
          "sizeref": 0.18529722222222222,
          "symbol": "circle"
         },
         "mode": "markers",
         "name": "ccode=BRB",
         "showlegend": true,
         "type": "scatter",
         "x": [
          8.878358040627822
         ],
         "xaxis": "x",
         "y": [
          0.6115
         ],
         "yaxis": "y"
        },
        {
         "hoverlabel": {
          "namelength": 0
         },
         "hovertemplate": "<b>%{hovertext}</b><br><br>ccode=USA<br>loggdp=%{x}<br>growth rate=%{y}<br>pop=%{marker.size}",
         "hovertext": [
          "USA"
         ],
         "legendgroup": "ccode=USA",
         "marker": {
          "color": "#636efa",
          "size": [
           180.671
          ],
          "sizemode": "area",
          "sizeref": 0.18529722222222222,
          "symbol": "circle"
         },
         "mode": "markers",
         "name": "ccode=USA",
         "showlegend": true,
         "type": "scatter",
         "x": [
          9.801344078867425
         ],
         "xaxis": "x",
         "y": [
          1.9657
         ],
         "yaxis": "y"
        },
        {
         "hoverlabel": {
          "namelength": 0
         },
         "hovertemplate": "<b>%{hovertext}</b><br><br>ccode=AUT<br>loggdp=%{x}<br>growth rate=%{y}<br>pop=%{marker.size}",
         "hovertext": [
          "AUT"
         ],
         "legendgroup": "ccode=AUT",
         "marker": {
          "color": "#EF553B",
          "size": [
           7.047000000000001
          ],
          "sizemode": "area",
          "sizeref": 0.18529722222222222,
          "symbol": "circle"
         },
         "mode": "markers",
         "name": "ccode=AUT",
         "showlegend": true,
         "type": "scatter",
         "x": [
          9.048762176320128
         ],
         "xaxis": "x",
         "y": [
          3.1281
         ],
         "yaxis": "y"
        },
        {
         "hoverlabel": {
          "namelength": 0
         },
         "hovertemplate": "<b>%{hovertext}</b><br><br>ccode=AZE<br>loggdp=%{x}<br>growth rate=%{y}<br>pop=%{marker.size}",
         "hovertext": [
          "AZE"
         ],
         "legendgroup": "ccode=AZE",
         "marker": {
          "color": "#00cc96",
          "size": [
           3.8819999999999997
          ],
          "sizemode": "area",
          "sizeref": 0.18529722222222222,
          "symbol": "circle"
         },
         "mode": "markers",
         "name": "ccode=AZE",
         "showlegend": true,
         "type": "scatter",
         "x": [
          null
         ],
         "xaxis": "x",
         "y": [
          null
         ],
         "yaxis": "y"
        },
        {
         "hoverlabel": {
          "namelength": 0
         },
         "hovertemplate": "<b>%{hovertext}</b><br><br>ccode=BDI<br>loggdp=%{x}<br>growth rate=%{y}<br>pop=%{marker.size}",
         "hovertext": [
          "BDI"
         ],
         "legendgroup": "ccode=BDI",
         "marker": {
          "color": "#ab63fa",
          "size": [
           2.815
          ],
          "sizemode": "area",
          "sizeref": 0.18529722222222222,
          "symbol": "circle"
         },
         "mode": "markers",
         "name": "ccode=BDI",
         "showlegend": true,
         "type": "scatter",
         "x": [
          6.880384082186005
         ],
         "xaxis": "x",
         "y": [
          -0.411
         ],
         "yaxis": "y"
        },
        {
         "hoverlabel": {
          "namelength": 0
         },
         "hovertemplate": "<b>%{hovertext}</b><br><br>ccode=MUS<br>loggdp=%{x}<br>growth rate=%{y}<br>pop=%{marker.size}",
         "hovertext": [
          "MUS"
         ],
         "legendgroup": "ccode=MUS",
         "marker": {
          "color": "#FFA15A",
          "size": [
           0.6629999999999999
          ],
          "sizemode": "area",
          "sizeref": 0.18529722222222222,
          "symbol": "circle"
         },
         "mode": "markers",
         "name": "ccode=MUS",
         "showlegend": true,
         "type": "scatter",
         "x": [
          8.150467911624004
         ],
         "xaxis": "x",
         "y": [
          3.0722
         ],
         "yaxis": "y"
        },
        {
         "hoverlabel": {
          "namelength": 0
         },
         "hovertemplate": "<b>%{hovertext}</b><br><br>ccode=NER<br>loggdp=%{x}<br>growth rate=%{y}<br>pop=%{marker.size}",
         "hovertext": [
          "NER"
         ],
         "legendgroup": "ccode=NER",
         "marker": {
          "color": "#19d3f3",
          "size": [
           3.9130000000000003
          ],
          "sizemode": "area",
          "sizeref": 0.18529722222222222,
          "symbol": "circle"
         },
         "mode": "markers",
         "name": "ccode=NER",
         "showlegend": true,
         "type": "scatter",
         "x": [
          7.215975002651466
         ],
         "xaxis": "x",
         "y": [
          -0.7773
         ],
         "yaxis": "y"
        },
        {
         "hoverlabel": {
          "namelength": 0
         },
         "hovertemplate": "<b>%{hovertext}</b><br><br>ccode=MKD<br>loggdp=%{x}<br>growth rate=%{y}<br>pop=%{marker.size}",
         "hovertext": [
          "MKD"
         ],
         "legendgroup": "ccode=MKD",
         "marker": {
          "color": "#FF6692",
          "size": [
           1.3659999999999999
          ],
          "sizemode": "area",
          "sizeref": 0.18529722222222222,
          "symbol": "circle"
         },
         "mode": "markers",
         "name": "ccode=MKD",
         "showlegend": true,
         "type": "scatter",
         "x": [
          8.04012466444838
         ],
         "xaxis": "x",
         "y": [
          2.7045
         ],
         "yaxis": "y"
        },
        {
         "hoverlabel": {
          "namelength": 0
         },
         "hovertemplate": "<b>%{hovertext}</b><br><br>ccode=NGA<br>loggdp=%{x}<br>growth rate=%{y}<br>pop=%{marker.size}",
         "hovertext": [
          "NGA"
         ],
         "legendgroup": "ccode=NGA",
         "marker": {
          "color": "#B6E880",
          "size": [
           41.547
          ],
          "sizemode": "area",
          "sizeref": 0.18529722222222222,
          "symbol": "circle"
         },
         "mode": "markers",
         "name": "ccode=NGA",
         "showlegend": true,
         "type": "scatter",
         "x": [
          7.68662133494462
         ],
         "xaxis": "x",
         "y": [
          1.74
         ],
         "yaxis": "y"
        },
        {
         "hoverlabel": {
          "namelength": 0
         },
         "hovertemplate": "<b>%{hovertext}</b><br><br>ccode=LVA<br>loggdp=%{x}<br>growth rate=%{y}<br>pop=%{marker.size}",
         "hovertext": [
          "LVA"
         ],
         "legendgroup": "ccode=LVA",
         "marker": {
          "color": "#FF97FF",
          "size": [
           2.115
          ],
          "sizemode": "area",
          "sizeref": 0.18529722222222222,
          "symbol": "circle"
         },
         "mode": "markers",
         "name": "ccode=LVA",
         "showlegend": true,
         "type": "scatter",
         "x": [
          null
         ],
         "xaxis": "x",
         "y": [
          null
         ],
         "yaxis": "y"
        },
        {
         "hoverlabel": {
          "namelength": 0
         },
         "hovertemplate": "<b>%{hovertext}</b><br><br>ccode=GRC<br>loggdp=%{x}<br>growth rate=%{y}<br>pop=%{marker.size}",
         "hovertext": [
          "GRC"
         ],
         "legendgroup": "ccode=GRC",
         "marker": {
          "color": "#FECB52",
          "size": [
           8.327
          ],
          "sizemode": "area",
          "sizeref": 0.18529722222222222,
          "symbol": "circle"
         },
         "mode": "markers",
         "name": "ccode=GRC",
         "showlegend": true,
         "type": "scatter",
         "x": [
          8.4096079807363
         ],
         "xaxis": "x",
         "y": [
          3.1872
         ],
         "yaxis": "y"
        },
        {
         "hoverlabel": {
          "namelength": 0
         },
         "hovertemplate": "<b>%{hovertext}</b><br><br>ccode=NAM<br>loggdp=%{x}<br>growth rate=%{y}<br>pop=%{marker.size}",
         "hovertext": [
          "NAM"
         ],
         "legendgroup": "ccode=NAM",
         "marker": {
          "color": "#636efa",
          "size": [
           0.591
          ],
          "sizemode": "area",
          "sizeref": 0.18529722222222222,
          "symbol": "circle"
         },
         "mode": "markers",
         "name": "ccode=NAM",
         "showlegend": true,
         "type": "scatter",
         "x": [
          8.28045768658256
         ],
         "xaxis": "x",
         "y": [
          1.9979
         ],
         "yaxis": "y"
        },
        {
         "hoverlabel": {
          "namelength": 0
         },
         "hovertemplate": "<b>%{hovertext}</b><br><br>ccode=BEN<br>loggdp=%{x}<br>growth rate=%{y}<br>pop=%{marker.size}",
         "hovertext": [
          "BEN"
         ],
         "legendgroup": "ccode=BEN",
         "marker": {
          "color": "#EF553B",
          "size": [
           2.055
          ],
          "sizemode": "area",
          "sizeref": 0.18529722222222222,
          "symbol": "circle"
         },
         "mode": "markers",
         "name": "ccode=BEN",
         "showlegend": true,
         "type": "scatter",
         "x": [
          7.155396301896734
         ],
         "xaxis": "x",
         "y": [
          0.9124
         ],
         "yaxis": "y"
        },
        {
         "hoverlabel": {
          "namelength": 0
         },
         "hovertemplate": "<b>%{hovertext}</b><br><br>ccode=ZAF<br>loggdp=%{x}<br>growth rate=%{y}<br>pop=%{marker.size}",
         "hovertext": [
          "ZAF"
         ],
         "legendgroup": "ccode=ZAF",
         "marker": {
          "color": "#00cc96",
          "size": [
           17.417
          ],
          "sizemode": "area",
          "sizeref": 0.18529722222222222,
          "symbol": "circle"
         },
         "mode": "markers",
         "name": "ccode=ZAF",
         "showlegend": true,
         "type": "scatter",
         "x": [
          8.665957964681349
         ],
         "xaxis": "x",
         "y": [
          1.3626
         ],
         "yaxis": "y"
        },
        {
         "hoverlabel": {
          "namelength": 0
         },
         "hovertemplate": "<b>%{hovertext}</b><br><br>ccode=GAB<br>loggdp=%{x}<br>growth rate=%{y}<br>pop=%{marker.size}",
         "hovertext": [
          "GAB"
         ],
         "legendgroup": "ccode=GAB",
         "marker": {
          "color": "#ab63fa",
          "size": [
           0.446
          ],
          "sizemode": "area",
          "sizeref": 0.18529722222222222,
          "symbol": "circle"
         },
         "mode": "markers",
         "name": "ccode=GAB",
         "showlegend": true,
         "type": "scatter",
         "x": [
          8.583355393669907
         ],
         "xaxis": "x",
         "y": [
          1.8073
         ],
         "yaxis": "y"
        },
        {
         "hoverlabel": {
          "namelength": 0
         },
         "hovertemplate": "<b>%{hovertext}</b><br><br>ccode=SWE<br>loggdp=%{x}<br>growth rate=%{y}<br>pop=%{marker.size}",
         "hovertext": [
          "SWE"
         ],
         "legendgroup": "ccode=SWE",
         "marker": {
          "color": "#FFA15A",
          "size": [
           7.48
          ],
          "sizemode": "area",
          "sizeref": 0.18529722222222222,
          "symbol": "circle"
         },
         "mode": "markers",
         "name": "ccode=SWE",
         "showlegend": true,
         "type": "scatter",
         "x": [
          9.340578848899913
         ],
         "xaxis": "x",
         "y": [
          2.4549
         ],
         "yaxis": "y"
        },
        {
         "hoverlabel": {
          "namelength": 0
         },
         "hovertemplate": "<b>%{hovertext}</b><br><br>ccode=GNB<br>loggdp=%{x}<br>growth rate=%{y}<br>pop=%{marker.size}",
         "hovertext": [
          "GNB"
         ],
         "legendgroup": "ccode=GNB",
         "marker": {
          "color": "#19d3f3",
          "size": [
           0.617
          ],
          "sizemode": "area",
          "sizeref": 0.18529722222222222,
          "symbol": "circle"
         },
         "mode": "markers",
         "name": "ccode=GNB",
         "showlegend": true,
         "type": "scatter",
         "x": [
          6.734591659972948
         ],
         "xaxis": "x",
         "y": [
          0.7765
         ],
         "yaxis": "y"
        },
        {
         "hoverlabel": {
          "namelength": 0
         },
         "hovertemplate": "<b>%{hovertext}</b><br><br>ccode=DMA<br>loggdp=%{x}<br>growth rate=%{y}<br>pop=%{marker.size}",
         "hovertext": [
          "DMA"
         ],
         "legendgroup": "ccode=DMA",
         "marker": {
          "color": "#FF6692",
          "size": [
           0.06
          ],
          "sizemode": "area",
          "sizeref": 0.18529722222222222,
          "symbol": "circle"
         },
         "mode": "markers",
         "name": "ccode=DMA",
         "showlegend": true,
         "type": "scatter",
         "x": [
          8.022568946988255
         ],
         "xaxis": "x",
         "y": [
          2.1719
         ],
         "yaxis": "y"
        },
        {
         "hoverlabel": {
          "namelength": 0
         },
         "hovertemplate": "<b>%{hovertext}</b><br><br>ccode=QAT<br>loggdp=%{x}<br>growth rate=%{y}<br>pop=%{marker.size}",
         "hovertext": [
          "QAT"
         ],
         "legendgroup": "ccode=QAT",
         "marker": {
          "color": "#B6E880",
          "size": [
           0.046
          ],
          "sizemode": "area",
          "sizeref": 0.18529722222222222,
          "symbol": "circle"
         },
         "mode": "markers",
         "name": "ccode=QAT",
         "showlegend": true,
         "type": "scatter",
         "x": [
          null
         ],
         "xaxis": "x",
         "y": [
          null
         ],
         "yaxis": "y"
        },
        {
         "hoverlabel": {
          "namelength": 0
         },
         "hovertemplate": "<b>%{hovertext}</b><br><br>ccode=SYR<br>loggdp=%{x}<br>growth rate=%{y}<br>pop=%{marker.size}",
         "hovertext": [
          "SYR"
         ],
         "legendgroup": "ccode=SYR",
         "marker": {
          "color": "#FF97FF",
          "size": [
           4.533
          ],
          "sizemode": "area",
          "sizeref": 0.18529722222222222,
          "symbol": "circle"
         },
         "mode": "markers",
         "name": "ccode=SYR",
         "showlegend": true,
         "type": "scatter",
         "x": [
          7.926602599181384
         ],
         "xaxis": "x",
         "y": [
          0.7147
         ],
         "yaxis": "y"
        },
        {
         "hoverlabel": {
          "namelength": 0
         },
         "hovertemplate": "<b>%{hovertext}</b><br><br>ccode=GIN<br>loggdp=%{x}<br>growth rate=%{y}<br>pop=%{marker.size}",
         "hovertext": [
          "GIN"
         ],
         "legendgroup": "ccode=GIN",
         "marker": {
          "color": "#FECB52",
          "size": [
           3.0260000000000002
          ],
          "sizemode": "area",
          "sizeref": 0.18529722222222222,
          "symbol": "circle"
         },
         "mode": "markers",
         "name": "ccode=GIN",
         "showlegend": true,
         "type": "scatter",
         "x": [
          7.257707677160043
         ],
         "xaxis": "x",
         "y": [
          0.2752
         ],
         "yaxis": "y"
        },
        {
         "hoverlabel": {
          "namelength": 0
         },
         "hovertemplate": "<b>%{hovertext}</b><br><br>ccode=HND<br>loggdp=%{x}<br>growth rate=%{y}<br>pop=%{marker.size}",
         "hovertext": [
          "HND"
         ],
         "legendgroup": "ccode=HND",
         "marker": {
          "color": "#636efa",
          "size": [
           1.952
          ],
          "sizemode": "area",
          "sizeref": 0.18529722222222222,
          "symbol": "circle"
         },
         "mode": "markers",
         "name": "ccode=HND",
         "showlegend": true,
         "type": "scatter",
         "x": [
          7.586803535162581
         ],
         "xaxis": "x",
         "y": [
          1.4418
         ],
         "yaxis": "y"
        },
        {
         "hoverlabel": {
          "namelength": 0
         },
         "hovertemplate": "<b>%{hovertext}</b><br><br>ccode=UZB<br>loggdp=%{x}<br>growth rate=%{y}<br>pop=%{marker.size}",
         "hovertext": [
          "UZB"
         ],
         "legendgroup": "ccode=UZB",
         "marker": {
          "color": "#EF553B",
          "size": [
           8.531
          ],
          "sizemode": "area",
          "sizeref": 0.18529722222222222,
          "symbol": "circle"
         },
         "mode": "markers",
         "name": "ccode=UZB",
         "showlegend": true,
         "type": "scatter",
         "x": [
          null
         ],
         "xaxis": "x",
         "y": [
          null
         ],
         "yaxis": "y"
        },
        {
         "hoverlabel": {
          "namelength": 0
         },
         "hovertemplate": "<b>%{hovertext}</b><br><br>ccode=GTM<br>loggdp=%{x}<br>growth rate=%{y}<br>pop=%{marker.size}",
         "hovertext": [
          "GTM"
         ],
         "legendgroup": "ccode=GTM",
         "marker": {
          "color": "#00cc96",
          "size": [
           4.1
          ],
          "sizemode": "area",
          "sizeref": 0.18529722222222222,
          "symbol": "circle"
         },
         "mode": "markers",
         "name": "ccode=GTM",
         "showlegend": true,
         "type": "scatter",
         "x": [
          7.671826797878781
         ],
         "xaxis": "x",
         "y": [
          2.1855
         ],
         "yaxis": "y"
        },
        {
         "hoverlabel": {
          "namelength": 0
         },
         "hovertemplate": "<b>%{hovertext}</b><br><br>ccode=HTI<br>loggdp=%{x}<br>growth rate=%{y}<br>pop=%{marker.size}",
         "hovertext": [
          "HTI"
         ],
         "legendgroup": "ccode=HTI",
         "marker": {
          "color": "#ab63fa",
          "size": [
           3.697
          ],
          "sizemode": "area",
          "sizeref": 0.18529722222222222,
          "symbol": "circle"
         },
         "mode": "markers",
         "name": "ccode=HTI",
         "showlegend": true,
         "type": "scatter",
         "x": [
          7.897296472595885
         ],
         "xaxis": "x",
         "y": [
          -0.8955
         ],
         "yaxis": "y"
        },
        {
         "hoverlabel": {
          "namelength": 0
         },
         "hovertemplate": "<b>%{hovertext}</b><br><br>ccode=ISL<br>loggdp=%{x}<br>growth rate=%{y}<br>pop=%{marker.size}",
         "hovertext": [
          "ISL"
         ],
         "legendgroup": "ccode=ISL",
         "marker": {
          "color": "#FFA15A",
          "size": [
           0.17600000000000002
          ],
          "sizemode": "area",
          "sizeref": 0.18529722222222222,
          "symbol": "circle"
         },
         "mode": "markers",
         "name": "ccode=ISL",
         "showlegend": true,
         "type": "scatter",
         "x": [
          9.333796175903101
         ],
         "xaxis": "x",
         "y": [
          2.3367
         ],
         "yaxis": "y"
        },
        {
         "hoverlabel": {
          "namelength": 0
         },
         "hovertemplate": "<b>%{hovertext}</b><br><br>ccode=BGD<br>loggdp=%{x}<br>growth rate=%{y}<br>pop=%{marker.size}",
         "hovertext": [
          "BGD"
         ],
         "legendgroup": "ccode=BGD",
         "marker": {
          "color": "#19d3f3",
          "size": [
           54.593
          ],
          "sizemode": "area",
          "sizeref": 0.18529722222222222,
          "symbol": "circle"
         },
         "mode": "markers",
         "name": "ccode=BGD",
         "showlegend": true,
         "type": "scatter",
         "x": [
          7.048386408721883
         ],
         "xaxis": "x",
         "y": [
          1.7266
         ],
         "yaxis": "y"
        },
        {
         "hoverlabel": {
          "namelength": 0
         },
         "hovertemplate": "<b>%{hovertext}</b><br><br>ccode=OMN<br>loggdp=%{x}<br>growth rate=%{y}<br>pop=%{marker.size}",
         "hovertext": [
          "OMN"
         ],
         "legendgroup": "ccode=OMN",
         "marker": {
          "color": "#FF6692",
          "size": [
           0.599
          ],
          "sizemode": "area",
          "sizeref": 0.18529722222222222,
          "symbol": "circle"
         },
         "mode": "markers",
         "name": "ccode=OMN",
         "showlegend": true,
         "type": "scatter",
         "x": [
          7.578656850594762
         ],
         "xaxis": "x",
         "y": [
          5.6346
         ],
         "yaxis": "y"
        },
        {
         "hoverlabel": {
          "namelength": 0
         },
         "hovertemplate": "<b>%{hovertext}</b><br><br>ccode=YEM<br>loggdp=%{x}<br>growth rate=%{y}<br>pop=%{marker.size}",
         "hovertext": [
          "YEM"
         ],
         "legendgroup": "ccode=YEM",
         "marker": {
          "color": "#B6E880",
          "size": [
           5.872000000000001
          ],
          "sizemode": "area",
          "sizeref": 0.18529722222222222,
          "symbol": "circle"
         },
         "mode": "markers",
         "name": "ccode=YEM",
         "showlegend": true,
         "type": "scatter",
         "x": [
          7.017506142941256
         ],
         "xaxis": "x",
         "y": [
          2.1703
         ],
         "yaxis": "y"
        },
        {
         "hoverlabel": {
          "namelength": 0
         },
         "hovertemplate": "<b>%{hovertext}</b><br><br>ccode=MLT<br>loggdp=%{x}<br>growth rate=%{y}<br>pop=%{marker.size}",
         "hovertext": [
          "MLT"
         ],
         "legendgroup": "ccode=MLT",
         "marker": {
          "color": "#FF97FF",
          "size": [
           0.32899999999999996
          ],
          "sizemode": "area",
          "sizeref": 0.18529722222222222,
          "symbol": "circle"
         },
         "mode": "markers",
         "name": "ccode=MLT",
         "showlegend": true,
         "type": "scatter",
         "x": [
          7.7752758464868625
         ],
         "xaxis": "x",
         "y": [
          4.4506
         ],
         "yaxis": "y"
        },
        {
         "hoverlabel": {
          "namelength": 0
         },
         "hovertemplate": "<b>%{hovertext}</b><br><br>ccode=ARM<br>loggdp=%{x}<br>growth rate=%{y}<br>pop=%{marker.size}",
         "hovertext": [
          "ARM"
         ],
         "legendgroup": "ccode=ARM",
         "marker": {
          "color": "#FECB52",
          "size": [
           1.869
          ],
          "sizemode": "area",
          "sizeref": 0.18529722222222222,
          "symbol": "circle"
         },
         "mode": "markers",
         "name": "ccode=ARM",
         "showlegend": true,
         "type": "scatter",
         "x": [
          null
         ],
         "xaxis": "x",
         "y": [
          null
         ],
         "yaxis": "y"
        },
        {
         "hoverlabel": {
          "namelength": 0
         },
         "hovertemplate": "<b>%{hovertext}</b><br><br>ccode=STP<br>loggdp=%{x}<br>growth rate=%{y}<br>pop=%{marker.size}",
         "hovertext": [
          "STP"
         ],
         "legendgroup": "ccode=STP",
         "marker": {
          "color": "#636efa",
          "size": [
           0.063
          ],
          "sizemode": "area",
          "sizeref": 0.18529722222222222,
          "symbol": "circle"
         },
         "mode": "markers",
         "name": "ccode=STP",
         "showlegend": true,
         "type": "scatter",
         "x": [
          7.0967213784947605
         ],
         "xaxis": "x",
         "y": [
          1.9836
         ],
         "yaxis": "y"
        },
        {
         "hoverlabel": {
          "namelength": 0
         },
         "hovertemplate": "<b>%{hovertext}</b><br><br>ccode=CRI<br>loggdp=%{x}<br>growth rate=%{y}<br>pop=%{marker.size}",
         "hovertext": [
          "CRI"
         ],
         "legendgroup": "ccode=CRI",
         "marker": {
          "color": "#EF553B",
          "size": [
           1.248
          ],
          "sizemode": "area",
          "sizeref": 0.18529722222222222,
          "symbol": "circle"
         },
         "mode": "markers",
         "name": "ccode=CRI",
         "showlegend": true,
         "type": "scatter",
         "x": [
          8.248790733696413
         ],
         "xaxis": "x",
         "y": [
          2.3094
         ],
         "yaxis": "y"
        },
        {
         "hoverlabel": {
          "namelength": 0
         },
         "hovertemplate": "<b>%{hovertext}</b><br><br>ccode=LTU<br>loggdp=%{x}<br>growth rate=%{y}<br>pop=%{marker.size}",
         "hovertext": [
          "LTU"
         ],
         "legendgroup": "ccode=LTU",
         "marker": {
          "color": "#00cc96",
          "size": [
           2.765
          ],
          "sizemode": "area",
          "sizeref": 0.18529722222222222,
          "symbol": "circle"
         },
         "mode": "markers",
         "name": "ccode=LTU",
         "showlegend": true,
         "type": "scatter",
         "x": [
          null
         ],
         "xaxis": "x",
         "y": [
          null
         ],
         "yaxis": "y"
        },
        {
         "hoverlabel": {
          "namelength": 0
         },
         "hovertemplate": "<b>%{hovertext}</b><br><br>ccode=CIV<br>loggdp=%{x}<br>growth rate=%{y}<br>pop=%{marker.size}",
         "hovertext": [
          "CIV"
         ],
         "legendgroup": "ccode=CIV",
         "marker": {
          "color": "#ab63fa",
          "size": [
           3.576
          ],
          "sizemode": "area",
          "sizeref": 0.18529722222222222,
          "symbol": "circle"
         },
         "mode": "markers",
         "name": "ccode=CIV",
         "showlegend": true,
         "type": "scatter",
         "x": [
          7.635303886259415
         ],
         "xaxis": "x",
         "y": [
          0.8389
         ],
         "yaxis": "y"
        },
        {
         "hoverlabel": {
          "namelength": 0
         },
         "hovertemplate": "<b>%{hovertext}</b><br><br>ccode=GHA<br>loggdp=%{x}<br>growth rate=%{y}<br>pop=%{marker.size}",
         "hovertext": [
          "GHA"
         ],
         "legendgroup": "ccode=GHA",
         "marker": {
          "color": "#FFA15A",
          "size": [
           6.957999999999999
          ],
          "sizemode": "area",
          "sizeref": 0.18529722222222222,
          "symbol": "circle"
         },
         "mode": "markers",
         "name": "ccode=GHA",
         "showlegend": true,
         "type": "scatter",
         "x": [
          7.920446505142607
         ],
         "xaxis": "x",
         "y": [
          0.5119
         ],
         "yaxis": "y"
        },
        {
         "hoverlabel": {
          "namelength": 0
         },
         "hovertemplate": "<b>%{hovertext}</b><br><br>ccode=IRL<br>loggdp=%{x}<br>growth rate=%{y}<br>pop=%{marker.size}",
         "hovertext": [
          "IRL"
         ],
         "legendgroup": "ccode=IRL",
         "marker": {
          "color": "#19d3f3",
          "size": [
           2.832
          ],
          "sizemode": "area",
          "sizeref": 0.18529722222222222,
          "symbol": "circle"
         },
         "mode": "markers",
         "name": "ccode=IRL",
         "showlegend": true,
         "type": "scatter",
         "x": [
          8.667163717992533
         ],
         "xaxis": "x",
         "y": [
          4.134
         ],
         "yaxis": "y"
        },
        {
         "hoverlabel": {
          "namelength": 0
         },
         "hovertemplate": "<b>%{hovertext}</b><br><br>ccode=SEN<br>loggdp=%{x}<br>growth rate=%{y}<br>pop=%{marker.size}",
         "hovertext": [
          "SEN"
         ],
         "legendgroup": "ccode=SEN",
         "marker": {
          "color": "#FF6692",
          "size": [
           3.27
          ],
          "sizemode": "area",
          "sizeref": 0.18529722222222222,
          "symbol": "circle"
         },
         "mode": "markers",
         "name": "ccode=SEN",
         "showlegend": true,
         "type": "scatter",
         "x": [
          7.756623334538858
         ],
         "xaxis": "x",
         "y": [
          0.0134
         ],
         "yaxis": "y"
        },
        {
         "hoverlabel": {
          "namelength": 0
         },
         "hovertemplate": "<b>%{hovertext}</b><br><br>ccode=TUN<br>loggdp=%{x}<br>growth rate=%{y}<br>pop=%{marker.size}",
         "hovertext": [
          "TUN"
         ],
         "legendgroup": "ccode=TUN",
         "marker": {
          "color": "#B6E880",
          "size": [
           4.149
          ],
          "sizemode": "area",
          "sizeref": 0.18529722222222222,
          "symbol": "circle"
         },
         "mode": "markers",
         "name": "ccode=TUN",
         "showlegend": true,
         "type": "scatter",
         "x": [
          7.575584651557793
         ],
         "xaxis": "x",
         "y": [
          3.1827
         ],
         "yaxis": "y"
        },
        {
         "hoverlabel": {
          "namelength": 0
         },
         "hovertemplate": "<b>%{hovertext}</b><br><br>ccode=GBR<br>loggdp=%{x}<br>growth rate=%{y}<br>pop=%{marker.size}",
         "hovertext": [
          "GBR"
         ],
         "legendgroup": "ccode=GBR",
         "marker": {
          "color": "#FF97FF",
          "size": [
           52.372
          ],
          "sizemode": "area",
          "sizeref": 0.18529722222222222,
          "symbol": "circle"
         },
         "mode": "markers",
         "name": "ccode=GBR",
         "showlegend": true,
         "type": "scatter",
         "x": [
          9.392661928770137
         ],
         "xaxis": "x",
         "y": [
          2.1685
         ],
         "yaxis": "y"
        },
        {
         "hoverlabel": {
          "namelength": 0
         },
         "hovertemplate": "<b>%{hovertext}</b><br><br>ccode=MOZ<br>loggdp=%{x}<br>growth rate=%{y}<br>pop=%{marker.size}",
         "hovertext": [
          "MOZ"
         ],
         "legendgroup": "ccode=MOZ",
         "marker": {
          "color": "#FECB52",
          "size": [
           7.472
          ],
          "sizemode": "area",
          "sizeref": 0.18529722222222222,
          "symbol": "circle"
         },
         "mode": "markers",
         "name": "ccode=MOZ",
         "showlegend": true,
         "type": "scatter",
         "x": [
          6.302618975744905
         ],
         "xaxis": "x",
         "y": [
          1.5108
         ],
         "yaxis": "y"
        },
        {
         "hoverlabel": {
          "namelength": 0
         },
         "hovertemplate": "<b>%{hovertext}</b><br><br>ccode=KWT<br>loggdp=%{x}<br>growth rate=%{y}<br>pop=%{marker.size}",
         "hovertext": [
          "KWT"
         ],
         "legendgroup": "ccode=KWT",
         "marker": {
          "color": "#636efa",
          "size": [
           0.292
          ],
          "sizemode": "area",
          "sizeref": 0.18529722222222222,
          "symbol": "circle"
         },
         "mode": "markers",
         "name": "ccode=KWT",
         "showlegend": true,
         "type": "scatter",
         "x": [
          null
         ],
         "xaxis": "x",
         "y": [
          null
         ],
         "yaxis": "y"
        },
        {
         "hoverlabel": {
          "namelength": 0
         },
         "hovertemplate": "<b>%{hovertext}</b><br><br>ccode=CYP<br>loggdp=%{x}<br>growth rate=%{y}<br>pop=%{marker.size}",
         "hovertext": [
          "CYP"
         ],
         "legendgroup": "ccode=CYP",
         "marker": {
          "color": "#EF553B",
          "size": [
           0.573
          ],
          "sizemode": "area",
          "sizeref": 0.18529722222222222,
          "symbol": "circle"
         },
         "mode": "markers",
         "name": "ccode=CYP",
         "showlegend": true,
         "type": "scatter",
         "x": [
          8.417372856134026
         ],
         "xaxis": "x",
         "y": [
          3.2411
         ],
         "yaxis": "y"
        },
        {
         "hoverlabel": {
          "namelength": 0
         },
         "hovertemplate": "<b>%{hovertext}</b><br><br>ccode=GEO<br>loggdp=%{x}<br>growth rate=%{y}<br>pop=%{marker.size}",
         "hovertext": [
          "GEO"
         ],
         "legendgroup": "ccode=GEO",
         "marker": {
          "color": "#00cc96",
          "size": [
           4.147
          ],
          "sizemode": "area",
          "sizeref": 0.18529722222222222,
          "symbol": "circle"
         },
         "mode": "markers",
         "name": "ccode=GEO",
         "showlegend": true,
         "type": "scatter",
         "x": [
          null
         ],
         "xaxis": "x",
         "y": [
          null
         ],
         "yaxis": "y"
        },
        {
         "hoverlabel": {
          "namelength": 0
         },
         "hovertemplate": "<b>%{hovertext}</b><br><br>ccode=LAO<br>loggdp=%{x}<br>growth rate=%{y}<br>pop=%{marker.size}",
         "hovertext": [
          "LAO"
         ],
         "legendgroup": "ccode=LAO",
         "marker": {
          "color": "#ab63fa",
          "size": [
           2.309
          ],
          "sizemode": "area",
          "sizeref": 0.18529722222222222,
          "symbol": "circle"
         },
         "mode": "markers",
         "name": "ccode=LAO",
         "showlegend": true,
         "type": "scatter",
         "x": [
          6.5337888379333435
         ],
         "xaxis": "x",
         "y": [
          3.9821
         ],
         "yaxis": "y"
        },
        {
         "hoverlabel": {
          "namelength": 0
         },
         "hovertemplate": "<b>%{hovertext}</b><br><br>ccode=ISR<br>loggdp=%{x}<br>growth rate=%{y}<br>pop=%{marker.size}",
         "hovertext": [
          "ISR"
         ],
         "legendgroup": "ccode=ISR",
         "marker": {
          "color": "#FFA15A",
          "size": [
           2.141
          ],
          "sizemode": "area",
          "sizeref": 0.18529722222222222,
          "symbol": "circle"
         },
         "mode": "markers",
         "name": "ccode=ISR",
         "showlegend": true,
         "type": "scatter",
         "x": [
          8.79920924224139
         ],
         "xaxis": "x",
         "y": [
          2.9254
         ],
         "yaxis": "y"
        },
        {
         "hoverlabel": {
          "namelength": 0
         },
         "hovertemplate": "<b>%{hovertext}</b><br><br>ccode=TJK<br>loggdp=%{x}<br>growth rate=%{y}<br>pop=%{marker.size}",
         "hovertext": [
          "TJK"
         ],
         "legendgroup": "ccode=TJK",
         "marker": {
          "color": "#19d3f3",
          "size": [
           2.081
          ],
          "sizemode": "area",
          "sizeref": 0.18529722222222222,
          "symbol": "circle"
         },
         "mode": "markers",
         "name": "ccode=TJK",
         "showlegend": true,
         "type": "scatter",
         "x": [
          null
         ],
         "xaxis": "x",
         "y": [
          null
         ],
         "yaxis": "y"
        },
        {
         "hoverlabel": {
          "namelength": 0
         },
         "hovertemplate": "<b>%{hovertext}</b><br><br>ccode=UKR<br>loggdp=%{x}<br>growth rate=%{y}<br>pop=%{marker.size}",
         "hovertext": [
          "UKR"
         ],
         "legendgroup": "ccode=UKR",
         "marker": {
          "color": "#FF6692",
          "size": [
           42.644
          ],
          "sizemode": "area",
          "sizeref": 0.18529722222222222,
          "symbol": "circle"
         },
         "mode": "markers",
         "name": "ccode=UKR",
         "showlegend": true,
         "type": "scatter",
         "x": [
          null
         ],
         "xaxis": "x",
         "y": [
          null
         ],
         "yaxis": "y"
        },
        {
         "hoverlabel": {
          "namelength": 0
         },
         "hovertemplate": "<b>%{hovertext}</b><br><br>ccode=COL<br>loggdp=%{x}<br>growth rate=%{y}<br>pop=%{marker.size}",
         "hovertext": [
          "COL"
         ],
         "legendgroup": "ccode=COL",
         "marker": {
          "color": "#B6E880",
          "size": [
           15.953
          ],
          "sizemode": "area",
          "sizeref": 0.18529722222222222,
          "symbol": "circle"
         },
         "mode": "markers",
         "name": "ccode=COL",
         "showlegend": true,
         "type": "scatter",
         "x": [
          8.124743020385568
         ],
         "xaxis": "x",
         "y": [
          2.4712
         ],
         "yaxis": "y"
        },
        {
         "hoverlabel": {
          "namelength": 0
         },
         "hovertemplate": "<b>%{hovertext}</b><br><br>ccode=TZA<br>loggdp=%{x}<br>growth rate=%{y}<br>pop=%{marker.size}",
         "hovertext": [
          "TZA"
         ],
         "legendgroup": "ccode=TZA",
         "marker": {
          "color": "#FF97FF",
          "size": [
           10.26
          ],
          "sizemode": "area",
          "sizeref": 0.18529722222222222,
          "symbol": "circle"
         },
         "mode": "markers",
         "name": "ccode=TZA",
         "showlegend": true,
         "type": "scatter",
         "x": [
          7.215239978730097
         ],
         "xaxis": "x",
         "y": [
          1.006
         ],
         "yaxis": "y"
        },
        {
         "hoverlabel": {
          "namelength": 0
         },
         "hovertemplate": "<b>%{hovertext}</b><br><br>ccode=NLD<br>loggdp=%{x}<br>growth rate=%{y}<br>pop=%{marker.size}",
         "hovertext": [
          "NLD"
         ],
         "legendgroup": "ccode=NLD",
         "marker": {
          "color": "#FECB52",
          "size": [
           11.485999999999999
          ],
          "sizemode": "area",
          "sizeref": 0.18529722222222222,
          "symbol": "circle"
         },
         "mode": "markers",
         "name": "ccode=NLD",
         "showlegend": true,
         "type": "scatter",
         "x": [
          9.284519770150434
         ],
         "xaxis": "x",
         "y": [
          2.7961
         ],
         "yaxis": "y"
        },
        {
         "hoverlabel": {
          "namelength": 0
         },
         "hovertemplate": "<b>%{hovertext}</b><br><br>ccode=PRY<br>loggdp=%{x}<br>growth rate=%{y}<br>pop=%{marker.size}",
         "hovertext": [
          "PRY"
         ],
         "legendgroup": "ccode=PRY",
         "marker": {
          "color": "#636efa",
          "size": [
           1.91
          ],
          "sizemode": "area",
          "sizeref": 0.18529722222222222,
          "symbol": "circle"
         },
         "mode": "markers",
         "name": "ccode=PRY",
         "showlegend": true,
         "type": "scatter",
         "x": [
          7.0825485693553
         ],
         "xaxis": "x",
         "y": [
          3.6398
         ],
         "yaxis": "y"
        },
        {
         "hoverlabel": {
          "namelength": 0
         },
         "hovertemplate": "<b>%{hovertext}</b><br><br>ccode=SAU<br>loggdp=%{x}<br>growth rate=%{y}<br>pop=%{marker.size}",
         "hovertext": [
          "SAU"
         ],
         "legendgroup": "ccode=SAU",
         "marker": {
          "color": "#EF553B",
          "size": [
           4.718
          ],
          "sizemode": "area",
          "sizeref": 0.18529722222222222,
          "symbol": "circle"
         },
         "mode": "markers",
         "name": "ccode=SAU",
         "showlegend": true,
         "type": "scatter",
         "x": [
          8.92399074475818
         ],
         "xaxis": "x",
         "y": [
          3.4473
         ],
         "yaxis": "y"
        },
        {
         "hoverlabel": {
          "namelength": 0
         },
         "hovertemplate": "<b>%{hovertext}</b><br><br>ccode=ROU<br>loggdp=%{x}<br>growth rate=%{y}<br>pop=%{marker.size}",
         "hovertext": [
          "ROU"
         ],
         "legendgroup": "ccode=ROU",
         "marker": {
          "color": "#00cc96",
          "size": [
           18.403
          ],
          "sizemode": "area",
          "sizeref": 0.18529722222222222,
          "symbol": "circle"
         },
         "mode": "markers",
         "name": "ccode=ROU",
         "showlegend": true,
         "type": "scatter",
         "x": [
          7.52456122628536
         ],
         "xaxis": "x",
         "y": [
          4.474
         ],
         "yaxis": "y"
        },
        {
         "hoverlabel": {
          "namelength": 0
         },
         "hovertemplate": "<b>%{hovertext}</b><br><br>ccode=JPN<br>loggdp=%{x}<br>growth rate=%{y}<br>pop=%{marker.size}",
         "hovertext": [
          "JPN"
         ],
         "legendgroup": "ccode=JPN",
         "marker": {
          "color": "#ab63fa",
          "size": [
           94.09200000000001
          ],
          "sizemode": "area",
          "sizeref": 0.18529722222222222,
          "symbol": "circle"
         },
         "mode": "markers",
         "name": "ccode=JPN",
         "showlegend": true,
         "type": "scatter",
         "x": [
          8.553525120663627
         ],
         "xaxis": "x",
         "y": [
          3.6294
         ],
         "yaxis": "y"
        },
        {
         "hoverlabel": {
          "namelength": 0
         },
         "hovertemplate": "<b>%{hovertext}</b><br><br>ccode=MWI<br>loggdp=%{x}<br>growth rate=%{y}<br>pop=%{marker.size}",
         "hovertext": [
          "MWI"
         ],
         "legendgroup": "ccode=MWI",
         "marker": {
          "color": "#FFA15A",
          "size": [
           3.45
          ],
          "sizemode": "area",
          "sizeref": 0.18529722222222222,
          "symbol": "circle"
         },
         "mode": "markers",
         "name": "ccode=MWI",
         "showlegend": true,
         "type": "scatter",
         "x": [
          6.9957661563048505
         ],
         "xaxis": "x",
         "y": [
          -0.2306
         ],
         "yaxis": "y"
        }
       ],
       "layout": {
        "height": 600,
        "legend": {
         "itemsizing": "constant",
         "tracegroupgap": 0
        },
        "margin": {
         "t": 60
        },
        "template": {
         "data": {
          "bar": [
           {
            "error_x": {
             "color": "#2a3f5f"
            },
            "error_y": {
             "color": "#2a3f5f"
            },
            "marker": {
             "line": {
              "color": "#E5ECF6",
              "width": 0.5
             }
            },
            "type": "bar"
           }
          ],
          "barpolar": [
           {
            "marker": {
             "line": {
              "color": "#E5ECF6",
              "width": 0.5
             }
            },
            "type": "barpolar"
           }
          ],
          "carpet": [
           {
            "aaxis": {
             "endlinecolor": "#2a3f5f",
             "gridcolor": "white",
             "linecolor": "white",
             "minorgridcolor": "white",
             "startlinecolor": "#2a3f5f"
            },
            "baxis": {
             "endlinecolor": "#2a3f5f",
             "gridcolor": "white",
             "linecolor": "white",
             "minorgridcolor": "white",
             "startlinecolor": "#2a3f5f"
            },
            "type": "carpet"
           }
          ],
          "choropleth": [
           {
            "colorbar": {
             "outlinewidth": 0,
             "ticks": ""
            },
            "type": "choropleth"
           }
          ],
          "contour": [
           {
            "colorbar": {
             "outlinewidth": 0,
             "ticks": ""
            },
            "colorscale": [
             [
              0,
              "#0d0887"
             ],
             [
              0.1111111111111111,
              "#46039f"
             ],
             [
              0.2222222222222222,
              "#7201a8"
             ],
             [
              0.3333333333333333,
              "#9c179e"
             ],
             [
              0.4444444444444444,
              "#bd3786"
             ],
             [
              0.5555555555555556,
              "#d8576b"
             ],
             [
              0.6666666666666666,
              "#ed7953"
             ],
             [
              0.7777777777777778,
              "#fb9f3a"
             ],
             [
              0.8888888888888888,
              "#fdca26"
             ],
             [
              1,
              "#f0f921"
             ]
            ],
            "type": "contour"
           }
          ],
          "contourcarpet": [
           {
            "colorbar": {
             "outlinewidth": 0,
             "ticks": ""
            },
            "type": "contourcarpet"
           }
          ],
          "heatmap": [
           {
            "colorbar": {
             "outlinewidth": 0,
             "ticks": ""
            },
            "colorscale": [
             [
              0,
              "#0d0887"
             ],
             [
              0.1111111111111111,
              "#46039f"
             ],
             [
              0.2222222222222222,
              "#7201a8"
             ],
             [
              0.3333333333333333,
              "#9c179e"
             ],
             [
              0.4444444444444444,
              "#bd3786"
             ],
             [
              0.5555555555555556,
              "#d8576b"
             ],
             [
              0.6666666666666666,
              "#ed7953"
             ],
             [
              0.7777777777777778,
              "#fb9f3a"
             ],
             [
              0.8888888888888888,
              "#fdca26"
             ],
             [
              1,
              "#f0f921"
             ]
            ],
            "type": "heatmap"
           }
          ],
          "heatmapgl": [
           {
            "colorbar": {
             "outlinewidth": 0,
             "ticks": ""
            },
            "colorscale": [
             [
              0,
              "#0d0887"
             ],
             [
              0.1111111111111111,
              "#46039f"
             ],
             [
              0.2222222222222222,
              "#7201a8"
             ],
             [
              0.3333333333333333,
              "#9c179e"
             ],
             [
              0.4444444444444444,
              "#bd3786"
             ],
             [
              0.5555555555555556,
              "#d8576b"
             ],
             [
              0.6666666666666666,
              "#ed7953"
             ],
             [
              0.7777777777777778,
              "#fb9f3a"
             ],
             [
              0.8888888888888888,
              "#fdca26"
             ],
             [
              1,
              "#f0f921"
             ]
            ],
            "type": "heatmapgl"
           }
          ],
          "histogram": [
           {
            "marker": {
             "colorbar": {
              "outlinewidth": 0,
              "ticks": ""
             }
            },
            "type": "histogram"
           }
          ],
          "histogram2d": [
           {
            "colorbar": {
             "outlinewidth": 0,
             "ticks": ""
            },
            "colorscale": [
             [
              0,
              "#0d0887"
             ],
             [
              0.1111111111111111,
              "#46039f"
             ],
             [
              0.2222222222222222,
              "#7201a8"
             ],
             [
              0.3333333333333333,
              "#9c179e"
             ],
             [
              0.4444444444444444,
              "#bd3786"
             ],
             [
              0.5555555555555556,
              "#d8576b"
             ],
             [
              0.6666666666666666,
              "#ed7953"
             ],
             [
              0.7777777777777778,
              "#fb9f3a"
             ],
             [
              0.8888888888888888,
              "#fdca26"
             ],
             [
              1,
              "#f0f921"
             ]
            ],
            "type": "histogram2d"
           }
          ],
          "histogram2dcontour": [
           {
            "colorbar": {
             "outlinewidth": 0,
             "ticks": ""
            },
            "colorscale": [
             [
              0,
              "#0d0887"
             ],
             [
              0.1111111111111111,
              "#46039f"
             ],
             [
              0.2222222222222222,
              "#7201a8"
             ],
             [
              0.3333333333333333,
              "#9c179e"
             ],
             [
              0.4444444444444444,
              "#bd3786"
             ],
             [
              0.5555555555555556,
              "#d8576b"
             ],
             [
              0.6666666666666666,
              "#ed7953"
             ],
             [
              0.7777777777777778,
              "#fb9f3a"
             ],
             [
              0.8888888888888888,
              "#fdca26"
             ],
             [
              1,
              "#f0f921"
             ]
            ],
            "type": "histogram2dcontour"
           }
          ],
          "mesh3d": [
           {
            "colorbar": {
             "outlinewidth": 0,
             "ticks": ""
            },
            "type": "mesh3d"
           }
          ],
          "parcoords": [
           {
            "line": {
             "colorbar": {
              "outlinewidth": 0,
              "ticks": ""
             }
            },
            "type": "parcoords"
           }
          ],
          "pie": [
           {
            "automargin": true,
            "type": "pie"
           }
          ],
          "scatter": [
           {
            "marker": {
             "colorbar": {
              "outlinewidth": 0,
              "ticks": ""
             }
            },
            "type": "scatter"
           }
          ],
          "scatter3d": [
           {
            "line": {
             "colorbar": {
              "outlinewidth": 0,
              "ticks": ""
             }
            },
            "marker": {
             "colorbar": {
              "outlinewidth": 0,
              "ticks": ""
             }
            },
            "type": "scatter3d"
           }
          ],
          "scattercarpet": [
           {
            "marker": {
             "colorbar": {
              "outlinewidth": 0,
              "ticks": ""
             }
            },
            "type": "scattercarpet"
           }
          ],
          "scattergeo": [
           {
            "marker": {
             "colorbar": {
              "outlinewidth": 0,
              "ticks": ""
             }
            },
            "type": "scattergeo"
           }
          ],
          "scattergl": [
           {
            "marker": {
             "colorbar": {
              "outlinewidth": 0,
              "ticks": ""
             }
            },
            "type": "scattergl"
           }
          ],
          "scattermapbox": [
           {
            "marker": {
             "colorbar": {
              "outlinewidth": 0,
              "ticks": ""
             }
            },
            "type": "scattermapbox"
           }
          ],
          "scatterpolar": [
           {
            "marker": {
             "colorbar": {
              "outlinewidth": 0,
              "ticks": ""
             }
            },
            "type": "scatterpolar"
           }
          ],
          "scatterpolargl": [
           {
            "marker": {
             "colorbar": {
              "outlinewidth": 0,
              "ticks": ""
             }
            },
            "type": "scatterpolargl"
           }
          ],
          "scatterternary": [
           {
            "marker": {
             "colorbar": {
              "outlinewidth": 0,
              "ticks": ""
             }
            },
            "type": "scatterternary"
           }
          ],
          "surface": [
           {
            "colorbar": {
             "outlinewidth": 0,
             "ticks": ""
            },
            "colorscale": [
             [
              0,
              "#0d0887"
             ],
             [
              0.1111111111111111,
              "#46039f"
             ],
             [
              0.2222222222222222,
              "#7201a8"
             ],
             [
              0.3333333333333333,
              "#9c179e"
             ],
             [
              0.4444444444444444,
              "#bd3786"
             ],
             [
              0.5555555555555556,
              "#d8576b"
             ],
             [
              0.6666666666666666,
              "#ed7953"
             ],
             [
              0.7777777777777778,
              "#fb9f3a"
             ],
             [
              0.8888888888888888,
              "#fdca26"
             ],
             [
              1,
              "#f0f921"
             ]
            ],
            "type": "surface"
           }
          ],
          "table": [
           {
            "cells": {
             "fill": {
              "color": "#EBF0F8"
             },
             "line": {
              "color": "white"
             }
            },
            "header": {
             "fill": {
              "color": "#C8D4E3"
             },
             "line": {
              "color": "white"
             }
            },
            "type": "table"
           }
          ]
         },
         "layout": {
          "annotationdefaults": {
           "arrowcolor": "#2a3f5f",
           "arrowhead": 0,
           "arrowwidth": 1
          },
          "coloraxis": {
           "colorbar": {
            "outlinewidth": 0,
            "ticks": ""
           }
          },
          "colorscale": {
           "diverging": [
            [
             0,
             "#8e0152"
            ],
            [
             0.1,
             "#c51b7d"
            ],
            [
             0.2,
             "#de77ae"
            ],
            [
             0.3,
             "#f1b6da"
            ],
            [
             0.4,
             "#fde0ef"
            ],
            [
             0.5,
             "#f7f7f7"
            ],
            [
             0.6,
             "#e6f5d0"
            ],
            [
             0.7,
             "#b8e186"
            ],
            [
             0.8,
             "#7fbc41"
            ],
            [
             0.9,
             "#4d9221"
            ],
            [
             1,
             "#276419"
            ]
           ],
           "sequential": [
            [
             0,
             "#0d0887"
            ],
            [
             0.1111111111111111,
             "#46039f"
            ],
            [
             0.2222222222222222,
             "#7201a8"
            ],
            [
             0.3333333333333333,
             "#9c179e"
            ],
            [
             0.4444444444444444,
             "#bd3786"
            ],
            [
             0.5555555555555556,
             "#d8576b"
            ],
            [
             0.6666666666666666,
             "#ed7953"
            ],
            [
             0.7777777777777778,
             "#fb9f3a"
            ],
            [
             0.8888888888888888,
             "#fdca26"
            ],
            [
             1,
             "#f0f921"
            ]
           ],
           "sequentialminus": [
            [
             0,
             "#0d0887"
            ],
            [
             0.1111111111111111,
             "#46039f"
            ],
            [
             0.2222222222222222,
             "#7201a8"
            ],
            [
             0.3333333333333333,
             "#9c179e"
            ],
            [
             0.4444444444444444,
             "#bd3786"
            ],
            [
             0.5555555555555556,
             "#d8576b"
            ],
            [
             0.6666666666666666,
             "#ed7953"
            ],
            [
             0.7777777777777778,
             "#fb9f3a"
            ],
            [
             0.8888888888888888,
             "#fdca26"
            ],
            [
             1,
             "#f0f921"
            ]
           ]
          },
          "colorway": [
           "#636efa",
           "#EF553B",
           "#00cc96",
           "#ab63fa",
           "#FFA15A",
           "#19d3f3",
           "#FF6692",
           "#B6E880",
           "#FF97FF",
           "#FECB52"
          ],
          "font": {
           "color": "#2a3f5f"
          },
          "geo": {
           "bgcolor": "white",
           "lakecolor": "white",
           "landcolor": "#E5ECF6",
           "showlakes": true,
           "showland": true,
           "subunitcolor": "white"
          },
          "hoverlabel": {
           "align": "left"
          },
          "hovermode": "closest",
          "mapbox": {
           "style": "light"
          },
          "paper_bgcolor": "white",
          "plot_bgcolor": "#E5ECF6",
          "polar": {
           "angularaxis": {
            "gridcolor": "white",
            "linecolor": "white",
            "ticks": ""
           },
           "bgcolor": "#E5ECF6",
           "radialaxis": {
            "gridcolor": "white",
            "linecolor": "white",
            "ticks": ""
           }
          },
          "scene": {
           "xaxis": {
            "backgroundcolor": "#E5ECF6",
            "gridcolor": "white",
            "gridwidth": 2,
            "linecolor": "white",
            "showbackground": true,
            "ticks": "",
            "zerolinecolor": "white"
           },
           "yaxis": {
            "backgroundcolor": "#E5ECF6",
            "gridcolor": "white",
            "gridwidth": 2,
            "linecolor": "white",
            "showbackground": true,
            "ticks": "",
            "zerolinecolor": "white"
           },
           "zaxis": {
            "backgroundcolor": "#E5ECF6",
            "gridcolor": "white",
            "gridwidth": 2,
            "linecolor": "white",
            "showbackground": true,
            "ticks": "",
            "zerolinecolor": "white"
           }
          },
          "shapedefaults": {
           "line": {
            "color": "#2a3f5f"
           }
          },
          "ternary": {
           "aaxis": {
            "gridcolor": "white",
            "linecolor": "white",
            "ticks": ""
           },
           "baxis": {
            "gridcolor": "white",
            "linecolor": "white",
            "ticks": ""
           },
           "bgcolor": "#E5ECF6",
           "caxis": {
            "gridcolor": "white",
            "linecolor": "white",
            "ticks": ""
           }
          },
          "title": {
           "x": 0.05
          },
          "xaxis": {
           "automargin": true,
           "gridcolor": "white",
           "linecolor": "white",
           "ticks": "",
           "title": {
            "standoff": 15
           },
           "zerolinecolor": "white",
           "zerolinewidth": 2
          },
          "yaxis": {
           "automargin": true,
           "gridcolor": "white",
           "linecolor": "white",
           "ticks": "",
           "title": {
            "standoff": 15
           },
           "zerolinecolor": "white",
           "zerolinewidth": 2
          }
         }
        },
        "xaxis": {
         "anchor": "y",
         "domain": [
          0,
          1
         ],
         "title": {
          "text": "loggdp"
         }
        },
        "yaxis": {
         "anchor": "x",
         "domain": [
          0,
          1
         ],
         "title": {
          "text": "growth rate"
         }
        }
       }
      },
      "text/html": [
       "<div>\n",
       "        \n",
       "        \n",
       "            <div id=\"9fb104f2-5b15-45de-be28-bb0f412436e0\" class=\"plotly-graph-div\" style=\"height:600px; width:100%;\"></div>\n",
       "            <script type=\"text/javascript\">\n",
       "                require([\"plotly\"], function(Plotly) {\n",
       "                    window.PLOTLYENV=window.PLOTLYENV || {};\n",
       "                    \n",
       "                if (document.getElementById(\"9fb104f2-5b15-45de-be28-bb0f412436e0\")) {\n",
       "                    Plotly.newPlot(\n",
       "                        '9fb104f2-5b15-45de-be28-bb0f412436e0',\n",
       "                        [{\"hoverlabel\": {\"namelength\": 0}, \"hovertemplate\": \"<b>%{hovertext}</b><br><br>ccode=BHR<br>loggdp=%{x}<br>growth rate=%{y}<br>pop=%{marker.size}\", \"hovertext\": [\"BHR\"], \"legendgroup\": \"ccode=BHR\", \"marker\": {\"color\": \"#636efa\", \"size\": [0.157], \"sizemode\": \"area\", \"sizeref\": 0.18529722222222222, \"symbol\": \"circle\"}, \"mode\": \"markers\", \"name\": \"ccode=BHR\", \"showlegend\": true, \"type\": \"scatter\", \"x\": [null], \"xaxis\": \"x\", \"y\": [null], \"yaxis\": \"y\"}, {\"hoverlabel\": {\"namelength\": 0}, \"hovertemplate\": \"<b>%{hovertext}</b><br><br>ccode=COD<br>loggdp=%{x}<br>growth rate=%{y}<br>pop=%{marker.size}\", \"hovertext\": [\"COD\"], \"legendgroup\": \"ccode=COD\", \"marker\": {\"color\": \"#EF553B\", \"size\": [16.61], \"sizemode\": \"area\", \"sizeref\": 0.18529722222222222, \"symbol\": \"circle\"}, \"mode\": \"markers\", \"name\": \"ccode=COD\", \"showlegend\": true, \"type\": \"scatter\", \"x\": [7.6586995582682995], \"xaxis\": \"x\", \"y\": [-1.7832], \"yaxis\": \"y\"}, {\"hoverlabel\": {\"namelength\": 0}, \"hovertemplate\": \"<b>%{hovertext}</b><br><br>ccode=MYS<br>loggdp=%{x}<br>growth rate=%{y}<br>pop=%{marker.size}\", \"hovertext\": [\"MYS\"], \"legendgroup\": \"ccode=MYS\", \"marker\": {\"color\": \"#00cc96\", \"size\": [8.427999999999999], \"sizemode\": \"area\", \"sizeref\": 0.18529722222222222, \"symbol\": \"circle\"}, \"mode\": \"markers\", \"name\": \"ccode=MYS\", \"showlegend\": true, \"type\": \"scatter\", \"x\": [7.8160138391590275], \"xaxis\": \"x\", \"y\": [4.0662], \"yaxis\": \"y\"}, {\"hoverlabel\": {\"namelength\": 0}, \"hovertemplate\": \"<b>%{hovertext}</b><br><br>ccode=SYC<br>loggdp=%{x}<br>growth rate=%{y}<br>pop=%{marker.size}\", \"hovertext\": [\"SYC\"], \"legendgroup\": \"ccode=SYC\", \"marker\": {\"color\": \"#ab63fa\", \"size\": [0.042], \"sizemode\": \"area\", \"sizeref\": 0.18529722222222222, \"symbol\": \"circle\"}, \"mode\": \"markers\", \"name\": \"ccode=SYC\", \"showlegend\": true, \"type\": \"scatter\", \"x\": [8.716535732544495], \"xaxis\": \"x\", \"y\": [2.4574], \"yaxis\": \"y\"}, {\"hoverlabel\": {\"namelength\": 0}, \"hovertemplate\": \"<b>%{hovertext}</b><br><br>ccode=JOR<br>loggdp=%{x}<br>growth rate=%{y}<br>pop=%{marker.size}\", \"hovertext\": [\"JOR\"], \"legendgroup\": \"ccode=JOR\", \"marker\": {\"color\": \"#FFA15A\", \"size\": [0.8490000000000001], \"sizemode\": \"area\", \"sizeref\": 0.18529722222222222, \"symbol\": \"circle\"}, \"mode\": \"markers\", \"name\": \"ccode=JOR\", \"showlegend\": true, \"type\": \"scatter\", \"x\": [7.872073979866873], \"xaxis\": \"x\", \"y\": [2.8144], \"yaxis\": \"y\"}, {\"hoverlabel\": {\"namelength\": 0}, \"hovertemplate\": \"<b>%{hovertext}</b><br><br>ccode=NZL<br>loggdp=%{x}<br>growth rate=%{y}<br>pop=%{marker.size}\", \"hovertext\": [\"NZL\"], \"legendgroup\": \"ccode=NZL\", \"marker\": {\"color\": \"#19d3f3\", \"size\": [2.372], \"sizemode\": \"area\", \"sizeref\": 0.18529722222222222, \"symbol\": \"circle\"}, \"mode\": \"markers\", \"name\": \"ccode=NZL\", \"showlegend\": true, \"type\": \"scatter\", \"x\": [9.447544606938727], \"xaxis\": \"x\", \"y\": [1.7927], \"yaxis\": \"y\"}, {\"hoverlabel\": {\"namelength\": 0}, \"hovertemplate\": \"<b>%{hovertext}</b><br><br>ccode=PRK<br>loggdp=%{x}<br>growth rate=%{y}<br>pop=%{marker.size}\", \"hovertext\": [\"PRK\"], \"legendgroup\": \"ccode=PRK\", \"marker\": {\"color\": \"#FF6692\", \"size\": [10.448], \"sizemode\": \"area\", \"sizeref\": 0.18529722222222222, \"symbol\": \"circle\"}, \"mode\": \"markers\", \"name\": \"ccode=PRK\", \"showlegend\": true, \"type\": \"scatter\", \"x\": [6.694562058521095], \"xaxis\": \"x\", \"y\": [1.4403], \"yaxis\": \"y\"}, {\"hoverlabel\": {\"namelength\": 0}, \"hovertemplate\": \"<b>%{hovertext}</b><br><br>ccode=MLI<br>loggdp=%{x}<br>growth rate=%{y}<br>pop=%{marker.size}\", \"hovertext\": [\"MLI\"], \"legendgroup\": \"ccode=MLI\", \"marker\": {\"color\": \"#B6E880\", \"size\": [4.495], \"sizemode\": \"area\", \"sizeref\": 0.18529722222222222, \"symbol\": \"circle\"}, \"mode\": \"markers\", \"name\": \"ccode=MLI\", \"showlegend\": true, \"type\": \"scatter\", \"x\": [7.059617628291383], \"xaxis\": \"x\", \"y\": [0.488], \"yaxis\": \"y\"}, {\"hoverlabel\": {\"namelength\": 0}, \"hovertemplate\": \"<b>%{hovertext}</b><br><br>ccode=URY<br>loggdp=%{x}<br>growth rate=%{y}<br>pop=%{marker.size}\", \"hovertext\": [\"URY\"], \"legendgroup\": \"ccode=URY\", \"marker\": {\"color\": \"#FF97FF\", \"size\": [2.531], \"sizemode\": \"area\", \"sizeref\": 0.18529722222222222, \"symbol\": \"circle\"}, \"mode\": \"markers\", \"name\": \"ccode=URY\", \"showlegend\": true, \"type\": \"scatter\", \"x\": [8.834482608620677], \"xaxis\": \"x\", \"y\": [1.9595], \"yaxis\": \"y\"}, {\"hoverlabel\": {\"namelength\": 0}, \"hovertemplate\": \"<b>%{hovertext}</b><br><br>ccode=BWA<br>loggdp=%{x}<br>growth rate=%{y}<br>pop=%{marker.size}\", \"hovertext\": [\"BWA\"], \"legendgroup\": \"ccode=BWA\", \"marker\": {\"color\": \"#FECB52\", \"size\": [0.49700000000000005], \"sizemode\": \"area\", \"sizeref\": 0.18529722222222222, \"symbol\": \"circle\"}, \"mode\": \"markers\", \"name\": \"ccode=BWA\", \"showlegend\": true, \"type\": \"scatter\", \"x\": [7.090076835776092], \"xaxis\": \"x\", \"y\": [4.7754], \"yaxis\": \"y\"}, {\"hoverlabel\": {\"namelength\": 0}, \"hovertemplate\": \"<b>%{hovertext}</b><br><br>ccode=BFA<br>loggdp=%{x}<br>growth rate=%{y}<br>pop=%{marker.size}\", \"hovertext\": [\"BFA\"], \"legendgroup\": \"ccode=BFA\", \"marker\": {\"color\": \"#636efa\", \"size\": [4.8660000000000005], \"sizemode\": \"area\", \"sizeref\": 0.18529722222222222, \"symbol\": \"circle\"}, \"mode\": \"markers\", \"name\": \"ccode=BFA\", \"showlegend\": true, \"type\": \"scatter\", \"x\": [7.350516171833998], \"xaxis\": \"x\", \"y\": [-0.0531], \"yaxis\": \"y\"}, {\"hoverlabel\": {\"namelength\": 0}, \"hovertemplate\": \"<b>%{hovertext}</b><br><br>ccode=TTO<br>loggdp=%{x}<br>growth rate=%{y}<br>pop=%{marker.size}\", \"hovertext\": [\"TTO\"], \"legendgroup\": \"ccode=TTO\", \"marker\": {\"color\": \"#EF553B\", \"size\": [0.841], \"sizemode\": \"area\", \"sizeref\": 0.18529722222222222, \"symbol\": \"circle\"}, \"mode\": \"markers\", \"name\": \"ccode=TTO\", \"showlegend\": true, \"type\": \"scatter\", \"x\": [8.958411469230219], \"xaxis\": \"x\", \"y\": [2.5968], \"yaxis\": \"y\"}, {\"hoverlabel\": {\"namelength\": 0}, \"hovertemplate\": \"<b>%{hovertext}</b><br><br>ccode=MMR<br>loggdp=%{x}<br>growth rate=%{y}<br>pop=%{marker.size}\", \"hovertext\": [\"MMR\"], \"legendgroup\": \"ccode=MMR\", \"marker\": {\"color\": \"#00cc96\", \"size\": [22.839000000000002], \"sizemode\": \"area\", \"sizeref\": 0.18529722222222222, \"symbol\": \"circle\"}, \"mode\": \"markers\", \"name\": \"ccode=MMR\", \"showlegend\": true, \"type\": \"scatter\", \"x\": [6.672032945461067], \"xaxis\": \"x\", \"y\": [3.6564], \"yaxis\": \"y\"}, {\"hoverlabel\": {\"namelength\": 0}, \"hovertemplate\": \"<b>%{hovertext}</b><br><br>ccode=CZE<br>loggdp=%{x}<br>growth rate=%{y}<br>pop=%{marker.size}\", \"hovertext\": [\"CZE\"], \"legendgroup\": \"ccode=CZE\", \"marker\": {\"color\": \"#ab63fa\", \"size\": [9.66], \"sizemode\": \"area\", \"sizeref\": 0.18529722222222222, \"symbol\": \"circle\"}, \"mode\": \"markers\", \"name\": \"ccode=CZE\", \"showlegend\": true, \"type\": \"scatter\", \"x\": [null], \"xaxis\": \"x\", \"y\": [null], \"yaxis\": \"y\"}, {\"hoverlabel\": {\"namelength\": 0}, \"hovertemplate\": \"<b>%{hovertext}</b><br><br>ccode=HUN<br>loggdp=%{x}<br>growth rate=%{y}<br>pop=%{marker.size}\", \"hovertext\": [\"HUN\"], \"legendgroup\": \"ccode=HUN\", \"marker\": {\"color\": \"#FFA15A\", \"size\": [9.984], \"sizemode\": \"area\", \"sizeref\": 0.18529722222222222, \"symbol\": \"circle\"}, \"mode\": \"markers\", \"name\": \"ccode=HUN\", \"showlegend\": true, \"type\": \"scatter\", \"x\": [8.413387022690648], \"xaxis\": \"x\", \"y\": [3.0448], \"yaxis\": \"y\"}, {\"hoverlabel\": {\"namelength\": 0}, \"hovertemplate\": \"<b>%{hovertext}</b><br><br>ccode=TWN<br>loggdp=%{x}<br>growth rate=%{y}<br>pop=%{marker.size}\", \"hovertext\": [\"TWN\"], \"legendgroup\": \"ccode=TWN\", \"marker\": {\"color\": \"#19d3f3\", \"size\": [10.860999999999999], \"sizemode\": \"area\", \"sizeref\": 0.18529722222222222, \"symbol\": \"circle\"}, \"mode\": \"markers\", \"name\": \"ccode=TWN\", \"showlegend\": true, \"type\": \"scatter\", \"x\": [7.656810091480378], \"xaxis\": \"x\", \"y\": [5.6722], \"yaxis\": \"y\"}, {\"hoverlabel\": {\"namelength\": 0}, \"hovertemplate\": \"<b>%{hovertext}</b><br><br>ccode=SGP<br>loggdp=%{x}<br>growth rate=%{y}<br>pop=%{marker.size}\", \"hovertext\": [\"SGP\"], \"legendgroup\": \"ccode=SGP\", \"marker\": {\"color\": \"#FF6692\", \"size\": [1.646], \"sizemode\": \"area\", \"sizeref\": 0.18529722222222222, \"symbol\": \"circle\"}, \"mode\": \"markers\", \"name\": \"ccode=SGP\", \"showlegend\": true, \"type\": \"scatter\", \"x\": [7.768533300926033], \"xaxis\": \"x\", \"y\": [6.3913], \"yaxis\": \"y\"}, {\"hoverlabel\": {\"namelength\": 0}, \"hovertemplate\": \"<b>%{hovertext}</b><br><br>ccode=MNE<br>loggdp=%{x}<br>growth rate=%{y}<br>pop=%{marker.size}\", \"hovertext\": [\"MNE\"], \"legendgroup\": \"ccode=MNE\", \"marker\": {\"color\": \"#B6E880\", \"size\": [0.461], \"sizemode\": \"area\", \"sizeref\": 0.18529722222222222, \"symbol\": \"circle\"}, \"mode\": \"markers\", \"name\": \"ccode=MNE\", \"showlegend\": true, \"type\": \"scatter\", \"x\": [8.37539918579835], \"xaxis\": \"x\", \"y\": [2.5502], \"yaxis\": \"y\"}, {\"hoverlabel\": {\"namelength\": 0}, \"hovertemplate\": \"<b>%{hovertext}</b><br><br>ccode=SRB<br>loggdp=%{x}<br>growth rate=%{y}<br>pop=%{marker.size}\", \"hovertext\": [\"SRB\"], \"legendgroup\": \"ccode=SRB\", \"marker\": {\"color\": \"#FF97FF\", \"size\": [7.471], \"sizemode\": \"area\", \"sizeref\": 0.18529722222222222, \"symbol\": \"circle\"}, \"mode\": \"markers\", \"name\": \"ccode=SRB\", \"showlegend\": true, \"type\": \"scatter\", \"x\": [7.994294986415977], \"xaxis\": \"x\", \"y\": [2.8315], \"yaxis\": \"y\"}, {\"hoverlabel\": {\"namelength\": 0}, \"hovertemplate\": \"<b>%{hovertext}</b><br><br>ccode=LBY<br>loggdp=%{x}<br>growth rate=%{y}<br>pop=%{marker.size}\", \"hovertext\": [\"LBY\"], \"legendgroup\": \"ccode=LBY\", \"marker\": {\"color\": \"#FECB52\", \"size\": [1.338], \"sizemode\": \"area\", \"sizeref\": 0.18529722222222222, \"symbol\": \"circle\"}, \"mode\": \"markers\", \"name\": \"ccode=LBY\", \"showlegend\": true, \"type\": \"scatter\", \"x\": [8.756682421266532], \"xaxis\": \"x\", \"y\": [0.7937], \"yaxis\": \"y\"}, {\"hoverlabel\": {\"namelength\": 0}, \"hovertemplate\": \"<b>%{hovertext}</b><br><br>ccode=ZWE<br>loggdp=%{x}<br>growth rate=%{y}<br>pop=%{marker.size}\", \"hovertext\": [\"ZWE\"], \"legendgroup\": \"ccode=ZWE\", \"marker\": {\"color\": \"#636efa\", \"size\": [4.011], \"sizemode\": \"area\", \"sizeref\": 0.18529722222222222, \"symbol\": \"circle\"}, \"mode\": \"markers\", \"name\": \"ccode=ZWE\", \"showlegend\": true, \"type\": \"scatter\", \"x\": [7.904703913873747], \"xaxis\": \"x\", \"y\": [-0.7579], \"yaxis\": \"y\"}, {\"hoverlabel\": {\"namelength\": 0}, \"hovertemplate\": \"<b>%{hovertext}</b><br><br>ccode=LBN<br>loggdp=%{x}<br>growth rate=%{y}<br>pop=%{marker.size}\", \"hovertext\": [\"LBN\"], \"legendgroup\": \"ccode=LBN\", \"marker\": {\"color\": \"#EF553B\", \"size\": [1.786], \"sizemode\": \"area\", \"sizeref\": 0.18529722222222222, \"symbol\": \"circle\"}, \"mode\": \"markers\", \"name\": \"ccode=LBN\", \"showlegend\": true, \"type\": \"scatter\", \"x\": [9.128045129249353], \"xaxis\": \"x\", \"y\": [0.657], \"yaxis\": \"y\"}, {\"hoverlabel\": {\"namelength\": 0}, \"hovertemplate\": \"<b>%{hovertext}</b><br><br>ccode=ETH<br>loggdp=%{x}<br>growth rate=%{y}<br>pop=%{marker.size}\", \"hovertext\": [\"ETH\"], \"legendgroup\": \"ccode=ETH\", \"marker\": {\"color\": \"#00cc96\", \"size\": [25.783], \"sizemode\": \"area\", \"sizeref\": 0.18529722222222222, \"symbol\": \"circle\"}, \"mode\": \"markers\", \"name\": \"ccode=ETH\", \"showlegend\": true, \"type\": \"scatter\", \"x\": [6.620073206530356], \"xaxis\": \"x\", \"y\": [1.268], \"yaxis\": \"y\"}, {\"hoverlabel\": {\"namelength\": 0}, \"hovertemplate\": \"<b>%{hovertext}</b><br><br>ccode=EGY<br>loggdp=%{x}<br>growth rate=%{y}<br>pop=%{marker.size}\", \"hovertext\": [\"EGY\"], \"legendgroup\": \"ccode=EGY\", \"marker\": {\"color\": \"#ab63fa\", \"size\": [26.846999999999998], \"sizemode\": \"area\", \"sizeref\": 0.18529722222222222, \"symbol\": \"circle\"}, \"mode\": \"markers\", \"name\": \"ccode=EGY\", \"showlegend\": true, \"type\": \"scatter\", \"x\": [7.413970290190444], \"xaxis\": \"x\", \"y\": [3.5812], \"yaxis\": \"y\"}, {\"hoverlabel\": {\"namelength\": 0}, \"hovertemplate\": \"<b>%{hovertext}</b><br><br>ccode=FIN<br>loggdp=%{x}<br>growth rate=%{y}<br>pop=%{marker.size}\", \"hovertext\": [\"FIN\"], \"legendgroup\": \"ccode=FIN\", \"marker\": {\"color\": \"#FFA15A\", \"size\": [4.43], \"sizemode\": \"area\", \"sizeref\": 0.18529722222222222, \"symbol\": \"circle\"}, \"mode\": \"markers\", \"name\": \"ccode=FIN\", \"showlegend\": true, \"type\": \"scatter\", \"x\": [9.03931477492408], \"xaxis\": \"x\", \"y\": [2.8253], \"yaxis\": \"y\"}, {\"hoverlabel\": {\"namelength\": 0}, \"hovertemplate\": \"<b>%{hovertext}</b><br><br>ccode=SVN<br>loggdp=%{x}<br>growth rate=%{y}<br>pop=%{marker.size}\", \"hovertext\": [\"SVN\"], \"legendgroup\": \"ccode=SVN\", \"marker\": {\"color\": \"#19d3f3\", \"size\": [1.558], \"sizemode\": \"area\", \"sizeref\": 0.18529722222222222, \"symbol\": \"circle\"}, \"mode\": \"markers\", \"name\": \"ccode=SVN\", \"showlegend\": true, \"type\": \"scatter\", \"x\": [8.795430805040018], \"xaxis\": \"x\", \"y\": [2.6743], \"yaxis\": \"y\"}, {\"hoverlabel\": {\"namelength\": 0}, \"hovertemplate\": \"<b>%{hovertext}</b><br><br>ccode=BLR<br>loggdp=%{x}<br>growth rate=%{y}<br>pop=%{marker.size}\", \"hovertext\": [\"BLR\"], \"legendgroup\": \"ccode=BLR\", \"marker\": {\"color\": \"#FF6692\", \"size\": [8.168], \"sizemode\": \"area\", \"sizeref\": 0.18529722222222222, \"symbol\": \"circle\"}, \"mode\": \"markers\", \"name\": \"ccode=BLR\", \"showlegend\": true, \"type\": \"scatter\", \"x\": [null], \"xaxis\": \"x\", \"y\": [null], \"yaxis\": \"y\"}, {\"hoverlabel\": {\"namelength\": 0}, \"hovertemplate\": \"<b>%{hovertext}</b><br><br>ccode=ESP<br>loggdp=%{x}<br>growth rate=%{y}<br>pop=%{marker.size}\", \"hovertext\": [\"ESP\"], \"legendgroup\": \"ccode=ESP\", \"marker\": {\"color\": \"#B6E880\", \"size\": [30.641], \"sizemode\": \"area\", \"sizeref\": 0.18529722222222222, \"symbol\": \"circle\"}, \"mode\": \"markers\", \"name\": \"ccode=ESP\", \"showlegend\": true, \"type\": \"scatter\", \"x\": [8.607399459302387], \"xaxis\": \"x\", \"y\": [3.3425], \"yaxis\": \"y\"}, {\"hoverlabel\": {\"namelength\": 0}, \"hovertemplate\": \"<b>%{hovertext}</b><br><br>ccode=ALB<br>loggdp=%{x}<br>growth rate=%{y}<br>pop=%{marker.size}\", \"hovertext\": [\"ALB\"], \"legendgroup\": \"ccode=ALB\", \"marker\": {\"color\": \"#FF97FF\", \"size\": [1.6230000000000002], \"sizemode\": \"area\", \"sizeref\": 0.18529722222222222, \"symbol\": \"circle\"}, \"mode\": \"markers\", \"name\": \"ccode=ALB\", \"showlegend\": true, \"type\": \"scatter\", \"x\": [7.669495251007694], \"xaxis\": \"x\", \"y\": [3.0241], \"yaxis\": \"y\"}, {\"hoverlabel\": {\"namelength\": 0}, \"hovertemplate\": \"<b>%{hovertext}</b><br><br>ccode=GMB<br>loggdp=%{x}<br>growth rate=%{y}<br>pop=%{marker.size}\", \"hovertext\": [\"GMB\"], \"legendgroup\": \"ccode=GMB\", \"marker\": {\"color\": \"#FECB52\", \"size\": [0.35200000000000004], \"sizemode\": \"area\", \"sizeref\": 0.18529722222222222, \"symbol\": \"circle\"}, \"mode\": \"markers\", \"name\": \"ccode=GMB\", \"showlegend\": true, \"type\": \"scatter\", \"x\": [7.597897950521784], \"xaxis\": \"x\", \"y\": [-0.0884], \"yaxis\": \"y\"}, {\"hoverlabel\": {\"namelength\": 0}, \"hovertemplate\": \"<b>%{hovertext}</b><br><br>ccode=KOR<br>loggdp=%{x}<br>growth rate=%{y}<br>pop=%{marker.size}\", \"hovertext\": [\"KOR\"], \"legendgroup\": \"ccode=KOR\", \"marker\": {\"color\": \"#636efa\", \"size\": [24.784000000000002], \"sizemode\": \"area\", \"sizeref\": 0.18529722222222222, \"symbol\": \"circle\"}, \"mode\": \"markers\", \"name\": \"ccode=KOR\", \"showlegend\": true, \"type\": \"scatter\", \"x\": [7.304515946460155], \"xaxis\": \"x\", \"y\": [5.9976], \"yaxis\": \"y\"}, {\"hoverlabel\": {\"namelength\": 0}, \"hovertemplate\": \"<b>%{hovertext}</b><br><br>ccode=GNQ<br>loggdp=%{x}<br>growth rate=%{y}<br>pop=%{marker.size}\", \"hovertext\": [\"GNQ\"], \"legendgroup\": \"ccode=GNQ\", \"marker\": {\"color\": \"#EF553B\", \"size\": [0.244], \"sizemode\": \"area\", \"sizeref\": 0.18529722222222222, \"symbol\": \"circle\"}, \"mode\": \"markers\", \"name\": \"ccode=GNQ\", \"showlegend\": true, \"type\": \"scatter\", \"x\": [7.047517221357296], \"xaxis\": \"x\", \"y\": [6.7735], \"yaxis\": \"y\"}, {\"hoverlabel\": {\"namelength\": 0}, \"hovertemplate\": \"<b>%{hovertext}</b><br><br>ccode=MDG<br>loggdp=%{x}<br>growth rate=%{y}<br>pop=%{marker.size}\", \"hovertext\": [\"MDG\"], \"legendgroup\": \"ccode=MDG\", \"marker\": {\"color\": \"#00cc96\", \"size\": [5.482], \"sizemode\": \"area\", \"sizeref\": 0.18529722222222222, \"symbol\": \"circle\"}, \"mode\": \"markers\", \"name\": \"ccode=MDG\", \"showlegend\": true, \"type\": \"scatter\", \"x\": [7.02197642307216], \"xaxis\": \"x\", \"y\": [0.2488], \"yaxis\": \"y\"}, {\"hoverlabel\": {\"namelength\": 0}, \"hovertemplate\": \"<b>%{hovertext}</b><br><br>ccode=LCA<br>loggdp=%{x}<br>growth rate=%{y}<br>pop=%{marker.size}\", \"hovertext\": [\"LCA\"], \"legendgroup\": \"ccode=LCA\", \"marker\": {\"color\": \"#ab63fa\", \"size\": [0.08800000000000001], \"sizemode\": \"area\", \"sizeref\": 0.18529722222222222, \"symbol\": \"circle\"}, \"mode\": \"markers\", \"name\": \"ccode=LCA\", \"showlegend\": true, \"type\": \"scatter\", \"x\": [7.903596289614301], \"xaxis\": \"x\", \"y\": [2.5473], \"yaxis\": \"y\"}, {\"hoverlabel\": {\"namelength\": 0}, \"hovertemplate\": \"<b>%{hovertext}</b><br><br>ccode=MRT<br>loggdp=%{x}<br>growth rate=%{y}<br>pop=%{marker.size}\", \"hovertext\": [\"MRT\"], \"legendgroup\": \"ccode=MRT\", \"marker\": {\"color\": \"#FFA15A\", \"size\": [1.117], \"sizemode\": \"area\", \"sizeref\": 0.18529722222222222, \"symbol\": \"circle\"}, \"mode\": \"markers\", \"name\": \"ccode=MRT\", \"showlegend\": true, \"type\": \"scatter\", \"x\": [6.9440872082295275], \"xaxis\": \"x\", \"y\": [2.1992], \"yaxis\": \"y\"}, {\"hoverlabel\": {\"namelength\": 0}, \"hovertemplate\": \"<b>%{hovertext}</b><br><br>ccode=TCD<br>loggdp=%{x}<br>growth rate=%{y}<br>pop=%{marker.size}\", \"hovertext\": [\"TCD\"], \"legendgroup\": \"ccode=TCD\", \"marker\": {\"color\": \"#19d3f3\", \"size\": [3.042], \"sizemode\": \"area\", \"sizeref\": 0.18529722222222222, \"symbol\": \"circle\"}, \"mode\": \"markers\", \"name\": \"ccode=TCD\", \"showlegend\": true, \"type\": \"scatter\", \"x\": [7.301147805856032], \"xaxis\": \"x\", \"y\": [0.8026], \"yaxis\": \"y\"}, {\"hoverlabel\": {\"namelength\": 0}, \"hovertemplate\": \"<b>%{hovertext}</b><br><br>ccode=MNG<br>loggdp=%{x}<br>growth rate=%{y}<br>pop=%{marker.size}\", \"hovertext\": [\"MNG\"], \"legendgroup\": \"ccode=MNG\", \"marker\": {\"color\": \"#FF6692\", \"size\": [0.955], \"sizemode\": \"area\", \"sizeref\": 0.18529722222222222, \"symbol\": \"circle\"}, \"mode\": \"markers\", \"name\": \"ccode=MNG\", \"showlegend\": true, \"type\": \"scatter\", \"x\": [6.802394763324311], \"xaxis\": \"x\", \"y\": [4.7509], \"yaxis\": \"y\"}, {\"hoverlabel\": {\"namelength\": 0}, \"hovertemplate\": \"<b>%{hovertext}</b><br><br>ccode=TUR<br>loggdp=%{x}<br>growth rate=%{y}<br>pop=%{marker.size}\", \"hovertext\": [\"TUR\"], \"legendgroup\": \"ccode=TUR\", \"marker\": {\"color\": \"#B6E880\", \"size\": [28.217], \"sizemode\": \"area\", \"sizeref\": 0.18529722222222222, \"symbol\": \"circle\"}, \"mode\": \"markers\", \"name\": \"ccode=TUR\", \"showlegend\": true, \"type\": \"scatter\", \"x\": [8.025843344150903], \"xaxis\": \"x\", \"y\": [3.5594], \"yaxis\": \"y\"}, {\"hoverlabel\": {\"namelength\": 0}, \"hovertemplate\": \"<b>%{hovertext}</b><br><br>ccode=KEN<br>loggdp=%{x}<br>growth rate=%{y}<br>pop=%{marker.size}\", \"hovertext\": [\"KEN\"], \"legendgroup\": \"ccode=KEN\", \"marker\": {\"color\": \"#FF97FF\", \"size\": [8.157], \"sizemode\": \"area\", \"sizeref\": 0.18529722222222222, \"symbol\": \"circle\"}, \"mode\": \"markers\", \"name\": \"ccode=KEN\", \"showlegend\": true, \"type\": \"scatter\", \"x\": [7.241366283322318], \"xaxis\": \"x\", \"y\": [1.4167], \"yaxis\": \"y\"}, {\"hoverlabel\": {\"namelength\": 0}, \"hovertemplate\": \"<b>%{hovertext}</b><br><br>ccode=VEN<br>loggdp=%{x}<br>growth rate=%{y}<br>pop=%{marker.size}\", \"hovertext\": [\"VEN\"], \"legendgroup\": \"ccode=VEN\", \"marker\": {\"color\": \"#FECB52\", \"size\": [7.556], \"sizemode\": \"area\", \"sizeref\": 0.18529722222222222, \"symbol\": \"circle\"}, \"mode\": \"markers\", \"name\": \"ccode=VEN\", \"showlegend\": true, \"type\": \"scatter\", \"x\": [8.649448770536708], \"xaxis\": \"x\", \"y\": [2.104], \"yaxis\": \"y\"}, {\"hoverlabel\": {\"namelength\": 0}, \"hovertemplate\": \"<b>%{hovertext}</b><br><br>ccode=KGZ<br>loggdp=%{x}<br>growth rate=%{y}<br>pop=%{marker.size}\", \"hovertext\": [\"KGZ\"], \"legendgroup\": \"ccode=KGZ\", \"marker\": {\"color\": \"#636efa\", \"size\": [2.171], \"sizemode\": \"area\", \"sizeref\": 0.18529722222222222, \"symbol\": \"circle\"}, \"mode\": \"markers\", \"name\": \"ccode=KGZ\", \"showlegend\": true, \"type\": \"scatter\", \"x\": [null], \"xaxis\": \"x\", \"y\": [null], \"yaxis\": \"y\"}, {\"hoverlabel\": {\"namelength\": 0}, \"hovertemplate\": \"<b>%{hovertext}</b><br><br>ccode=UGA<br>loggdp=%{x}<br>growth rate=%{y}<br>pop=%{marker.size}\", \"hovertext\": [\"UGA\"], \"legendgroup\": \"ccode=UGA\", \"marker\": {\"color\": \"#EF553B\", \"size\": [7.2620000000000005], \"sizemode\": \"area\", \"sizeref\": 0.18529722222222222, \"symbol\": \"circle\"}, \"mode\": \"markers\", \"name\": \"ccode=UGA\", \"showlegend\": true, \"type\": \"scatter\", \"x\": [7.098375638590786], \"xaxis\": \"x\", \"y\": [0.7924], \"yaxis\": \"y\"}, {\"hoverlabel\": {\"namelength\": 0}, \"hovertemplate\": \"<b>%{hovertext}</b><br><br>ccode=LBR<br>loggdp=%{x}<br>growth rate=%{y}<br>pop=%{marker.size}\", \"hovertext\": [\"LBR\"], \"legendgroup\": \"ccode=LBR\", \"marker\": {\"color\": \"#00cc96\", \"size\": [1.055], \"sizemode\": \"area\", \"sizeref\": 0.18529722222222222, \"symbol\": \"circle\"}, \"mode\": \"markers\", \"name\": \"ccode=LBR\", \"showlegend\": true, \"type\": \"scatter\", \"x\": [6.787844982309579], \"xaxis\": \"x\", \"y\": [-0.1544], \"yaxis\": \"y\"}, {\"hoverlabel\": {\"namelength\": 0}, \"hovertemplate\": \"<b>%{hovertext}</b><br><br>ccode=PAN<br>loggdp=%{x}<br>growth rate=%{y}<br>pop=%{marker.size}\", \"hovertext\": [\"PAN\"], \"legendgroup\": \"ccode=PAN\", \"marker\": {\"color\": \"#ab63fa\", \"size\": [1.148], \"sizemode\": \"area\", \"sizeref\": 0.18529722222222222, \"symbol\": \"circle\"}, \"mode\": \"markers\", \"name\": \"ccode=PAN\", \"showlegend\": true, \"type\": \"scatter\", \"x\": [7.77485576666552], \"xaxis\": \"x\", \"y\": [4.0146], \"yaxis\": \"y\"}, {\"hoverlabel\": {\"namelength\": 0}, \"hovertemplate\": \"<b>%{hovertext}</b><br><br>ccode=AGO<br>loggdp=%{x}<br>growth rate=%{y}<br>pop=%{marker.size}\", \"hovertext\": [\"AGO\"], \"legendgroup\": \"ccode=AGO\", \"marker\": {\"color\": \"#FFA15A\", \"size\": [4.797], \"sizemode\": \"area\", \"sizeref\": 0.18529722222222222, \"symbol\": \"circle\"}, \"mode\": \"markers\", \"name\": \"ccode=AGO\", \"showlegend\": true, \"type\": \"scatter\", \"x\": [null], \"xaxis\": \"x\", \"y\": [null], \"yaxis\": \"y\"}, {\"hoverlabel\": {\"namelength\": 0}, \"hovertemplate\": \"<b>%{hovertext}</b><br><br>ccode=KAZ<br>loggdp=%{x}<br>growth rate=%{y}<br>pop=%{marker.size}\", \"hovertext\": [\"KAZ\"], \"legendgroup\": \"ccode=KAZ\", \"marker\": {\"color\": \"#19d3f3\", \"size\": [9.982000000000001], \"sizemode\": \"area\", \"sizeref\": 0.18529722222222222, \"symbol\": \"circle\"}, \"mode\": \"markers\", \"name\": \"ccode=KAZ\", \"showlegend\": true, \"type\": \"scatter\", \"x\": [null], \"xaxis\": \"x\", \"y\": [null], \"yaxis\": \"y\"}, {\"hoverlabel\": {\"namelength\": 0}, \"hovertemplate\": \"<b>%{hovertext}</b><br><br>ccode=SWZ<br>loggdp=%{x}<br>growth rate=%{y}<br>pop=%{marker.size}\", \"hovertext\": [\"SWZ\"], \"legendgroup\": \"ccode=SWZ\", \"marker\": {\"color\": \"#FF6692\", \"size\": [0.35200000000000004], \"sizemode\": \"area\", \"sizeref\": 0.18529722222222222, \"symbol\": \"circle\"}, \"mode\": \"markers\", \"name\": \"ccode=SWZ\", \"showlegend\": true, \"type\": \"scatter\", \"x\": [6.862757913051401], \"xaxis\": \"x\", \"y\": [3.9352], \"yaxis\": \"y\"}, {\"hoverlabel\": {\"namelength\": 0}, \"hovertemplate\": \"<b>%{hovertext}</b><br><br>ccode=DNK<br>loggdp=%{x}<br>growth rate=%{y}<br>pop=%{marker.size}\", \"hovertext\": [\"DNK\"], \"legendgroup\": \"ccode=DNK\", \"marker\": {\"color\": \"#B6E880\", \"size\": [4.581], \"sizemode\": \"area\", \"sizeref\": 0.18529722222222222, \"symbol\": \"circle\"}, \"mode\": \"markers\", \"name\": \"ccode=DNK\", \"showlegend\": true, \"type\": \"scatter\", \"x\": [9.397068870588344], \"xaxis\": \"x\", \"y\": [2.4501], \"yaxis\": \"y\"}, {\"hoverlabel\": {\"namelength\": 0}, \"hovertemplate\": \"<b>%{hovertext}</b><br><br>ccode=CAN<br>loggdp=%{x}<br>growth rate=%{y}<br>pop=%{marker.size}\", \"hovertext\": [\"CAN\"], \"legendgroup\": \"ccode=CAN\", \"marker\": {\"color\": \"#FF97FF\", \"size\": [18.267], \"sizemode\": \"area\", \"sizeref\": 0.18529722222222222, \"symbol\": \"circle\"}, \"mode\": \"markers\", \"name\": \"ccode=CAN\", \"showlegend\": true, \"type\": \"scatter\", \"x\": [9.519735011333614], \"xaxis\": \"x\", \"y\": [2.1436], \"yaxis\": \"y\"}, {\"hoverlabel\": {\"namelength\": 0}, \"hovertemplate\": \"<b>%{hovertext}</b><br><br>ccode=ECU<br>loggdp=%{x}<br>growth rate=%{y}<br>pop=%{marker.size}\", \"hovertext\": [\"ECU\"], \"legendgroup\": \"ccode=ECU\", \"marker\": {\"color\": \"#FECB52\", \"size\": [4.416], \"sizemode\": \"area\", \"sizeref\": 0.18529722222222222, \"symbol\": \"circle\"}, \"mode\": \"markers\", \"name\": \"ccode=ECU\", \"showlegend\": true, \"type\": \"scatter\", \"x\": [7.98139158158007], \"xaxis\": \"x\", \"y\": [2.4906], \"yaxis\": \"y\"}, {\"hoverlabel\": {\"namelength\": 0}, \"hovertemplate\": \"<b>%{hovertext}</b><br><br>ccode=LUX<br>loggdp=%{x}<br>growth rate=%{y}<br>pop=%{marker.size}\", \"hovertext\": [\"LUX\"], \"legendgroup\": \"ccode=LUX\", \"marker\": {\"color\": \"#636efa\", \"size\": [0.314], \"sizemode\": \"area\", \"sizeref\": 0.18529722222222222, \"symbol\": \"circle\"}, \"mode\": \"markers\", \"name\": \"ccode=LUX\", \"showlegend\": true, \"type\": \"scatter\", \"x\": [9.672815734801127], \"xaxis\": \"x\", \"y\": [2.6947], \"yaxis\": \"y\"}, {\"hoverlabel\": {\"namelength\": 0}, \"hovertemplate\": \"<b>%{hovertext}</b><br><br>ccode=THA<br>loggdp=%{x}<br>growth rate=%{y}<br>pop=%{marker.size}\", \"hovertext\": [\"THA\"], \"legendgroup\": \"ccode=THA\", \"marker\": {\"color\": \"#EF553B\", \"size\": [27.513], \"sizemode\": \"area\", \"sizeref\": 0.18529722222222222, \"symbol\": \"circle\"}, \"mode\": \"markers\", \"name\": \"ccode=THA\", \"showlegend\": true, \"type\": \"scatter\", \"x\": [7.221105098182496], \"xaxis\": \"x\", \"y\": [4.3431], \"yaxis\": \"y\"}, {\"hoverlabel\": {\"namelength\": 0}, \"hovertemplate\": \"<b>%{hovertext}</b><br><br>ccode=PER<br>loggdp=%{x}<br>growth rate=%{y}<br>pop=%{marker.size}\", \"hovertext\": [\"PER\"], \"legendgroup\": \"ccode=PER\", \"marker\": {\"color\": \"#00cc96\", \"size\": [9.931000000000001], \"sizemode\": \"area\", \"sizeref\": 0.18529722222222222, \"symbol\": \"circle\"}, \"mode\": \"markers\", \"name\": \"ccode=PER\", \"showlegend\": true, \"type\": \"scatter\", \"x\": [7.818430272070656], \"xaxis\": \"x\", \"y\": [2.7856], \"yaxis\": \"y\"}, {\"hoverlabel\": {\"namelength\": 0}, \"hovertemplate\": \"<b>%{hovertext}</b><br><br>ccode=CUB<br>loggdp=%{x}<br>growth rate=%{y}<br>pop=%{marker.size}\", \"hovertext\": [\"CUB\"], \"legendgroup\": \"ccode=CUB\", \"marker\": {\"color\": \"#ab63fa\", \"size\": [7.027], \"sizemode\": \"area\", \"sizeref\": 0.18529722222222222, \"symbol\": \"circle\"}, \"mode\": \"markers\", \"name\": \"ccode=CUB\", \"showlegend\": true, \"type\": \"scatter\", \"x\": [8.38022733634308], \"xaxis\": \"x\", \"y\": [1.0412], \"yaxis\": \"y\"}, {\"hoverlabel\": {\"namelength\": 0}, \"hovertemplate\": \"<b>%{hovertext}</b><br><br>ccode=PAK<br>loggdp=%{x}<br>growth rate=%{y}<br>pop=%{marker.size}\", \"hovertext\": [\"PAK\"], \"legendgroup\": \"ccode=PAK\", \"marker\": {\"color\": \"#FFA15A\", \"size\": [50.387], \"sizemode\": \"area\", \"sizeref\": 0.18529722222222222, \"symbol\": \"circle\"}, \"mode\": \"markers\", \"name\": \"ccode=PAK\", \"showlegend\": true, \"type\": \"scatter\", \"x\": [6.999422467507961], \"xaxis\": \"x\", \"y\": [2.8027], \"yaxis\": \"y\"}, {\"hoverlabel\": {\"namelength\": 0}, \"hovertemplate\": \"<b>%{hovertext}</b><br><br>ccode=ZMB<br>loggdp=%{x}<br>growth rate=%{y}<br>pop=%{marker.size}\", \"hovertext\": [\"ZMB\"], \"legendgroup\": \"ccode=ZMB\", \"marker\": {\"color\": \"#19d3f3\", \"size\": [3.2539999999999996], \"sizemode\": \"area\", \"sizeref\": 0.18529722222222222, \"symbol\": \"circle\"}, \"mode\": \"markers\", \"name\": \"ccode=ZMB\", \"showlegend\": true, \"type\": \"scatter\", \"x\": [7.441906728051625], \"xaxis\": \"x\", \"y\": [1.3594], \"yaxis\": \"y\"}, {\"hoverlabel\": {\"namelength\": 0}, \"hovertemplate\": \"<b>%{hovertext}</b><br><br>ccode=ARG<br>loggdp=%{x}<br>growth rate=%{y}<br>pop=%{marker.size}\", \"hovertext\": [\"ARG\"], \"legendgroup\": \"ccode=ARG\", \"marker\": {\"color\": \"#FF6692\", \"size\": [20.616], \"sizemode\": \"area\", \"sizeref\": 0.18529722222222222, \"symbol\": \"circle\"}, \"mode\": \"markers\", \"name\": \"ccode=ARG\", \"showlegend\": true, \"type\": \"scatter\", \"x\": [9.096947684621092], \"xaxis\": \"x\", \"y\": [1.4084], \"yaxis\": \"y\"}, {\"hoverlabel\": {\"namelength\": 0}, \"hovertemplate\": \"<b>%{hovertext}</b><br><br>ccode=AUS<br>loggdp=%{x}<br>growth rate=%{y}<br>pop=%{marker.size}\", \"hovertext\": [\"AUS\"], \"legendgroup\": \"ccode=AUS\", \"marker\": {\"color\": \"#B6E880\", \"size\": [10.360999999999999], \"sizemode\": \"area\", \"sizeref\": 0.18529722222222222, \"symbol\": \"circle\"}, \"mode\": \"markers\", \"name\": \"ccode=AUS\", \"showlegend\": true, \"type\": \"scatter\", \"x\": [9.628787514307517], \"xaxis\": \"x\", \"y\": [1.9835], \"yaxis\": \"y\"}, {\"hoverlabel\": {\"namelength\": 0}, \"hovertemplate\": \"<b>%{hovertext}</b><br><br>ccode=CHN<br>loggdp=%{x}<br>growth rate=%{y}<br>pop=%{marker.size}\", \"hovertext\": [\"CHN\"], \"legendgroup\": \"ccode=CHN\", \"marker\": {\"color\": \"#FF97FF\", \"size\": [667.07], \"sizemode\": \"area\", \"sizeref\": 0.18529722222222222, \"symbol\": \"circle\"}, \"mode\": \"markers\", \"name\": \"ccode=CHN\", \"showlegend\": true, \"type\": \"scatter\", \"x\": [6.827629234502852], \"xaxis\": \"x\", \"y\": [4.8169], \"yaxis\": \"y\"}, {\"hoverlabel\": {\"namelength\": 0}, \"hovertemplate\": \"<b>%{hovertext}</b><br><br>ccode=IRN<br>loggdp=%{x}<br>growth rate=%{y}<br>pop=%{marker.size}\", \"hovertext\": [\"IRN\"], \"legendgroup\": \"ccode=IRN\", \"marker\": {\"color\": \"#FECB52\", \"size\": [21.548000000000002], \"sizemode\": \"area\", \"sizeref\": 0.18529722222222222, \"symbol\": \"circle\"}, \"mode\": \"markers\", \"name\": \"ccode=IRN\", \"showlegend\": true, \"type\": \"scatter\", \"x\": [8.0702808933939], \"xaxis\": \"x\", \"y\": [2.9363], \"yaxis\": \"y\"}, {\"hoverlabel\": {\"namelength\": 0}, \"hovertemplate\": \"<b>%{hovertext}</b><br><br>ccode=RWA<br>loggdp=%{x}<br>growth rate=%{y}<br>pop=%{marker.size}\", \"hovertext\": [\"RWA\"], \"legendgroup\": \"ccode=RWA\", \"marker\": {\"color\": \"#636efa\", \"size\": [3.032], \"sizemode\": \"area\", \"sizeref\": 0.18529722222222222, \"symbol\": \"circle\"}, \"mode\": \"markers\", \"name\": \"ccode=RWA\", \"showlegend\": true, \"type\": \"scatter\", \"x\": [6.590301048196686], \"xaxis\": \"x\", \"y\": [1.4678], \"yaxis\": \"y\"}, {\"hoverlabel\": {\"namelength\": 0}, \"hovertemplate\": \"<b>%{hovertext}</b><br><br>ccode=IRQ<br>loggdp=%{x}<br>growth rate=%{y}<br>pop=%{marker.size}\", \"hovertext\": [\"IRQ\"], \"legendgroup\": \"ccode=IRQ\", \"marker\": {\"color\": \"#EF553B\", \"size\": [6.822], \"sizemode\": \"area\", \"sizeref\": 0.18529722222222222, \"symbol\": \"circle\"}, \"mode\": \"markers\", \"name\": \"ccode=IRQ\", \"showlegend\": true, \"type\": \"scatter\", \"x\": [8.708309295891688], \"xaxis\": \"x\", \"y\": [1.4095], \"yaxis\": \"y\"}, {\"hoverlabel\": {\"namelength\": 0}, \"hovertemplate\": \"<b>%{hovertext}</b><br><br>ccode=AFG<br>loggdp=%{x}<br>growth rate=%{y}<br>pop=%{marker.size}\", \"hovertext\": [\"AFG\"], \"legendgroup\": \"ccode=AFG\", \"marker\": {\"color\": \"#00cc96\", \"size\": [9.829], \"sizemode\": \"area\", \"sizeref\": 0.18529722222222222, \"symbol\": \"circle\"}, \"mode\": \"markers\", \"name\": \"ccode=AFG\", \"showlegend\": true, \"type\": \"scatter\", \"x\": [7.917171988845776], \"xaxis\": \"x\", \"y\": [-0.5638], \"yaxis\": \"y\"}, {\"hoverlabel\": {\"namelength\": 0}, \"hovertemplate\": \"<b>%{hovertext}</b><br><br>ccode=MDA<br>loggdp=%{x}<br>growth rate=%{y}<br>pop=%{marker.size}\", \"hovertext\": [\"MDA\"], \"legendgroup\": \"ccode=MDA\", \"marker\": {\"color\": \"#ab63fa\", \"size\": [2.9989999999999997], \"sizemode\": \"area\", \"sizeref\": 0.18529722222222222, \"symbol\": \"circle\"}, \"mode\": \"markers\", \"name\": \"ccode=MDA\", \"showlegend\": true, \"type\": \"scatter\", \"x\": [null], \"xaxis\": \"x\", \"y\": [null], \"yaxis\": \"y\"}, {\"hoverlabel\": {\"namelength\": 0}, \"hovertemplate\": \"<b>%{hovertext}</b><br><br>ccode=EST<br>loggdp=%{x}<br>growth rate=%{y}<br>pop=%{marker.size}\", \"hovertext\": [\"EST\"], \"legendgroup\": \"ccode=EST\", \"marker\": {\"color\": \"#FFA15A\", \"size\": [1.2109999999999999], \"sizemode\": \"area\", \"sizeref\": 0.18529722222222222, \"symbol\": \"circle\"}, \"mode\": \"markers\", \"name\": \"ccode=EST\", \"showlegend\": true, \"type\": \"scatter\", \"x\": [null], \"xaxis\": \"x\", \"y\": [null], \"yaxis\": \"y\"}, {\"hoverlabel\": {\"namelength\": 0}, \"hovertemplate\": \"<b>%{hovertext}</b><br><br>ccode=ARE<br>loggdp=%{x}<br>growth rate=%{y}<br>pop=%{marker.size}\", \"hovertext\": [\"ARE\"], \"legendgroup\": \"ccode=ARE\", \"marker\": {\"color\": \"#19d3f3\", \"size\": [0.10300000000000001], \"sizemode\": \"area\", \"sizeref\": 0.18529722222222222, \"symbol\": \"circle\"}, \"mode\": \"markers\", \"name\": \"ccode=ARE\", \"showlegend\": true, \"type\": \"scatter\", \"x\": [null], \"xaxis\": \"x\", \"y\": [null], \"yaxis\": \"y\"}, {\"hoverlabel\": {\"namelength\": 0}, \"hovertemplate\": \"<b>%{hovertext}</b><br><br>ccode=KHM<br>loggdp=%{x}<br>growth rate=%{y}<br>pop=%{marker.size}\", \"hovertext\": [\"KHM\"], \"legendgroup\": \"ccode=KHM\", \"marker\": {\"color\": \"#FF6692\", \"size\": [5.761], \"sizemode\": \"area\", \"sizeref\": 0.18529722222222222, \"symbol\": \"circle\"}, \"mode\": \"markers\", \"name\": \"ccode=KHM\", \"showlegend\": true, \"type\": \"scatter\", \"x\": [6.645090969505644], \"xaxis\": \"x\", \"y\": [2.5409], \"yaxis\": \"y\"}, {\"hoverlabel\": {\"namelength\": 0}, \"hovertemplate\": \"<b>%{hovertext}</b><br><br>ccode=BIH<br>loggdp=%{x}<br>growth rate=%{y}<br>pop=%{marker.size}\", \"hovertext\": [\"BIH\"], \"legendgroup\": \"ccode=BIH\", \"marker\": {\"color\": \"#B6E880\", \"size\": [3.24], \"sizemode\": \"area\", \"sizeref\": 0.18529722222222222, \"symbol\": \"circle\"}, \"mode\": \"markers\", \"name\": \"ccode=BIH\", \"showlegend\": true, \"type\": \"scatter\", \"x\": [6.8690144506657065], \"xaxis\": \"x\", \"y\": [4.4284], \"yaxis\": \"y\"}, {\"hoverlabel\": {\"namelength\": 0}, \"hovertemplate\": \"<b>%{hovertext}</b><br><br>ccode=BGR<br>loggdp=%{x}<br>growth rate=%{y}<br>pop=%{marker.size}\", \"hovertext\": [\"BGR\"], \"legendgroup\": \"ccode=BGR\", \"marker\": {\"color\": \"#FF97FF\", \"size\": [7.867000000000001], \"sizemode\": \"area\", \"sizeref\": 0.18529722222222222, \"symbol\": \"circle\"}, \"mode\": \"markers\", \"name\": \"ccode=BGR\", \"showlegend\": true, \"type\": \"scatter\", \"x\": [8.547334348328224], \"xaxis\": \"x\", \"y\": [2.185], \"yaxis\": \"y\"}, {\"hoverlabel\": {\"namelength\": 0}, \"hovertemplate\": \"<b>%{hovertext}</b><br><br>ccode=COM<br>loggdp=%{x}<br>growth rate=%{y}<br>pop=%{marker.size}\", \"hovertext\": [\"COM\"], \"legendgroup\": \"ccode=COM\", \"marker\": {\"color\": \"#FECB52\", \"size\": [0.183], \"sizemode\": \"area\", \"sizeref\": 0.18529722222222222, \"symbol\": \"circle\"}, \"mode\": \"markers\", \"name\": \"ccode=COM\", \"showlegend\": true, \"type\": \"scatter\", \"x\": [7.005789019253503], \"xaxis\": \"x\", \"y\": [0.7576], \"yaxis\": \"y\"}, {\"hoverlabel\": {\"namelength\": 0}, \"hovertemplate\": \"<b>%{hovertext}</b><br><br>ccode=CAF<br>loggdp=%{x}<br>growth rate=%{y}<br>pop=%{marker.size}\", \"hovertext\": [\"CAF\"], \"legendgroup\": \"ccode=CAF\", \"marker\": {\"color\": \"#636efa\", \"size\": [1.4669999999999999], \"sizemode\": \"area\", \"sizeref\": 0.18529722222222222, \"symbol\": \"circle\"}, \"mode\": \"markers\", \"name\": \"ccode=CAF\", \"showlegend\": true, \"type\": \"scatter\", \"x\": [7.240649694255466], \"xaxis\": \"x\", \"y\": [-1.584], \"yaxis\": \"y\"}, {\"hoverlabel\": {\"namelength\": 0}, \"hovertemplate\": \"<b>%{hovertext}</b><br><br>ccode=RUS<br>loggdp=%{x}<br>growth rate=%{y}<br>pop=%{marker.size}\", \"hovertext\": [\"RUS\"], \"legendgroup\": \"ccode=RUS\", \"marker\": {\"color\": \"#EF553B\", \"size\": [119.632], \"sizemode\": \"area\", \"sizeref\": 0.18529722222222222, \"symbol\": \"circle\"}, \"mode\": \"markers\", \"name\": \"ccode=RUS\", \"showlegend\": true, \"type\": \"scatter\", \"x\": [9.013351778138825], \"xaxis\": \"x\", \"y\": [1.9899], \"yaxis\": \"y\"}, {\"hoverlabel\": {\"namelength\": 0}, \"hovertemplate\": \"<b>%{hovertext}</b><br><br>ccode=FRA<br>loggdp=%{x}<br>growth rate=%{y}<br>pop=%{marker.size}\", \"hovertext\": [\"FRA\"], \"legendgroup\": \"ccode=FRA\", \"marker\": {\"color\": \"#00cc96\", \"size\": [46.583999999999996], \"sizemode\": \"area\", \"sizeref\": 0.18529722222222222, \"symbol\": \"circle\"}, \"mode\": \"markers\", \"name\": \"ccode=FRA\", \"showlegend\": true, \"type\": \"scatter\", \"x\": [9.23834456838578], \"xaxis\": \"x\", \"y\": [2.4566], \"yaxis\": \"y\"}, {\"hoverlabel\": {\"namelength\": 0}, \"hovertemplate\": \"<b>%{hovertext}</b><br><br>ccode=NOR<br>loggdp=%{x}<br>growth rate=%{y}<br>pop=%{marker.size}\", \"hovertext\": [\"NOR\"], \"legendgroup\": \"ccode=NOR\", \"marker\": {\"color\": \"#ab63fa\", \"size\": [3.5810000000000004], \"sizemode\": \"area\", \"sizeref\": 0.18529722222222222, \"symbol\": \"circle\"}, \"mode\": \"markers\", \"name\": \"ccode=NOR\", \"showlegend\": true, \"type\": \"scatter\", \"x\": [9.235032984566555], \"xaxis\": \"x\", \"y\": [3.7759], \"yaxis\": \"y\"}, {\"hoverlabel\": {\"namelength\": 0}, \"hovertemplate\": \"<b>%{hovertext}</b><br><br>ccode=NPL<br>loggdp=%{x}<br>growth rate=%{y}<br>pop=%{marker.size}\", \"hovertext\": [\"NPL\"], \"legendgroup\": \"ccode=NPL\", \"marker\": {\"color\": \"#FFA15A\", \"size\": [10.035], \"sizemode\": \"area\", \"sizeref\": 0.18529722222222222, \"symbol\": \"circle\"}, \"mode\": \"markers\", \"name\": \"ccode=NPL\", \"showlegend\": true, \"type\": \"scatter\", \"x\": [6.535241271013659], \"xaxis\": \"x\", \"y\": [2.4685], \"yaxis\": \"y\"}, {\"hoverlabel\": {\"namelength\": 0}, \"hovertemplate\": \"<b>%{hovertext}</b><br><br>ccode=ITA<br>loggdp=%{x}<br>growth rate=%{y}<br>pop=%{marker.size}\", \"hovertext\": [\"ITA\"], \"legendgroup\": \"ccode=ITA\", \"marker\": {\"color\": \"#19d3f3\", \"size\": [50.198], \"sizemode\": \"area\", \"sizeref\": 0.18529722222222222, \"symbol\": \"circle\"}, \"mode\": \"markers\", \"name\": \"ccode=ITA\", \"showlegend\": true, \"type\": \"scatter\", \"x\": [8.863191340690854], \"xaxis\": \"x\", \"y\": [2.9725], \"yaxis\": \"y\"}, {\"hoverlabel\": {\"namelength\": 0}, \"hovertemplate\": \"<b>%{hovertext}</b><br><br>ccode=TKM<br>loggdp=%{x}<br>growth rate=%{y}<br>pop=%{marker.size}\", \"hovertext\": [\"TKM\"], \"legendgroup\": \"ccode=TKM\", \"marker\": {\"color\": \"#FF6692\", \"size\": [1.585], \"sizemode\": \"area\", \"sizeref\": 0.18529722222222222, \"symbol\": \"circle\"}, \"mode\": \"markers\", \"name\": \"ccode=TKM\", \"showlegend\": true, \"type\": \"scatter\", \"x\": [null], \"xaxis\": \"x\", \"y\": [null], \"yaxis\": \"y\"}, {\"hoverlabel\": {\"namelength\": 0}, \"hovertemplate\": \"<b>%{hovertext}</b><br><br>ccode=HRV<br>loggdp=%{x}<br>growth rate=%{y}<br>pop=%{marker.size}\", \"hovertext\": [\"HRV\"], \"legendgroup\": \"ccode=HRV\", \"marker\": {\"color\": \"#B6E880\", \"size\": [4.0360000000000005], \"sizemode\": \"area\", \"sizeref\": 0.18529722222222222, \"symbol\": \"circle\"}, \"mode\": \"markers\", \"name\": \"ccode=HRV\", \"showlegend\": true, \"type\": \"scatter\", \"x\": [8.667680024690174], \"xaxis\": \"x\", \"y\": [2.3586], \"yaxis\": \"y\"}, {\"hoverlabel\": {\"namelength\": 0}, \"hovertemplate\": \"<b>%{hovertext}</b><br><br>ccode=MAR<br>loggdp=%{x}<br>growth rate=%{y}<br>pop=%{marker.size}\", \"hovertext\": [\"MAR\"], \"legendgroup\": \"ccode=MAR\", \"marker\": {\"color\": \"#FF97FF\", \"size\": [12.423], \"sizemode\": \"area\", \"sizeref\": 0.18529722222222222, \"symbol\": \"circle\"}, \"mode\": \"markers\", \"name\": \"ccode=MAR\", \"showlegend\": true, \"type\": \"scatter\", \"x\": [7.814399633804487], \"xaxis\": \"x\", \"y\": [2.0287], \"yaxis\": \"y\"}, {\"hoverlabel\": {\"namelength\": 0}, \"hovertemplate\": \"<b>%{hovertext}</b><br><br>ccode=PHL<br>loggdp=%{x}<br>growth rate=%{y}<br>pop=%{marker.size}\", \"hovertext\": [\"PHL\"], \"legendgroup\": \"ccode=PHL\", \"marker\": {\"color\": \"#FECB52\", \"size\": [28.529], \"sizemode\": \"area\", \"sizeref\": 0.18529722222222222, \"symbol\": \"circle\"}, \"mode\": \"markers\", \"name\": \"ccode=PHL\", \"showlegend\": true, \"type\": \"scatter\", \"x\": [7.483806687665835], \"xaxis\": \"x\", \"y\": [2.4552], \"yaxis\": \"y\"}, {\"hoverlabel\": {\"namelength\": 0}, \"hovertemplate\": \"<b>%{hovertext}</b><br><br>ccode=DJI<br>loggdp=%{x}<br>growth rate=%{y}<br>pop=%{marker.size}\", \"hovertext\": [\"DJI\"], \"legendgroup\": \"ccode=DJI\", \"marker\": {\"color\": \"#636efa\", \"size\": [0.111], \"sizemode\": \"area\", \"sizeref\": 0.18529722222222222, \"symbol\": \"circle\"}, \"mode\": \"markers\", \"name\": \"ccode=DJI\", \"showlegend\": true, \"type\": \"scatter\", \"x\": [8.522578663692576], \"xaxis\": \"x\", \"y\": [-0.8753], \"yaxis\": \"y\"}, {\"hoverlabel\": {\"namelength\": 0}, \"hovertemplate\": \"<b>%{hovertext}</b><br><br>ccode=CHE<br>loggdp=%{x}<br>growth rate=%{y}<br>pop=%{marker.size}\", \"hovertext\": [\"CHE\"], \"legendgroup\": \"ccode=CHE\", \"marker\": {\"color\": \"#EF553B\", \"size\": [5.362], \"sizemode\": \"area\", \"sizeref\": 0.18529722222222222, \"symbol\": \"circle\"}, \"mode\": \"markers\", \"name\": \"ccode=CHE\", \"showlegend\": true, \"type\": \"scatter\", \"x\": [9.590624414887088], \"xaxis\": \"x\", \"y\": [2.7002], \"yaxis\": \"y\"}, {\"hoverlabel\": {\"namelength\": 0}, \"hovertemplate\": \"<b>%{hovertext}</b><br><br>ccode=DZA<br>loggdp=%{x}<br>growth rate=%{y}<br>pop=%{marker.size}\", \"hovertext\": [\"DZA\"], \"legendgroup\": \"ccode=DZA\", \"marker\": {\"color\": \"#00cc96\", \"size\": [10.909], \"sizemode\": \"area\", \"sizeref\": 0.18529722222222222, \"symbol\": \"circle\"}, \"mode\": \"markers\", \"name\": \"ccode=DZA\", \"showlegend\": true, \"type\": \"scatter\", \"x\": [null], \"xaxis\": \"x\", \"y\": [null], \"yaxis\": \"y\"}, {\"hoverlabel\": {\"namelength\": 0}, \"hovertemplate\": \"<b>%{hovertext}</b><br><br>ccode=NIC<br>loggdp=%{x}<br>growth rate=%{y}<br>pop=%{marker.size}\", \"hovertext\": [\"NIC\"], \"legendgroup\": \"ccode=NIC\", \"marker\": {\"color\": \"#ab63fa\", \"size\": [1.493], \"sizemode\": \"area\", \"sizeref\": 0.18529722222222222, \"symbol\": \"circle\"}, \"mode\": \"markers\", \"name\": \"ccode=NIC\", \"showlegend\": true, \"type\": \"scatter\", \"x\": [7.658227526161352], \"xaxis\": \"x\", \"y\": [1.4153], \"yaxis\": \"y\"}, {\"hoverlabel\": {\"namelength\": 0}, \"hovertemplate\": \"<b>%{hovertext}</b><br><br>ccode=IDN<br>loggdp=%{x}<br>growth rate=%{y}<br>pop=%{marker.size}\", \"hovertext\": [\"IDN\"], \"legendgroup\": \"ccode=IDN\", \"marker\": {\"color\": \"#FFA15A\", \"size\": [95.961], \"sizemode\": \"area\", \"sizeref\": 0.18529722222222222, \"symbol\": \"circle\"}, \"mode\": \"markers\", \"name\": \"ccode=IDN\", \"showlegend\": true, \"type\": \"scatter\", \"x\": [7.29641326877392], \"xaxis\": \"x\", \"y\": [3.5534], \"yaxis\": \"y\"}, {\"hoverlabel\": {\"namelength\": 0}, \"hovertemplate\": \"<b>%{hovertext}</b><br><br>ccode=LKA<br>loggdp=%{x}<br>growth rate=%{y}<br>pop=%{marker.size}\", \"hovertext\": [\"LKA\"], \"legendgroup\": \"ccode=LKA\", \"marker\": {\"color\": \"#19d3f3\", \"size\": [9.913], \"sizemode\": \"area\", \"sizeref\": 0.18529722222222222, \"symbol\": \"circle\"}, \"mode\": \"markers\", \"name\": \"ccode=LKA\", \"showlegend\": true, \"type\": \"scatter\", \"x\": [7.318539548567902], \"xaxis\": \"x\", \"y\": [3.6246], \"yaxis\": \"y\"}, {\"hoverlabel\": {\"namelength\": 0}, \"hovertemplate\": \"<b>%{hovertext}</b><br><br>ccode=JAM<br>loggdp=%{x}<br>growth rate=%{y}<br>pop=%{marker.size}\", \"hovertext\": [\"JAM\"], \"legendgroup\": \"ccode=JAM\", \"marker\": {\"color\": \"#FF6692\", \"size\": [1.632], \"sizemode\": \"area\", \"sizeref\": 0.18529722222222222, \"symbol\": \"circle\"}, \"mode\": \"markers\", \"name\": \"ccode=JAM\", \"showlegend\": true, \"type\": \"scatter\", \"x\": [8.33758794211651], \"xaxis\": \"x\", \"y\": [0.9858], \"yaxis\": \"y\"}, {\"hoverlabel\": {\"namelength\": 0}, \"hovertemplate\": \"<b>%{hovertext}</b><br><br>ccode=SDN<br>loggdp=%{x}<br>growth rate=%{y}<br>pop=%{marker.size}\", \"hovertext\": [\"SDN\"], \"legendgroup\": \"ccode=SDN\", \"marker\": {\"color\": \"#B6E880\", \"size\": [10.589], \"sizemode\": \"area\", \"sizeref\": 0.18529722222222222, \"symbol\": \"circle\"}, \"mode\": \"markers\", \"name\": \"ccode=SDN\", \"showlegend\": true, \"type\": \"scatter\", \"x\": [7.652545692693921], \"xaxis\": \"x\", \"y\": [1.0113], \"yaxis\": \"y\"}, {\"hoverlabel\": {\"namelength\": 0}, \"hovertemplate\": \"<b>%{hovertext}</b><br><br>ccode=VNM<br>loggdp=%{x}<br>growth rate=%{y}<br>pop=%{marker.size}\", \"hovertext\": [\"VNM\"], \"legendgroup\": \"ccode=VNM\", \"marker\": {\"color\": \"#FF97FF\", \"size\": [31.656], \"sizemode\": \"area\", \"sizeref\": 0.18529722222222222, \"symbol\": \"circle\"}, \"mode\": \"markers\", \"name\": \"ccode=VNM\", \"showlegend\": true, \"type\": \"scatter\", \"x\": [6.984716320118266], \"xaxis\": \"x\", \"y\": [3.0348], \"yaxis\": \"y\"}, {\"hoverlabel\": {\"namelength\": 0}, \"hovertemplate\": \"<b>%{hovertext}</b><br><br>ccode=COG<br>loggdp=%{x}<br>growth rate=%{y}<br>pop=%{marker.size}\", \"hovertext\": [\"COG\"], \"legendgroup\": \"ccode=COG\", \"marker\": {\"color\": \"#FECB52\", \"size\": [1.002], \"sizemode\": \"area\", \"sizeref\": 0.18529722222222222, \"symbol\": \"circle\"}, \"mode\": \"markers\", \"name\": \"ccode=COG\", \"showlegend\": true, \"type\": \"scatter\", \"x\": [7.241366283322318], \"xaxis\": \"x\", \"y\": [2.2167], \"yaxis\": \"y\"}, {\"hoverlabel\": {\"namelength\": 0}, \"hovertemplate\": \"<b>%{hovertext}</b><br><br>ccode=SVK<br>loggdp=%{x}<br>growth rate=%{y}<br>pop=%{marker.size}\", \"hovertext\": [\"SVK\"], \"legendgroup\": \"ccode=SVK\", \"marker\": {\"color\": \"#636efa\", \"size\": [3.9939999999999998], \"sizemode\": \"area\", \"sizeref\": 0.18529722222222222, \"symbol\": \"circle\"}, \"mode\": \"markers\", \"name\": \"ccode=SVK\", \"showlegend\": true, \"type\": \"scatter\", \"x\": [null], \"xaxis\": \"x\", \"y\": [null], \"yaxis\": \"y\"}, {\"hoverlabel\": {\"namelength\": 0}, \"hovertemplate\": \"<b>%{hovertext}</b><br><br>ccode=SLE<br>loggdp=%{x}<br>growth rate=%{y}<br>pop=%{marker.size}\", \"hovertext\": [\"SLE\"], \"legendgroup\": \"ccode=SLE\", \"marker\": {\"color\": \"#EF553B\", \"size\": [2.396], \"sizemode\": \"area\", \"sizeref\": 0.18529722222222222, \"symbol\": \"circle\"}, \"mode\": \"markers\", \"name\": \"ccode=SLE\", \"showlegend\": true, \"type\": \"scatter\", \"x\": [7.581719640125308], \"xaxis\": \"x\", \"y\": [-0.7229], \"yaxis\": \"y\"}, {\"hoverlabel\": {\"namelength\": 0}, \"hovertemplate\": \"<b>%{hovertext}</b><br><br>ccode=BOL<br>loggdp=%{x}<br>growth rate=%{y}<br>pop=%{marker.size}\", \"hovertext\": [\"BOL\"], \"legendgroup\": \"ccode=BOL\", \"marker\": {\"color\": \"#00cc96\", \"size\": [3.4339999999999997], \"sizemode\": \"area\", \"sizeref\": 0.18529722222222222, \"symbol\": \"circle\"}, \"mode\": \"markers\", \"name\": \"ccode=BOL\", \"showlegend\": true, \"type\": \"scatter\", \"x\": [7.1204443723924875], \"xaxis\": \"x\", \"y\": [2.8975], \"yaxis\": \"y\"}, {\"hoverlabel\": {\"namelength\": 0}, \"hovertemplate\": \"<b>%{hovertext}</b><br><br>ccode=CMR<br>loggdp=%{x}<br>growth rate=%{y}<br>pop=%{marker.size}\", \"hovertext\": [\"CMR\"], \"legendgroup\": \"ccode=CMR\", \"marker\": {\"color\": \"#ab63fa\", \"size\": [5.609], \"sizemode\": \"area\", \"sizeref\": 0.18529722222222222, \"symbol\": \"circle\"}, \"mode\": \"markers\", \"name\": \"ccode=CMR\", \"showlegend\": true, \"type\": \"scatter\", \"x\": [6.9726062513017535], \"xaxis\": \"x\", \"y\": [1.7145], \"yaxis\": \"y\"}, {\"hoverlabel\": {\"namelength\": 0}, \"hovertemplate\": \"<b>%{hovertext}</b><br><br>ccode=POL<br>loggdp=%{x}<br>growth rate=%{y}<br>pop=%{marker.size}\", \"hovertext\": [\"POL\"], \"legendgroup\": \"ccode=POL\", \"marker\": {\"color\": \"#FFA15A\", \"size\": [29.59], \"sizemode\": \"area\", \"sizeref\": 0.18529722222222222, \"symbol\": \"circle\"}, \"mode\": \"markers\", \"name\": \"ccode=POL\", \"showlegend\": true, \"type\": \"scatter\", \"x\": [8.325063693631197], \"xaxis\": \"x\", \"y\": [3.3426], \"yaxis\": \"y\"}, {\"hoverlabel\": {\"namelength\": 0}, \"hovertemplate\": \"<b>%{hovertext}</b><br><br>ccode=PRT<br>loggdp=%{x}<br>growth rate=%{y}<br>pop=%{marker.size}\", \"hovertext\": [\"PRT\"], \"legendgroup\": \"ccode=PRT\", \"marker\": {\"color\": \"#19d3f3\", \"size\": [9.037], \"sizemode\": \"area\", \"sizeref\": 0.18529722222222222, \"symbol\": \"circle\"}, \"mode\": \"markers\", \"name\": \"ccode=PRT\", \"showlegend\": true, \"type\": \"scatter\", \"x\": [8.268731832117737], \"xaxis\": \"x\", \"y\": [3.6278], \"yaxis\": \"y\"}, {\"hoverlabel\": {\"namelength\": 0}, \"hovertemplate\": \"<b>%{hovertext}</b><br><br>ccode=MEX<br>loggdp=%{x}<br>growth rate=%{y}<br>pop=%{marker.size}\", \"hovertext\": [\"MEX\"], \"legendgroup\": \"ccode=MEX\", \"marker\": {\"color\": \"#FF6692\", \"size\": [38.579], \"sizemode\": \"area\", \"sizeref\": 0.18529722222222222, \"symbol\": \"circle\"}, \"mode\": \"markers\", \"name\": \"ccode=MEX\", \"showlegend\": true, \"type\": \"scatter\", \"x\": [8.125630988477065], \"xaxis\": \"x\", \"y\": [2.8643], \"yaxis\": \"y\"}, {\"hoverlabel\": {\"namelength\": 0}, \"hovertemplate\": \"<b>%{hovertext}</b><br><br>ccode=DOM<br>loggdp=%{x}<br>growth rate=%{y}<br>pop=%{marker.size}\", \"hovertext\": [\"DOM\"], \"legendgroup\": \"ccode=DOM\", \"marker\": {\"color\": \"#B6E880\", \"size\": [3.2310000000000003], \"sizemode\": \"area\", \"sizeref\": 0.18529722222222222, \"symbol\": \"circle\"}, \"mode\": \"markers\", \"name\": \"ccode=DOM\", \"showlegend\": true, \"type\": \"scatter\", \"x\": [7.618251097876695], \"xaxis\": \"x\", \"y\": [3.4426], \"yaxis\": \"y\"}, {\"hoverlabel\": {\"namelength\": 0}, \"hovertemplate\": \"<b>%{hovertext}</b><br><br>ccode=LSO<br>loggdp=%{x}<br>growth rate=%{y}<br>pop=%{marker.size}\", \"hovertext\": [\"LSO\"], \"legendgroup\": \"ccode=LSO\", \"marker\": {\"color\": \"#FF97FF\", \"size\": [0.8590000000000001], \"sizemode\": \"area\", \"sizeref\": 0.18529722222222222, \"symbol\": \"circle\"}, \"mode\": \"markers\", \"name\": \"ccode=LSO\", \"showlegend\": true, \"type\": \"scatter\", \"x\": [6.2422232654551655], \"xaxis\": \"x\", \"y\": [3.2435], \"yaxis\": \"y\"}, {\"hoverlabel\": {\"namelength\": 0}, \"hovertemplate\": \"<b>%{hovertext}</b><br><br>ccode=CPV<br>loggdp=%{x}<br>growth rate=%{y}<br>pop=%{marker.size}\", \"hovertext\": [\"CPV\"], \"legendgroup\": \"ccode=CPV\", \"marker\": {\"color\": \"#FECB52\", \"size\": [0.19699999999999998], \"sizemode\": \"area\", \"sizeref\": 0.18529722222222222, \"symbol\": \"circle\"}, \"mode\": \"markers\", \"name\": \"ccode=CPV\", \"showlegend\": true, \"type\": \"scatter\", \"x\": [7.157735484249907], \"xaxis\": \"x\", \"y\": [3.0053], \"yaxis\": \"y\"}, {\"hoverlabel\": {\"namelength\": 0}, \"hovertemplate\": \"<b>%{hovertext}</b><br><br>ccode=SLV<br>loggdp=%{x}<br>growth rate=%{y}<br>pop=%{marker.size}\", \"hovertext\": [\"SLV\"], \"legendgroup\": \"ccode=SLV\", \"marker\": {\"color\": \"#636efa\", \"size\": [2.582], \"sizemode\": \"area\", \"sizeref\": 0.18529722222222222, \"symbol\": \"circle\"}, \"mode\": \"markers\", \"name\": \"ccode=SLV\", \"showlegend\": true, \"type\": \"scatter\", \"x\": [7.330405211844402], \"xaxis\": \"x\", \"y\": [3.1128], \"yaxis\": \"y\"}, {\"hoverlabel\": {\"namelength\": 0}, \"hovertemplate\": \"<b>%{hovertext}</b><br><br>ccode=TGO<br>loggdp=%{x}<br>growth rate=%{y}<br>pop=%{marker.size}\", \"hovertext\": [\"TGO\"], \"legendgroup\": \"ccode=TGO\", \"marker\": {\"color\": \"#EF553B\", \"size\": [1.456], \"sizemode\": \"area\", \"sizeref\": 0.18529722222222222, \"symbol\": \"circle\"}, \"mode\": \"markers\", \"name\": \"ccode=TGO\", \"showlegend\": true, \"type\": \"scatter\", \"x\": [7.004881989712859], \"xaxis\": \"x\", \"y\": [0.5005], \"yaxis\": \"y\"}, {\"hoverlabel\": {\"namelength\": 0}, \"hovertemplate\": \"<b>%{hovertext}</b><br><br>ccode=DEU<br>loggdp=%{x}<br>growth rate=%{y}<br>pop=%{marker.size}\", \"hovertext\": [\"DEU\"], \"legendgroup\": \"ccode=DEU\", \"marker\": {\"color\": \"#00cc96\", \"size\": [72.48100000000001], \"sizemode\": \"area\", \"sizeref\": 0.18529722222222222, \"symbol\": \"circle\"}, \"mode\": \"markers\", \"name\": \"ccode=DEU\", \"showlegend\": true, \"type\": \"scatter\", \"x\": [9.357639058997062], \"xaxis\": \"x\", \"y\": [2.5877], \"yaxis\": \"y\"}, {\"hoverlabel\": {\"namelength\": 0}, \"hovertemplate\": \"<b>%{hovertext}</b><br><br>ccode=CHL<br>loggdp=%{x}<br>growth rate=%{y}<br>pop=%{marker.size}\", \"hovertext\": [\"CHL\"], \"legendgroup\": \"ccode=CHL\", \"marker\": {\"color\": \"#ab63fa\", \"size\": [7.585], \"sizemode\": \"area\", \"sizeref\": 0.18529722222222222, \"symbol\": \"circle\"}, \"mode\": \"markers\", \"name\": \"ccode=CHL\", \"showlegend\": true, \"type\": \"scatter\", \"x\": [8.509161019718974], \"xaxis\": \"x\", \"y\": [2.7166], \"yaxis\": \"y\"}, {\"hoverlabel\": {\"namelength\": 0}, \"hovertemplate\": \"<b>%{hovertext}</b><br><br>ccode=HKG<br>loggdp=%{x}<br>growth rate=%{y}<br>pop=%{marker.size}\", \"hovertext\": [\"HKG\"], \"legendgroup\": \"ccode=HKG\", \"marker\": {\"color\": \"#FFA15A\", \"size\": [3.0189999999999997], \"sizemode\": \"area\", \"sizeref\": 0.18529722222222222, \"symbol\": \"circle\"}, \"mode\": \"markers\", \"name\": \"ccode=HKG\", \"showlegend\": true, \"type\": \"scatter\", \"x\": [8.517593111437565], \"xaxis\": \"x\", \"y\": [4.1854], \"yaxis\": \"y\"}, {\"hoverlabel\": {\"namelength\": 0}, \"hovertemplate\": \"<b>%{hovertext}</b><br><br>ccode=BEL<br>loggdp=%{x}<br>growth rate=%{y}<br>pop=%{marker.size}\", \"hovertext\": [\"BEL\"], \"legendgroup\": \"ccode=BEL\", \"marker\": {\"color\": \"#19d3f3\", \"size\": [9.119], \"sizemode\": \"area\", \"sizeref\": 0.18529722222222222, \"symbol\": \"circle\"}, \"mode\": \"markers\", \"name\": \"ccode=BEL\", \"showlegend\": true, \"type\": \"scatter\", \"x\": [9.117457244496126], \"xaxis\": \"x\", \"y\": [2.7378], \"yaxis\": \"y\"}, {\"hoverlabel\": {\"namelength\": 0}, \"hovertemplate\": \"<b>%{hovertext}</b><br><br>ccode=PSE<br>loggdp=%{x}<br>growth rate=%{y}<br>pop=%{marker.size}\", \"hovertext\": [\"PSE\"], \"legendgroup\": \"ccode=PSE\", \"marker\": {\"color\": \"#FF6692\", \"size\": [1.113], \"sizemode\": \"area\", \"sizeref\": 0.18529722222222222, \"symbol\": \"circle\"}, \"mode\": \"markers\", \"name\": \"ccode=PSE\", \"showlegend\": true, \"type\": \"scatter\", \"x\": [7.052721049232323], \"xaxis\": \"x\", \"y\": [2.491], \"yaxis\": \"y\"}, {\"hoverlabel\": {\"namelength\": 0}, \"hovertemplate\": \"<b>%{hovertext}</b><br><br>ccode=IND<br>loggdp=%{x}<br>growth rate=%{y}<br>pop=%{marker.size}\", \"hovertext\": [\"IND\"], \"legendgroup\": \"ccode=IND\", \"marker\": {\"color\": \"#B6E880\", \"size\": [434.0], \"sizemode\": \"area\", \"sizeref\": 0.18529722222222222, \"symbol\": \"circle\"}, \"mode\": \"markers\", \"name\": \"ccode=IND\", \"showlegend\": true, \"type\": \"scatter\", \"x\": [7.246368080102461], \"xaxis\": \"x\", \"y\": [2.4961], \"yaxis\": \"y\"}, {\"hoverlabel\": {\"namelength\": 0}, \"hovertemplate\": \"<b>%{hovertext}</b><br><br>ccode=BRA<br>loggdp=%{x}<br>growth rate=%{y}<br>pop=%{marker.size}\", \"hovertext\": [\"BRA\"], \"legendgroup\": \"ccode=BRA\", \"marker\": {\"color\": \"#FF97FF\", \"size\": [71.695], \"sizemode\": \"area\", \"sizeref\": 0.18529722222222222, \"symbol\": \"circle\"}, \"mode\": \"markers\", \"name\": \"ccode=BRA\", \"showlegend\": true, \"type\": \"scatter\", \"x\": [7.731930721948486], \"xaxis\": \"x\", \"y\": [3.5277], \"yaxis\": \"y\"}, {\"hoverlabel\": {\"namelength\": 0}, \"hovertemplate\": \"<b>%{hovertext}</b><br><br>ccode=BRB<br>loggdp=%{x}<br>growth rate=%{y}<br>pop=%{marker.size}\", \"hovertext\": [\"BRB\"], \"legendgroup\": \"ccode=BRB\", \"marker\": {\"color\": \"#FECB52\", \"size\": [0.23199999999999998], \"sizemode\": \"area\", \"sizeref\": 0.18529722222222222, \"symbol\": \"circle\"}, \"mode\": \"markers\", \"name\": \"ccode=BRB\", \"showlegend\": true, \"type\": \"scatter\", \"x\": [8.878358040627822], \"xaxis\": \"x\", \"y\": [0.6115], \"yaxis\": \"y\"}, {\"hoverlabel\": {\"namelength\": 0}, \"hovertemplate\": \"<b>%{hovertext}</b><br><br>ccode=USA<br>loggdp=%{x}<br>growth rate=%{y}<br>pop=%{marker.size}\", \"hovertext\": [\"USA\"], \"legendgroup\": \"ccode=USA\", \"marker\": {\"color\": \"#636efa\", \"size\": [180.671], \"sizemode\": \"area\", \"sizeref\": 0.18529722222222222, \"symbol\": \"circle\"}, \"mode\": \"markers\", \"name\": \"ccode=USA\", \"showlegend\": true, \"type\": \"scatter\", \"x\": [9.801344078867425], \"xaxis\": \"x\", \"y\": [1.9657], \"yaxis\": \"y\"}, {\"hoverlabel\": {\"namelength\": 0}, \"hovertemplate\": \"<b>%{hovertext}</b><br><br>ccode=AUT<br>loggdp=%{x}<br>growth rate=%{y}<br>pop=%{marker.size}\", \"hovertext\": [\"AUT\"], \"legendgroup\": \"ccode=AUT\", \"marker\": {\"color\": \"#EF553B\", \"size\": [7.047000000000001], \"sizemode\": \"area\", \"sizeref\": 0.18529722222222222, \"symbol\": \"circle\"}, \"mode\": \"markers\", \"name\": \"ccode=AUT\", \"showlegend\": true, \"type\": \"scatter\", \"x\": [9.048762176320128], \"xaxis\": \"x\", \"y\": [3.1281], \"yaxis\": \"y\"}, {\"hoverlabel\": {\"namelength\": 0}, \"hovertemplate\": \"<b>%{hovertext}</b><br><br>ccode=AZE<br>loggdp=%{x}<br>growth rate=%{y}<br>pop=%{marker.size}\", \"hovertext\": [\"AZE\"], \"legendgroup\": \"ccode=AZE\", \"marker\": {\"color\": \"#00cc96\", \"size\": [3.8819999999999997], \"sizemode\": \"area\", \"sizeref\": 0.18529722222222222, \"symbol\": \"circle\"}, \"mode\": \"markers\", \"name\": \"ccode=AZE\", \"showlegend\": true, \"type\": \"scatter\", \"x\": [null], \"xaxis\": \"x\", \"y\": [null], \"yaxis\": \"y\"}, {\"hoverlabel\": {\"namelength\": 0}, \"hovertemplate\": \"<b>%{hovertext}</b><br><br>ccode=BDI<br>loggdp=%{x}<br>growth rate=%{y}<br>pop=%{marker.size}\", \"hovertext\": [\"BDI\"], \"legendgroup\": \"ccode=BDI\", \"marker\": {\"color\": \"#ab63fa\", \"size\": [2.815], \"sizemode\": \"area\", \"sizeref\": 0.18529722222222222, \"symbol\": \"circle\"}, \"mode\": \"markers\", \"name\": \"ccode=BDI\", \"showlegend\": true, \"type\": \"scatter\", \"x\": [6.880384082186005], \"xaxis\": \"x\", \"y\": [-0.411], \"yaxis\": \"y\"}, {\"hoverlabel\": {\"namelength\": 0}, \"hovertemplate\": \"<b>%{hovertext}</b><br><br>ccode=MUS<br>loggdp=%{x}<br>growth rate=%{y}<br>pop=%{marker.size}\", \"hovertext\": [\"MUS\"], \"legendgroup\": \"ccode=MUS\", \"marker\": {\"color\": \"#FFA15A\", \"size\": [0.6629999999999999], \"sizemode\": \"area\", \"sizeref\": 0.18529722222222222, \"symbol\": \"circle\"}, \"mode\": \"markers\", \"name\": \"ccode=MUS\", \"showlegend\": true, \"type\": \"scatter\", \"x\": [8.150467911624004], \"xaxis\": \"x\", \"y\": [3.0722], \"yaxis\": \"y\"}, {\"hoverlabel\": {\"namelength\": 0}, \"hovertemplate\": \"<b>%{hovertext}</b><br><br>ccode=NER<br>loggdp=%{x}<br>growth rate=%{y}<br>pop=%{marker.size}\", \"hovertext\": [\"NER\"], \"legendgroup\": \"ccode=NER\", \"marker\": {\"color\": \"#19d3f3\", \"size\": [3.9130000000000003], \"sizemode\": \"area\", \"sizeref\": 0.18529722222222222, \"symbol\": \"circle\"}, \"mode\": \"markers\", \"name\": \"ccode=NER\", \"showlegend\": true, \"type\": \"scatter\", \"x\": [7.215975002651466], \"xaxis\": \"x\", \"y\": [-0.7773], \"yaxis\": \"y\"}, {\"hoverlabel\": {\"namelength\": 0}, \"hovertemplate\": \"<b>%{hovertext}</b><br><br>ccode=MKD<br>loggdp=%{x}<br>growth rate=%{y}<br>pop=%{marker.size}\", \"hovertext\": [\"MKD\"], \"legendgroup\": \"ccode=MKD\", \"marker\": {\"color\": \"#FF6692\", \"size\": [1.3659999999999999], \"sizemode\": \"area\", \"sizeref\": 0.18529722222222222, \"symbol\": \"circle\"}, \"mode\": \"markers\", \"name\": \"ccode=MKD\", \"showlegend\": true, \"type\": \"scatter\", \"x\": [8.04012466444838], \"xaxis\": \"x\", \"y\": [2.7045], \"yaxis\": \"y\"}, {\"hoverlabel\": {\"namelength\": 0}, \"hovertemplate\": \"<b>%{hovertext}</b><br><br>ccode=NGA<br>loggdp=%{x}<br>growth rate=%{y}<br>pop=%{marker.size}\", \"hovertext\": [\"NGA\"], \"legendgroup\": \"ccode=NGA\", \"marker\": {\"color\": \"#B6E880\", \"size\": [41.547], \"sizemode\": \"area\", \"sizeref\": 0.18529722222222222, \"symbol\": \"circle\"}, \"mode\": \"markers\", \"name\": \"ccode=NGA\", \"showlegend\": true, \"type\": \"scatter\", \"x\": [7.68662133494462], \"xaxis\": \"x\", \"y\": [1.74], \"yaxis\": \"y\"}, {\"hoverlabel\": {\"namelength\": 0}, \"hovertemplate\": \"<b>%{hovertext}</b><br><br>ccode=LVA<br>loggdp=%{x}<br>growth rate=%{y}<br>pop=%{marker.size}\", \"hovertext\": [\"LVA\"], \"legendgroup\": \"ccode=LVA\", \"marker\": {\"color\": \"#FF97FF\", \"size\": [2.115], \"sizemode\": \"area\", \"sizeref\": 0.18529722222222222, \"symbol\": \"circle\"}, \"mode\": \"markers\", \"name\": \"ccode=LVA\", \"showlegend\": true, \"type\": \"scatter\", \"x\": [null], \"xaxis\": \"x\", \"y\": [null], \"yaxis\": \"y\"}, {\"hoverlabel\": {\"namelength\": 0}, \"hovertemplate\": \"<b>%{hovertext}</b><br><br>ccode=GRC<br>loggdp=%{x}<br>growth rate=%{y}<br>pop=%{marker.size}\", \"hovertext\": [\"GRC\"], \"legendgroup\": \"ccode=GRC\", \"marker\": {\"color\": \"#FECB52\", \"size\": [8.327], \"sizemode\": \"area\", \"sizeref\": 0.18529722222222222, \"symbol\": \"circle\"}, \"mode\": \"markers\", \"name\": \"ccode=GRC\", \"showlegend\": true, \"type\": \"scatter\", \"x\": [8.4096079807363], \"xaxis\": \"x\", \"y\": [3.1872], \"yaxis\": \"y\"}, {\"hoverlabel\": {\"namelength\": 0}, \"hovertemplate\": \"<b>%{hovertext}</b><br><br>ccode=NAM<br>loggdp=%{x}<br>growth rate=%{y}<br>pop=%{marker.size}\", \"hovertext\": [\"NAM\"], \"legendgroup\": \"ccode=NAM\", \"marker\": {\"color\": \"#636efa\", \"size\": [0.591], \"sizemode\": \"area\", \"sizeref\": 0.18529722222222222, \"symbol\": \"circle\"}, \"mode\": \"markers\", \"name\": \"ccode=NAM\", \"showlegend\": true, \"type\": \"scatter\", \"x\": [8.28045768658256], \"xaxis\": \"x\", \"y\": [1.9979], \"yaxis\": \"y\"}, {\"hoverlabel\": {\"namelength\": 0}, \"hovertemplate\": \"<b>%{hovertext}</b><br><br>ccode=BEN<br>loggdp=%{x}<br>growth rate=%{y}<br>pop=%{marker.size}\", \"hovertext\": [\"BEN\"], \"legendgroup\": \"ccode=BEN\", \"marker\": {\"color\": \"#EF553B\", \"size\": [2.055], \"sizemode\": \"area\", \"sizeref\": 0.18529722222222222, \"symbol\": \"circle\"}, \"mode\": \"markers\", \"name\": \"ccode=BEN\", \"showlegend\": true, \"type\": \"scatter\", \"x\": [7.155396301896734], \"xaxis\": \"x\", \"y\": [0.9124], \"yaxis\": \"y\"}, {\"hoverlabel\": {\"namelength\": 0}, \"hovertemplate\": \"<b>%{hovertext}</b><br><br>ccode=ZAF<br>loggdp=%{x}<br>growth rate=%{y}<br>pop=%{marker.size}\", \"hovertext\": [\"ZAF\"], \"legendgroup\": \"ccode=ZAF\", \"marker\": {\"color\": \"#00cc96\", \"size\": [17.417], \"sizemode\": \"area\", \"sizeref\": 0.18529722222222222, \"symbol\": \"circle\"}, \"mode\": \"markers\", \"name\": \"ccode=ZAF\", \"showlegend\": true, \"type\": \"scatter\", \"x\": [8.665957964681349], \"xaxis\": \"x\", \"y\": [1.3626], \"yaxis\": \"y\"}, {\"hoverlabel\": {\"namelength\": 0}, \"hovertemplate\": \"<b>%{hovertext}</b><br><br>ccode=GAB<br>loggdp=%{x}<br>growth rate=%{y}<br>pop=%{marker.size}\", \"hovertext\": [\"GAB\"], \"legendgroup\": \"ccode=GAB\", \"marker\": {\"color\": \"#ab63fa\", \"size\": [0.446], \"sizemode\": \"area\", \"sizeref\": 0.18529722222222222, \"symbol\": \"circle\"}, \"mode\": \"markers\", \"name\": \"ccode=GAB\", \"showlegend\": true, \"type\": \"scatter\", \"x\": [8.583355393669907], \"xaxis\": \"x\", \"y\": [1.8073], \"yaxis\": \"y\"}, {\"hoverlabel\": {\"namelength\": 0}, \"hovertemplate\": \"<b>%{hovertext}</b><br><br>ccode=SWE<br>loggdp=%{x}<br>growth rate=%{y}<br>pop=%{marker.size}\", \"hovertext\": [\"SWE\"], \"legendgroup\": \"ccode=SWE\", \"marker\": {\"color\": \"#FFA15A\", \"size\": [7.48], \"sizemode\": \"area\", \"sizeref\": 0.18529722222222222, \"symbol\": \"circle\"}, \"mode\": \"markers\", \"name\": \"ccode=SWE\", \"showlegend\": true, \"type\": \"scatter\", \"x\": [9.340578848899913], \"xaxis\": \"x\", \"y\": [2.4549], \"yaxis\": \"y\"}, {\"hoverlabel\": {\"namelength\": 0}, \"hovertemplate\": \"<b>%{hovertext}</b><br><br>ccode=GNB<br>loggdp=%{x}<br>growth rate=%{y}<br>pop=%{marker.size}\", \"hovertext\": [\"GNB\"], \"legendgroup\": \"ccode=GNB\", \"marker\": {\"color\": \"#19d3f3\", \"size\": [0.617], \"sizemode\": \"area\", \"sizeref\": 0.18529722222222222, \"symbol\": \"circle\"}, \"mode\": \"markers\", \"name\": \"ccode=GNB\", \"showlegend\": true, \"type\": \"scatter\", \"x\": [6.734591659972948], \"xaxis\": \"x\", \"y\": [0.7765], \"yaxis\": \"y\"}, {\"hoverlabel\": {\"namelength\": 0}, \"hovertemplate\": \"<b>%{hovertext}</b><br><br>ccode=DMA<br>loggdp=%{x}<br>growth rate=%{y}<br>pop=%{marker.size}\", \"hovertext\": [\"DMA\"], \"legendgroup\": \"ccode=DMA\", \"marker\": {\"color\": \"#FF6692\", \"size\": [0.06], \"sizemode\": \"area\", \"sizeref\": 0.18529722222222222, \"symbol\": \"circle\"}, \"mode\": \"markers\", \"name\": \"ccode=DMA\", \"showlegend\": true, \"type\": \"scatter\", \"x\": [8.022568946988255], \"xaxis\": \"x\", \"y\": [2.1719], \"yaxis\": \"y\"}, {\"hoverlabel\": {\"namelength\": 0}, \"hovertemplate\": \"<b>%{hovertext}</b><br><br>ccode=QAT<br>loggdp=%{x}<br>growth rate=%{y}<br>pop=%{marker.size}\", \"hovertext\": [\"QAT\"], \"legendgroup\": \"ccode=QAT\", \"marker\": {\"color\": \"#B6E880\", \"size\": [0.046], \"sizemode\": \"area\", \"sizeref\": 0.18529722222222222, \"symbol\": \"circle\"}, \"mode\": \"markers\", \"name\": \"ccode=QAT\", \"showlegend\": true, \"type\": \"scatter\", \"x\": [null], \"xaxis\": \"x\", \"y\": [null], \"yaxis\": \"y\"}, {\"hoverlabel\": {\"namelength\": 0}, \"hovertemplate\": \"<b>%{hovertext}</b><br><br>ccode=SYR<br>loggdp=%{x}<br>growth rate=%{y}<br>pop=%{marker.size}\", \"hovertext\": [\"SYR\"], \"legendgroup\": \"ccode=SYR\", \"marker\": {\"color\": \"#FF97FF\", \"size\": [4.533], \"sizemode\": \"area\", \"sizeref\": 0.18529722222222222, \"symbol\": \"circle\"}, \"mode\": \"markers\", \"name\": \"ccode=SYR\", \"showlegend\": true, \"type\": \"scatter\", \"x\": [7.926602599181384], \"xaxis\": \"x\", \"y\": [0.7147], \"yaxis\": \"y\"}, {\"hoverlabel\": {\"namelength\": 0}, \"hovertemplate\": \"<b>%{hovertext}</b><br><br>ccode=GIN<br>loggdp=%{x}<br>growth rate=%{y}<br>pop=%{marker.size}\", \"hovertext\": [\"GIN\"], \"legendgroup\": \"ccode=GIN\", \"marker\": {\"color\": \"#FECB52\", \"size\": [3.0260000000000002], \"sizemode\": \"area\", \"sizeref\": 0.18529722222222222, \"symbol\": \"circle\"}, \"mode\": \"markers\", \"name\": \"ccode=GIN\", \"showlegend\": true, \"type\": \"scatter\", \"x\": [7.257707677160043], \"xaxis\": \"x\", \"y\": [0.2752], \"yaxis\": \"y\"}, {\"hoverlabel\": {\"namelength\": 0}, \"hovertemplate\": \"<b>%{hovertext}</b><br><br>ccode=HND<br>loggdp=%{x}<br>growth rate=%{y}<br>pop=%{marker.size}\", \"hovertext\": [\"HND\"], \"legendgroup\": \"ccode=HND\", \"marker\": {\"color\": \"#636efa\", \"size\": [1.952], \"sizemode\": \"area\", \"sizeref\": 0.18529722222222222, \"symbol\": \"circle\"}, \"mode\": \"markers\", \"name\": \"ccode=HND\", \"showlegend\": true, \"type\": \"scatter\", \"x\": [7.586803535162581], \"xaxis\": \"x\", \"y\": [1.4418], \"yaxis\": \"y\"}, {\"hoverlabel\": {\"namelength\": 0}, \"hovertemplate\": \"<b>%{hovertext}</b><br><br>ccode=UZB<br>loggdp=%{x}<br>growth rate=%{y}<br>pop=%{marker.size}\", \"hovertext\": [\"UZB\"], \"legendgroup\": \"ccode=UZB\", \"marker\": {\"color\": \"#EF553B\", \"size\": [8.531], \"sizemode\": \"area\", \"sizeref\": 0.18529722222222222, \"symbol\": \"circle\"}, \"mode\": \"markers\", \"name\": \"ccode=UZB\", \"showlegend\": true, \"type\": \"scatter\", \"x\": [null], \"xaxis\": \"x\", \"y\": [null], \"yaxis\": \"y\"}, {\"hoverlabel\": {\"namelength\": 0}, \"hovertemplate\": \"<b>%{hovertext}</b><br><br>ccode=GTM<br>loggdp=%{x}<br>growth rate=%{y}<br>pop=%{marker.size}\", \"hovertext\": [\"GTM\"], \"legendgroup\": \"ccode=GTM\", \"marker\": {\"color\": \"#00cc96\", \"size\": [4.1], \"sizemode\": \"area\", \"sizeref\": 0.18529722222222222, \"symbol\": \"circle\"}, \"mode\": \"markers\", \"name\": \"ccode=GTM\", \"showlegend\": true, \"type\": \"scatter\", \"x\": [7.671826797878781], \"xaxis\": \"x\", \"y\": [2.1855], \"yaxis\": \"y\"}, {\"hoverlabel\": {\"namelength\": 0}, \"hovertemplate\": \"<b>%{hovertext}</b><br><br>ccode=HTI<br>loggdp=%{x}<br>growth rate=%{y}<br>pop=%{marker.size}\", \"hovertext\": [\"HTI\"], \"legendgroup\": \"ccode=HTI\", \"marker\": {\"color\": \"#ab63fa\", \"size\": [3.697], \"sizemode\": \"area\", \"sizeref\": 0.18529722222222222, \"symbol\": \"circle\"}, \"mode\": \"markers\", \"name\": \"ccode=HTI\", \"showlegend\": true, \"type\": \"scatter\", \"x\": [7.897296472595885], \"xaxis\": \"x\", \"y\": [-0.8955], \"yaxis\": \"y\"}, {\"hoverlabel\": {\"namelength\": 0}, \"hovertemplate\": \"<b>%{hovertext}</b><br><br>ccode=ISL<br>loggdp=%{x}<br>growth rate=%{y}<br>pop=%{marker.size}\", \"hovertext\": [\"ISL\"], \"legendgroup\": \"ccode=ISL\", \"marker\": {\"color\": \"#FFA15A\", \"size\": [0.17600000000000002], \"sizemode\": \"area\", \"sizeref\": 0.18529722222222222, \"symbol\": \"circle\"}, \"mode\": \"markers\", \"name\": \"ccode=ISL\", \"showlegend\": true, \"type\": \"scatter\", \"x\": [9.333796175903101], \"xaxis\": \"x\", \"y\": [2.3367], \"yaxis\": \"y\"}, {\"hoverlabel\": {\"namelength\": 0}, \"hovertemplate\": \"<b>%{hovertext}</b><br><br>ccode=BGD<br>loggdp=%{x}<br>growth rate=%{y}<br>pop=%{marker.size}\", \"hovertext\": [\"BGD\"], \"legendgroup\": \"ccode=BGD\", \"marker\": {\"color\": \"#19d3f3\", \"size\": [54.593], \"sizemode\": \"area\", \"sizeref\": 0.18529722222222222, \"symbol\": \"circle\"}, \"mode\": \"markers\", \"name\": \"ccode=BGD\", \"showlegend\": true, \"type\": \"scatter\", \"x\": [7.048386408721883], \"xaxis\": \"x\", \"y\": [1.7266], \"yaxis\": \"y\"}, {\"hoverlabel\": {\"namelength\": 0}, \"hovertemplate\": \"<b>%{hovertext}</b><br><br>ccode=OMN<br>loggdp=%{x}<br>growth rate=%{y}<br>pop=%{marker.size}\", \"hovertext\": [\"OMN\"], \"legendgroup\": \"ccode=OMN\", \"marker\": {\"color\": \"#FF6692\", \"size\": [0.599], \"sizemode\": \"area\", \"sizeref\": 0.18529722222222222, \"symbol\": \"circle\"}, \"mode\": \"markers\", \"name\": \"ccode=OMN\", \"showlegend\": true, \"type\": \"scatter\", \"x\": [7.578656850594762], \"xaxis\": \"x\", \"y\": [5.6346], \"yaxis\": \"y\"}, {\"hoverlabel\": {\"namelength\": 0}, \"hovertemplate\": \"<b>%{hovertext}</b><br><br>ccode=YEM<br>loggdp=%{x}<br>growth rate=%{y}<br>pop=%{marker.size}\", \"hovertext\": [\"YEM\"], \"legendgroup\": \"ccode=YEM\", \"marker\": {\"color\": \"#B6E880\", \"size\": [5.872000000000001], \"sizemode\": \"area\", \"sizeref\": 0.18529722222222222, \"symbol\": \"circle\"}, \"mode\": \"markers\", \"name\": \"ccode=YEM\", \"showlegend\": true, \"type\": \"scatter\", \"x\": [7.017506142941256], \"xaxis\": \"x\", \"y\": [2.1703], \"yaxis\": \"y\"}, {\"hoverlabel\": {\"namelength\": 0}, \"hovertemplate\": \"<b>%{hovertext}</b><br><br>ccode=MLT<br>loggdp=%{x}<br>growth rate=%{y}<br>pop=%{marker.size}\", \"hovertext\": [\"MLT\"], \"legendgroup\": \"ccode=MLT\", \"marker\": {\"color\": \"#FF97FF\", \"size\": [0.32899999999999996], \"sizemode\": \"area\", \"sizeref\": 0.18529722222222222, \"symbol\": \"circle\"}, \"mode\": \"markers\", \"name\": \"ccode=MLT\", \"showlegend\": true, \"type\": \"scatter\", \"x\": [7.7752758464868625], \"xaxis\": \"x\", \"y\": [4.4506], \"yaxis\": \"y\"}, {\"hoverlabel\": {\"namelength\": 0}, \"hovertemplate\": \"<b>%{hovertext}</b><br><br>ccode=ARM<br>loggdp=%{x}<br>growth rate=%{y}<br>pop=%{marker.size}\", \"hovertext\": [\"ARM\"], \"legendgroup\": \"ccode=ARM\", \"marker\": {\"color\": \"#FECB52\", \"size\": [1.869], \"sizemode\": \"area\", \"sizeref\": 0.18529722222222222, \"symbol\": \"circle\"}, \"mode\": \"markers\", \"name\": \"ccode=ARM\", \"showlegend\": true, \"type\": \"scatter\", \"x\": [null], \"xaxis\": \"x\", \"y\": [null], \"yaxis\": \"y\"}, {\"hoverlabel\": {\"namelength\": 0}, \"hovertemplate\": \"<b>%{hovertext}</b><br><br>ccode=STP<br>loggdp=%{x}<br>growth rate=%{y}<br>pop=%{marker.size}\", \"hovertext\": [\"STP\"], \"legendgroup\": \"ccode=STP\", \"marker\": {\"color\": \"#636efa\", \"size\": [0.063], \"sizemode\": \"area\", \"sizeref\": 0.18529722222222222, \"symbol\": \"circle\"}, \"mode\": \"markers\", \"name\": \"ccode=STP\", \"showlegend\": true, \"type\": \"scatter\", \"x\": [7.0967213784947605], \"xaxis\": \"x\", \"y\": [1.9836], \"yaxis\": \"y\"}, {\"hoverlabel\": {\"namelength\": 0}, \"hovertemplate\": \"<b>%{hovertext}</b><br><br>ccode=CRI<br>loggdp=%{x}<br>growth rate=%{y}<br>pop=%{marker.size}\", \"hovertext\": [\"CRI\"], \"legendgroup\": \"ccode=CRI\", \"marker\": {\"color\": \"#EF553B\", \"size\": [1.248], \"sizemode\": \"area\", \"sizeref\": 0.18529722222222222, \"symbol\": \"circle\"}, \"mode\": \"markers\", \"name\": \"ccode=CRI\", \"showlegend\": true, \"type\": \"scatter\", \"x\": [8.248790733696413], \"xaxis\": \"x\", \"y\": [2.3094], \"yaxis\": \"y\"}, {\"hoverlabel\": {\"namelength\": 0}, \"hovertemplate\": \"<b>%{hovertext}</b><br><br>ccode=LTU<br>loggdp=%{x}<br>growth rate=%{y}<br>pop=%{marker.size}\", \"hovertext\": [\"LTU\"], \"legendgroup\": \"ccode=LTU\", \"marker\": {\"color\": \"#00cc96\", \"size\": [2.765], \"sizemode\": \"area\", \"sizeref\": 0.18529722222222222, \"symbol\": \"circle\"}, \"mode\": \"markers\", \"name\": \"ccode=LTU\", \"showlegend\": true, \"type\": \"scatter\", \"x\": [null], \"xaxis\": \"x\", \"y\": [null], \"yaxis\": \"y\"}, {\"hoverlabel\": {\"namelength\": 0}, \"hovertemplate\": \"<b>%{hovertext}</b><br><br>ccode=CIV<br>loggdp=%{x}<br>growth rate=%{y}<br>pop=%{marker.size}\", \"hovertext\": [\"CIV\"], \"legendgroup\": \"ccode=CIV\", \"marker\": {\"color\": \"#ab63fa\", \"size\": [3.576], \"sizemode\": \"area\", \"sizeref\": 0.18529722222222222, \"symbol\": \"circle\"}, \"mode\": \"markers\", \"name\": \"ccode=CIV\", \"showlegend\": true, \"type\": \"scatter\", \"x\": [7.635303886259415], \"xaxis\": \"x\", \"y\": [0.8389], \"yaxis\": \"y\"}, {\"hoverlabel\": {\"namelength\": 0}, \"hovertemplate\": \"<b>%{hovertext}</b><br><br>ccode=GHA<br>loggdp=%{x}<br>growth rate=%{y}<br>pop=%{marker.size}\", \"hovertext\": [\"GHA\"], \"legendgroup\": \"ccode=GHA\", \"marker\": {\"color\": \"#FFA15A\", \"size\": [6.957999999999999], \"sizemode\": \"area\", \"sizeref\": 0.18529722222222222, \"symbol\": \"circle\"}, \"mode\": \"markers\", \"name\": \"ccode=GHA\", \"showlegend\": true, \"type\": \"scatter\", \"x\": [7.920446505142607], \"xaxis\": \"x\", \"y\": [0.5119], \"yaxis\": \"y\"}, {\"hoverlabel\": {\"namelength\": 0}, \"hovertemplate\": \"<b>%{hovertext}</b><br><br>ccode=IRL<br>loggdp=%{x}<br>growth rate=%{y}<br>pop=%{marker.size}\", \"hovertext\": [\"IRL\"], \"legendgroup\": \"ccode=IRL\", \"marker\": {\"color\": \"#19d3f3\", \"size\": [2.832], \"sizemode\": \"area\", \"sizeref\": 0.18529722222222222, \"symbol\": \"circle\"}, \"mode\": \"markers\", \"name\": \"ccode=IRL\", \"showlegend\": true, \"type\": \"scatter\", \"x\": [8.667163717992533], \"xaxis\": \"x\", \"y\": [4.134], \"yaxis\": \"y\"}, {\"hoverlabel\": {\"namelength\": 0}, \"hovertemplate\": \"<b>%{hovertext}</b><br><br>ccode=SEN<br>loggdp=%{x}<br>growth rate=%{y}<br>pop=%{marker.size}\", \"hovertext\": [\"SEN\"], \"legendgroup\": \"ccode=SEN\", \"marker\": {\"color\": \"#FF6692\", \"size\": [3.27], \"sizemode\": \"area\", \"sizeref\": 0.18529722222222222, \"symbol\": \"circle\"}, \"mode\": \"markers\", \"name\": \"ccode=SEN\", \"showlegend\": true, \"type\": \"scatter\", \"x\": [7.756623334538858], \"xaxis\": \"x\", \"y\": [0.0134], \"yaxis\": \"y\"}, {\"hoverlabel\": {\"namelength\": 0}, \"hovertemplate\": \"<b>%{hovertext}</b><br><br>ccode=TUN<br>loggdp=%{x}<br>growth rate=%{y}<br>pop=%{marker.size}\", \"hovertext\": [\"TUN\"], \"legendgroup\": \"ccode=TUN\", \"marker\": {\"color\": \"#B6E880\", \"size\": [4.149], \"sizemode\": \"area\", \"sizeref\": 0.18529722222222222, \"symbol\": \"circle\"}, \"mode\": \"markers\", \"name\": \"ccode=TUN\", \"showlegend\": true, \"type\": \"scatter\", \"x\": [7.575584651557793], \"xaxis\": \"x\", \"y\": [3.1827], \"yaxis\": \"y\"}, {\"hoverlabel\": {\"namelength\": 0}, \"hovertemplate\": \"<b>%{hovertext}</b><br><br>ccode=GBR<br>loggdp=%{x}<br>growth rate=%{y}<br>pop=%{marker.size}\", \"hovertext\": [\"GBR\"], \"legendgroup\": \"ccode=GBR\", \"marker\": {\"color\": \"#FF97FF\", \"size\": [52.372], \"sizemode\": \"area\", \"sizeref\": 0.18529722222222222, \"symbol\": \"circle\"}, \"mode\": \"markers\", \"name\": \"ccode=GBR\", \"showlegend\": true, \"type\": \"scatter\", \"x\": [9.392661928770137], \"xaxis\": \"x\", \"y\": [2.1685], \"yaxis\": \"y\"}, {\"hoverlabel\": {\"namelength\": 0}, \"hovertemplate\": \"<b>%{hovertext}</b><br><br>ccode=MOZ<br>loggdp=%{x}<br>growth rate=%{y}<br>pop=%{marker.size}\", \"hovertext\": [\"MOZ\"], \"legendgroup\": \"ccode=MOZ\", \"marker\": {\"color\": \"#FECB52\", \"size\": [7.472], \"sizemode\": \"area\", \"sizeref\": 0.18529722222222222, \"symbol\": \"circle\"}, \"mode\": \"markers\", \"name\": \"ccode=MOZ\", \"showlegend\": true, \"type\": \"scatter\", \"x\": [6.302618975744905], \"xaxis\": \"x\", \"y\": [1.5108], \"yaxis\": \"y\"}, {\"hoverlabel\": {\"namelength\": 0}, \"hovertemplate\": \"<b>%{hovertext}</b><br><br>ccode=KWT<br>loggdp=%{x}<br>growth rate=%{y}<br>pop=%{marker.size}\", \"hovertext\": [\"KWT\"], \"legendgroup\": \"ccode=KWT\", \"marker\": {\"color\": \"#636efa\", \"size\": [0.292], \"sizemode\": \"area\", \"sizeref\": 0.18529722222222222, \"symbol\": \"circle\"}, \"mode\": \"markers\", \"name\": \"ccode=KWT\", \"showlegend\": true, \"type\": \"scatter\", \"x\": [null], \"xaxis\": \"x\", \"y\": [null], \"yaxis\": \"y\"}, {\"hoverlabel\": {\"namelength\": 0}, \"hovertemplate\": \"<b>%{hovertext}</b><br><br>ccode=CYP<br>loggdp=%{x}<br>growth rate=%{y}<br>pop=%{marker.size}\", \"hovertext\": [\"CYP\"], \"legendgroup\": \"ccode=CYP\", \"marker\": {\"color\": \"#EF553B\", \"size\": [0.573], \"sizemode\": \"area\", \"sizeref\": 0.18529722222222222, \"symbol\": \"circle\"}, \"mode\": \"markers\", \"name\": \"ccode=CYP\", \"showlegend\": true, \"type\": \"scatter\", \"x\": [8.417372856134026], \"xaxis\": \"x\", \"y\": [3.2411], \"yaxis\": \"y\"}, {\"hoverlabel\": {\"namelength\": 0}, \"hovertemplate\": \"<b>%{hovertext}</b><br><br>ccode=GEO<br>loggdp=%{x}<br>growth rate=%{y}<br>pop=%{marker.size}\", \"hovertext\": [\"GEO\"], \"legendgroup\": \"ccode=GEO\", \"marker\": {\"color\": \"#00cc96\", \"size\": [4.147], \"sizemode\": \"area\", \"sizeref\": 0.18529722222222222, \"symbol\": \"circle\"}, \"mode\": \"markers\", \"name\": \"ccode=GEO\", \"showlegend\": true, \"type\": \"scatter\", \"x\": [null], \"xaxis\": \"x\", \"y\": [null], \"yaxis\": \"y\"}, {\"hoverlabel\": {\"namelength\": 0}, \"hovertemplate\": \"<b>%{hovertext}</b><br><br>ccode=LAO<br>loggdp=%{x}<br>growth rate=%{y}<br>pop=%{marker.size}\", \"hovertext\": [\"LAO\"], \"legendgroup\": \"ccode=LAO\", \"marker\": {\"color\": \"#ab63fa\", \"size\": [2.309], \"sizemode\": \"area\", \"sizeref\": 0.18529722222222222, \"symbol\": \"circle\"}, \"mode\": \"markers\", \"name\": \"ccode=LAO\", \"showlegend\": true, \"type\": \"scatter\", \"x\": [6.5337888379333435], \"xaxis\": \"x\", \"y\": [3.9821], \"yaxis\": \"y\"}, {\"hoverlabel\": {\"namelength\": 0}, \"hovertemplate\": \"<b>%{hovertext}</b><br><br>ccode=ISR<br>loggdp=%{x}<br>growth rate=%{y}<br>pop=%{marker.size}\", \"hovertext\": [\"ISR\"], \"legendgroup\": \"ccode=ISR\", \"marker\": {\"color\": \"#FFA15A\", \"size\": [2.141], \"sizemode\": \"area\", \"sizeref\": 0.18529722222222222, \"symbol\": \"circle\"}, \"mode\": \"markers\", \"name\": \"ccode=ISR\", \"showlegend\": true, \"type\": \"scatter\", \"x\": [8.79920924224139], \"xaxis\": \"x\", \"y\": [2.9254], \"yaxis\": \"y\"}, {\"hoverlabel\": {\"namelength\": 0}, \"hovertemplate\": \"<b>%{hovertext}</b><br><br>ccode=TJK<br>loggdp=%{x}<br>growth rate=%{y}<br>pop=%{marker.size}\", \"hovertext\": [\"TJK\"], \"legendgroup\": \"ccode=TJK\", \"marker\": {\"color\": \"#19d3f3\", \"size\": [2.081], \"sizemode\": \"area\", \"sizeref\": 0.18529722222222222, \"symbol\": \"circle\"}, \"mode\": \"markers\", \"name\": \"ccode=TJK\", \"showlegend\": true, \"type\": \"scatter\", \"x\": [null], \"xaxis\": \"x\", \"y\": [null], \"yaxis\": \"y\"}, {\"hoverlabel\": {\"namelength\": 0}, \"hovertemplate\": \"<b>%{hovertext}</b><br><br>ccode=UKR<br>loggdp=%{x}<br>growth rate=%{y}<br>pop=%{marker.size}\", \"hovertext\": [\"UKR\"], \"legendgroup\": \"ccode=UKR\", \"marker\": {\"color\": \"#FF6692\", \"size\": [42.644], \"sizemode\": \"area\", \"sizeref\": 0.18529722222222222, \"symbol\": \"circle\"}, \"mode\": \"markers\", \"name\": \"ccode=UKR\", \"showlegend\": true, \"type\": \"scatter\", \"x\": [null], \"xaxis\": \"x\", \"y\": [null], \"yaxis\": \"y\"}, {\"hoverlabel\": {\"namelength\": 0}, \"hovertemplate\": \"<b>%{hovertext}</b><br><br>ccode=COL<br>loggdp=%{x}<br>growth rate=%{y}<br>pop=%{marker.size}\", \"hovertext\": [\"COL\"], \"legendgroup\": \"ccode=COL\", \"marker\": {\"color\": \"#B6E880\", \"size\": [15.953], \"sizemode\": \"area\", \"sizeref\": 0.18529722222222222, \"symbol\": \"circle\"}, \"mode\": \"markers\", \"name\": \"ccode=COL\", \"showlegend\": true, \"type\": \"scatter\", \"x\": [8.124743020385568], \"xaxis\": \"x\", \"y\": [2.4712], \"yaxis\": \"y\"}, {\"hoverlabel\": {\"namelength\": 0}, \"hovertemplate\": \"<b>%{hovertext}</b><br><br>ccode=TZA<br>loggdp=%{x}<br>growth rate=%{y}<br>pop=%{marker.size}\", \"hovertext\": [\"TZA\"], \"legendgroup\": \"ccode=TZA\", \"marker\": {\"color\": \"#FF97FF\", \"size\": [10.26], \"sizemode\": \"area\", \"sizeref\": 0.18529722222222222, \"symbol\": \"circle\"}, \"mode\": \"markers\", \"name\": \"ccode=TZA\", \"showlegend\": true, \"type\": \"scatter\", \"x\": [7.215239978730097], \"xaxis\": \"x\", \"y\": [1.006], \"yaxis\": \"y\"}, {\"hoverlabel\": {\"namelength\": 0}, \"hovertemplate\": \"<b>%{hovertext}</b><br><br>ccode=NLD<br>loggdp=%{x}<br>growth rate=%{y}<br>pop=%{marker.size}\", \"hovertext\": [\"NLD\"], \"legendgroup\": \"ccode=NLD\", \"marker\": {\"color\": \"#FECB52\", \"size\": [11.485999999999999], \"sizemode\": \"area\", \"sizeref\": 0.18529722222222222, \"symbol\": \"circle\"}, \"mode\": \"markers\", \"name\": \"ccode=NLD\", \"showlegend\": true, \"type\": \"scatter\", \"x\": [9.284519770150434], \"xaxis\": \"x\", \"y\": [2.7961], \"yaxis\": \"y\"}, {\"hoverlabel\": {\"namelength\": 0}, \"hovertemplate\": \"<b>%{hovertext}</b><br><br>ccode=PRY<br>loggdp=%{x}<br>growth rate=%{y}<br>pop=%{marker.size}\", \"hovertext\": [\"PRY\"], \"legendgroup\": \"ccode=PRY\", \"marker\": {\"color\": \"#636efa\", \"size\": [1.91], \"sizemode\": \"area\", \"sizeref\": 0.18529722222222222, \"symbol\": \"circle\"}, \"mode\": \"markers\", \"name\": \"ccode=PRY\", \"showlegend\": true, \"type\": \"scatter\", \"x\": [7.0825485693553], \"xaxis\": \"x\", \"y\": [3.6398], \"yaxis\": \"y\"}, {\"hoverlabel\": {\"namelength\": 0}, \"hovertemplate\": \"<b>%{hovertext}</b><br><br>ccode=SAU<br>loggdp=%{x}<br>growth rate=%{y}<br>pop=%{marker.size}\", \"hovertext\": [\"SAU\"], \"legendgroup\": \"ccode=SAU\", \"marker\": {\"color\": \"#EF553B\", \"size\": [4.718], \"sizemode\": \"area\", \"sizeref\": 0.18529722222222222, \"symbol\": \"circle\"}, \"mode\": \"markers\", \"name\": \"ccode=SAU\", \"showlegend\": true, \"type\": \"scatter\", \"x\": [8.92399074475818], \"xaxis\": \"x\", \"y\": [3.4473], \"yaxis\": \"y\"}, {\"hoverlabel\": {\"namelength\": 0}, \"hovertemplate\": \"<b>%{hovertext}</b><br><br>ccode=ROU<br>loggdp=%{x}<br>growth rate=%{y}<br>pop=%{marker.size}\", \"hovertext\": [\"ROU\"], \"legendgroup\": \"ccode=ROU\", \"marker\": {\"color\": \"#00cc96\", \"size\": [18.403], \"sizemode\": \"area\", \"sizeref\": 0.18529722222222222, \"symbol\": \"circle\"}, \"mode\": \"markers\", \"name\": \"ccode=ROU\", \"showlegend\": true, \"type\": \"scatter\", \"x\": [7.52456122628536], \"xaxis\": \"x\", \"y\": [4.474], \"yaxis\": \"y\"}, {\"hoverlabel\": {\"namelength\": 0}, \"hovertemplate\": \"<b>%{hovertext}</b><br><br>ccode=JPN<br>loggdp=%{x}<br>growth rate=%{y}<br>pop=%{marker.size}\", \"hovertext\": [\"JPN\"], \"legendgroup\": \"ccode=JPN\", \"marker\": {\"color\": \"#ab63fa\", \"size\": [94.09200000000001], \"sizemode\": \"area\", \"sizeref\": 0.18529722222222222, \"symbol\": \"circle\"}, \"mode\": \"markers\", \"name\": \"ccode=JPN\", \"showlegend\": true, \"type\": \"scatter\", \"x\": [8.553525120663627], \"xaxis\": \"x\", \"y\": [3.6294], \"yaxis\": \"y\"}, {\"hoverlabel\": {\"namelength\": 0}, \"hovertemplate\": \"<b>%{hovertext}</b><br><br>ccode=MWI<br>loggdp=%{x}<br>growth rate=%{y}<br>pop=%{marker.size}\", \"hovertext\": [\"MWI\"], \"legendgroup\": \"ccode=MWI\", \"marker\": {\"color\": \"#FFA15A\", \"size\": [3.45], \"sizemode\": \"area\", \"sizeref\": 0.18529722222222222, \"symbol\": \"circle\"}, \"mode\": \"markers\", \"name\": \"ccode=MWI\", \"showlegend\": true, \"type\": \"scatter\", \"x\": [6.9957661563048505], \"xaxis\": \"x\", \"y\": [-0.2306], \"yaxis\": \"y\"}],\n",
       "                        {\"height\": 600, \"legend\": {\"itemsizing\": \"constant\", \"tracegroupgap\": 0}, \"margin\": {\"t\": 60}, \"template\": {\"data\": {\"bar\": [{\"error_x\": {\"color\": \"#2a3f5f\"}, \"error_y\": {\"color\": \"#2a3f5f\"}, \"marker\": {\"line\": {\"color\": \"#E5ECF6\", \"width\": 0.5}}, \"type\": \"bar\"}], \"barpolar\": [{\"marker\": {\"line\": {\"color\": \"#E5ECF6\", \"width\": 0.5}}, \"type\": \"barpolar\"}], \"carpet\": [{\"aaxis\": {\"endlinecolor\": \"#2a3f5f\", \"gridcolor\": \"white\", \"linecolor\": \"white\", \"minorgridcolor\": \"white\", \"startlinecolor\": \"#2a3f5f\"}, \"baxis\": {\"endlinecolor\": \"#2a3f5f\", \"gridcolor\": \"white\", \"linecolor\": \"white\", \"minorgridcolor\": \"white\", \"startlinecolor\": \"#2a3f5f\"}, \"type\": \"carpet\"}], \"choropleth\": [{\"colorbar\": {\"outlinewidth\": 0, \"ticks\": \"\"}, \"type\": \"choropleth\"}], \"contour\": [{\"colorbar\": {\"outlinewidth\": 0, \"ticks\": \"\"}, \"colorscale\": [[0.0, \"#0d0887\"], [0.1111111111111111, \"#46039f\"], [0.2222222222222222, \"#7201a8\"], [0.3333333333333333, \"#9c179e\"], [0.4444444444444444, \"#bd3786\"], [0.5555555555555556, \"#d8576b\"], [0.6666666666666666, \"#ed7953\"], [0.7777777777777778, \"#fb9f3a\"], [0.8888888888888888, \"#fdca26\"], [1.0, \"#f0f921\"]], \"type\": \"contour\"}], \"contourcarpet\": [{\"colorbar\": {\"outlinewidth\": 0, \"ticks\": \"\"}, \"type\": \"contourcarpet\"}], \"heatmap\": [{\"colorbar\": {\"outlinewidth\": 0, \"ticks\": \"\"}, \"colorscale\": [[0.0, \"#0d0887\"], [0.1111111111111111, \"#46039f\"], [0.2222222222222222, \"#7201a8\"], [0.3333333333333333, \"#9c179e\"], [0.4444444444444444, \"#bd3786\"], [0.5555555555555556, \"#d8576b\"], [0.6666666666666666, \"#ed7953\"], [0.7777777777777778, \"#fb9f3a\"], [0.8888888888888888, \"#fdca26\"], [1.0, \"#f0f921\"]], \"type\": \"heatmap\"}], \"heatmapgl\": [{\"colorbar\": {\"outlinewidth\": 0, \"ticks\": \"\"}, \"colorscale\": [[0.0, \"#0d0887\"], [0.1111111111111111, \"#46039f\"], [0.2222222222222222, \"#7201a8\"], [0.3333333333333333, \"#9c179e\"], [0.4444444444444444, \"#bd3786\"], [0.5555555555555556, \"#d8576b\"], [0.6666666666666666, \"#ed7953\"], [0.7777777777777778, \"#fb9f3a\"], [0.8888888888888888, \"#fdca26\"], [1.0, \"#f0f921\"]], \"type\": \"heatmapgl\"}], \"histogram\": [{\"marker\": {\"colorbar\": {\"outlinewidth\": 0, \"ticks\": \"\"}}, \"type\": \"histogram\"}], \"histogram2d\": [{\"colorbar\": {\"outlinewidth\": 0, \"ticks\": \"\"}, \"colorscale\": [[0.0, \"#0d0887\"], [0.1111111111111111, \"#46039f\"], [0.2222222222222222, \"#7201a8\"], [0.3333333333333333, \"#9c179e\"], [0.4444444444444444, \"#bd3786\"], [0.5555555555555556, \"#d8576b\"], [0.6666666666666666, \"#ed7953\"], [0.7777777777777778, \"#fb9f3a\"], [0.8888888888888888, \"#fdca26\"], [1.0, \"#f0f921\"]], \"type\": \"histogram2d\"}], \"histogram2dcontour\": [{\"colorbar\": {\"outlinewidth\": 0, \"ticks\": \"\"}, \"colorscale\": [[0.0, \"#0d0887\"], [0.1111111111111111, \"#46039f\"], [0.2222222222222222, \"#7201a8\"], [0.3333333333333333, \"#9c179e\"], [0.4444444444444444, \"#bd3786\"], [0.5555555555555556, \"#d8576b\"], [0.6666666666666666, \"#ed7953\"], [0.7777777777777778, \"#fb9f3a\"], [0.8888888888888888, \"#fdca26\"], [1.0, \"#f0f921\"]], \"type\": \"histogram2dcontour\"}], \"mesh3d\": [{\"colorbar\": {\"outlinewidth\": 0, \"ticks\": \"\"}, \"type\": \"mesh3d\"}], \"parcoords\": [{\"line\": {\"colorbar\": {\"outlinewidth\": 0, \"ticks\": \"\"}}, \"type\": \"parcoords\"}], \"pie\": [{\"automargin\": true, \"type\": \"pie\"}], \"scatter\": [{\"marker\": {\"colorbar\": {\"outlinewidth\": 0, \"ticks\": \"\"}}, \"type\": \"scatter\"}], \"scatter3d\": [{\"line\": {\"colorbar\": {\"outlinewidth\": 0, \"ticks\": \"\"}}, \"marker\": {\"colorbar\": {\"outlinewidth\": 0, \"ticks\": \"\"}}, \"type\": \"scatter3d\"}], \"scattercarpet\": [{\"marker\": {\"colorbar\": {\"outlinewidth\": 0, \"ticks\": \"\"}}, \"type\": \"scattercarpet\"}], \"scattergeo\": [{\"marker\": {\"colorbar\": {\"outlinewidth\": 0, \"ticks\": \"\"}}, \"type\": \"scattergeo\"}], \"scattergl\": [{\"marker\": {\"colorbar\": {\"outlinewidth\": 0, \"ticks\": \"\"}}, \"type\": \"scattergl\"}], \"scattermapbox\": [{\"marker\": {\"colorbar\": {\"outlinewidth\": 0, \"ticks\": \"\"}}, \"type\": \"scattermapbox\"}], \"scatterpolar\": [{\"marker\": {\"colorbar\": {\"outlinewidth\": 0, \"ticks\": \"\"}}, \"type\": \"scatterpolar\"}], \"scatterpolargl\": [{\"marker\": {\"colorbar\": {\"outlinewidth\": 0, \"ticks\": \"\"}}, \"type\": \"scatterpolargl\"}], \"scatterternary\": [{\"marker\": {\"colorbar\": {\"outlinewidth\": 0, \"ticks\": \"\"}}, \"type\": \"scatterternary\"}], \"surface\": [{\"colorbar\": {\"outlinewidth\": 0, \"ticks\": \"\"}, \"colorscale\": [[0.0, \"#0d0887\"], [0.1111111111111111, \"#46039f\"], [0.2222222222222222, \"#7201a8\"], [0.3333333333333333, \"#9c179e\"], [0.4444444444444444, \"#bd3786\"], [0.5555555555555556, \"#d8576b\"], [0.6666666666666666, \"#ed7953\"], [0.7777777777777778, \"#fb9f3a\"], [0.8888888888888888, \"#fdca26\"], [1.0, \"#f0f921\"]], \"type\": \"surface\"}], \"table\": [{\"cells\": {\"fill\": {\"color\": \"#EBF0F8\"}, \"line\": {\"color\": \"white\"}}, \"header\": {\"fill\": {\"color\": \"#C8D4E3\"}, \"line\": {\"color\": \"white\"}}, \"type\": \"table\"}]}, \"layout\": {\"annotationdefaults\": {\"arrowcolor\": \"#2a3f5f\", \"arrowhead\": 0, \"arrowwidth\": 1}, \"coloraxis\": {\"colorbar\": {\"outlinewidth\": 0, \"ticks\": \"\"}}, \"colorscale\": {\"diverging\": [[0, \"#8e0152\"], [0.1, \"#c51b7d\"], [0.2, \"#de77ae\"], [0.3, \"#f1b6da\"], [0.4, \"#fde0ef\"], [0.5, \"#f7f7f7\"], [0.6, \"#e6f5d0\"], [0.7, \"#b8e186\"], [0.8, \"#7fbc41\"], [0.9, \"#4d9221\"], [1, \"#276419\"]], \"sequential\": [[0.0, \"#0d0887\"], [0.1111111111111111, \"#46039f\"], [0.2222222222222222, \"#7201a8\"], [0.3333333333333333, \"#9c179e\"], [0.4444444444444444, \"#bd3786\"], [0.5555555555555556, \"#d8576b\"], [0.6666666666666666, \"#ed7953\"], [0.7777777777777778, \"#fb9f3a\"], [0.8888888888888888, \"#fdca26\"], [1.0, \"#f0f921\"]], \"sequentialminus\": [[0.0, \"#0d0887\"], [0.1111111111111111, \"#46039f\"], [0.2222222222222222, \"#7201a8\"], [0.3333333333333333, \"#9c179e\"], [0.4444444444444444, \"#bd3786\"], [0.5555555555555556, \"#d8576b\"], [0.6666666666666666, \"#ed7953\"], [0.7777777777777778, \"#fb9f3a\"], [0.8888888888888888, \"#fdca26\"], [1.0, \"#f0f921\"]]}, \"colorway\": [\"#636efa\", \"#EF553B\", \"#00cc96\", \"#ab63fa\", \"#FFA15A\", \"#19d3f3\", \"#FF6692\", \"#B6E880\", \"#FF97FF\", \"#FECB52\"], \"font\": {\"color\": \"#2a3f5f\"}, \"geo\": {\"bgcolor\": \"white\", \"lakecolor\": \"white\", \"landcolor\": \"#E5ECF6\", \"showlakes\": true, \"showland\": true, \"subunitcolor\": \"white\"}, \"hoverlabel\": {\"align\": \"left\"}, \"hovermode\": \"closest\", \"mapbox\": {\"style\": \"light\"}, \"paper_bgcolor\": \"white\", \"plot_bgcolor\": \"#E5ECF6\", \"polar\": {\"angularaxis\": {\"gridcolor\": \"white\", \"linecolor\": \"white\", \"ticks\": \"\"}, \"bgcolor\": \"#E5ECF6\", \"radialaxis\": {\"gridcolor\": \"white\", \"linecolor\": \"white\", \"ticks\": \"\"}}, \"scene\": {\"xaxis\": {\"backgroundcolor\": \"#E5ECF6\", \"gridcolor\": \"white\", \"gridwidth\": 2, \"linecolor\": \"white\", \"showbackground\": true, \"ticks\": \"\", \"zerolinecolor\": \"white\"}, \"yaxis\": {\"backgroundcolor\": \"#E5ECF6\", \"gridcolor\": \"white\", \"gridwidth\": 2, \"linecolor\": \"white\", \"showbackground\": true, \"ticks\": \"\", \"zerolinecolor\": \"white\"}, \"zaxis\": {\"backgroundcolor\": \"#E5ECF6\", \"gridcolor\": \"white\", \"gridwidth\": 2, \"linecolor\": \"white\", \"showbackground\": true, \"ticks\": \"\", \"zerolinecolor\": \"white\"}}, \"shapedefaults\": {\"line\": {\"color\": \"#2a3f5f\"}}, \"ternary\": {\"aaxis\": {\"gridcolor\": \"white\", \"linecolor\": \"white\", \"ticks\": \"\"}, \"baxis\": {\"gridcolor\": \"white\", \"linecolor\": \"white\", \"ticks\": \"\"}, \"bgcolor\": \"#E5ECF6\", \"caxis\": {\"gridcolor\": \"white\", \"linecolor\": \"white\", \"ticks\": \"\"}}, \"title\": {\"x\": 0.05}, \"xaxis\": {\"automargin\": true, \"gridcolor\": \"white\", \"linecolor\": \"white\", \"ticks\": \"\", \"title\": {\"standoff\": 15}, \"zerolinecolor\": \"white\", \"zerolinewidth\": 2}, \"yaxis\": {\"automargin\": true, \"gridcolor\": \"white\", \"linecolor\": \"white\", \"ticks\": \"\", \"title\": {\"standoff\": 15}, \"zerolinecolor\": \"white\", \"zerolinewidth\": 2}}}, \"xaxis\": {\"anchor\": \"y\", \"domain\": [0.0, 1.0], \"title\": {\"text\": \"loggdp\"}}, \"yaxis\": {\"anchor\": \"x\", \"domain\": [0.0, 1.0], \"title\": {\"text\": \"growth rate\"}}},\n",
       "                        {\"responsive\": true}\n",
       "                    ).then(function(){\n",
       "                            \n",
       "var gd = document.getElementById('9fb104f2-5b15-45de-be28-bb0f412436e0');\n",
       "var x = new MutationObserver(function (mutations, observer) {{\n",
       "        var display = window.getComputedStyle(gd).display;\n",
       "        if (!display || display === 'none') {{\n",
       "            console.log([gd, 'removed!']);\n",
       "            Plotly.purge(gd);\n",
       "            observer.disconnect();\n",
       "        }}\n",
       "}});\n",
       "\n",
       "// Listen for the removal of the full notebook cells\n",
       "var notebookContainer = gd.closest('#notebook-container');\n",
       "if (notebookContainer) {{\n",
       "    x.observe(notebookContainer, {childList: true});\n",
       "}}\n",
       "\n",
       "// Listen for the clearing of the current output cell\n",
       "var outputEl = gd.closest('.output');\n",
       "if (outputEl) {{\n",
       "    x.observe(outputEl, {childList: true});\n",
       "}}\n",
       "\n",
       "                        })\n",
       "                };\n",
       "                });\n",
       "            </script>\n",
       "        </div>"
      ]
     },
     "metadata": {},
     "output_type": "display_data"
    }
   ],
   "source": [
    "import plotly.express as px\n",
    "\n",
    "def growth(df,n):\n",
    "    listx=[]\n",
    "    listy=[]\n",
    "    listz=[]\n",
    "    listp=[]\n",
    "    for i in set(df['ccode']):\n",
    "        dfi=df[df['ccode']==i]\n",
    "        g=((float(dfi[dfi['year']==2014]['gdp'])/float(dfi[dfi['year']==n]['gdp']))**(1/(2014-n)) - 1)*100\n",
    "        gr=round(g,4)\n",
    "        lgdp=np.log(float(dfi[dfi['year']==n]['gdp']))\n",
    "        pop=float(dfi[dfi['year']==n]['pop'])\n",
    "        listx.append(gr)\n",
    "        listy.append(lgdp)\n",
    "        listz.append(i)\n",
    "        listp.append(pop)\n",
    "      \n",
    "    listgrowth={'growth rate':listx,'loggdp':listy,'ccode':listz,'pop':listp}\n",
    "    dfgrowth=pd.DataFrame(listgrowth)\n",
    "    fig = px.scatter(dfgrowth, x='loggdp', y='growth rate',  size=\"pop\", color=\"ccode\",\n",
    "                 hover_name=\"ccode\", log_x=False, size_max=60)\n",
    "    fig.show()\n",
    "\n",
    "growth(md_df,1960)    "
   ]
  },
  {
   "cell_type": "code",
   "execution_count": 44,
   "metadata": {},
   "outputs": [
    {
     "data": {
      "application/vnd.plotly.v1+json": {
       "config": {
        "plotlyServerURL": "https://plot.ly"
       },
       "data": [
        {
         "hoverlabel": {
          "namelength": 0
         },
         "hovertemplate": "<b>%{hovertext}</b><br><br>ccode=BHR<br>loggdp=%{x}<br>growth rate=%{y}<br>pop=%{marker.size}",
         "hovertext": [
          "BHR"
         ],
         "legendgroup": "ccode=BHR",
         "marker": {
          "color": "#636efa",
          "size": [
           0.6729999999999999
          ],
          "sizemode": "area",
          "sizeref": 0.34955583333333334,
          "symbol": "circle"
         },
         "mode": "markers",
         "name": "ccode=BHR",
         "showlegend": true,
         "type": "scatter",
         "x": [
          10.2254985853115
         ],
         "xaxis": "x",
         "y": [
          2.4131
         ],
         "yaxis": "y"
        },
        {
         "hoverlabel": {
          "namelength": 0
         },
         "hovertemplate": "<b>%{hovertext}</b><br><br>ccode=COD<br>loggdp=%{x}<br>growth rate=%{y}<br>pop=%{marker.size}",
         "hovertext": [
          "COD"
         ],
         "legendgroup": "ccode=COD",
         "marker": {
          "color": "#EF553B",
          "size": [
           52.306000000000004
          ],
          "sizemode": "area",
          "sizeref": 0.34955583333333334,
          "symbol": "circle"
         },
         "mode": "markers",
         "name": "ccode=COD",
         "showlegend": true,
         "type": "scatter",
         "x": [
          6.093569770045136
         ],
         "xaxis": "x",
         "y": [
          4.3307
         ],
         "yaxis": "y"
        },
        {
         "hoverlabel": {
          "namelength": 0
         },
         "hovertemplate": "<b>%{hovertext}</b><br><br>ccode=MYS<br>loggdp=%{x}<br>growth rate=%{y}<br>pop=%{marker.size}",
         "hovertext": [
          "MYS"
         ],
         "legendgroup": "ccode=MYS",
         "marker": {
          "color": "#00cc96",
          "size": [
           22.666
          ],
          "sizemode": "area",
          "sizeref": 0.34955583333333334,
          "symbol": "circle"
         },
         "mode": "markers",
         "name": "ccode=MYS",
         "showlegend": true,
         "type": "scatter",
         "x": [
          9.414831034791183
         ],
         "xaxis": "x",
         "y": [
          4.0325
         ],
         "yaxis": "y"
        },
        {
         "hoverlabel": {
          "namelength": 0
         },
         "hovertemplate": "<b>%{hovertext}</b><br><br>ccode=SYC<br>loggdp=%{x}<br>growth rate=%{y}<br>pop=%{marker.size}",
         "hovertext": [
          "SYC"
         ],
         "legendgroup": "ccode=SYC",
         "marker": {
          "color": "#ab63fa",
          "size": [
           0.079
          ],
          "sizemode": "area",
          "sizeref": 0.34955583333333334,
          "symbol": "circle"
         },
         "mode": "markers",
         "name": "ccode=SYC",
         "showlegend": true,
         "type": "scatter",
         "x": [
          9.72877695874351
         ],
         "xaxis": "x",
         "y": [
          2.1565
         ],
         "yaxis": "y"
        },
        {
         "hoverlabel": {
          "namelength": 0
         },
         "hovertemplate": "<b>%{hovertext}</b><br><br>ccode=JOR<br>loggdp=%{x}<br>growth rate=%{y}<br>pop=%{marker.size}",
         "hovertext": [
          "JOR"
         ],
         "legendgroup": "ccode=JOR",
         "marker": {
          "color": "#FFA15A",
          "size": [
           4.631
          ],
          "sizemode": "area",
          "sizeref": 0.34955583333333334,
          "symbol": "circle"
         },
         "mode": "markers",
         "name": "ccode=JOR",
         "showlegend": true,
         "type": "scatter",
         "x": [
          8.267705664762426
         ],
         "xaxis": "x",
         "y": [
          8.1983
         ],
         "yaxis": "y"
        },
        {
         "hoverlabel": {
          "namelength": 0
         },
         "hovertemplate": "<b>%{hovertext}</b><br><br>ccode=NZL<br>loggdp=%{x}<br>growth rate=%{y}<br>pop=%{marker.size}",
         "hovertext": [
          "NZL"
         ],
         "legendgroup": "ccode=NZL",
         "marker": {
          "color": "#19d3f3",
          "size": [
           3.802
          ],
          "sizemode": "area",
          "sizeref": 0.34955583333333334,
          "symbol": "circle"
         },
         "mode": "markers",
         "name": "ccode=NZL",
         "showlegend": true,
         "type": "scatter",
         "x": [
          10.160761962566484
         ],
         "xaxis": "x",
         "y": [
          1.7745
         ],
         "yaxis": "y"
        },
        {
         "hoverlabel": {
          "namelength": 0
         },
         "hovertemplate": "<b>%{hovertext}</b><br><br>ccode=PRK<br>loggdp=%{x}<br>growth rate=%{y}<br>pop=%{marker.size}",
         "hovertext": [
          "PRK"
         ],
         "legendgroup": "ccode=PRK",
         "marker": {
          "color": "#FF6692",
          "size": [
           22.785
          ],
          "sizemode": "area",
          "sizeref": 0.34955583333333334,
          "symbol": "circle"
         },
         "mode": "markers",
         "name": "ccode=PRK",
         "showlegend": true,
         "type": "scatter",
         "x": [
          7.392647520721623
         ],
         "xaxis": "x",
         "y": [
          0.5311
         ],
         "yaxis": "y"
        },
        {
         "hoverlabel": {
          "namelength": 0
         },
         "hovertemplate": "<b>%{hovertext}</b><br><br>ccode=MLI<br>loggdp=%{x}<br>growth rate=%{y}<br>pop=%{marker.size}",
         "hovertext": [
          "MLI"
         ],
         "legendgroup": "ccode=MLI",
         "marker": {
          "color": "#B6E880",
          "size": [
           11.034
          ],
          "sizemode": "area",
          "sizeref": 0.34955583333333334,
          "symbol": "circle"
         },
         "mode": "markers",
         "name": "ccode=MLI",
         "showlegend": true,
         "type": "scatter",
         "x": [
          6.785587645007929
         ],
         "xaxis": "x",
         "y": [
          3.9097
         ],
         "yaxis": "y"
        },
        {
         "hoverlabel": {
          "namelength": 0
         },
         "hovertemplate": "<b>%{hovertext}</b><br><br>ccode=URY<br>loggdp=%{x}<br>growth rate=%{y}<br>pop=%{marker.size}",
         "hovertext": [
          "URY"
         ],
         "legendgroup": "ccode=URY",
         "marker": {
          "color": "#FF97FF",
          "size": [
           3.2460000000000004
          ],
          "sizemode": "area",
          "sizeref": 0.34955583333333334,
          "symbol": "circle"
         },
         "mode": "markers",
         "name": "ccode=URY",
         "showlegend": true,
         "type": "scatter",
         "x": [
          9.324383088016843
         ],
         "xaxis": "x",
         "y": [
          4.0661
         ],
         "yaxis": "y"
        },
        {
         "hoverlabel": {
          "namelength": 0
         },
         "hovertemplate": "<b>%{hovertext}</b><br><br>ccode=BWA<br>loggdp=%{x}<br>growth rate=%{y}<br>pop=%{marker.size}",
         "hovertext": [
          "BWA"
         ],
         "legendgroup": "ccode=BWA",
         "marker": {
          "color": "#FECB52",
          "size": [
           1.655
          ],
          "sizemode": "area",
          "sizeref": 0.34955583333333334,
          "symbol": "circle"
         },
         "mode": "markers",
         "name": "ccode=BWA",
         "showlegend": true,
         "type": "scatter",
         "x": [
          9.161675199994901
         ],
         "xaxis": "x",
         "y": [
          3.2476
         ],
         "yaxis": "y"
        },
        {
         "hoverlabel": {
          "namelength": 0
         },
         "hovertemplate": "<b>%{hovertext}</b><br><br>ccode=BFA<br>loggdp=%{x}<br>growth rate=%{y}<br>pop=%{marker.size}",
         "hovertext": [
          "BFA"
         ],
         "legendgroup": "ccode=BFA",
         "marker": {
          "color": "#636efa",
          "size": [
           11.588
          ],
          "sizemode": "area",
          "sizeref": 0.34955583333333334,
          "symbol": "circle"
         },
         "mode": "markers",
         "name": "ccode=BFA",
         "showlegend": true,
         "type": "scatter",
         "x": [
          7.2115567333138015
         ],
         "xaxis": "x",
         "y": [
          0.7909
         ],
         "yaxis": "y"
        },
        {
         "hoverlabel": {
          "namelength": 0
         },
         "hovertemplate": "<b>%{hovertext}</b><br><br>ccode=TTO<br>loggdp=%{x}<br>growth rate=%{y}<br>pop=%{marker.size}",
         "hovertext": [
          "TTO"
         ],
         "legendgroup": "ccode=TTO",
         "marker": {
          "color": "#EF553B",
          "size": [
           1.252
          ],
          "sizemode": "area",
          "sizeref": 0.34955583333333334,
          "symbol": "circle"
         },
         "mode": "markers",
         "name": "ccode=TTO",
         "showlegend": true,
         "type": "scatter",
         "x": [
          9.447307929883463
         ],
         "xaxis": "x",
         "y": [
          6.6052
         ],
         "yaxis": "y"
        },
        {
         "hoverlabel": {
          "namelength": 0
         },
         "hovertemplate": "<b>%{hovertext}</b><br><br>ccode=MMR<br>loggdp=%{x}<br>growth rate=%{y}<br>pop=%{marker.size}",
         "hovertext": [
          "MMR"
         ],
         "legendgroup": "ccode=MMR",
         "marker": {
          "color": "#00cc96",
          "size": [
           46.008
          ],
          "sizemode": "area",
          "sizeref": 0.34955583333333334,
          "symbol": "circle"
         },
         "mode": "markers",
         "name": "ccode=MMR",
         "showlegend": true,
         "type": "scatter",
         "x": [
          7.2633296174768365
         ],
         "xaxis": "x",
         "y": [
          10.1066
         ],
         "yaxis": "y"
        },
        {
         "hoverlabel": {
          "namelength": 0
         },
         "hovertemplate": "<b>%{hovertext}</b><br><br>ccode=CZE<br>loggdp=%{x}<br>growth rate=%{y}<br>pop=%{marker.size}",
         "hovertext": [
          "CZE"
         ],
         "legendgroup": "ccode=CZE",
         "marker": {
          "color": "#ab63fa",
          "size": [
           10.231
          ],
          "sizemode": "area",
          "sizeref": 0.34955583333333334,
          "symbol": "circle"
         },
         "mode": "markers",
         "name": "ccode=CZE",
         "showlegend": true,
         "type": "scatter",
         "x": [
          9.891364362733817
         ],
         "xaxis": "x",
         "y": [
          2.8159
         ],
         "yaxis": "y"
        },
        {
         "hoverlabel": {
          "namelength": 0
         },
         "hovertemplate": "<b>%{hovertext}</b><br><br>ccode=HUN<br>loggdp=%{x}<br>growth rate=%{y}<br>pop=%{marker.size}",
         "hovertext": [
          "HUN"
         ],
         "legendgroup": "ccode=HUN",
         "marker": {
          "color": "#FFA15A",
          "size": [
           10.209
          ],
          "sizemode": "area",
          "sizeref": 0.34955583333333334,
          "symbol": "circle"
         },
         "mode": "markers",
         "name": "ccode=HUN",
         "showlegend": true,
         "type": "scatter",
         "x": [
          9.59947282546345
         ],
         "xaxis": "x",
         "y": [
          3.1452
         ],
         "yaxis": "y"
        },
        {
         "hoverlabel": {
          "namelength": 0
         },
         "hovertemplate": "<b>%{hovertext}</b><br><br>ccode=TWN<br>loggdp=%{x}<br>growth rate=%{y}<br>pop=%{marker.size}",
         "hovertext": [
          "TWN"
         ],
         "legendgroup": "ccode=TWN",
         "marker": {
          "color": "#19d3f3",
          "size": [
           22.026999999999997
          ],
          "sizemode": "area",
          "sizeref": 0.34955583333333334,
          "symbol": "circle"
         },
         "mode": "markers",
         "name": "ccode=TWN",
         "showlegend": true,
         "type": "scatter",
         "x": [
          10.37152049124621
         ],
         "xaxis": "x",
         "y": [
          1.9076
         ],
         "yaxis": "y"
        },
        {
         "hoverlabel": {
          "namelength": 0
         },
         "hovertemplate": "<b>%{hovertext}</b><br><br>ccode=SGP<br>loggdp=%{x}<br>growth rate=%{y}<br>pop=%{marker.size}",
         "hovertext": [
          "SGP"
         ],
         "legendgroup": "ccode=SGP",
         "marker": {
          "color": "#FF6692",
          "size": [
           4.063
          ],
          "sizemode": "area",
          "sizeref": 0.34955583333333334,
          "symbol": "circle"
         },
         "mode": "markers",
         "name": "ccode=SGP",
         "showlegend": true,
         "type": "scatter",
         "x": [
          10.578648954330596
         ],
         "xaxis": "x",
         "y": [
          3.8981
         ],
         "yaxis": "y"
        },
        {
         "hoverlabel": {
          "namelength": 0
         },
         "hovertemplate": "<b>%{hovertext}</b><br><br>ccode=MNE<br>loggdp=%{x}<br>growth rate=%{y}<br>pop=%{marker.size}",
         "hovertext": [
          "MNE"
         ],
         "legendgroup": "ccode=MNE",
         "marker": {
          "color": "#B6E880",
          "size": [
           0.732
          ],
          "sizemode": "area",
          "sizeref": 0.34955583333333334,
          "symbol": "circle"
         },
         "mode": "markers",
         "name": "ccode=MNE",
         "showlegend": true,
         "type": "scatter",
         "x": [
          8.879333174786028
         ],
         "xaxis": "x",
         "y": [
          6.3044
         ],
         "yaxis": "y"
        },
        {
         "hoverlabel": {
          "namelength": 0
         },
         "hovertemplate": "<b>%{hovertext}</b><br><br>ccode=SRB<br>loggdp=%{x}<br>growth rate=%{y}<br>pop=%{marker.size}",
         "hovertext": [
          "SRB"
         ],
         "legendgroup": "ccode=SRB",
         "marker": {
          "color": "#FF97FF",
          "size": [
           9.259
          ],
          "sizemode": "area",
          "sizeref": 0.34955583333333334,
          "symbol": "circle"
         },
         "mode": "markers",
         "name": "ccode=SRB",
         "showlegend": true,
         "type": "scatter",
         "x": [
          8.938794081433805
         ],
         "xaxis": "x",
         "y": [
          4.1052
         ],
         "yaxis": "y"
        },
        {
         "hoverlabel": {
          "namelength": 0
         },
         "hovertemplate": "<b>%{hovertext}</b><br><br>ccode=LBY<br>loggdp=%{x}<br>growth rate=%{y}<br>pop=%{marker.size}",
         "hovertext": [
          "LBY"
         ],
         "legendgroup": "ccode=LBY",
         "marker": {
          "color": "#FECB52",
          "size": [
           5.025
          ],
          "sizemode": "area",
          "sizeref": 0.34955583333333334,
          "symbol": "circle"
         },
         "mode": "markers",
         "name": "ccode=LBY",
         "showlegend": true,
         "type": "scatter",
         "x": [
          10.008973060382106
         ],
         "xaxis": "x",
         "y": [
          -5.7252
         ],
         "yaxis": "y"
        },
        {
         "hoverlabel": {
          "namelength": 0
         },
         "hovertemplate": "<b>%{hovertext}</b><br><br>ccode=ZWE<br>loggdp=%{x}<br>growth rate=%{y}<br>pop=%{marker.size}",
         "hovertext": [
          "ZWE"
         ],
         "legendgroup": "ccode=ZWE",
         "marker": {
          "color": "#636efa",
          "size": [
           11.82
          ],
          "sizemode": "area",
          "sizeref": 0.34955583333333334,
          "symbol": "circle"
         },
         "mode": "markers",
         "name": "ccode=ZWE",
         "showlegend": true,
         "type": "scatter",
         "x": [
          7.899524472032198
         ],
         "xaxis": "x",
         "y": [
          -2.8559
         ],
         "yaxis": "y"
        },
        {
         "hoverlabel": {
          "namelength": 0
         },
         "hovertemplate": "<b>%{hovertext}</b><br><br>ccode=LBN<br>loggdp=%{x}<br>growth rate=%{y}<br>pop=%{marker.size}",
         "hovertext": [
          "LBN"
         ],
         "legendgroup": "ccode=LBN",
         "marker": {
          "color": "#EF553B",
          "size": [
           3.8339999999999996
          ],
          "sizemode": "area",
          "sizeref": 0.34955583333333334,
          "symbol": "circle"
         },
         "mode": "markers",
         "name": "ccode=LBN",
         "showlegend": true,
         "type": "scatter",
         "x": [
          9.326522126265592
         ],
         "xaxis": "x",
         "y": [
          1.1143
         ],
         "yaxis": "y"
        },
        {
         "hoverlabel": {
          "namelength": 0
         },
         "hovertemplate": "<b>%{hovertext}</b><br><br>ccode=ETH<br>loggdp=%{x}<br>growth rate=%{y}<br>pop=%{marker.size}",
         "hovertext": [
          "ETH"
         ],
         "legendgroup": "ccode=ETH",
         "marker": {
          "color": "#00cc96",
          "size": [
           69.75399999999999
          ],
          "sizemode": "area",
          "sizeref": 0.34955583333333334,
          "symbol": "circle"
         },
         "mode": "markers",
         "name": "ccode=ETH",
         "showlegend": true,
         "type": "scatter",
         "x": [
          6.410174881966167
         ],
         "xaxis": "x",
         "y": [
          6.5658
         ],
         "yaxis": "y"
        },
        {
         "hoverlabel": {
          "namelength": 0
         },
         "hovertemplate": "<b>%{hovertext}</b><br><br>ccode=EGY<br>loggdp=%{x}<br>growth rate=%{y}<br>pop=%{marker.size}",
         "hovertext": [
          "EGY"
         ],
         "legendgroup": "ccode=EGY",
         "marker": {
          "color": "#ab63fa",
          "size": [
           67.33
          ],
          "sizemode": "area",
          "sizeref": 0.34955583333333334,
          "symbol": "circle"
         },
         "mode": "markers",
         "name": "ccode=EGY",
         "showlegend": true,
         "type": "scatter",
         "x": [
          8.569595870209286
         ],
         "xaxis": "x",
         "y": [
          5.4609
         ],
         "yaxis": "y"
        },
        {
         "hoverlabel": {
          "namelength": 0
         },
         "hovertemplate": "<b>%{hovertext}</b><br><br>ccode=FIN<br>loggdp=%{x}<br>growth rate=%{y}<br>pop=%{marker.size}",
         "hovertext": [
          "FIN"
         ],
         "legendgroup": "ccode=FIN",
         "marker": {
          "color": "#FFA15A",
          "size": [
           5.176
          ],
          "sizemode": "area",
          "sizeref": 0.34955583333333334,
          "symbol": "circle"
         },
         "mode": "markers",
         "name": "ccode=FIN",
         "showlegend": true,
         "type": "scatter",
         "x": [
          10.403413995433118
         ],
         "xaxis": "x",
         "y": [
          1.0081
         ],
         "yaxis": "y"
        },
        {
         "hoverlabel": {
          "namelength": 0
         },
         "hovertemplate": "<b>%{hovertext}</b><br><br>ccode=SVN<br>loggdp=%{x}<br>growth rate=%{y}<br>pop=%{marker.size}",
         "hovertext": [
          "SVN"
         ],
         "legendgroup": "ccode=SVN",
         "marker": {
          "color": "#19d3f3",
          "size": [
           1.982
          ],
          "sizemode": "area",
          "sizeref": 0.34955583333333334,
          "symbol": "circle"
         },
         "mode": "markers",
         "name": "ccode=SVN",
         "showlegend": true,
         "type": "scatter",
         "x": [
          9.978363087181235
         ],
         "xaxis": "x",
         "y": [
          1.745
         ],
         "yaxis": "y"
        },
        {
         "hoverlabel": {
          "namelength": 0
         },
         "hovertemplate": "<b>%{hovertext}</b><br><br>ccode=BLR<br>loggdp=%{x}<br>growth rate=%{y}<br>pop=%{marker.size}",
         "hovertext": [
          "BLR"
         ],
         "legendgroup": "ccode=BLR",
         "marker": {
          "color": "#FF6692",
          "size": [
           10.033999999999999
          ],
          "sizemode": "area",
          "sizeref": 0.34955583333333334,
          "symbol": "circle"
         },
         "mode": "markers",
         "name": "ccode=BLR",
         "showlegend": true,
         "type": "scatter",
         "x": [
          9.058004710672485
         ],
         "xaxis": "x",
         "y": [
          6.2393
         ],
         "yaxis": "y"
        },
        {
         "hoverlabel": {
          "namelength": 0
         },
         "hovertemplate": "<b>%{hovertext}</b><br><br>ccode=ESP<br>loggdp=%{x}<br>growth rate=%{y}<br>pop=%{marker.size}",
         "hovertext": [
          "ESP"
         ],
         "legendgroup": "ccode=ESP",
         "marker": {
          "color": "#B6E880",
          "size": [
           41.071999999999996
          ],
          "sizemode": "area",
          "sizeref": 0.34955583333333334,
          "symbol": "circle"
         },
         "mode": "markers",
         "name": "ccode=ESP",
         "showlegend": true,
         "type": "scatter",
         "x": [
          10.182027967070626
         ],
         "xaxis": "x",
         "y": [
          1.4446
         ],
         "yaxis": "y"
        },
        {
         "hoverlabel": {
          "namelength": 0
         },
         "hovertemplate": "<b>%{hovertext}</b><br><br>ccode=ALB<br>loggdp=%{x}<br>growth rate=%{y}<br>pop=%{marker.size}",
         "hovertext": [
          "ALB"
         ],
         "legendgroup": "ccode=ALB",
         "marker": {
          "color": "#FF97FF",
          "size": [
           3.1639999999999997
          ],
          "sizemode": "area",
          "sizeref": 0.34955583333333334,
          "symbol": "circle"
         },
         "mode": "markers",
         "name": "ccode=ALB",
         "showlegend": true,
         "type": "scatter",
         "x": [
          8.553139318189707
         ],
         "xaxis": "x",
         "y": [
          5.3161
         ],
         "yaxis": "y"
        },
        {
         "hoverlabel": {
          "namelength": 0
         },
         "hovertemplate": "<b>%{hovertext}</b><br><br>ccode=GMB<br>loggdp=%{x}<br>growth rate=%{y}<br>pop=%{marker.size}",
         "hovertext": [
          "GMB"
         ],
         "legendgroup": "ccode=GMB",
         "marker": {
          "color": "#FECB52",
          "size": [
           1.357
          ],
          "sizemode": "area",
          "sizeref": 0.34955583333333334,
          "symbol": "circle"
         },
         "mode": "markers",
         "name": "ccode=GMB",
         "showlegend": true,
         "type": "scatter",
         "x": [
          7.502186486602924
         ],
         "xaxis": "x",
         "y": [
          0.3431
         ],
         "yaxis": "y"
        },
        {
         "hoverlabel": {
          "namelength": 0
         },
         "hovertemplate": "<b>%{hovertext}</b><br><br>ccode=KOR<br>loggdp=%{x}<br>growth rate=%{y}<br>pop=%{marker.size}",
         "hovertext": [
          "KOR"
         ],
         "legendgroup": "ccode=KOR",
         "marker": {
          "color": "#636efa",
          "size": [
           47.008
          ],
          "sizemode": "area",
          "sizeref": 0.34955583333333334,
          "symbol": "circle"
         },
         "mode": "markers",
         "name": "ccode=KOR",
         "showlegend": true,
         "type": "scatter",
         "x": [
          10.04020137585195
         ],
         "xaxis": "x",
         "y": [
          2.969
         ],
         "yaxis": "y"
        },
        {
         "hoverlabel": {
          "namelength": 0
         },
         "hovertemplate": "<b>%{hovertext}</b><br><br>ccode=GNQ<br>loggdp=%{x}<br>growth rate=%{y}<br>pop=%{marker.size}",
         "hovertext": [
          "GNQ"
         ],
         "legendgroup": "ccode=GNQ",
         "marker": {
          "color": "#EF553B",
          "size": [
           0.491
          ],
          "sizemode": "area",
          "sizeref": 0.34955583333333334,
          "symbol": "circle"
         },
         "mode": "markers",
         "name": "ccode=GNQ",
         "showlegend": true,
         "type": "scatter",
         "x": [
          9.455167134121535
         ],
         "xaxis": "x",
         "y": [
          8.4177
         ],
         "yaxis": "y"
        },
        {
         "hoverlabel": {
          "namelength": 0
         },
         "hovertemplate": "<b>%{hovertext}</b><br><br>ccode=MDG<br>loggdp=%{x}<br>growth rate=%{y}<br>pop=%{marker.size}",
         "hovertext": [
          "MDG"
         ],
         "legendgroup": "ccode=MDG",
         "marker": {
          "color": "#00cc96",
          "size": [
           15.712
          ],
          "sizemode": "area",
          "sizeref": 0.34955583333333334,
          "symbol": "circle"
         },
         "mode": "markers",
         "name": "ccode=MDG",
         "showlegend": true,
         "type": "scatter",
         "x": [
          6.882437470997847
         ],
         "xaxis": "x",
         "y": [
          1.9745
         ],
         "yaxis": "y"
        },
        {
         "hoverlabel": {
          "namelength": 0
         },
         "hovertemplate": "<b>%{hovertext}</b><br><br>ccode=LCA<br>loggdp=%{x}<br>growth rate=%{y}<br>pop=%{marker.size}",
         "hovertext": [
          "LCA"
         ],
         "legendgroup": "ccode=LCA",
         "marker": {
          "color": "#ab63fa",
          "size": [
           0.153
          ],
          "sizemode": "area",
          "sizeref": 0.34955583333333334,
          "symbol": "circle"
         },
         "mode": "markers",
         "name": "ccode=LCA",
         "showlegend": true,
         "type": "scatter",
         "x": [
          8.814479000010714
         ],
         "xaxis": "x",
         "y": [
          3.2474
         ],
         "yaxis": "y"
        },
        {
         "hoverlabel": {
          "namelength": 0
         },
         "hovertemplate": "<b>%{hovertext}</b><br><br>ccode=MRT<br>loggdp=%{x}<br>growth rate=%{y}<br>pop=%{marker.size}",
         "hovertext": [
          "MRT"
         ],
         "legendgroup": "ccode=MRT",
         "marker": {
          "color": "#FFA15A",
          "size": [
           2.501
          ],
          "sizemode": "area",
          "sizeref": 0.34955583333333334,
          "symbol": "circle"
         },
         "mode": "markers",
         "name": "ccode=MRT",
         "showlegend": true,
         "type": "scatter",
         "x": [
          7.573017256052546
         ],
         "xaxis": "x",
         "y": [
          3.9755
         ],
         "yaxis": "y"
        },
        {
         "hoverlabel": {
          "namelength": 0
         },
         "hovertemplate": "<b>%{hovertext}</b><br><br>ccode=TCD<br>loggdp=%{x}<br>growth rate=%{y}<br>pop=%{marker.size}",
         "hovertext": [
          "TCD"
         ],
         "legendgroup": "ccode=TCD",
         "marker": {
          "color": "#19d3f3",
          "size": [
           7.943
          ],
          "sizemode": "area",
          "sizeref": 0.34955583333333334,
          "symbol": "circle"
         },
         "mode": "markers",
         "name": "ccode=TCD",
         "showlegend": true,
         "type": "scatter",
         "x": [
          6.8966943316227125
         ],
         "xaxis": "x",
         "y": [
          6.1542
         ],
         "yaxis": "y"
        },
        {
         "hoverlabel": {
          "namelength": 0
         },
         "hovertemplate": "<b>%{hovertext}</b><br><br>ccode=MNG<br>loggdp=%{x}<br>growth rate=%{y}<br>pop=%{marker.size}",
         "hovertext": [
          "MNG"
         ],
         "legendgroup": "ccode=MNG",
         "marker": {
          "color": "#FF6692",
          "size": [
           2.461
          ],
          "sizemode": "area",
          "sizeref": 0.34955583333333334,
          "symbol": "circle"
         },
         "mode": "markers",
         "name": "ccode=MNG",
         "showlegend": true,
         "type": "scatter",
         "x": [
          7.914617709040679
         ],
         "xaxis": "x",
         "y": [
          10.4714
         ],
         "yaxis": "y"
        },
        {
         "hoverlabel": {
          "namelength": 0
         },
         "hovertemplate": "<b>%{hovertext}</b><br><br>ccode=TUR<br>loggdp=%{x}<br>growth rate=%{y}<br>pop=%{marker.size}",
         "hovertext": [
          "TUR"
         ],
         "legendgroup": "ccode=TUR",
         "marker": {
          "color": "#B6E880",
          "size": [
           67.839
          ],
          "sizemode": "area",
          "sizeref": 0.34955583333333334,
          "symbol": "circle"
         },
         "mode": "markers",
         "name": "ccode=TUR",
         "showlegend": true,
         "type": "scatter",
         "x": [
          9.378393956972433
         ],
         "xaxis": "x",
         "y": [
          3.9038
         ],
         "yaxis": "y"
        },
        {
         "hoverlabel": {
          "namelength": 0
         },
         "hovertemplate": "<b>%{hovertext}</b><br><br>ccode=KEN<br>loggdp=%{x}<br>growth rate=%{y}<br>pop=%{marker.size}",
         "hovertext": [
          "KEN"
         ],
         "legendgroup": "ccode=KEN",
         "marker": {
          "color": "#FF97FF",
          "size": [
           30.596999999999998
          ],
          "sizemode": "area",
          "sizeref": 0.34955583333333334,
          "symbol": "circle"
         },
         "mode": "markers",
         "name": "ccode=KEN",
         "showlegend": true,
         "type": "scatter",
         "x": [
          7.643003635560718
         ],
         "xaxis": "x",
         "y": [
          2.5902
         ],
         "yaxis": "y"
        },
        {
         "hoverlabel": {
          "namelength": 0
         },
         "hovertemplate": "<b>%{hovertext}</b><br><br>ccode=VEN<br>loggdp=%{x}<br>growth rate=%{y}<br>pop=%{marker.size}",
         "hovertext": [
          "VEN"
         ],
         "legendgroup": "ccode=VEN",
         "marker": {
          "color": "#FECB52",
          "size": [
           23.62
          ],
          "sizemode": "area",
          "sizeref": 0.34955583333333334,
          "symbol": "circle"
         },
         "mode": "markers",
         "name": "ccode=VEN",
         "showlegend": true,
         "type": "scatter",
         "x": [
          8.978029932837156
         ],
         "xaxis": "x",
         "y": [
          5.849
         ],
         "yaxis": "y"
        },
        {
         "hoverlabel": {
          "namelength": 0
         },
         "hovertemplate": "<b>%{hovertext}</b><br><br>ccode=KGZ<br>loggdp=%{x}<br>growth rate=%{y}<br>pop=%{marker.size}",
         "hovertext": [
          "KGZ"
         ],
         "legendgroup": "ccode=KGZ",
         "marker": {
          "color": "#636efa",
          "size": [
           4.8260000000000005
          ],
          "sizemode": "area",
          "sizeref": 0.34955583333333334,
          "symbol": "circle"
         },
         "mode": "markers",
         "name": "ccode=KGZ",
         "showlegend": true,
         "type": "scatter",
         "x": [
          7.60688453121963
         ],
         "xaxis": "x",
         "y": [
          7.8197
         ],
         "yaxis": "y"
        },
        {
         "hoverlabel": {
          "namelength": 0
         },
         "hovertemplate": "<b>%{hovertext}</b><br><br>ccode=UGA<br>loggdp=%{x}<br>growth rate=%{y}<br>pop=%{marker.size}",
         "hovertext": [
          "UGA"
         ],
         "legendgroup": "ccode=UGA",
         "marker": {
          "color": "#EF553B",
          "size": [
           24.171999999999997
          ],
          "sizemode": "area",
          "sizeref": 0.34955583333333334,
          "symbol": "circle"
         },
         "mode": "markers",
         "name": "ccode=UGA",
         "showlegend": true,
         "type": "scatter",
         "x": [
          7.029087564149662
         ],
         "xaxis": "x",
         "y": [
          3.6025
         ],
         "yaxis": "y"
        },
        {
         "hoverlabel": {
          "namelength": 0
         },
         "hovertemplate": "<b>%{hovertext}</b><br><br>ccode=LBR<br>loggdp=%{x}<br>growth rate=%{y}<br>pop=%{marker.size}",
         "hovertext": [
          "LBR"
         ],
         "legendgroup": "ccode=LBR",
         "marker": {
          "color": "#00cc96",
          "size": [
           2.847
          ],
          "sizemode": "area",
          "sizeref": 0.34955583333333334,
          "symbol": "circle"
         },
         "mode": "markers",
         "name": "ccode=LBR",
         "showlegend": true,
         "type": "scatter",
         "x": [
          6.261491684321042
         ],
         "xaxis": "x",
         "y": [
          3.2143
         ],
         "yaxis": "y"
        },
        {
         "hoverlabel": {
          "namelength": 0
         },
         "hovertemplate": "<b>%{hovertext}</b><br><br>ccode=PAN<br>loggdp=%{x}<br>growth rate=%{y}<br>pop=%{marker.size}",
         "hovertext": [
          "PAN"
         ],
         "legendgroup": "ccode=PAN",
         "marker": {
          "color": "#ab63fa",
          "size": [
           2.9
          ],
          "sizemode": "area",
          "sizeref": 0.34955583333333334,
          "symbol": "circle"
         },
         "mode": "markers",
         "name": "ccode=PAN",
         "showlegend": true,
         "type": "scatter",
         "x": [
          9.122601457668177
         ],
         "xaxis": "x",
         "y": [
          5.7124
         ],
         "yaxis": "y"
        },
        {
         "hoverlabel": {
          "namelength": 0
         },
         "hovertemplate": "<b>%{hovertext}</b><br><br>ccode=AGO<br>loggdp=%{x}<br>growth rate=%{y}<br>pop=%{marker.size}",
         "hovertext": [
          "AGO"
         ],
         "legendgroup": "ccode=AGO",
         "marker": {
          "color": "#FFA15A",
          "size": [
           11.093
          ],
          "sizemode": "area",
          "sizeref": 0.34955583333333334,
          "symbol": "circle"
         },
         "mode": "markers",
         "name": "ccode=AGO",
         "showlegend": true,
         "type": "scatter",
         "x": [
          7.4067107301776405
         ],
         "xaxis": "x",
         "y": [
          12.5449
         ],
         "yaxis": "y"
        },
        {
         "hoverlabel": {
          "namelength": 0
         },
         "hovertemplate": "<b>%{hovertext}</b><br><br>ccode=KAZ<br>loggdp=%{x}<br>growth rate=%{y}<br>pop=%{marker.size}",
         "hovertext": [
          "KAZ"
         ],
         "legendgroup": "ccode=KAZ",
         "marker": {
          "color": "#19d3f3",
          "size": [
           15.335
          ],
          "sizemode": "area",
          "sizeref": 0.34955583333333334,
          "symbol": "circle"
         },
         "mode": "markers",
         "name": "ccode=KAZ",
         "showlegend": true,
         "type": "scatter",
         "x": [
          8.648922962094131
         ],
         "xaxis": "x",
         "y": [
          10.6078
         ],
         "yaxis": "y"
        },
        {
         "hoverlabel": {
          "namelength": 0
         },
         "hovertemplate": "<b>%{hovertext}</b><br><br>ccode=SWZ<br>loggdp=%{x}<br>growth rate=%{y}<br>pop=%{marker.size}",
         "hovertext": [
          "SWZ"
         ],
         "legendgroup": "ccode=SWZ",
         "marker": {
          "color": "#FF6692",
          "size": [
           1.1440000000000001
          ],
          "sizemode": "area",
          "sizeref": 0.34955583333333334,
          "symbol": "circle"
         },
         "mode": "markers",
         "name": "ccode=SWZ",
         "showlegend": true,
         "type": "scatter",
         "x": [
          8.89521858376562
         ],
         "xaxis": "x",
         "y": [
          0.3707
         ],
         "yaxis": "y"
        },
        {
         "hoverlabel": {
          "namelength": 0
         },
         "hovertemplate": "<b>%{hovertext}</b><br><br>ccode=DNK<br>loggdp=%{x}<br>growth rate=%{y}<br>pop=%{marker.size}",
         "hovertext": [
          "DNK"
         ],
         "legendgroup": "ccode=DNK",
         "marker": {
          "color": "#B6E880",
          "size": [
           5.34
          ],
          "sizemode": "area",
          "sizeref": 0.34955583333333334,
          "symbol": "circle"
         },
         "mode": "markers",
         "name": "ccode=DNK",
         "showlegend": true,
         "type": "scatter",
         "x": [
          10.489133037859581
         ],
         "xaxis": "x",
         "y": [
          1.548
         ],
         "yaxis": "y"
        },
        {
         "hoverlabel": {
          "namelength": 0
         },
         "hovertemplate": "<b>%{hovertext}</b><br><br>ccode=CAN<br>loggdp=%{x}<br>growth rate=%{y}<br>pop=%{marker.size}",
         "hovertext": [
          "CAN"
         ],
         "legendgroup": "ccode=CAN",
         "marker": {
          "color": "#FF97FF",
          "size": [
           30.823
          ],
          "sizemode": "area",
          "sizeref": 0.34955583333333334,
          "symbol": "circle"
         },
         "mode": "markers",
         "name": "ccode=CAN",
         "showlegend": true,
         "type": "scatter",
         "x": [
          10.530655174162098
         ],
         "xaxis": "x",
         "y": [
          0.9647
         ],
         "yaxis": "y"
        },
        {
         "hoverlabel": {
          "namelength": 0
         },
         "hovertemplate": "<b>%{hovertext}</b><br><br>ccode=ECU<br>loggdp=%{x}<br>growth rate=%{y}<br>pop=%{marker.size}",
         "hovertext": [
          "ECU"
         ],
         "legendgroup": "ccode=ECU",
         "marker": {
          "color": "#FECB52",
          "size": [
           12.446
          ],
          "sizemode": "area",
          "sizeref": 0.34955583333333334,
          "symbol": "circle"
         },
         "mode": "markers",
         "name": "ccode=ECU",
         "showlegend": true,
         "type": "scatter",
         "x": [
          8.522777569710138
         ],
         "xaxis": "x",
         "y": [
          5.7828
         ],
         "yaxis": "y"
        },
        {
         "hoverlabel": {
          "namelength": 0
         },
         "hovertemplate": "<b>%{hovertext}</b><br><br>ccode=LUX<br>loggdp=%{x}<br>growth rate=%{y}<br>pop=%{marker.size}",
         "hovertext": [
          "LUX"
         ],
         "legendgroup": "ccode=LUX",
         "marker": {
          "color": "#636efa",
          "size": [
           0.43799999999999994
          ],
          "sizemode": "area",
          "sizeref": 0.34955583333333334,
          "symbol": "circle"
         },
         "mode": "markers",
         "name": "ccode=LUX",
         "showlegend": true,
         "type": "scatter",
         "x": [
          11.060667446852031
         ],
         "xaxis": "x",
         "y": [
          0.3437
         ],
         "yaxis": "y"
        },
        {
         "hoverlabel": {
          "namelength": 0
         },
         "hovertemplate": "<b>%{hovertext}</b><br><br>ccode=THA<br>loggdp=%{x}<br>growth rate=%{y}<br>pop=%{marker.size}",
         "hovertext": [
          "THA"
         ],
         "legendgroup": "ccode=THA",
         "marker": {
          "color": "#EF553B",
          "size": [
           61.893
          ],
          "sizemode": "area",
          "sizeref": 0.34955583333333334,
          "symbol": "circle"
         },
         "mode": "markers",
         "name": "ccode=THA",
         "showlegend": true,
         "type": "scatter",
         "x": [
          8.842315546841863
         ],
         "xaxis": "x",
         "y": [
          4.9362
         ],
         "yaxis": "y"
        },
        {
         "hoverlabel": {
          "namelength": 0
         },
         "hovertemplate": "<b>%{hovertext}</b><br><br>ccode=PER<br>loggdp=%{x}<br>growth rate=%{y}<br>pop=%{marker.size}",
         "hovertext": [
          "PER"
         ],
         "legendgroup": "ccode=PER",
         "marker": {
          "color": "#00cc96",
          "size": [
           25.839000000000002
          ],
          "sizemode": "area",
          "sizeref": 0.34955583333333334,
          "symbol": "circle"
         },
         "mode": "markers",
         "name": "ccode=PER",
         "showlegend": true,
         "type": "scatter",
         "x": [
          8.471568013389962
         ],
         "xaxis": "x",
         "y": [
          6.1119
         ],
         "yaxis": "y"
        },
        {
         "hoverlabel": {
          "namelength": 0
         },
         "hovertemplate": "<b>%{hovertext}</b><br><br>ccode=CUB<br>loggdp=%{x}<br>growth rate=%{y}<br>pop=%{marker.size}",
         "hovertext": [
          "CUB"
         ],
         "legendgroup": "ccode=CUB",
         "marker": {
          "color": "#ab63fa",
          "size": [
           11.147
          ],
          "sizemode": "area",
          "sizeref": 0.34955583333333334,
          "symbol": "circle"
         },
         "mode": "markers",
         "name": "ccode=CUB",
         "showlegend": true,
         "type": "scatter",
         "x": [
          8.493310250952906
         ],
         "xaxis": "x",
         "y": [
          3.239
         ],
         "yaxis": "y"
        },
        {
         "hoverlabel": {
          "namelength": 0
         },
         "hovertemplate": "<b>%{hovertext}</b><br><br>ccode=PAK<br>loggdp=%{x}<br>growth rate=%{y}<br>pop=%{marker.size}",
         "hovertext": [
          "PAK"
         ],
         "legendgroup": "ccode=PAK",
         "marker": {
          "color": "#FFA15A",
          "size": [
           147.029
          ],
          "sizemode": "area",
          "sizeref": 0.34955583333333334,
          "symbol": "circle"
         },
         "mode": "markers",
         "name": "ccode=PAK",
         "showlegend": true,
         "type": "scatter",
         "x": [
          7.866338923046544
         ],
         "xaxis": "x",
         "y": [
          4.571
         ],
         "yaxis": "y"
        },
        {
         "hoverlabel": {
          "namelength": 0
         },
         "hovertemplate": "<b>%{hovertext}</b><br><br>ccode=ZMB<br>loggdp=%{x}<br>growth rate=%{y}<br>pop=%{marker.size}",
         "hovertext": [
          "ZMB"
         ],
         "legendgroup": "ccode=ZMB",
         "marker": {
          "color": "#19d3f3",
          "size": [
           10.475
          ],
          "sizemode": "area",
          "sizeref": 0.34955583333333334,
          "symbol": "circle"
         },
         "mode": "markers",
         "name": "ccode=ZMB",
         "showlegend": true,
         "type": "scatter",
         "x": [
          7.050122520269059
         ],
         "xaxis": "x",
         "y": [
          8.3358
         ],
         "yaxis": "y"
        },
        {
         "hoverlabel": {
          "namelength": 0
         },
         "hovertemplate": "<b>%{hovertext}</b><br><br>ccode=ARG<br>loggdp=%{x}<br>growth rate=%{y}<br>pop=%{marker.size}",
         "hovertext": [
          "ARG"
         ],
         "legendgroup": "ccode=ARG",
         "marker": {
          "color": "#FF6692",
          "size": [
           37.336
          ],
          "sizemode": "area",
          "sizeref": 0.34955583333333334,
          "symbol": "circle"
         },
         "mode": "markers",
         "name": "ccode=ARG",
         "showlegend": true,
         "type": "scatter",
         "x": [
          9.610323816515109
         ],
         "xaxis": "x",
         "y": [
          1.7427
         ],
         "yaxis": "y"
        },
        {
         "hoverlabel": {
          "namelength": 0
         },
         "hovertemplate": "<b>%{hovertext}</b><br><br>ccode=AUS<br>loggdp=%{x}<br>growth rate=%{y}<br>pop=%{marker.size}",
         "hovertext": [
          "AUS"
         ],
         "legendgroup": "ccode=AUS",
         "marker": {
          "color": "#B6E880",
          "size": [
           18.902
          ],
          "sizemode": "area",
          "sizeref": 0.34955583333333334,
          "symbol": "circle"
         },
         "mode": "markers",
         "name": "ccode=AUS",
         "showlegend": true,
         "type": "scatter",
         "x": [
          10.491301994830229
         ],
         "xaxis": "x",
         "y": [
          1.4249
         ],
         "yaxis": "y"
        },
        {
         "hoverlabel": {
          "namelength": 0
         },
         "hovertemplate": "<b>%{hovertext}</b><br><br>ccode=CHN<br>loggdp=%{x}<br>growth rate=%{y}<br>pop=%{marker.size}",
         "hovertext": [
          "CHN"
         ],
         "legendgroup": "ccode=CHN",
         "marker": {
          "color": "#FF97FF",
          "size": [
           1258.401
          ],
          "sizemode": "area",
          "sizeref": 0.34955583333333334,
          "symbol": "circle"
         },
         "mode": "markers",
         "name": "ccode=CHN",
         "showlegend": true,
         "type": "scatter",
         "x": [
          8.31164394850298
         ],
         "xaxis": "x",
         "y": [
          7.8376
         ],
         "yaxis": "y"
        },
        {
         "hoverlabel": {
          "namelength": 0
         },
         "hovertemplate": "<b>%{hovertext}</b><br><br>ccode=IRN<br>loggdp=%{x}<br>growth rate=%{y}<br>pop=%{marker.size}",
         "hovertext": [
          "IRN"
         ],
         "legendgroup": "ccode=IRN",
         "marker": {
          "color": "#FECB52",
          "size": [
           66.436
          ],
          "sizemode": "area",
          "sizeref": 0.34955583333333334,
          "symbol": "circle"
         },
         "mode": "markers",
         "name": "ccode=IRN",
         "showlegend": true,
         "type": "scatter",
         "x": [
          8.932344569113823
         ],
         "xaxis": "x",
         "y": [
          5.1325
         ],
         "yaxis": "y"
        },
        {
         "hoverlabel": {
          "namelength": 0
         },
         "hovertemplate": "<b>%{hovertext}</b><br><br>ccode=RWA<br>loggdp=%{x}<br>growth rate=%{y}<br>pop=%{marker.size}",
         "hovertext": [
          "RWA"
         ],
         "legendgroup": "ccode=RWA",
         "marker": {
          "color": "#636efa",
          "size": [
           8.047
          ],
          "sizemode": "area",
          "sizeref": 0.34955583333333334,
          "symbol": "circle"
         },
         "mode": "markers",
         "name": "ccode=RWA",
         "showlegend": true,
         "type": "scatter",
         "x": [
          6.558197802812269
         ],
         "xaxis": "x",
         "y": [
          6.024
         ],
         "yaxis": "y"
        },
        {
         "hoverlabel": {
          "namelength": 0
         },
         "hovertemplate": "<b>%{hovertext}</b><br><br>ccode=IRQ<br>loggdp=%{x}<br>growth rate=%{y}<br>pop=%{marker.size}",
         "hovertext": [
          "IRQ"
         ],
         "legendgroup": "ccode=IRQ",
         "marker": {
          "color": "#EF553B",
          "size": [
           24.46
          ],
          "sizemode": "area",
          "sizeref": 0.34955583333333334,
          "symbol": "circle"
         },
         "mode": "markers",
         "name": "ccode=IRQ",
         "showlegend": true,
         "type": "scatter",
         "x": [
          8.054204897064407
         ],
         "xaxis": "x",
         "y": [
          10.5955
         ],
         "yaxis": "y"
        },
        {
         "hoverlabel": {
          "namelength": 0
         },
         "hovertemplate": "<b>%{hovertext}</b><br><br>ccode=AFG<br>loggdp=%{x}<br>growth rate=%{y}<br>pop=%{marker.size}",
         "hovertext": [
          "AFG"
         ],
         "legendgroup": "ccode=AFG",
         "marker": {
          "color": "#00cc96",
          "size": [
           22.461
          ],
          "sizemode": "area",
          "sizeref": 0.34955583333333334,
          "symbol": "circle"
         },
         "mode": "markers",
         "name": "ccode=AFG",
         "showlegend": true,
         "type": "scatter",
         "x": [
          6.5998704992128365
         ],
         "xaxis": "x",
         "y": [
          7.496
         ],
         "yaxis": "y"
        },
        {
         "hoverlabel": {
          "namelength": 0
         },
         "hovertemplate": "<b>%{hovertext}</b><br><br>ccode=MDA<br>loggdp=%{x}<br>growth rate=%{y}<br>pop=%{marker.size}",
         "hovertext": [
          "MDA"
         ],
         "legendgroup": "ccode=MDA",
         "marker": {
          "color": "#ab63fa",
          "size": [
           4.199
          ],
          "sizemode": "area",
          "sizeref": 0.34955583333333334,
          "symbol": "circle"
         },
         "mode": "markers",
         "name": "ccode=MDA",
         "showlegend": true,
         "type": "scatter",
         "x": [
          7.496097345175956
         ],
         "xaxis": "x",
         "y": [
          8.3486
         ],
         "yaxis": "y"
        },
        {
         "hoverlabel": {
          "namelength": 0
         },
         "hovertemplate": "<b>%{hovertext}</b><br><br>ccode=EST<br>loggdp=%{x}<br>growth rate=%{y}<br>pop=%{marker.size}",
         "hovertext": [
          "EST"
         ],
         "legendgroup": "ccode=EST",
         "marker": {
          "color": "#FFA15A",
          "size": [
           1.365
          ],
          "sizemode": "area",
          "sizeref": 0.34955583333333334,
          "symbol": "circle"
         },
         "mode": "markers",
         "name": "ccode=EST",
         "showlegend": true,
         "type": "scatter",
         "x": [
          9.384545748167879
         ],
         "xaxis": "x",
         "y": [
          5.5703
         ],
         "yaxis": "y"
        },
        {
         "hoverlabel": {
          "namelength": 0
         },
         "hovertemplate": "<b>%{hovertext}</b><br><br>ccode=ARE<br>loggdp=%{x}<br>growth rate=%{y}<br>pop=%{marker.size}",
         "hovertext": [
          "ARE"
         ],
         "legendgroup": "ccode=ARE",
         "marker": {
          "color": "#19d3f3",
          "size": [
           3.075
          ],
          "sizemode": "area",
          "sizeref": 0.34955583333333334,
          "symbol": "circle"
         },
         "mode": "markers",
         "name": "ccode=ARE",
         "showlegend": true,
         "type": "scatter",
         "x": [
          11.563827682897347
         ],
         "xaxis": "x",
         "y": [
          -3.147
         ],
         "yaxis": "y"
        },
        {
         "hoverlabel": {
          "namelength": 0
         },
         "hovertemplate": "<b>%{hovertext}</b><br><br>ccode=KHM<br>loggdp=%{x}<br>growth rate=%{y}<br>pop=%{marker.size}",
         "hovertext": [
          "KHM"
         ],
         "legendgroup": "ccode=KHM",
         "marker": {
          "color": "#FF6692",
          "size": [
           12.321
          ],
          "sizemode": "area",
          "sizeref": 0.34955583333333334,
          "symbol": "circle"
         },
         "mode": "markers",
         "name": "ccode=KHM",
         "showlegend": true,
         "type": "scatter",
         "x": [
          7.161622002939187
         ],
         "xaxis": "x",
         "y": [
          6.1715
         ],
         "yaxis": "y"
        },
        {
         "hoverlabel": {
          "namelength": 0
         },
         "hovertemplate": "<b>%{hovertext}</b><br><br>ccode=BIH<br>loggdp=%{x}<br>growth rate=%{y}<br>pop=%{marker.size}",
         "hovertext": [
          "BIH"
         ],
         "legendgroup": "ccode=BIH",
         "marker": {
          "color": "#B6E880",
          "size": [
           3.9010000000000002
          ],
          "sizemode": "area",
          "sizeref": 0.34955583333333334,
          "symbol": "circle"
         },
         "mode": "markers",
         "name": "ccode=BIH",
         "showlegend": true,
         "type": "scatter",
         "x": [
          8.678291111758565
         ],
         "xaxis": "x",
         "y": [
          3.8631
         ],
         "yaxis": "y"
        },
        {
         "hoverlabel": {
          "namelength": 0
         },
         "hovertemplate": "<b>%{hovertext}</b><br><br>ccode=BGR<br>loggdp=%{x}<br>growth rate=%{y}<br>pop=%{marker.size}",
         "hovertext": [
          "BGR"
         ],
         "legendgroup": "ccode=BGR",
         "marker": {
          "color": "#FF97FF",
          "size": [
           7.909
          ],
          "sizemode": "area",
          "sizeref": 0.34955583333333334,
          "symbol": "circle"
         },
         "mode": "markers",
         "name": "ccode=BGR",
         "showlegend": true,
         "type": "scatter",
         "x": [
          9.06773940337716
         ],
         "xaxis": "x",
         "y": [
          4.7281
         ],
         "yaxis": "y"
        },
        {
         "hoverlabel": {
          "namelength": 0
         },
         "hovertemplate": "<b>%{hovertext}</b><br><br>ccode=COM<br>loggdp=%{x}<br>growth rate=%{y}<br>pop=%{marker.size}",
         "hovertext": [
          "COM"
         ],
         "legendgroup": "ccode=COM",
         "marker": {
          "color": "#FECB52",
          "size": [
           0.545
          ],
          "sizemode": "area",
          "sizeref": 0.34955583333333334,
          "symbol": "circle"
         },
         "mode": "markers",
         "name": "ccode=COM",
         "showlegend": true,
         "type": "scatter",
         "x": [
          7.288927694521257
         ],
         "xaxis": "x",
         "y": [
          0.8928
         ],
         "yaxis": "y"
        },
        {
         "hoverlabel": {
          "namelength": 0
         },
         "hovertemplate": "<b>%{hovertext}</b><br><br>ccode=CAF<br>loggdp=%{x}<br>growth rate=%{y}<br>pop=%{marker.size}",
         "hovertext": [
          "CAF"
         ],
         "legendgroup": "ccode=CAF",
         "marker": {
          "color": "#636efa",
          "size": [
           3.98
          ],
          "sizemode": "area",
          "sizeref": 0.34955583333333334,
          "symbol": "circle"
         },
         "mode": "markers",
         "name": "ccode=CAF",
         "showlegend": true,
         "type": "scatter",
         "x": [
          6.814542897259958
         ],
         "xaxis": "x",
         "y": [
          -3.0671
         ],
         "yaxis": "y"
        },
        {
         "hoverlabel": {
          "namelength": 0
         },
         "hovertemplate": "<b>%{hovertext}</b><br><br>ccode=RUS<br>loggdp=%{x}<br>growth rate=%{y}<br>pop=%{marker.size}",
         "hovertext": [
          "RUS"
         ],
         "legendgroup": "ccode=RUS",
         "marker": {
          "color": "#EF553B",
          "size": [
           146.80200000000002
          ],
          "sizemode": "area",
          "sizeref": 0.34955583333333334,
          "symbol": "circle"
         },
         "mode": "markers",
         "name": "ccode=RUS",
         "showlegend": true,
         "type": "scatter",
         "x": [
          9.05998249038762
         ],
         "xaxis": "x",
         "y": [
          7.5375
         ],
         "yaxis": "y"
        },
        {
         "hoverlabel": {
          "namelength": 0
         },
         "hovertemplate": "<b>%{hovertext}</b><br><br>ccode=FRA<br>loggdp=%{x}<br>growth rate=%{y}<br>pop=%{marker.size}",
         "hovertext": [
          "FRA"
         ],
         "legendgroup": "ccode=FRA",
         "marker": {
          "color": "#00cc96",
          "size": [
           60.818999999999996
          ],
          "sizemode": "area",
          "sizeref": 0.34955583333333334,
          "symbol": "circle"
         },
         "mode": "markers",
         "name": "ccode=FRA",
         "showlegend": true,
         "type": "scatter",
         "x": [
          10.366309203003638
         ],
         "xaxis": "x",
         "y": [
          1.3125
         ],
         "yaxis": "y"
        },
        {
         "hoverlabel": {
          "namelength": 0
         },
         "hovertemplate": "<b>%{hovertext}</b><br><br>ccode=NOR<br>loggdp=%{x}<br>growth rate=%{y}<br>pop=%{marker.size}",
         "hovertext": [
          "NOR"
         ],
         "legendgroup": "ccode=NOR",
         "marker": {
          "color": "#ab63fa",
          "size": [
           4.492
          ],
          "sizemode": "area",
          "sizeref": 0.34955583333333334,
          "symbol": "circle"
         },
         "mode": "markers",
         "name": "ccode=NOR",
         "showlegend": true,
         "type": "scatter",
         "x": [
          10.907679265584745
         ],
         "xaxis": "x",
         "y": [
          2.3762
         ],
         "yaxis": "y"
        },
        {
         "hoverlabel": {
          "namelength": 0
         },
         "hovertemplate": "<b>%{hovertext}</b><br><br>ccode=NPL<br>loggdp=%{x}<br>growth rate=%{y}<br>pop=%{marker.size}",
         "hovertext": [
          "NPL"
         ],
         "legendgroup": "ccode=NPL",
         "marker": {
          "color": "#FFA15A",
          "size": [
           23.487
          ],
          "sizemode": "area",
          "sizeref": 0.34955583333333334,
          "symbol": "circle"
         },
         "mode": "markers",
         "name": "ccode=NPL",
         "showlegend": true,
         "type": "scatter",
         "x": [
          7.238496840894365
         ],
         "xaxis": "x",
         "y": [
          4.48
         ],
         "yaxis": "y"
        },
        {
         "hoverlabel": {
          "namelength": 0
         },
         "hovertemplate": "<b>%{hovertext}</b><br><br>ccode=ITA<br>loggdp=%{x}<br>growth rate=%{y}<br>pop=%{marker.size}",
         "hovertext": [
          "ITA"
         ],
         "legendgroup": "ccode=ITA",
         "marker": {
          "color": "#19d3f3",
          "size": [
           56.966
          ],
          "sizemode": "area",
          "sizeref": 0.34955583333333334,
          "symbol": "circle"
         },
         "mode": "markers",
         "name": "ccode=ITA",
         "showlegend": true,
         "type": "scatter",
         "x": [
          10.409853245580026
         ],
         "xaxis": "x",
         "y": [
          0.2511
         ],
         "yaxis": "y"
        },
        {
         "hoverlabel": {
          "namelength": 0
         },
         "hovertemplate": "<b>%{hovertext}</b><br><br>ccode=TKM<br>loggdp=%{x}<br>growth rate=%{y}<br>pop=%{marker.size}",
         "hovertext": [
          "TKM"
         ],
         "legendgroup": "ccode=TKM",
         "marker": {
          "color": "#FF6692",
          "size": [
           4.385
          ],
          "sizemode": "area",
          "sizeref": 0.34955583333333334,
          "symbol": "circle"
         },
         "mode": "markers",
         "name": "ccode=TKM",
         "showlegend": true,
         "type": "scatter",
         "x": [
          8.316055720364643
         ],
         "xaxis": "x",
         "y": [
          12.0875
         ],
         "yaxis": "y"
        },
        {
         "hoverlabel": {
          "namelength": 0
         },
         "hovertemplate": "<b>%{hovertext}</b><br><br>ccode=HRV<br>loggdp=%{x}<br>growth rate=%{y}<br>pop=%{marker.size}",
         "hovertext": [
          "HRV"
         ],
         "legendgroup": "ccode=HRV",
         "marker": {
          "color": "#B6E880",
          "size": [
           4.39
          ],
          "sizemode": "area",
          "sizeref": 0.34955583333333334,
          "symbol": "circle"
         },
         "mode": "markers",
         "name": "ccode=HRV",
         "showlegend": true,
         "type": "scatter",
         "x": [
          9.569831347174397
         ],
         "xaxis": "x",
         "y": [
          2.5805
         ],
         "yaxis": "y"
        },
        {
         "hoverlabel": {
          "namelength": 0
         },
         "hovertemplate": "<b>%{hovertext}</b><br><br>ccode=MAR<br>loggdp=%{x}<br>growth rate=%{y}<br>pop=%{marker.size}",
         "hovertext": [
          "MAR"
         ],
         "legendgroup": "ccode=MAR",
         "marker": {
          "color": "#FF97FF",
          "size": [
           28.974
          ],
          "sizemode": "area",
          "sizeref": 0.34955583333333334,
          "symbol": "circle"
         },
         "mode": "markers",
         "name": "ccode=MAR",
         "showlegend": true,
         "type": "scatter",
         "x": [
          8.429454277108231
         ],
         "xaxis": "x",
         "y": [
          3.4101
         ],
         "yaxis": "y"
        },
        {
         "hoverlabel": {
          "namelength": 0
         },
         "hovertemplate": "<b>%{hovertext}</b><br><br>ccode=PHL<br>loggdp=%{x}<br>growth rate=%{y}<br>pop=%{marker.size}",
         "hovertext": [
          "PHL"
         ],
         "legendgroup": "ccode=PHL",
         "marker": {
          "color": "#FECB52",
          "size": [
           80.937
          ],
          "sizemode": "area",
          "sizeref": 0.34955583333333334,
          "symbol": "circle"
         },
         "mode": "markers",
         "name": "ccode=PHL",
         "showlegend": true,
         "type": "scatter",
         "x": [
          8.339739766019143
         ],
         "xaxis": "x",
         "y": [
          3.2951
         ],
         "yaxis": "y"
        },
        {
         "hoverlabel": {
          "namelength": 0
         },
         "hovertemplate": "<b>%{hovertext}</b><br><br>ccode=DJI<br>loggdp=%{x}<br>growth rate=%{y}<br>pop=%{marker.size}",
         "hovertext": [
          "DJI"
         ],
         "legendgroup": "ccode=DJI",
         "marker": {
          "color": "#636efa",
          "size": [
           0.669
          ],
          "sizemode": "area",
          "sizeref": 0.34955583333333334,
          "symbol": "circle"
         },
         "mode": "markers",
         "name": "ccode=DJI",
         "showlegend": true,
         "type": "scatter",
         "x": [
          7.789454566086673
         ],
         "xaxis": "x",
         "y": [
          1.8627
         ],
         "yaxis": "y"
        },
        {
         "hoverlabel": {
          "namelength": 0
         },
         "hovertemplate": "<b>%{hovertext}</b><br><br>ccode=CHE<br>loggdp=%{x}<br>growth rate=%{y}<br>pop=%{marker.size}",
         "hovertext": [
          "CHE"
         ],
         "legendgroup": "ccode=CHE",
         "marker": {
          "color": "#EF553B",
          "size": [
           7.314
          ],
          "sizemode": "area",
          "sizeref": 0.34955583333333334,
          "symbol": "circle"
         },
         "mode": "markers",
         "name": "ccode=CHE",
         "showlegend": true,
         "type": "scatter",
         "x": [
          10.663171256896318
         ],
         "xaxis": "x",
         "y": [
          2.6505
         ],
         "yaxis": "y"
        },
        {
         "hoverlabel": {
          "namelength": 0
         },
         "hovertemplate": "<b>%{hovertext}</b><br><br>ccode=DZA<br>loggdp=%{x}<br>growth rate=%{y}<br>pop=%{marker.size}",
         "hovertext": [
          "DZA"
         ],
         "legendgroup": "ccode=DZA",
         "marker": {
          "color": "#00cc96",
          "size": [
           30.515
          ],
          "sizemode": "area",
          "sizeref": 0.34955583333333334,
          "symbol": "circle"
         },
         "mode": "markers",
         "name": "ccode=DZA",
         "showlegend": true,
         "type": "scatter",
         "x": [
          9.018574356354229
         ],
         "xaxis": "x",
         "y": [
          3.1723
         ],
         "yaxis": "y"
        },
        {
         "hoverlabel": {
          "namelength": 0
         },
         "hovertemplate": "<b>%{hovertext}</b><br><br>ccode=NIC<br>loggdp=%{x}<br>growth rate=%{y}<br>pop=%{marker.size}",
         "hovertext": [
          "NIC"
         ],
         "legendgroup": "ccode=NIC",
         "marker": {
          "color": "#ab63fa",
          "size": [
           4.8660000000000005
          ],
          "sizemode": "area",
          "sizeref": 0.34955583333333334,
          "symbol": "circle"
         },
         "mode": "markers",
         "name": "ccode=NIC",
         "showlegend": true,
         "type": "scatter",
         "x": [
          7.909856667269403
         ],
         "xaxis": "x",
         "y": [
          3.69
         ],
         "yaxis": "y"
        },
        {
         "hoverlabel": {
          "namelength": 0
         },
         "hovertemplate": "<b>%{hovertext}</b><br><br>ccode=IDN<br>loggdp=%{x}<br>growth rate=%{y}<br>pop=%{marker.size}",
         "hovertext": [
          "IDN"
         ],
         "legendgroup": "ccode=IDN",
         "marker": {
          "color": "#FFA15A",
          "size": [
           211.408
          ],
          "sizemode": "area",
          "sizeref": 0.34955583333333334,
          "symbol": "circle"
         },
         "mode": "markers",
         "name": "ccode=IDN",
         "showlegend": true,
         "type": "scatter",
         "x": [
          8.15248607578024
         ],
         "xaxis": "x",
         "y": [
          7.6304
         ],
         "yaxis": "y"
        },
        {
         "hoverlabel": {
          "namelength": 0
         },
         "hovertemplate": "<b>%{hovertext}</b><br><br>ccode=LKA<br>loggdp=%{x}<br>growth rate=%{y}<br>pop=%{marker.size}",
         "hovertext": [
          "LKA"
         ],
         "legendgroup": "ccode=LKA",
         "marker": {
          "color": "#19d3f3",
          "size": [
           19.714000000000002
          ],
          "sizemode": "area",
          "sizeref": 0.34955583333333334,
          "symbol": "circle"
         },
         "mode": "markers",
         "name": "ccode=LKA",
         "showlegend": true,
         "type": "scatter",
         "x": [
          8.387312270561717
         ],
         "xaxis": "x",
         "y": [
          6.2887
         ],
         "yaxis": "y"
        },
        {
         "hoverlabel": {
          "namelength": 0
         },
         "hovertemplate": "<b>%{hovertext}</b><br><br>ccode=JAM<br>loggdp=%{x}<br>growth rate=%{y}<br>pop=%{marker.size}",
         "hovertext": [
          "JAM"
         ],
         "legendgroup": "ccode=JAM",
         "marker": {
          "color": "#FF6692",
          "size": [
           2.617
          ],
          "sizemode": "area",
          "sizeref": 0.34955583333333334,
          "symbol": "circle"
         },
         "mode": "markers",
         "name": "ccode=JAM",
         "showlegend": true,
         "type": "scatter",
         "x": [
          8.583355393669907
         ],
         "xaxis": "x",
         "y": [
          2.0488
         ],
         "yaxis": "y"
        },
        {
         "hoverlabel": {
          "namelength": 0
         },
         "hovertemplate": "<b>%{hovertext}</b><br><br>ccode=SDN<br>loggdp=%{x}<br>growth rate=%{y}<br>pop=%{marker.size}",
         "hovertext": [
          "SDN"
         ],
         "legendgroup": "ccode=SDN",
         "marker": {
          "color": "#B6E880",
          "size": [
           33.37
          ],
          "sizemode": "area",
          "sizeref": 0.34955583333333334,
          "symbol": "circle"
         },
         "mode": "markers",
         "name": "ccode=SDN",
         "showlegend": true,
         "type": "scatter",
         "x": [
          7.48605261786314
         ],
         "xaxis": "x",
         "y": [
          5.201
         ],
         "yaxis": "y"
        },
        {
         "hoverlabel": {
          "namelength": 0
         },
         "hovertemplate": "<b>%{hovertext}</b><br><br>ccode=VNM<br>loggdp=%{x}<br>growth rate=%{y}<br>pop=%{marker.size}",
         "hovertext": [
          "VNM"
         ],
         "legendgroup": "ccode=VNM",
         "marker": {
          "color": "#FF97FF",
          "size": [
           79.207
          ],
          "sizemode": "area",
          "sizeref": 0.34955583333333334,
          "symbol": "circle"
         },
         "mode": "markers",
         "name": "ccode=VNM",
         "showlegend": true,
         "type": "scatter",
         "x": [
          7.715569534520208
         ],
         "xaxis": "x",
         "y": [
          6.5146
         ],
         "yaxis": "y"
        },
        {
         "hoverlabel": {
          "namelength": 0
         },
         "hovertemplate": "<b>%{hovertext}</b><br><br>ccode=COG<br>loggdp=%{x}<br>growth rate=%{y}<br>pop=%{marker.size}",
         "hovertext": [
          "COG"
         ],
         "legendgroup": "ccode=COG",
         "marker": {
          "color": "#FECB52",
          "size": [
           2.9389999999999996
          ],
          "sizemode": "area",
          "sizeref": 0.34955583333333334,
          "symbol": "circle"
         },
         "mode": "markers",
         "name": "ccode=COG",
         "showlegend": true,
         "type": "scatter",
         "x": [
          7.910957382845589
         ],
         "xaxis": "x",
         "y": [
          3.7422
         ],
         "yaxis": "y"
        },
        {
         "hoverlabel": {
          "namelength": 0
         },
         "hovertemplate": "<b>%{hovertext}</b><br><br>ccode=SVK<br>loggdp=%{x}<br>growth rate=%{y}<br>pop=%{marker.size}",
         "hovertext": [
          "SVK"
         ],
         "legendgroup": "ccode=SVK",
         "marker": {
          "color": "#636efa",
          "size": [
           5.352
          ],
          "sizemode": "area",
          "sizeref": 0.34955583333333334,
          "symbol": "circle"
         },
         "mode": "markers",
         "name": "ccode=SVK",
         "showlegend": true,
         "type": "scatter",
         "x": [
          9.53372736904874
         ],
         "xaxis": "x",
         "y": [
          4.3152
         ],
         "yaxis": "y"
        },
        {
         "hoverlabel": {
          "namelength": 0
         },
         "hovertemplate": "<b>%{hovertext}</b><br><br>ccode=SLE<br>loggdp=%{x}<br>growth rate=%{y}<br>pop=%{marker.size}",
         "hovertext": [
          "SLE"
         ],
         "legendgroup": "ccode=SLE",
         "marker": {
          "color": "#EF553B",
          "size": [
           3.8089999999999997
          ],
          "sizemode": "area",
          "sizeref": 0.34955583333333334,
          "symbol": "circle"
         },
         "mode": "markers",
         "name": "ccode=SLE",
         "showlegend": true,
         "type": "scatter",
         "x": [
          6.905753276311464
         ],
         "xaxis": "x",
         "y": [
          2.0505
         ],
         "yaxis": "y"
        },
        {
         "hoverlabel": {
          "namelength": 0
         },
         "hovertemplate": "<b>%{hovertext}</b><br><br>ccode=BOL<br>loggdp=%{x}<br>growth rate=%{y}<br>pop=%{marker.size}",
         "hovertext": [
          "BOL"
         ],
         "legendgroup": "ccode=BOL",
         "marker": {
          "color": "#00cc96",
          "size": [
           8.195
          ],
          "sizemode": "area",
          "sizeref": 0.34955583333333334,
          "symbol": "circle"
         },
         "mode": "markers",
         "name": "ccode=BOL",
         "showlegend": true,
         "type": "scatter",
         "x": [
          8.001019961323651
         ],
         "xaxis": "x",
         "y": [
          4.8409
         ],
         "yaxis": "y"
        },
        {
         "hoverlabel": {
          "namelength": 0
         },
         "hovertemplate": "<b>%{hovertext}</b><br><br>ccode=CMR<br>loggdp=%{x}<br>growth rate=%{y}<br>pop=%{marker.size}",
         "hovertext": [
          "CMR"
         ],
         "legendgroup": "ccode=CMR",
         "marker": {
          "color": "#ab63fa",
          "size": [
           15.687999999999999
          ],
          "sizemode": "area",
          "sizeref": 0.34955583333333334,
          "symbol": "circle"
         },
         "mode": "markers",
         "name": "ccode=CMR",
         "showlegend": true,
         "type": "scatter",
         "x": [
          7.719573989259581
         ],
         "xaxis": "x",
         "y": [
          1.229
         ],
         "yaxis": "y"
        },
        {
         "hoverlabel": {
          "namelength": 0
         },
         "hovertemplate": "<b>%{hovertext}</b><br><br>ccode=POL<br>loggdp=%{x}<br>growth rate=%{y}<br>pop=%{marker.size}",
         "hovertext": [
          "POL"
         ],
         "legendgroup": "ccode=POL",
         "marker": {
          "color": "#FFA15A",
          "size": [
           38.658
          ],
          "sizemode": "area",
          "sizeref": 0.34955583333333334,
          "symbol": "circle"
         },
         "mode": "markers",
         "name": "ccode=POL",
         "showlegend": true,
         "type": "scatter",
         "x": [
          9.488502271043805
         ],
         "xaxis": "x",
         "y": [
          4.4686
         ],
         "yaxis": "y"
        },
        {
         "hoverlabel": {
          "namelength": 0
         },
         "hovertemplate": "<b>%{hovertext}</b><br><br>ccode=PRT<br>loggdp=%{x}<br>growth rate=%{y}<br>pop=%{marker.size}",
         "hovertext": [
          "PRT"
         ],
         "legendgroup": "ccode=PRT",
         "marker": {
          "color": "#19d3f3",
          "size": [
           10.228
          ],
          "sizemode": "area",
          "sizeref": 0.34955583333333334,
          "symbol": "circle"
         },
         "mode": "markers",
         "name": "ccode=PRT",
         "showlegend": true,
         "type": "scatter",
         "x": [
          9.975668669496136
         ],
         "xaxis": "x",
         "y": [
          1.5649
         ],
         "yaxis": "y"
        },
        {
         "hoverlabel": {
          "namelength": 0
         },
         "hovertemplate": "<b>%{hovertext}</b><br><br>ccode=MEX<br>loggdp=%{x}<br>growth rate=%{y}<br>pop=%{marker.size}",
         "hovertext": [
          "MEX"
         ],
         "legendgroup": "ccode=MEX",
         "marker": {
          "color": "#FF6692",
          "size": [
           98.40299999999999
          ],
          "sizemode": "area",
          "sizeref": 0.34955583333333334,
          "symbol": "circle"
         },
         "mode": "markers",
         "name": "ccode=MEX",
         "showlegend": true,
         "type": "scatter",
         "x": [
          9.33591519488425
         ],
         "xaxis": "x",
         "y": [
          2.2732
         ],
         "yaxis": "y"
        },
        {
         "hoverlabel": {
          "namelength": 0
         },
         "hovertemplate": "<b>%{hovertext}</b><br><br>ccode=DOM<br>loggdp=%{x}<br>growth rate=%{y}<br>pop=%{marker.size}",
         "hovertext": [
          "DOM"
         ],
         "legendgroup": "ccode=DOM",
         "marker": {
          "color": "#B6E880",
          "size": [
           8.468
          ],
          "sizemode": "area",
          "sizeref": 0.34955583333333334,
          "symbol": "circle"
         },
         "mode": "markers",
         "name": "ccode=DOM",
         "showlegend": true,
         "type": "scatter",
         "x": [
          8.927181388251986
         ],
         "xaxis": "x",
         "y": [
          3.7751
         ],
         "yaxis": "y"
        },
        {
         "hoverlabel": {
          "namelength": 0
         },
         "hovertemplate": "<b>%{hovertext}</b><br><br>ccode=LSO<br>loggdp=%{x}<br>growth rate=%{y}<br>pop=%{marker.size}",
         "hovertext": [
          "LSO"
         ],
         "legendgroup": "ccode=LSO",
         "marker": {
          "color": "#FF97FF",
          "size": [
           1.916
          ],
          "sizemode": "area",
          "sizeref": 0.34955583333333334,
          "symbol": "circle"
         },
         "mode": "markers",
         "name": "ccode=LSO",
         "showlegend": true,
         "type": "scatter",
         "x": [
          7.637234388789473
         ],
         "xaxis": "x",
         "y": [
          2.3753
         ],
         "yaxis": "y"
        },
        {
         "hoverlabel": {
          "namelength": 0
         },
         "hovertemplate": "<b>%{hovertext}</b><br><br>ccode=CPV<br>loggdp=%{x}<br>growth rate=%{y}<br>pop=%{marker.size}",
         "hovertext": [
          "CPV"
         ],
         "legendgroup": "ccode=CPV",
         "marker": {
          "color": "#FECB52",
          "size": [
           0.43
          ],
          "sizemode": "area",
          "sizeref": 0.34955583333333334,
          "symbol": "circle"
         },
         "mode": "markers",
         "name": "ccode=CPV",
         "showlegend": true,
         "type": "scatter",
         "x": [
          8.19863945529737
         ],
         "xaxis": "x",
         "y": [
          4.0665
         ],
         "yaxis": "y"
        },
        {
         "hoverlabel": {
          "namelength": 0
         },
         "hovertemplate": "<b>%{hovertext}</b><br><br>ccode=SLV<br>loggdp=%{x}<br>growth rate=%{y}<br>pop=%{marker.size}",
         "hovertext": [
          "SLV"
         ],
         "legendgroup": "ccode=SLV",
         "marker": {
          "color": "#636efa",
          "size": [
           5.85
          ],
          "sizemode": "area",
          "sizeref": 0.34955583333333334,
          "symbol": "circle"
         },
         "mode": "markers",
         "name": "ccode=SLV",
         "showlegend": true,
         "type": "scatter",
         "x": [
          8.532278828834277
         ],
         "xaxis": "x",
         "y": [
          3.2917
         ],
         "yaxis": "y"
        },
        {
         "hoverlabel": {
          "namelength": 0
         },
         "hovertemplate": "<b>%{hovertext}</b><br><br>ccode=TGO<br>loggdp=%{x}<br>growth rate=%{y}<br>pop=%{marker.size}",
         "hovertext": [
          "TGO"
         ],
         "legendgroup": "ccode=TGO",
         "marker": {
          "color": "#EF553B",
          "size": [
           4.992
          ],
          "sizemode": "area",
          "sizeref": 0.34955583333333334,
          "symbol": "circle"
         },
         "mode": "markers",
         "name": "ccode=TGO",
         "showlegend": true,
         "type": "scatter",
         "x": [
          7.05617528410041
         ],
         "xaxis": "x",
         "y": [
          1.5715
         ],
         "yaxis": "y"
        },
        {
         "hoverlabel": {
          "namelength": 0
         },
         "hovertemplate": "<b>%{hovertext}</b><br><br>ccode=DEU<br>loggdp=%{x}<br>growth rate=%{y}<br>pop=%{marker.size}",
         "hovertext": [
          "DEU"
         ],
         "legendgroup": "ccode=DEU",
         "marker": {
          "color": "#00cc96",
          "size": [
           82.15700000000001
          ],
          "sizemode": "area",
          "sizeref": 0.34955583333333334,
          "symbol": "circle"
         },
         "mode": "markers",
         "name": "ccode=DEU",
         "showlegend": true,
         "type": "scatter",
         "x": [
          10.433380239019344
         ],
         "xaxis": "x",
         "y": [
          2.194
         ],
         "yaxis": "y"
        },
        {
         "hoverlabel": {
          "namelength": 0
         },
         "hovertemplate": "<b>%{hovertext}</b><br><br>ccode=CHL<br>loggdp=%{x}<br>growth rate=%{y}<br>pop=%{marker.size}",
         "hovertext": [
          "CHL"
         ],
         "legendgroup": "ccode=CHL",
         "marker": {
          "color": "#ab63fa",
          "size": [
           15.34
          ],
          "sizemode": "area",
          "sizeref": 0.34955583333333334,
          "symbol": "circle"
         },
         "mode": "markers",
         "name": "ccode=CHL",
         "showlegend": true,
         "type": "scatter",
         "x": [
          9.296793259706382
         ],
         "xaxis": "x",
         "y": [
          4.8254
         ],
         "yaxis": "y"
        },
        {
         "hoverlabel": {
          "namelength": 0
         },
         "hovertemplate": "<b>%{hovertext}</b><br><br>ccode=HKG<br>loggdp=%{x}<br>growth rate=%{y}<br>pop=%{marker.size}",
         "hovertext": [
          "HKG"
         ],
         "legendgroup": "ccode=HKG",
         "marker": {
          "color": "#FFA15A",
          "size": [
           6.59
          ],
          "sizemode": "area",
          "sizeref": 0.34955583333333334,
          "symbol": "circle"
         },
         "mode": "markers",
         "name": "ccode=HKG",
         "showlegend": true,
         "type": "scatter",
         "x": [
          10.54935967058025
         ],
         "xaxis": "x",
         "y": [
          1.311
         ],
         "yaxis": "y"
        },
        {
         "hoverlabel": {
          "namelength": 0
         },
         "hovertemplate": "<b>%{hovertext}</b><br><br>ccode=BEL<br>loggdp=%{x}<br>growth rate=%{y}<br>pop=%{marker.size}",
         "hovertext": [
          "BEL"
         ],
         "legendgroup": "ccode=BEL",
         "marker": {
          "color": "#19d3f3",
          "size": [
           10.253
          ],
          "sizemode": "area",
          "sizeref": 0.34955583333333334,
          "symbol": "circle"
         },
         "mode": "markers",
         "name": "ccode=BEL",
         "showlegend": true,
         "type": "scatter",
         "x": [
          10.41711923563258
         ],
         "xaxis": "x",
         "y": [
          1.1411
         ],
         "yaxis": "y"
        },
        {
         "hoverlabel": {
          "namelength": 0
         },
         "hovertemplate": "<b>%{hovertext}</b><br><br>ccode=PSE<br>loggdp=%{x}<br>growth rate=%{y}<br>pop=%{marker.size}",
         "hovertext": [
          "PSE"
         ],
         "legendgroup": "ccode=PSE",
         "marker": {
          "color": "#FF6692",
          "size": [
           3.075
          ],
          "sizemode": "area",
          "sizeref": 0.34955583333333334,
          "symbol": "circle"
         },
         "mode": "markers",
         "name": "ccode=PSE",
         "showlegend": true,
         "type": "scatter",
         "x": [
          8.25582842728183
         ],
         "xaxis": "x",
         "y": [
          0.9008
         ],
         "yaxis": "y"
        },
        {
         "hoverlabel": {
          "namelength": 0
         },
         "hovertemplate": "<b>%{hovertext}</b><br><br>ccode=IND<br>loggdp=%{x}<br>growth rate=%{y}<br>pop=%{marker.size}",
         "hovertext": [
          "IND"
         ],
         "legendgroup": "ccode=IND",
         "marker": {
          "color": "#B6E880",
          "size": [
           1007.31
          ],
          "sizemode": "area",
          "sizeref": 0.34955583333333334,
          "symbol": "circle"
         },
         "mode": "markers",
         "name": "ccode=IND",
         "showlegend": true,
         "type": "scatter",
         "x": [
          7.602401335665818
         ],
         "xaxis": "x",
         "y": [
          7.215
         ],
         "yaxis": "y"
        },
        {
         "hoverlabel": {
          "namelength": 0
         },
         "hovertemplate": "<b>%{hovertext}</b><br><br>ccode=BRA<br>loggdp=%{x}<br>growth rate=%{y}<br>pop=%{marker.size}",
         "hovertext": [
          "BRA"
         ],
         "legendgroup": "ccode=BRA",
         "marker": {
          "color": "#FF97FF",
          "size": [
           176.36900000000003
          ],
          "sizemode": "area",
          "sizeref": 0.34955583333333334,
          "symbol": "circle"
         },
         "mode": "markers",
         "name": "ccode=BRA",
         "showlegend": true,
         "type": "scatter",
         "x": [
          9.025936648977904
         ],
         "xaxis": "x",
         "y": [
          4.216
         ],
         "yaxis": "y"
        },
        {
         "hoverlabel": {
          "namelength": 0
         },
         "hovertemplate": "<b>%{hovertext}</b><br><br>ccode=BRB<br>loggdp=%{x}<br>growth rate=%{y}<br>pop=%{marker.size}",
         "hovertext": [
          "BRB"
         ],
         "legendgroup": "ccode=BRB",
         "marker": {
          "color": "#FECB52",
          "size": [
           0.27399999999999997
          ],
          "sizemode": "area",
          "sizeref": 0.34955583333333334,
          "symbol": "circle"
         },
         "mode": "markers",
         "name": "ccode=BRB",
         "showlegend": true,
         "type": "scatter",
         "x": [
          9.933191975242458
         ],
         "xaxis": "x",
         "y": [
          -5.0512
         ],
         "yaxis": "y"
        },
        {
         "hoverlabel": {
          "namelength": 0
         },
         "hovertemplate": "<b>%{hovertext}</b><br><br>ccode=USA<br>loggdp=%{x}<br>growth rate=%{y}<br>pop=%{marker.size}",
         "hovertext": [
          "USA"
         ],
         "legendgroup": "ccode=USA",
         "marker": {
          "color": "#636efa",
          "size": [
           282.738
          ],
          "sizemode": "area",
          "sizeref": 0.34955583333333334,
          "symbol": "circle"
         },
         "mode": "markers",
         "name": "ccode=USA",
         "showlegend": true,
         "type": "scatter",
         "x": [
          10.73393713153216
         ],
         "xaxis": "x",
         "y": [
          0.8506
         ],
         "yaxis": "y"
        },
        {
         "hoverlabel": {
          "namelength": 0
         },
         "hovertemplate": "<b>%{hovertext}</b><br><br>ccode=AUT<br>loggdp=%{x}<br>growth rate=%{y}<br>pop=%{marker.size}",
         "hovertext": [
          "AUT"
         ],
         "legendgroup": "ccode=AUT",
         "marker": {
          "color": "#EF553B",
          "size": [
           8.059
          ],
          "sizemode": "area",
          "sizeref": 0.34955583333333334,
          "symbol": "circle"
         },
         "mode": "markers",
         "name": "ccode=AUT",
         "showlegend": true,
         "type": "scatter",
         "x": [
          10.48329804775707
         ],
         "xaxis": "x",
         "y": [
          1.6474
         ],
         "yaxis": "y"
        },
        {
         "hoverlabel": {
          "namelength": 0
         },
         "hovertemplate": "<b>%{hovertext}</b><br><br>ccode=AZE<br>loggdp=%{x}<br>growth rate=%{y}<br>pop=%{marker.size}",
         "hovertext": [
          "AZE"
         ],
         "legendgroup": "ccode=AZE",
         "marker": {
          "color": "#00cc96",
          "size": [
           8.127
          ],
          "sizemode": "area",
          "sizeref": 0.34955583333333334,
          "symbol": "circle"
         },
         "mode": "markers",
         "name": "ccode=AZE",
         "showlegend": true,
         "type": "scatter",
         "x": [
          7.853993087224244
         ],
         "xaxis": "x",
         "y": [
          13.9472
         ],
         "yaxis": "y"
        },
        {
         "hoverlabel": {
          "namelength": 0
         },
         "hovertemplate": "<b>%{hovertext}</b><br><br>ccode=BDI<br>loggdp=%{x}<br>growth rate=%{y}<br>pop=%{marker.size}",
         "hovertext": [
          "BDI"
         ],
         "legendgroup": "ccode=BDI",
         "marker": {
          "color": "#ab63fa",
          "size": [
           6.716
          ],
          "sizemode": "area",
          "sizeref": 0.34955583333333334,
          "symbol": "circle"
         },
         "mode": "markers",
         "name": "ccode=BDI",
         "showlegend": true,
         "type": "scatter",
         "x": [
          6.8690144506657065
         ],
         "xaxis": "x",
         "y": [
          -1.4959
         ],
         "yaxis": "y"
        },
        {
         "hoverlabel": {
          "namelength": 0
         },
         "hovertemplate": "<b>%{hovertext}</b><br><br>ccode=MUS<br>loggdp=%{x}<br>growth rate=%{y}<br>pop=%{marker.size}",
         "hovertext": [
          "MUS"
         ],
         "legendgroup": "ccode=MUS",
         "marker": {
          "color": "#FFA15A",
          "size": [
           1.186
          ],
          "sizemode": "area",
          "sizeref": 0.34955583333333334,
          "symbol": "circle"
         },
         "mode": "markers",
         "name": "ccode=MUS",
         "showlegend": true,
         "type": "scatter",
         "x": [
          9.595602772766828
         ],
         "xaxis": "x",
         "y": [
          1.3583
         ],
         "yaxis": "y"
        },
        {
         "hoverlabel": {
          "namelength": 0
         },
         "hovertemplate": "<b>%{hovertext}</b><br><br>ccode=NER<br>loggdp=%{x}<br>growth rate=%{y}<br>pop=%{marker.size}",
         "hovertext": [
          "NER"
         ],
         "legendgroup": "ccode=NER",
         "marker": {
          "color": "#19d3f3",
          "size": [
           10.748
          ],
          "sizemode": "area",
          "sizeref": 0.34955583333333334,
          "symbol": "circle"
         },
         "mode": "markers",
         "name": "ccode=NER",
         "showlegend": true,
         "type": "scatter",
         "x": [
          6.505784060128229
         ],
         "xaxis": "x",
         "y": [
          2.0843
         ],
         "yaxis": "y"
        },
        {
         "hoverlabel": {
          "namelength": 0
         },
         "hovertemplate": "<b>%{hovertext}</b><br><br>ccode=MKD<br>loggdp=%{x}<br>growth rate=%{y}<br>pop=%{marker.size}",
         "hovertext": [
          "MKD"
         ],
         "legendgroup": "ccode=MKD",
         "marker": {
          "color": "#FF6692",
          "size": [
           2.015
          ],
          "sizemode": "area",
          "sizeref": 0.34955583333333334,
          "symbol": "circle"
         },
         "mode": "markers",
         "name": "ccode=MKD",
         "showlegend": true,
         "type": "scatter",
         "x": [
          9.009814110527381
         ],
         "xaxis": "x",
         "y": [
          3.4239
         ],
         "yaxis": "y"
        },
        {
         "hoverlabel": {
          "namelength": 0
         },
         "hovertemplate": "<b>%{hovertext}</b><br><br>ccode=NGA<br>loggdp=%{x}<br>growth rate=%{y}<br>pop=%{marker.size}",
         "hovertext": [
          "NGA"
         ],
         "legendgroup": "ccode=NGA",
         "marker": {
          "color": "#B6E880",
          "size": [
           123.84299999999999
          ],
          "sizemode": "area",
          "sizeref": 0.34955583333333334,
          "symbol": "circle"
         },
         "mode": "markers",
         "name": "ccode=NGA",
         "showlegend": true,
         "type": "scatter",
         "x": [
          7.884952945759814
         ],
         "xaxis": "x",
         "y": [
          5.3765
         ],
         "yaxis": "y"
        },
        {
         "hoverlabel": {
          "namelength": 0
         },
         "hovertemplate": "<b>%{hovertext}</b><br><br>ccode=LVA<br>loggdp=%{x}<br>growth rate=%{y}<br>pop=%{marker.size}",
         "hovertext": [
          "LVA"
         ],
         "legendgroup": "ccode=LVA",
         "marker": {
          "color": "#FF97FF",
          "size": [
           2.3680000000000003
          ],
          "sizemode": "area",
          "sizeref": 0.34955583333333334,
          "symbol": "circle"
         },
         "mode": "markers",
         "name": "ccode=LVA",
         "showlegend": true,
         "type": "scatter",
         "x": [
          9.273690687476945
         ],
         "xaxis": "x",
         "y": [
          5.2966
         ],
         "yaxis": "y"
        },
        {
         "hoverlabel": {
          "namelength": 0
         },
         "hovertemplate": "<b>%{hovertext}</b><br><br>ccode=GRC<br>loggdp=%{x}<br>growth rate=%{y}<br>pop=%{marker.size}",
         "hovertext": [
          "GRC"
         ],
         "legendgroup": "ccode=GRC",
         "marker": {
          "color": "#FECB52",
          "size": [
           10.735
          ],
          "sizemode": "area",
          "sizeref": 0.34955583333333334,
          "symbol": "circle"
         },
         "mode": "markers",
         "name": "ccode=GRC",
         "showlegend": true,
         "type": "scatter",
         "x": [
          10.049231566588833
         ],
         "xaxis": "x",
         "y": [
          0.3909
         ],
         "yaxis": "y"
        },
        {
         "hoverlabel": {
          "namelength": 0
         },
         "hovertemplate": "<b>%{hovertext}</b><br><br>ccode=NAM<br>loggdp=%{x}<br>growth rate=%{y}<br>pop=%{marker.size}",
         "hovertext": [
          "NAM"
         ],
         "legendgroup": "ccode=NAM",
         "marker": {
          "color": "#636efa",
          "size": [
           1.8780000000000001
          ],
          "sizemode": "area",
          "sizeref": 0.34955583333333334,
          "symbol": "circle"
         },
         "mode": "markers",
         "name": "ccode=NAM",
         "showlegend": true,
         "type": "scatter",
         "x": [
          8.557182839632397
         ],
         "xaxis": "x",
         "y": [
          5.8166
         ],
         "yaxis": "y"
        },
        {
         "hoverlabel": {
          "namelength": 0
         },
         "hovertemplate": "<b>%{hovertext}</b><br><br>ccode=BEN<br>loggdp=%{x}<br>growth rate=%{y}<br>pop=%{marker.size}",
         "hovertext": [
          "BEN"
         ],
         "legendgroup": "ccode=BEN",
         "marker": {
          "color": "#EF553B",
          "size": [
           6.619
          ],
          "sizemode": "area",
          "sizeref": 0.34955583333333334,
          "symbol": "circle"
         },
         "mode": "markers",
         "name": "ccode=BEN",
         "showlegend": true,
         "type": "scatter",
         "x": [
          7.305860032684009
         ],
         "xaxis": "x",
         "y": [
          2.4584
         ],
         "yaxis": "y"
        },
        {
         "hoverlabel": {
          "namelength": 0
         },
         "hovertemplate": "<b>%{hovertext}</b><br><br>ccode=ZAF<br>loggdp=%{x}<br>growth rate=%{y}<br>pop=%{marker.size}",
         "hovertext": [
          "ZAF"
         ],
         "legendgroup": "ccode=ZAF",
         "marker": {
          "color": "#00cc96",
          "size": [
           44.882
          ],
          "sizemode": "area",
          "sizeref": 0.34955583333333334,
          "symbol": "circle"
         },
         "mode": "markers",
         "name": "ccode=ZAF",
         "showlegend": true,
         "type": "scatter",
         "x": [
          9.045229851912582
         ],
         "xaxis": "x",
         "y": [
          2.5432
         ],
         "yaxis": "y"
        },
        {
         "hoverlabel": {
          "namelength": 0
         },
         "hovertemplate": "<b>%{hovertext}</b><br><br>ccode=GAB<br>loggdp=%{x}<br>growth rate=%{y}<br>pop=%{marker.size}",
         "hovertext": [
          "GAB"
         ],
         "legendgroup": "ccode=GAB",
         "marker": {
          "color": "#ab63fa",
          "size": [
           1.236
          ],
          "sizemode": "area",
          "sizeref": 0.34955583333333334,
          "symbol": "circle"
         },
         "mode": "markers",
         "name": "ccode=GAB",
         "showlegend": true,
         "type": "scatter",
         "x": [
          9.259320994197804
         ],
         "xaxis": "x",
         "y": [
          2.1023
         ],
         "yaxis": "y"
        },
        {
         "hoverlabel": {
          "namelength": 0
         },
         "hovertemplate": "<b>%{hovertext}</b><br><br>ccode=SWE<br>loggdp=%{x}<br>growth rate=%{y}<br>pop=%{marker.size}",
         "hovertext": [
          "SWE"
         ],
         "legendgroup": "ccode=SWE",
         "marker": {
          "color": "#FFA15A",
          "size": [
           8.872
          ],
          "sizemode": "area",
          "sizeref": 0.34955583333333334,
          "symbol": "circle"
         },
         "mode": "markers",
         "name": "ccode=SWE",
         "showlegend": true,
         "type": "scatter",
         "x": [
          10.501609512686963
         ],
         "xaxis": "x",
         "y": [
          1.0672
         ],
         "yaxis": "y"
        },
        {
         "hoverlabel": {
          "namelength": 0
         },
         "hovertemplate": "<b>%{hovertext}</b><br><br>ccode=GNB<br>loggdp=%{x}<br>growth rate=%{y}<br>pop=%{marker.size}",
         "hovertext": [
          "GNB"
         ],
         "legendgroup": "ccode=GNB",
         "marker": {
          "color": "#19d3f3",
          "size": [
           1.2790000000000001
          ],
          "sizemode": "area",
          "sizeref": 0.34955583333333334,
          "symbol": "circle"
         },
         "mode": "markers",
         "name": "ccode=GNB",
         "showlegend": true,
         "type": "scatter",
         "x": [
          7.213031659834869
         ],
         "xaxis": "x",
         "y": [
          -0.4331
         ],
         "yaxis": "y"
        },
        {
         "hoverlabel": {
          "namelength": 0
         },
         "hovertemplate": "<b>%{hovertext}</b><br><br>ccode=DMA<br>loggdp=%{x}<br>growth rate=%{y}<br>pop=%{marker.size}",
         "hovertext": [
          "DMA"
         ],
         "legendgroup": "ccode=DMA",
         "marker": {
          "color": "#FF6692",
          "size": [
           0.071
          ],
          "sizemode": "area",
          "sizeref": 0.34955583333333334,
          "symbol": "circle"
         },
         "mode": "markers",
         "name": "ccode=DMA",
         "showlegend": true,
         "type": "scatter",
         "x": [
          9.084323531392696
         ],
         "xaxis": "x",
         "y": [
          0.7064
         ],
         "yaxis": "y"
        },
        {
         "hoverlabel": {
          "namelength": 0
         },
         "hovertemplate": "<b>%{hovertext}</b><br><br>ccode=QAT<br>loggdp=%{x}<br>growth rate=%{y}<br>pop=%{marker.size}",
         "hovertext": [
          "QAT"
         ],
         "legendgroup": "ccode=QAT",
         "marker": {
          "color": "#B6E880",
          "size": [
           0.556
          ],
          "sizemode": "area",
          "sizeref": 0.34955583333333334,
          "symbol": "circle"
         },
         "mode": "markers",
         "name": "ccode=QAT",
         "showlegend": true,
         "type": "scatter",
         "x": [
          11.097728152217645
         ],
         "xaxis": "x",
         "y": [
          5.4446
         ],
         "yaxis": "y"
        },
        {
         "hoverlabel": {
          "namelength": 0
         },
         "hovertemplate": "<b>%{hovertext}</b><br><br>ccode=SYR<br>loggdp=%{x}<br>growth rate=%{y}<br>pop=%{marker.size}",
         "hovertext": [
          "SYR"
         ],
         "legendgroup": "ccode=SYR",
         "marker": {
          "color": "#FF97FF",
          "size": [
           16.334
          ],
          "sizemode": "area",
          "sizeref": 0.34955583333333334,
          "symbol": "circle"
         },
         "mode": "markers",
         "name": "ccode=SYR",
         "showlegend": true,
         "type": "scatter",
         "x": [
          8.506334448081361
         ],
         "xaxis": "x",
         "y": [
          -1.3845
         ],
         "yaxis": "y"
        },
        {
         "hoverlabel": {
          "namelength": 0
         },
         "hovertemplate": "<b>%{hovertext}</b><br><br>ccode=GIN<br>loggdp=%{x}<br>growth rate=%{y}<br>pop=%{marker.size}",
         "hovertext": [
          "GIN"
         ],
         "legendgroup": "ccode=GIN",
         "marker": {
          "color": "#FECB52",
          "size": [
           8.35
          ],
          "sizemode": "area",
          "sizeref": 0.34955583333333334,
          "symbol": "circle"
         },
         "mode": "markers",
         "name": "ccode=GIN",
         "showlegend": true,
         "type": "scatter",
         "x": [
          6.9650803456014065
         ],
         "xaxis": "x",
         "y": [
          3.2003
         ],
         "yaxis": "y"
        },
        {
         "hoverlabel": {
          "namelength": 0
         },
         "hovertemplate": "<b>%{hovertext}</b><br><br>ccode=HND<br>loggdp=%{x}<br>growth rate=%{y}<br>pop=%{marker.size}",
         "hovertext": [
          "HND"
         ],
         "legendgroup": "ccode=HND",
         "marker": {
          "color": "#636efa",
          "size": [
           6.359
          ],
          "sizemode": "area",
          "sizeref": 0.34955583333333334,
          "symbol": "circle"
         },
         "mode": "markers",
         "name": "ccode=HND",
         "showlegend": true,
         "type": "scatter",
         "x": [
          8.173293438966228
         ],
         "xaxis": "x",
         "y": [
          1.3414
         ],
         "yaxis": "y"
        },
        {
         "hoverlabel": {
          "namelength": 0
         },
         "hovertemplate": "<b>%{hovertext}</b><br><br>ccode=UZB<br>loggdp=%{x}<br>growth rate=%{y}<br>pop=%{marker.size}",
         "hovertext": [
          "UZB"
         ],
         "legendgroup": "ccode=UZB",
         "marker": {
          "color": "#EF553B",
          "size": [
           25.041999999999998
          ],
          "sizemode": "area",
          "sizeref": 0.34955583333333334,
          "symbol": "circle"
         },
         "mode": "markers",
         "name": "ccode=UZB",
         "showlegend": true,
         "type": "scatter",
         "x": [
          8.125039097367745
         ],
         "xaxis": "x",
         "y": [
          6.8232
         ],
         "yaxis": "y"
        },
        {
         "hoverlabel": {
          "namelength": 0
         },
         "hovertemplate": "<b>%{hovertext}</b><br><br>ccode=GTM<br>loggdp=%{x}<br>growth rate=%{y}<br>pop=%{marker.size}",
         "hovertext": [
          "GTM"
         ],
         "legendgroup": "ccode=GTM",
         "marker": {
          "color": "#00cc96",
          "size": [
           11.085999999999999
          ],
          "sizemode": "area",
          "sizeref": 0.34955583333333334,
          "symbol": "circle"
         },
         "mode": "markers",
         "name": "ccode=GTM",
         "showlegend": true,
         "type": "scatter",
         "x": [
          8.470730317005897
         ],
         "xaxis": "x",
         "y": [
          2.6674
         ],
         "yaxis": "y"
        },
        {
         "hoverlabel": {
          "namelength": 0
         },
         "hovertemplate": "<b>%{hovertext}</b><br><br>ccode=HTI<br>loggdp=%{x}<br>growth rate=%{y}<br>pop=%{marker.size}",
         "hovertext": [
          "HTI"
         ],
         "legendgroup": "ccode=HTI",
         "marker": {
          "color": "#ab63fa",
          "size": [
           8.279
          ],
          "sizemode": "area",
          "sizeref": 0.34955583333333334,
          "symbol": "circle"
         },
         "mode": "markers",
         "name": "ccode=HTI",
         "showlegend": true,
         "type": "scatter",
         "x": [
          7.56734567601324
         ],
         "xaxis": "x",
         "y": [
          -1.1066
         ],
         "yaxis": "y"
        },
        {
         "hoverlabel": {
          "namelength": 0
         },
         "hovertemplate": "<b>%{hovertext}</b><br><br>ccode=ISL<br>loggdp=%{x}<br>growth rate=%{y}<br>pop=%{marker.size}",
         "hovertext": [
          "ISL"
         ],
         "legendgroup": "ccode=ISL",
         "marker": {
          "color": "#FFA15A",
          "size": [
           0.281
          ],
          "sizemode": "area",
          "sizeref": 0.34955583333333334,
          "symbol": "circle"
         },
         "mode": "markers",
         "name": "ccode=ISL",
         "showlegend": true,
         "type": "scatter",
         "x": [
          10.480943258599881
         ],
         "xaxis": "x",
         "y": [
          0.7179
         ],
         "yaxis": "y"
        },
        {
         "hoverlabel": {
          "namelength": 0
         },
         "hovertemplate": "<b>%{hovertext}</b><br><br>ccode=BGD<br>loggdp=%{x}<br>growth rate=%{y}<br>pop=%{marker.size}",
         "hovertext": [
          "BGD"
         ],
         "legendgroup": "ccode=BGD",
         "marker": {
          "color": "#19d3f3",
          "size": [
           135.211
          ],
          "sizemode": "area",
          "sizeref": 0.34955583333333334,
          "symbol": "circle"
         },
         "mode": "markers",
         "name": "ccode=BGD",
         "showlegend": true,
         "type": "scatter",
         "x": [
          7.221835825288449
         ],
         "xaxis": "x",
         "y": [
          5.5106
         ],
         "yaxis": "y"
        },
        {
         "hoverlabel": {
          "namelength": 0
         },
         "hovertemplate": "<b>%{hovertext}</b><br><br>ccode=OMN<br>loggdp=%{x}<br>growth rate=%{y}<br>pop=%{marker.size}",
         "hovertext": [
          "OMN"
         ],
         "legendgroup": "ccode=OMN",
         "marker": {
          "color": "#FF6692",
          "size": [
           2.191
          ],
          "sizemode": "area",
          "sizeref": 0.34955583333333334,
          "symbol": "circle"
         },
         "mode": "markers",
         "name": "ccode=OMN",
         "showlegend": true,
         "type": "scatter",
         "x": [
          9.838522273683768
         ],
         "xaxis": "x",
         "y": [
          5.1284
         ],
         "yaxis": "y"
        },
        {
         "hoverlabel": {
          "namelength": 0
         },
         "hovertemplate": "<b>%{hovertext}</b><br><br>ccode=YEM<br>loggdp=%{x}<br>growth rate=%{y}<br>pop=%{marker.size}",
         "hovertext": [
          "YEM"
         ],
         "legendgroup": "ccode=YEM",
         "marker": {
          "color": "#B6E880",
          "size": [
           18.472
          ],
          "sizemode": "area",
          "sizeref": 0.34955583333333334,
          "symbol": "circle"
         },
         "mode": "markers",
         "name": "ccode=YEM",
         "showlegend": true,
         "type": "scatter",
         "x": [
          8.028781162487148
         ],
         "xaxis": "x",
         "y": [
          1.064
         ],
         "yaxis": "y"
        },
        {
         "hoverlabel": {
          "namelength": 0
         },
         "hovertemplate": "<b>%{hovertext}</b><br><br>ccode=MLT<br>loggdp=%{x}<br>growth rate=%{y}<br>pop=%{marker.size}",
         "hovertext": [
          "MLT"
         ],
         "legendgroup": "ccode=MLT",
         "marker": {
          "color": "#FF97FF",
          "size": [
           0.392
          ],
          "sizemode": "area",
          "sizeref": 0.34955583333333334,
          "symbol": "circle"
         },
         "mode": "markers",
         "name": "ccode=MLT",
         "showlegend": true,
         "type": "scatter",
         "x": [
          10.087391190512735
         ],
         "xaxis": "x",
         "y": [
          0.281
         ],
         "yaxis": "y"
        },
        {
         "hoverlabel": {
          "namelength": 0
         },
         "hovertemplate": "<b>%{hovertext}</b><br><br>ccode=ARM<br>loggdp=%{x}<br>growth rate=%{y}<br>pop=%{marker.size}",
         "hovertext": [
          "ARM"
         ],
         "legendgroup": "ccode=ARM",
         "marker": {
          "color": "#FECB52",
          "size": [
           2.966
          ],
          "sizemode": "area",
          "sizeref": 0.34955583333333334,
          "symbol": "circle"
         },
         "mode": "markers",
         "name": "ccode=ARM",
         "showlegend": true,
         "type": "scatter",
         "x": [
          8.10892415597534
         ],
         "xaxis": "x",
         "y": [
          7.5925
         ],
         "yaxis": "y"
        },
        {
         "hoverlabel": {
          "namelength": 0
         },
         "hovertemplate": "<b>%{hovertext}</b><br><br>ccode=STP<br>loggdp=%{x}<br>growth rate=%{y}<br>pop=%{marker.size}",
         "hovertext": [
          "STP"
         ],
         "legendgroup": "ccode=STP",
         "marker": {
          "color": "#636efa",
          "size": [
           0.141
          ],
          "sizemode": "area",
          "sizeref": 0.34955583333333334,
          "symbol": "circle"
         },
         "mode": "markers",
         "name": "ccode=STP",
         "showlegend": true,
         "type": "scatter",
         "x": [
          7.554334823725748
         ],
         "xaxis": "x",
         "y": [
          4.4015
         ],
         "yaxis": "y"
        },
        {
         "hoverlabel": {
          "namelength": 0
         },
         "hovertemplate": "<b>%{hovertext}</b><br><br>ccode=CRI<br>loggdp=%{x}<br>growth rate=%{y}<br>pop=%{marker.size}",
         "hovertext": [
          "CRI"
         ],
         "legendgroup": "ccode=CRI",
         "marker": {
          "color": "#EF553B",
          "size": [
           3.888
          ],
          "sizemode": "area",
          "sizeref": 0.34955583333333334,
          "symbol": "circle"
         },
         "mode": "markers",
         "name": "ccode=CRI",
         "showlegend": true,
         "type": "scatter",
         "x": [
          9.159047077588632
         ],
         "xaxis": "x",
         "y": [
          2.3312
         ],
         "yaxis": "y"
        },
        {
         "hoverlabel": {
          "namelength": 0
         },
         "hovertemplate": "<b>%{hovertext}</b><br><br>ccode=LTU<br>loggdp=%{x}<br>growth rate=%{y}<br>pop=%{marker.size}",
         "hovertext": [
          "LTU"
         ],
         "legendgroup": "ccode=LTU",
         "marker": {
          "color": "#00cc96",
          "size": [
           3.497
          ],
          "sizemode": "area",
          "sizeref": 0.34955583333333334,
          "symbol": "circle"
         },
         "mode": "markers",
         "name": "ccode=LTU",
         "showlegend": true,
         "type": "scatter",
         "x": [
          9.31578088443418
         ],
         "xaxis": "x",
         "y": [
          5.842
         ],
         "yaxis": "y"
        },
        {
         "hoverlabel": {
          "namelength": 0
         },
         "hovertemplate": "<b>%{hovertext}</b><br><br>ccode=CIV<br>loggdp=%{x}<br>growth rate=%{y}<br>pop=%{marker.size}",
         "hovertext": [
          "CIV"
         ],
         "legendgroup": "ccode=CIV",
         "marker": {
          "color": "#ab63fa",
          "size": [
           16.885
          ],
          "sizemode": "area",
          "sizeref": 0.34955583333333334,
          "symbol": "circle"
         },
         "mode": "markers",
         "name": "ccode=CIV",
         "showlegend": true,
         "type": "scatter",
         "x": [
          7.6624678152002375
         ],
         "xaxis": "x",
         "y": [
          3.0745
         ],
         "yaxis": "y"
        },
        {
         "hoverlabel": {
          "namelength": 0
         },
         "hovertemplate": "<b>%{hovertext}</b><br><br>ccode=GHA<br>loggdp=%{x}<br>growth rate=%{y}<br>pop=%{marker.size}",
         "hovertext": [
          "GHA"
         ],
         "legendgroup": "ccode=GHA",
         "marker": {
          "color": "#FFA15A",
          "size": [
           18.816
          ],
          "sizemode": "area",
          "sizeref": 0.34955583333333334,
          "symbol": "circle"
         },
         "mode": "markers",
         "name": "ccode=GHA",
         "showlegend": true,
         "type": "scatter",
         "x": [
          7.756623334538858
         ],
         "xaxis": "x",
         "y": [
          3.1894
         ],
         "yaxis": "y"
        },
        {
         "hoverlabel": {
          "namelength": 0
         },
         "hovertemplate": "<b>%{hovertext}</b><br><br>ccode=IRL<br>loggdp=%{x}<br>growth rate=%{y}<br>pop=%{marker.size}",
         "hovertext": [
          "IRL"
         ],
         "legendgroup": "ccode=IRL",
         "marker": {
          "color": "#19d3f3",
          "size": [
           3.799
          ],
          "sizemode": "area",
          "sizeref": 0.34955583333333334,
          "symbol": "circle"
         },
         "mode": "markers",
         "name": "ccode=IRL",
         "showlegend": true,
         "type": "scatter",
         "x": [
          10.575206785682452
         ],
         "xaxis": "x",
         "y": [
          2.0157
         ],
         "yaxis": "y"
        },
        {
         "hoverlabel": {
          "namelength": 0
         },
         "hovertemplate": "<b>%{hovertext}</b><br><br>ccode=SEN<br>loggdp=%{x}<br>growth rate=%{y}<br>pop=%{marker.size}",
         "hovertext": [
          "SEN"
         ],
         "legendgroup": "ccode=SEN",
         "marker": {
          "color": "#FF6692",
          "size": [
           10.311
          ],
          "sizemode": "area",
          "sizeref": 0.34955583333333334,
          "symbol": "circle"
         },
         "mode": "markers",
         "name": "ccode=SEN",
         "showlegend": true,
         "type": "scatter",
         "x": [
          7.52294091807237
         ],
         "xaxis": "x",
         "y": [
          1.7358
         ],
         "yaxis": "y"
        },
        {
         "hoverlabel": {
          "namelength": 0
         },
         "hovertemplate": "<b>%{hovertext}</b><br><br>ccode=TUN<br>loggdp=%{x}<br>growth rate=%{y}<br>pop=%{marker.size}",
         "hovertext": [
          "TUN"
         ],
         "legendgroup": "ccode=TUN",
         "marker": {
          "color": "#B6E880",
          "size": [
           9.513
          ],
          "sizemode": "area",
          "sizeref": 0.34955583333333334,
          "symbol": "circle"
         },
         "mode": "markers",
         "name": "ccode=TUN",
         "showlegend": true,
         "type": "scatter",
         "x": [
          9.040737587590003
         ],
         "xaxis": "x",
         "y": [
          1.6328
         ],
         "yaxis": "y"
        },
        {
         "hoverlabel": {
          "namelength": 0
         },
         "hovertemplate": "<b>%{hovertext}</b><br><br>ccode=GBR<br>loggdp=%{x}<br>growth rate=%{y}<br>pop=%{marker.size}",
         "hovertext": [
          "GBR"
         ],
         "legendgroup": "ccode=GBR",
         "marker": {
          "color": "#FF97FF",
          "size": [
           59.145
          ],
          "sizemode": "area",
          "sizeref": 0.34955583333333334,
          "symbol": "circle"
         },
         "mode": "markers",
         "name": "ccode=GBR",
         "showlegend": true,
         "type": "scatter",
         "x": [
          10.445521103426312
         ],
         "xaxis": "x",
         "y": [
          0.7571
         ],
         "yaxis": "y"
        },
        {
         "hoverlabel": {
          "namelength": 0
         },
         "hovertemplate": "<b>%{hovertext}</b><br><br>ccode=MOZ<br>loggdp=%{x}<br>growth rate=%{y}<br>pop=%{marker.size}",
         "hovertext": [
          "MOZ"
         ],
         "legendgroup": "ccode=MOZ",
         "marker": {
          "color": "#FECB52",
          "size": [
           17.55
          ],
          "sizemode": "area",
          "sizeref": 0.34955583333333334,
          "symbol": "circle"
         },
         "mode": "markers",
         "name": "ccode=MOZ",
         "showlegend": true,
         "type": "scatter",
         "x": [
          6.406879986069314
         ],
         "xaxis": "x",
         "y": [
          5.168
         ],
         "yaxis": "y"
        },
        {
         "hoverlabel": {
          "namelength": 0
         },
         "hovertemplate": "<b>%{hovertext}</b><br><br>ccode=KWT<br>loggdp=%{x}<br>growth rate=%{y}<br>pop=%{marker.size}",
         "hovertext": [
          "KWT"
         ],
         "legendgroup": "ccode=KWT",
         "marker": {
          "color": "#636efa",
          "size": [
           2.0069999999999997
          ],
          "sizemode": "area",
          "sizeref": 0.34955583333333334,
          "symbol": "circle"
         },
         "mode": "markers",
         "name": "ccode=KWT",
         "showlegend": true,
         "type": "scatter",
         "x": [
          10.690079537805937
         ],
         "xaxis": "x",
         "y": [
          3.304
         ],
         "yaxis": "y"
        },
        {
         "hoverlabel": {
          "namelength": 0
         },
         "hovertemplate": "<b>%{hovertext}</b><br><br>ccode=CYP<br>loggdp=%{x}<br>growth rate=%{y}<br>pop=%{marker.size}",
         "hovertext": [
          "CYP"
         ],
         "legendgroup": "ccode=CYP",
         "marker": {
          "color": "#EF553B",
          "size": [
           0.815
          ],
          "sizemode": "area",
          "sizeref": 0.34955583333333334,
          "symbol": "circle"
         },
         "mode": "markers",
         "name": "ccode=CYP",
         "showlegend": true,
         "type": "scatter",
         "x": [
          10.146159183657883
         ],
         "xaxis": "x",
         "y": [
          -0.0455
         ],
         "yaxis": "y"
        },
        {
         "hoverlabel": {
          "namelength": 0
         },
         "hovertemplate": "<b>%{hovertext}</b><br><br>ccode=GEO<br>loggdp=%{x}<br>growth rate=%{y}<br>pop=%{marker.size}",
         "hovertext": [
          "GEO"
         ],
         "legendgroup": "ccode=GEO",
         "marker": {
          "color": "#00cc96",
          "size": [
           4.814
          ],
          "sizemode": "area",
          "sizeref": 0.34955583333333334,
          "symbol": "circle"
         },
         "mode": "markers",
         "name": "ccode=GEO",
         "showlegend": true,
         "type": "scatter",
         "x": [
          8.14002395246292
         ],
         "xaxis": "x",
         "y": [
          7.8698
         ],
         "yaxis": "y"
        },
        {
         "hoverlabel": {
          "namelength": 0
         },
         "hovertemplate": "<b>%{hovertext}</b><br><br>ccode=LAO<br>loggdp=%{x}<br>growth rate=%{y}<br>pop=%{marker.size}",
         "hovertext": [
          "LAO"
         ],
         "legendgroup": "ccode=LAO",
         "marker": {
          "color": "#ab63fa",
          "size": [
           5.397
          ],
          "sizemode": "area",
          "sizeref": 0.34955583333333334,
          "symbol": "circle"
         },
         "mode": "markers",
         "name": "ccode=LAO",
         "showlegend": true,
         "type": "scatter",
         "x": [
          7.597897950521784
         ],
         "xaxis": "x",
         "y": [
          7.7462
         ],
         "yaxis": "y"
        },
        {
         "hoverlabel": {
          "namelength": 0
         },
         "hovertemplate": "<b>%{hovertext}</b><br><br>ccode=ISR<br>loggdp=%{x}<br>growth rate=%{y}<br>pop=%{marker.size}",
         "hovertext": [
          "ISR"
         ],
         "legendgroup": "ccode=ISR",
         "marker": {
          "color": "#FFA15A",
          "size": [
           6.122999999999999
          ],
          "sizemode": "area",
          "sizeref": 0.34955583333333334,
          "symbol": "circle"
         },
         "mode": "markers",
         "name": "ccode=ISR",
         "showlegend": true,
         "type": "scatter",
         "x": [
          10.306081877219272
         ],
         "xaxis": "x",
         "y": [
          0.3592
         ],
         "yaxis": "y"
        },
        {
         "hoverlabel": {
          "namelength": 0
         },
         "hovertemplate": "<b>%{hovertext}</b><br><br>ccode=TJK<br>loggdp=%{x}<br>growth rate=%{y}<br>pop=%{marker.size}",
         "hovertext": [
          "TJK"
         ],
         "legendgroup": "ccode=TJK",
         "marker": {
          "color": "#19d3f3",
          "size": [
           6.229
          ],
          "sizemode": "area",
          "sizeref": 0.34955583333333334,
          "symbol": "circle"
         },
         "mode": "markers",
         "name": "ccode=TJK",
         "showlegend": true,
         "type": "scatter",
         "x": [
          7.149131598557407
         ],
         "xaxis": "x",
         "y": [
          6.8674
         ],
         "yaxis": "y"
        },
        {
         "hoverlabel": {
          "namelength": 0
         },
         "hovertemplate": "<b>%{hovertext}</b><br><br>ccode=UKR<br>loggdp=%{x}<br>growth rate=%{y}<br>pop=%{marker.size}",
         "hovertext": [
          "UKR"
         ],
         "legendgroup": "ccode=UKR",
         "marker": {
          "color": "#FF6692",
          "size": [
           49.013999999999996
          ],
          "sizemode": "area",
          "sizeref": 0.34955583333333334,
          "symbol": "circle"
         },
         "mode": "markers",
         "name": "ccode=UKR",
         "showlegend": true,
         "type": "scatter",
         "x": [
          8.400209835930418
         ],
         "xaxis": "x",
         "y": [
          6.2041
         ],
         "yaxis": "y"
        },
        {
         "hoverlabel": {
          "namelength": 0
         },
         "hovertemplate": "<b>%{hovertext}</b><br><br>ccode=COL<br>loggdp=%{x}<br>growth rate=%{y}<br>pop=%{marker.size}",
         "hovertext": [
          "COL"
         ],
         "legendgroup": "ccode=COL",
         "marker": {
          "color": "#B6E880",
          "size": [
           38.917
          ],
          "sizemode": "area",
          "sizeref": 0.34955583333333334,
          "symbol": "circle"
         },
         "mode": "markers",
         "name": "ccode=COL",
         "showlegend": true,
         "type": "scatter",
         "x": [
          8.83346272071993
         ],
         "xaxis": "x",
         "y": [
          4.4497
         ],
         "yaxis": "y"
        },
        {
         "hoverlabel": {
          "namelength": 0
         },
         "hovertemplate": "<b>%{hovertext}</b><br><br>ccode=TZA<br>loggdp=%{x}<br>growth rate=%{y}<br>pop=%{marker.size}",
         "hovertext": [
          "TZA"
         ],
         "legendgroup": "ccode=TZA",
         "marker": {
          "color": "#FF97FF",
          "size": [
           33.741
          ],
          "sizemode": "area",
          "sizeref": 0.34955583333333334,
          "symbol": "circle"
         },
         "mode": "markers",
         "name": "ccode=TZA",
         "showlegend": true,
         "type": "scatter",
         "x": [
          7.036148493750536
         ],
         "xaxis": "x",
         "y": [
          5.2745
         ],
         "yaxis": "y"
        },
        {
         "hoverlabel": {
          "namelength": 0
         },
         "hovertemplate": "<b>%{hovertext}</b><br><br>ccode=NLD<br>loggdp=%{x}<br>growth rate=%{y}<br>pop=%{marker.size}",
         "hovertext": [
          "NLD"
         ],
         "legendgroup": "ccode=NLD",
         "marker": {
          "color": "#FECB52",
          "size": [
           15.925999999999998
          ],
          "sizemode": "area",
          "sizeref": 0.34955583333333334,
          "symbol": "circle"
         },
         "mode": "markers",
         "name": "ccode=NLD",
         "showlegend": true,
         "type": "scatter",
         "x": [
          10.594707877902358
         ],
         "xaxis": "x",
         "y": [
          1.2865
         ],
         "yaxis": "y"
        },
        {
         "hoverlabel": {
          "namelength": 0
         },
         "hovertemplate": "<b>%{hovertext}</b><br><br>ccode=PRY<br>loggdp=%{x}<br>growth rate=%{y}<br>pop=%{marker.size}",
         "hovertext": [
          "PRY"
         ],
         "legendgroup": "ccode=PRY",
         "marker": {
          "color": "#636efa",
          "size": [
           5.417999999999999
          ],
          "sizemode": "area",
          "sizeref": 0.34955583333333334,
          "symbol": "circle"
         },
         "mode": "markers",
         "name": "ccode=PRY",
         "showlegend": true,
         "type": "scatter",
         "x": [
          8.225235324101668
         ],
         "xaxis": "x",
         "y": [
          5.789
         ],
         "yaxis": "y"
        },
        {
         "hoverlabel": {
          "namelength": 0
         },
         "hovertemplate": "<b>%{hovertext}</b><br><br>ccode=SAU<br>loggdp=%{x}<br>growth rate=%{y}<br>pop=%{marker.size}",
         "hovertext": [
          "SAU"
         ],
         "legendgroup": "ccode=SAU",
         "marker": {
          "color": "#EF553B",
          "size": [
           20.999000000000002
          ],
          "sizemode": "area",
          "sizeref": 0.34955583333333334,
          "symbol": "circle"
         },
         "mode": "markers",
         "name": "ccode=SAU",
         "showlegend": true,
         "type": "scatter",
         "x": [
          9.909916840301031
         ],
         "xaxis": "x",
         "y": [
          6.2158
         ],
         "yaxis": "y"
        },
        {
         "hoverlabel": {
          "namelength": 0
         },
         "hovertemplate": "<b>%{hovertext}</b><br><br>ccode=ROU<br>loggdp=%{x}<br>growth rate=%{y}<br>pop=%{marker.size}",
         "hovertext": [
          "ROU"
         ],
         "legendgroup": "ccode=ROU",
         "marker": {
          "color": "#00cc96",
          "size": [
           22.447
          ],
          "sizemode": "area",
          "sizeref": 0.34955583333333334,
          "symbol": "circle"
         },
         "mode": "markers",
         "name": "ccode=ROU",
         "showlegend": true,
         "type": "scatter",
         "x": [
          8.913281137711804
         ],
         "xaxis": "x",
         "y": [
          7.2105
         ],
         "yaxis": "y"
        },
        {
         "hoverlabel": {
          "namelength": 0
         },
         "hovertemplate": "<b>%{hovertext}</b><br><br>ccode=JPN<br>loggdp=%{x}<br>growth rate=%{y}<br>pop=%{marker.size}",
         "hovertext": [
          "JPN"
         ],
         "legendgroup": "ccode=JPN",
         "marker": {
          "color": "#ab63fa",
          "size": [
           126.93299999999999
          ],
          "sizemode": "area",
          "sizeref": 0.34955583333333334,
          "symbol": "circle"
         },
         "mode": "markers",
         "name": "ccode=JPN",
         "showlegend": true,
         "type": "scatter",
         "x": [
          10.413132479553957
         ],
         "xaxis": "x",
         "y": [
          0.4694
         ],
         "yaxis": "y"
        },
        {
         "hoverlabel": {
          "namelength": 0
         },
         "hovertemplate": "<b>%{hovertext}</b><br><br>ccode=MWI<br>loggdp=%{x}<br>growth rate=%{y}<br>pop=%{marker.size}",
         "hovertext": [
          "MWI"
         ],
         "legendgroup": "ccode=MWI",
         "marker": {
          "color": "#FFA15A",
          "size": [
           11.339
          ],
          "sizemode": "area",
          "sizeref": 0.34955583333333334,
          "symbol": "circle"
         },
         "mode": "markers",
         "name": "ccode=MWI",
         "showlegend": true,
         "type": "scatter",
         "x": [
          6.771935555839602
         ],
         "xaxis": "x",
         "y": [
          0.7108
         ],
         "yaxis": "y"
        }
       ],
       "layout": {
        "height": 600,
        "legend": {
         "itemsizing": "constant",
         "tracegroupgap": 0
        },
        "margin": {
         "t": 60
        },
        "template": {
         "data": {
          "bar": [
           {
            "error_x": {
             "color": "#2a3f5f"
            },
            "error_y": {
             "color": "#2a3f5f"
            },
            "marker": {
             "line": {
              "color": "#E5ECF6",
              "width": 0.5
             }
            },
            "type": "bar"
           }
          ],
          "barpolar": [
           {
            "marker": {
             "line": {
              "color": "#E5ECF6",
              "width": 0.5
             }
            },
            "type": "barpolar"
           }
          ],
          "carpet": [
           {
            "aaxis": {
             "endlinecolor": "#2a3f5f",
             "gridcolor": "white",
             "linecolor": "white",
             "minorgridcolor": "white",
             "startlinecolor": "#2a3f5f"
            },
            "baxis": {
             "endlinecolor": "#2a3f5f",
             "gridcolor": "white",
             "linecolor": "white",
             "minorgridcolor": "white",
             "startlinecolor": "#2a3f5f"
            },
            "type": "carpet"
           }
          ],
          "choropleth": [
           {
            "colorbar": {
             "outlinewidth": 0,
             "ticks": ""
            },
            "type": "choropleth"
           }
          ],
          "contour": [
           {
            "colorbar": {
             "outlinewidth": 0,
             "ticks": ""
            },
            "colorscale": [
             [
              0,
              "#0d0887"
             ],
             [
              0.1111111111111111,
              "#46039f"
             ],
             [
              0.2222222222222222,
              "#7201a8"
             ],
             [
              0.3333333333333333,
              "#9c179e"
             ],
             [
              0.4444444444444444,
              "#bd3786"
             ],
             [
              0.5555555555555556,
              "#d8576b"
             ],
             [
              0.6666666666666666,
              "#ed7953"
             ],
             [
              0.7777777777777778,
              "#fb9f3a"
             ],
             [
              0.8888888888888888,
              "#fdca26"
             ],
             [
              1,
              "#f0f921"
             ]
            ],
            "type": "contour"
           }
          ],
          "contourcarpet": [
           {
            "colorbar": {
             "outlinewidth": 0,
             "ticks": ""
            },
            "type": "contourcarpet"
           }
          ],
          "heatmap": [
           {
            "colorbar": {
             "outlinewidth": 0,
             "ticks": ""
            },
            "colorscale": [
             [
              0,
              "#0d0887"
             ],
             [
              0.1111111111111111,
              "#46039f"
             ],
             [
              0.2222222222222222,
              "#7201a8"
             ],
             [
              0.3333333333333333,
              "#9c179e"
             ],
             [
              0.4444444444444444,
              "#bd3786"
             ],
             [
              0.5555555555555556,
              "#d8576b"
             ],
             [
              0.6666666666666666,
              "#ed7953"
             ],
             [
              0.7777777777777778,
              "#fb9f3a"
             ],
             [
              0.8888888888888888,
              "#fdca26"
             ],
             [
              1,
              "#f0f921"
             ]
            ],
            "type": "heatmap"
           }
          ],
          "heatmapgl": [
           {
            "colorbar": {
             "outlinewidth": 0,
             "ticks": ""
            },
            "colorscale": [
             [
              0,
              "#0d0887"
             ],
             [
              0.1111111111111111,
              "#46039f"
             ],
             [
              0.2222222222222222,
              "#7201a8"
             ],
             [
              0.3333333333333333,
              "#9c179e"
             ],
             [
              0.4444444444444444,
              "#bd3786"
             ],
             [
              0.5555555555555556,
              "#d8576b"
             ],
             [
              0.6666666666666666,
              "#ed7953"
             ],
             [
              0.7777777777777778,
              "#fb9f3a"
             ],
             [
              0.8888888888888888,
              "#fdca26"
             ],
             [
              1,
              "#f0f921"
             ]
            ],
            "type": "heatmapgl"
           }
          ],
          "histogram": [
           {
            "marker": {
             "colorbar": {
              "outlinewidth": 0,
              "ticks": ""
             }
            },
            "type": "histogram"
           }
          ],
          "histogram2d": [
           {
            "colorbar": {
             "outlinewidth": 0,
             "ticks": ""
            },
            "colorscale": [
             [
              0,
              "#0d0887"
             ],
             [
              0.1111111111111111,
              "#46039f"
             ],
             [
              0.2222222222222222,
              "#7201a8"
             ],
             [
              0.3333333333333333,
              "#9c179e"
             ],
             [
              0.4444444444444444,
              "#bd3786"
             ],
             [
              0.5555555555555556,
              "#d8576b"
             ],
             [
              0.6666666666666666,
              "#ed7953"
             ],
             [
              0.7777777777777778,
              "#fb9f3a"
             ],
             [
              0.8888888888888888,
              "#fdca26"
             ],
             [
              1,
              "#f0f921"
             ]
            ],
            "type": "histogram2d"
           }
          ],
          "histogram2dcontour": [
           {
            "colorbar": {
             "outlinewidth": 0,
             "ticks": ""
            },
            "colorscale": [
             [
              0,
              "#0d0887"
             ],
             [
              0.1111111111111111,
              "#46039f"
             ],
             [
              0.2222222222222222,
              "#7201a8"
             ],
             [
              0.3333333333333333,
              "#9c179e"
             ],
             [
              0.4444444444444444,
              "#bd3786"
             ],
             [
              0.5555555555555556,
              "#d8576b"
             ],
             [
              0.6666666666666666,
              "#ed7953"
             ],
             [
              0.7777777777777778,
              "#fb9f3a"
             ],
             [
              0.8888888888888888,
              "#fdca26"
             ],
             [
              1,
              "#f0f921"
             ]
            ],
            "type": "histogram2dcontour"
           }
          ],
          "mesh3d": [
           {
            "colorbar": {
             "outlinewidth": 0,
             "ticks": ""
            },
            "type": "mesh3d"
           }
          ],
          "parcoords": [
           {
            "line": {
             "colorbar": {
              "outlinewidth": 0,
              "ticks": ""
             }
            },
            "type": "parcoords"
           }
          ],
          "pie": [
           {
            "automargin": true,
            "type": "pie"
           }
          ],
          "scatter": [
           {
            "marker": {
             "colorbar": {
              "outlinewidth": 0,
              "ticks": ""
             }
            },
            "type": "scatter"
           }
          ],
          "scatter3d": [
           {
            "line": {
             "colorbar": {
              "outlinewidth": 0,
              "ticks": ""
             }
            },
            "marker": {
             "colorbar": {
              "outlinewidth": 0,
              "ticks": ""
             }
            },
            "type": "scatter3d"
           }
          ],
          "scattercarpet": [
           {
            "marker": {
             "colorbar": {
              "outlinewidth": 0,
              "ticks": ""
             }
            },
            "type": "scattercarpet"
           }
          ],
          "scattergeo": [
           {
            "marker": {
             "colorbar": {
              "outlinewidth": 0,
              "ticks": ""
             }
            },
            "type": "scattergeo"
           }
          ],
          "scattergl": [
           {
            "marker": {
             "colorbar": {
              "outlinewidth": 0,
              "ticks": ""
             }
            },
            "type": "scattergl"
           }
          ],
          "scattermapbox": [
           {
            "marker": {
             "colorbar": {
              "outlinewidth": 0,
              "ticks": ""
             }
            },
            "type": "scattermapbox"
           }
          ],
          "scatterpolar": [
           {
            "marker": {
             "colorbar": {
              "outlinewidth": 0,
              "ticks": ""
             }
            },
            "type": "scatterpolar"
           }
          ],
          "scatterpolargl": [
           {
            "marker": {
             "colorbar": {
              "outlinewidth": 0,
              "ticks": ""
             }
            },
            "type": "scatterpolargl"
           }
          ],
          "scatterternary": [
           {
            "marker": {
             "colorbar": {
              "outlinewidth": 0,
              "ticks": ""
             }
            },
            "type": "scatterternary"
           }
          ],
          "surface": [
           {
            "colorbar": {
             "outlinewidth": 0,
             "ticks": ""
            },
            "colorscale": [
             [
              0,
              "#0d0887"
             ],
             [
              0.1111111111111111,
              "#46039f"
             ],
             [
              0.2222222222222222,
              "#7201a8"
             ],
             [
              0.3333333333333333,
              "#9c179e"
             ],
             [
              0.4444444444444444,
              "#bd3786"
             ],
             [
              0.5555555555555556,
              "#d8576b"
             ],
             [
              0.6666666666666666,
              "#ed7953"
             ],
             [
              0.7777777777777778,
              "#fb9f3a"
             ],
             [
              0.8888888888888888,
              "#fdca26"
             ],
             [
              1,
              "#f0f921"
             ]
            ],
            "type": "surface"
           }
          ],
          "table": [
           {
            "cells": {
             "fill": {
              "color": "#EBF0F8"
             },
             "line": {
              "color": "white"
             }
            },
            "header": {
             "fill": {
              "color": "#C8D4E3"
             },
             "line": {
              "color": "white"
             }
            },
            "type": "table"
           }
          ]
         },
         "layout": {
          "annotationdefaults": {
           "arrowcolor": "#2a3f5f",
           "arrowhead": 0,
           "arrowwidth": 1
          },
          "coloraxis": {
           "colorbar": {
            "outlinewidth": 0,
            "ticks": ""
           }
          },
          "colorscale": {
           "diverging": [
            [
             0,
             "#8e0152"
            ],
            [
             0.1,
             "#c51b7d"
            ],
            [
             0.2,
             "#de77ae"
            ],
            [
             0.3,
             "#f1b6da"
            ],
            [
             0.4,
             "#fde0ef"
            ],
            [
             0.5,
             "#f7f7f7"
            ],
            [
             0.6,
             "#e6f5d0"
            ],
            [
             0.7,
             "#b8e186"
            ],
            [
             0.8,
             "#7fbc41"
            ],
            [
             0.9,
             "#4d9221"
            ],
            [
             1,
             "#276419"
            ]
           ],
           "sequential": [
            [
             0,
             "#0d0887"
            ],
            [
             0.1111111111111111,
             "#46039f"
            ],
            [
             0.2222222222222222,
             "#7201a8"
            ],
            [
             0.3333333333333333,
             "#9c179e"
            ],
            [
             0.4444444444444444,
             "#bd3786"
            ],
            [
             0.5555555555555556,
             "#d8576b"
            ],
            [
             0.6666666666666666,
             "#ed7953"
            ],
            [
             0.7777777777777778,
             "#fb9f3a"
            ],
            [
             0.8888888888888888,
             "#fdca26"
            ],
            [
             1,
             "#f0f921"
            ]
           ],
           "sequentialminus": [
            [
             0,
             "#0d0887"
            ],
            [
             0.1111111111111111,
             "#46039f"
            ],
            [
             0.2222222222222222,
             "#7201a8"
            ],
            [
             0.3333333333333333,
             "#9c179e"
            ],
            [
             0.4444444444444444,
             "#bd3786"
            ],
            [
             0.5555555555555556,
             "#d8576b"
            ],
            [
             0.6666666666666666,
             "#ed7953"
            ],
            [
             0.7777777777777778,
             "#fb9f3a"
            ],
            [
             0.8888888888888888,
             "#fdca26"
            ],
            [
             1,
             "#f0f921"
            ]
           ]
          },
          "colorway": [
           "#636efa",
           "#EF553B",
           "#00cc96",
           "#ab63fa",
           "#FFA15A",
           "#19d3f3",
           "#FF6692",
           "#B6E880",
           "#FF97FF",
           "#FECB52"
          ],
          "font": {
           "color": "#2a3f5f"
          },
          "geo": {
           "bgcolor": "white",
           "lakecolor": "white",
           "landcolor": "#E5ECF6",
           "showlakes": true,
           "showland": true,
           "subunitcolor": "white"
          },
          "hoverlabel": {
           "align": "left"
          },
          "hovermode": "closest",
          "mapbox": {
           "style": "light"
          },
          "paper_bgcolor": "white",
          "plot_bgcolor": "#E5ECF6",
          "polar": {
           "angularaxis": {
            "gridcolor": "white",
            "linecolor": "white",
            "ticks": ""
           },
           "bgcolor": "#E5ECF6",
           "radialaxis": {
            "gridcolor": "white",
            "linecolor": "white",
            "ticks": ""
           }
          },
          "scene": {
           "xaxis": {
            "backgroundcolor": "#E5ECF6",
            "gridcolor": "white",
            "gridwidth": 2,
            "linecolor": "white",
            "showbackground": true,
            "ticks": "",
            "zerolinecolor": "white"
           },
           "yaxis": {
            "backgroundcolor": "#E5ECF6",
            "gridcolor": "white",
            "gridwidth": 2,
            "linecolor": "white",
            "showbackground": true,
            "ticks": "",
            "zerolinecolor": "white"
           },
           "zaxis": {
            "backgroundcolor": "#E5ECF6",
            "gridcolor": "white",
            "gridwidth": 2,
            "linecolor": "white",
            "showbackground": true,
            "ticks": "",
            "zerolinecolor": "white"
           }
          },
          "shapedefaults": {
           "line": {
            "color": "#2a3f5f"
           }
          },
          "ternary": {
           "aaxis": {
            "gridcolor": "white",
            "linecolor": "white",
            "ticks": ""
           },
           "baxis": {
            "gridcolor": "white",
            "linecolor": "white",
            "ticks": ""
           },
           "bgcolor": "#E5ECF6",
           "caxis": {
            "gridcolor": "white",
            "linecolor": "white",
            "ticks": ""
           }
          },
          "title": {
           "x": 0.05
          },
          "xaxis": {
           "automargin": true,
           "gridcolor": "white",
           "linecolor": "white",
           "ticks": "",
           "title": {
            "standoff": 15
           },
           "zerolinecolor": "white",
           "zerolinewidth": 2
          },
          "yaxis": {
           "automargin": true,
           "gridcolor": "white",
           "linecolor": "white",
           "ticks": "",
           "title": {
            "standoff": 15
           },
           "zerolinecolor": "white",
           "zerolinewidth": 2
          }
         }
        },
        "xaxis": {
         "anchor": "y",
         "domain": [
          0,
          1
         ],
         "title": {
          "text": "loggdp"
         }
        },
        "yaxis": {
         "anchor": "x",
         "domain": [
          0,
          1
         ],
         "title": {
          "text": "growth rate"
         }
        }
       }
      },
      "text/html": [
       "<div>\n",
       "        \n",
       "        \n",
       "            <div id=\"9b00fb0e-f3d5-4065-821a-9dc1a9f6e8fe\" class=\"plotly-graph-div\" style=\"height:600px; width:100%;\"></div>\n",
       "            <script type=\"text/javascript\">\n",
       "                require([\"plotly\"], function(Plotly) {\n",
       "                    window.PLOTLYENV=window.PLOTLYENV || {};\n",
       "                    \n",
       "                if (document.getElementById(\"9b00fb0e-f3d5-4065-821a-9dc1a9f6e8fe\")) {\n",
       "                    Plotly.newPlot(\n",
       "                        '9b00fb0e-f3d5-4065-821a-9dc1a9f6e8fe',\n",
       "                        [{\"hoverlabel\": {\"namelength\": 0}, \"hovertemplate\": \"<b>%{hovertext}</b><br><br>ccode=BHR<br>loggdp=%{x}<br>growth rate=%{y}<br>pop=%{marker.size}\", \"hovertext\": [\"BHR\"], \"legendgroup\": \"ccode=BHR\", \"marker\": {\"color\": \"#636efa\", \"size\": [0.6729999999999999], \"sizemode\": \"area\", \"sizeref\": 0.34955583333333334, \"symbol\": \"circle\"}, \"mode\": \"markers\", \"name\": \"ccode=BHR\", \"showlegend\": true, \"type\": \"scatter\", \"x\": [10.2254985853115], \"xaxis\": \"x\", \"y\": [2.4131], \"yaxis\": \"y\"}, {\"hoverlabel\": {\"namelength\": 0}, \"hovertemplate\": \"<b>%{hovertext}</b><br><br>ccode=COD<br>loggdp=%{x}<br>growth rate=%{y}<br>pop=%{marker.size}\", \"hovertext\": [\"COD\"], \"legendgroup\": \"ccode=COD\", \"marker\": {\"color\": \"#EF553B\", \"size\": [52.306000000000004], \"sizemode\": \"area\", \"sizeref\": 0.34955583333333334, \"symbol\": \"circle\"}, \"mode\": \"markers\", \"name\": \"ccode=COD\", \"showlegend\": true, \"type\": \"scatter\", \"x\": [6.093569770045136], \"xaxis\": \"x\", \"y\": [4.3307], \"yaxis\": \"y\"}, {\"hoverlabel\": {\"namelength\": 0}, \"hovertemplate\": \"<b>%{hovertext}</b><br><br>ccode=MYS<br>loggdp=%{x}<br>growth rate=%{y}<br>pop=%{marker.size}\", \"hovertext\": [\"MYS\"], \"legendgroup\": \"ccode=MYS\", \"marker\": {\"color\": \"#00cc96\", \"size\": [22.666], \"sizemode\": \"area\", \"sizeref\": 0.34955583333333334, \"symbol\": \"circle\"}, \"mode\": \"markers\", \"name\": \"ccode=MYS\", \"showlegend\": true, \"type\": \"scatter\", \"x\": [9.414831034791183], \"xaxis\": \"x\", \"y\": [4.0325], \"yaxis\": \"y\"}, {\"hoverlabel\": {\"namelength\": 0}, \"hovertemplate\": \"<b>%{hovertext}</b><br><br>ccode=SYC<br>loggdp=%{x}<br>growth rate=%{y}<br>pop=%{marker.size}\", \"hovertext\": [\"SYC\"], \"legendgroup\": \"ccode=SYC\", \"marker\": {\"color\": \"#ab63fa\", \"size\": [0.079], \"sizemode\": \"area\", \"sizeref\": 0.34955583333333334, \"symbol\": \"circle\"}, \"mode\": \"markers\", \"name\": \"ccode=SYC\", \"showlegend\": true, \"type\": \"scatter\", \"x\": [9.72877695874351], \"xaxis\": \"x\", \"y\": [2.1565], \"yaxis\": \"y\"}, {\"hoverlabel\": {\"namelength\": 0}, \"hovertemplate\": \"<b>%{hovertext}</b><br><br>ccode=JOR<br>loggdp=%{x}<br>growth rate=%{y}<br>pop=%{marker.size}\", \"hovertext\": [\"JOR\"], \"legendgroup\": \"ccode=JOR\", \"marker\": {\"color\": \"#FFA15A\", \"size\": [4.631], \"sizemode\": \"area\", \"sizeref\": 0.34955583333333334, \"symbol\": \"circle\"}, \"mode\": \"markers\", \"name\": \"ccode=JOR\", \"showlegend\": true, \"type\": \"scatter\", \"x\": [8.267705664762426], \"xaxis\": \"x\", \"y\": [8.1983], \"yaxis\": \"y\"}, {\"hoverlabel\": {\"namelength\": 0}, \"hovertemplate\": \"<b>%{hovertext}</b><br><br>ccode=NZL<br>loggdp=%{x}<br>growth rate=%{y}<br>pop=%{marker.size}\", \"hovertext\": [\"NZL\"], \"legendgroup\": \"ccode=NZL\", \"marker\": {\"color\": \"#19d3f3\", \"size\": [3.802], \"sizemode\": \"area\", \"sizeref\": 0.34955583333333334, \"symbol\": \"circle\"}, \"mode\": \"markers\", \"name\": \"ccode=NZL\", \"showlegend\": true, \"type\": \"scatter\", \"x\": [10.160761962566484], \"xaxis\": \"x\", \"y\": [1.7745], \"yaxis\": \"y\"}, {\"hoverlabel\": {\"namelength\": 0}, \"hovertemplate\": \"<b>%{hovertext}</b><br><br>ccode=PRK<br>loggdp=%{x}<br>growth rate=%{y}<br>pop=%{marker.size}\", \"hovertext\": [\"PRK\"], \"legendgroup\": \"ccode=PRK\", \"marker\": {\"color\": \"#FF6692\", \"size\": [22.785], \"sizemode\": \"area\", \"sizeref\": 0.34955583333333334, \"symbol\": \"circle\"}, \"mode\": \"markers\", \"name\": \"ccode=PRK\", \"showlegend\": true, \"type\": \"scatter\", \"x\": [7.392647520721623], \"xaxis\": \"x\", \"y\": [0.5311], \"yaxis\": \"y\"}, {\"hoverlabel\": {\"namelength\": 0}, \"hovertemplate\": \"<b>%{hovertext}</b><br><br>ccode=MLI<br>loggdp=%{x}<br>growth rate=%{y}<br>pop=%{marker.size}\", \"hovertext\": [\"MLI\"], \"legendgroup\": \"ccode=MLI\", \"marker\": {\"color\": \"#B6E880\", \"size\": [11.034], \"sizemode\": \"area\", \"sizeref\": 0.34955583333333334, \"symbol\": \"circle\"}, \"mode\": \"markers\", \"name\": \"ccode=MLI\", \"showlegend\": true, \"type\": \"scatter\", \"x\": [6.785587645007929], \"xaxis\": \"x\", \"y\": [3.9097], \"yaxis\": \"y\"}, {\"hoverlabel\": {\"namelength\": 0}, \"hovertemplate\": \"<b>%{hovertext}</b><br><br>ccode=URY<br>loggdp=%{x}<br>growth rate=%{y}<br>pop=%{marker.size}\", \"hovertext\": [\"URY\"], \"legendgroup\": \"ccode=URY\", \"marker\": {\"color\": \"#FF97FF\", \"size\": [3.2460000000000004], \"sizemode\": \"area\", \"sizeref\": 0.34955583333333334, \"symbol\": \"circle\"}, \"mode\": \"markers\", \"name\": \"ccode=URY\", \"showlegend\": true, \"type\": \"scatter\", \"x\": [9.324383088016843], \"xaxis\": \"x\", \"y\": [4.0661], \"yaxis\": \"y\"}, {\"hoverlabel\": {\"namelength\": 0}, \"hovertemplate\": \"<b>%{hovertext}</b><br><br>ccode=BWA<br>loggdp=%{x}<br>growth rate=%{y}<br>pop=%{marker.size}\", \"hovertext\": [\"BWA\"], \"legendgroup\": \"ccode=BWA\", \"marker\": {\"color\": \"#FECB52\", \"size\": [1.655], \"sizemode\": \"area\", \"sizeref\": 0.34955583333333334, \"symbol\": \"circle\"}, \"mode\": \"markers\", \"name\": \"ccode=BWA\", \"showlegend\": true, \"type\": \"scatter\", \"x\": [9.161675199994901], \"xaxis\": \"x\", \"y\": [3.2476], \"yaxis\": \"y\"}, {\"hoverlabel\": {\"namelength\": 0}, \"hovertemplate\": \"<b>%{hovertext}</b><br><br>ccode=BFA<br>loggdp=%{x}<br>growth rate=%{y}<br>pop=%{marker.size}\", \"hovertext\": [\"BFA\"], \"legendgroup\": \"ccode=BFA\", \"marker\": {\"color\": \"#636efa\", \"size\": [11.588], \"sizemode\": \"area\", \"sizeref\": 0.34955583333333334, \"symbol\": \"circle\"}, \"mode\": \"markers\", \"name\": \"ccode=BFA\", \"showlegend\": true, \"type\": \"scatter\", \"x\": [7.2115567333138015], \"xaxis\": \"x\", \"y\": [0.7909], \"yaxis\": \"y\"}, {\"hoverlabel\": {\"namelength\": 0}, \"hovertemplate\": \"<b>%{hovertext}</b><br><br>ccode=TTO<br>loggdp=%{x}<br>growth rate=%{y}<br>pop=%{marker.size}\", \"hovertext\": [\"TTO\"], \"legendgroup\": \"ccode=TTO\", \"marker\": {\"color\": \"#EF553B\", \"size\": [1.252], \"sizemode\": \"area\", \"sizeref\": 0.34955583333333334, \"symbol\": \"circle\"}, \"mode\": \"markers\", \"name\": \"ccode=TTO\", \"showlegend\": true, \"type\": \"scatter\", \"x\": [9.447307929883463], \"xaxis\": \"x\", \"y\": [6.6052], \"yaxis\": \"y\"}, {\"hoverlabel\": {\"namelength\": 0}, \"hovertemplate\": \"<b>%{hovertext}</b><br><br>ccode=MMR<br>loggdp=%{x}<br>growth rate=%{y}<br>pop=%{marker.size}\", \"hovertext\": [\"MMR\"], \"legendgroup\": \"ccode=MMR\", \"marker\": {\"color\": \"#00cc96\", \"size\": [46.008], \"sizemode\": \"area\", \"sizeref\": 0.34955583333333334, \"symbol\": \"circle\"}, \"mode\": \"markers\", \"name\": \"ccode=MMR\", \"showlegend\": true, \"type\": \"scatter\", \"x\": [7.2633296174768365], \"xaxis\": \"x\", \"y\": [10.1066], \"yaxis\": \"y\"}, {\"hoverlabel\": {\"namelength\": 0}, \"hovertemplate\": \"<b>%{hovertext}</b><br><br>ccode=CZE<br>loggdp=%{x}<br>growth rate=%{y}<br>pop=%{marker.size}\", \"hovertext\": [\"CZE\"], \"legendgroup\": \"ccode=CZE\", \"marker\": {\"color\": \"#ab63fa\", \"size\": [10.231], \"sizemode\": \"area\", \"sizeref\": 0.34955583333333334, \"symbol\": \"circle\"}, \"mode\": \"markers\", \"name\": \"ccode=CZE\", \"showlegend\": true, \"type\": \"scatter\", \"x\": [9.891364362733817], \"xaxis\": \"x\", \"y\": [2.8159], \"yaxis\": \"y\"}, {\"hoverlabel\": {\"namelength\": 0}, \"hovertemplate\": \"<b>%{hovertext}</b><br><br>ccode=HUN<br>loggdp=%{x}<br>growth rate=%{y}<br>pop=%{marker.size}\", \"hovertext\": [\"HUN\"], \"legendgroup\": \"ccode=HUN\", \"marker\": {\"color\": \"#FFA15A\", \"size\": [10.209], \"sizemode\": \"area\", \"sizeref\": 0.34955583333333334, \"symbol\": \"circle\"}, \"mode\": \"markers\", \"name\": \"ccode=HUN\", \"showlegend\": true, \"type\": \"scatter\", \"x\": [9.59947282546345], \"xaxis\": \"x\", \"y\": [3.1452], \"yaxis\": \"y\"}, {\"hoverlabel\": {\"namelength\": 0}, \"hovertemplate\": \"<b>%{hovertext}</b><br><br>ccode=TWN<br>loggdp=%{x}<br>growth rate=%{y}<br>pop=%{marker.size}\", \"hovertext\": [\"TWN\"], \"legendgroup\": \"ccode=TWN\", \"marker\": {\"color\": \"#19d3f3\", \"size\": [22.026999999999997], \"sizemode\": \"area\", \"sizeref\": 0.34955583333333334, \"symbol\": \"circle\"}, \"mode\": \"markers\", \"name\": \"ccode=TWN\", \"showlegend\": true, \"type\": \"scatter\", \"x\": [10.37152049124621], \"xaxis\": \"x\", \"y\": [1.9076], \"yaxis\": \"y\"}, {\"hoverlabel\": {\"namelength\": 0}, \"hovertemplate\": \"<b>%{hovertext}</b><br><br>ccode=SGP<br>loggdp=%{x}<br>growth rate=%{y}<br>pop=%{marker.size}\", \"hovertext\": [\"SGP\"], \"legendgroup\": \"ccode=SGP\", \"marker\": {\"color\": \"#FF6692\", \"size\": [4.063], \"sizemode\": \"area\", \"sizeref\": 0.34955583333333334, \"symbol\": \"circle\"}, \"mode\": \"markers\", \"name\": \"ccode=SGP\", \"showlegend\": true, \"type\": \"scatter\", \"x\": [10.578648954330596], \"xaxis\": \"x\", \"y\": [3.8981], \"yaxis\": \"y\"}, {\"hoverlabel\": {\"namelength\": 0}, \"hovertemplate\": \"<b>%{hovertext}</b><br><br>ccode=MNE<br>loggdp=%{x}<br>growth rate=%{y}<br>pop=%{marker.size}\", \"hovertext\": [\"MNE\"], \"legendgroup\": \"ccode=MNE\", \"marker\": {\"color\": \"#B6E880\", \"size\": [0.732], \"sizemode\": \"area\", \"sizeref\": 0.34955583333333334, \"symbol\": \"circle\"}, \"mode\": \"markers\", \"name\": \"ccode=MNE\", \"showlegend\": true, \"type\": \"scatter\", \"x\": [8.879333174786028], \"xaxis\": \"x\", \"y\": [6.3044], \"yaxis\": \"y\"}, {\"hoverlabel\": {\"namelength\": 0}, \"hovertemplate\": \"<b>%{hovertext}</b><br><br>ccode=SRB<br>loggdp=%{x}<br>growth rate=%{y}<br>pop=%{marker.size}\", \"hovertext\": [\"SRB\"], \"legendgroup\": \"ccode=SRB\", \"marker\": {\"color\": \"#FF97FF\", \"size\": [9.259], \"sizemode\": \"area\", \"sizeref\": 0.34955583333333334, \"symbol\": \"circle\"}, \"mode\": \"markers\", \"name\": \"ccode=SRB\", \"showlegend\": true, \"type\": \"scatter\", \"x\": [8.938794081433805], \"xaxis\": \"x\", \"y\": [4.1052], \"yaxis\": \"y\"}, {\"hoverlabel\": {\"namelength\": 0}, \"hovertemplate\": \"<b>%{hovertext}</b><br><br>ccode=LBY<br>loggdp=%{x}<br>growth rate=%{y}<br>pop=%{marker.size}\", \"hovertext\": [\"LBY\"], \"legendgroup\": \"ccode=LBY\", \"marker\": {\"color\": \"#FECB52\", \"size\": [5.025], \"sizemode\": \"area\", \"sizeref\": 0.34955583333333334, \"symbol\": \"circle\"}, \"mode\": \"markers\", \"name\": \"ccode=LBY\", \"showlegend\": true, \"type\": \"scatter\", \"x\": [10.008973060382106], \"xaxis\": \"x\", \"y\": [-5.7252], \"yaxis\": \"y\"}, {\"hoverlabel\": {\"namelength\": 0}, \"hovertemplate\": \"<b>%{hovertext}</b><br><br>ccode=ZWE<br>loggdp=%{x}<br>growth rate=%{y}<br>pop=%{marker.size}\", \"hovertext\": [\"ZWE\"], \"legendgroup\": \"ccode=ZWE\", \"marker\": {\"color\": \"#636efa\", \"size\": [11.82], \"sizemode\": \"area\", \"sizeref\": 0.34955583333333334, \"symbol\": \"circle\"}, \"mode\": \"markers\", \"name\": \"ccode=ZWE\", \"showlegend\": true, \"type\": \"scatter\", \"x\": [7.899524472032198], \"xaxis\": \"x\", \"y\": [-2.8559], \"yaxis\": \"y\"}, {\"hoverlabel\": {\"namelength\": 0}, \"hovertemplate\": \"<b>%{hovertext}</b><br><br>ccode=LBN<br>loggdp=%{x}<br>growth rate=%{y}<br>pop=%{marker.size}\", \"hovertext\": [\"LBN\"], \"legendgroup\": \"ccode=LBN\", \"marker\": {\"color\": \"#EF553B\", \"size\": [3.8339999999999996], \"sizemode\": \"area\", \"sizeref\": 0.34955583333333334, \"symbol\": \"circle\"}, \"mode\": \"markers\", \"name\": \"ccode=LBN\", \"showlegend\": true, \"type\": \"scatter\", \"x\": [9.326522126265592], \"xaxis\": \"x\", \"y\": [1.1143], \"yaxis\": \"y\"}, {\"hoverlabel\": {\"namelength\": 0}, \"hovertemplate\": \"<b>%{hovertext}</b><br><br>ccode=ETH<br>loggdp=%{x}<br>growth rate=%{y}<br>pop=%{marker.size}\", \"hovertext\": [\"ETH\"], \"legendgroup\": \"ccode=ETH\", \"marker\": {\"color\": \"#00cc96\", \"size\": [69.75399999999999], \"sizemode\": \"area\", \"sizeref\": 0.34955583333333334, \"symbol\": \"circle\"}, \"mode\": \"markers\", \"name\": \"ccode=ETH\", \"showlegend\": true, \"type\": \"scatter\", \"x\": [6.410174881966167], \"xaxis\": \"x\", \"y\": [6.5658], \"yaxis\": \"y\"}, {\"hoverlabel\": {\"namelength\": 0}, \"hovertemplate\": \"<b>%{hovertext}</b><br><br>ccode=EGY<br>loggdp=%{x}<br>growth rate=%{y}<br>pop=%{marker.size}\", \"hovertext\": [\"EGY\"], \"legendgroup\": \"ccode=EGY\", \"marker\": {\"color\": \"#ab63fa\", \"size\": [67.33], \"sizemode\": \"area\", \"sizeref\": 0.34955583333333334, \"symbol\": \"circle\"}, \"mode\": \"markers\", \"name\": \"ccode=EGY\", \"showlegend\": true, \"type\": \"scatter\", \"x\": [8.569595870209286], \"xaxis\": \"x\", \"y\": [5.4609], \"yaxis\": \"y\"}, {\"hoverlabel\": {\"namelength\": 0}, \"hovertemplate\": \"<b>%{hovertext}</b><br><br>ccode=FIN<br>loggdp=%{x}<br>growth rate=%{y}<br>pop=%{marker.size}\", \"hovertext\": [\"FIN\"], \"legendgroup\": \"ccode=FIN\", \"marker\": {\"color\": \"#FFA15A\", \"size\": [5.176], \"sizemode\": \"area\", \"sizeref\": 0.34955583333333334, \"symbol\": \"circle\"}, \"mode\": \"markers\", \"name\": \"ccode=FIN\", \"showlegend\": true, \"type\": \"scatter\", \"x\": [10.403413995433118], \"xaxis\": \"x\", \"y\": [1.0081], \"yaxis\": \"y\"}, {\"hoverlabel\": {\"namelength\": 0}, \"hovertemplate\": \"<b>%{hovertext}</b><br><br>ccode=SVN<br>loggdp=%{x}<br>growth rate=%{y}<br>pop=%{marker.size}\", \"hovertext\": [\"SVN\"], \"legendgroup\": \"ccode=SVN\", \"marker\": {\"color\": \"#19d3f3\", \"size\": [1.982], \"sizemode\": \"area\", \"sizeref\": 0.34955583333333334, \"symbol\": \"circle\"}, \"mode\": \"markers\", \"name\": \"ccode=SVN\", \"showlegend\": true, \"type\": \"scatter\", \"x\": [9.978363087181235], \"xaxis\": \"x\", \"y\": [1.745], \"yaxis\": \"y\"}, {\"hoverlabel\": {\"namelength\": 0}, \"hovertemplate\": \"<b>%{hovertext}</b><br><br>ccode=BLR<br>loggdp=%{x}<br>growth rate=%{y}<br>pop=%{marker.size}\", \"hovertext\": [\"BLR\"], \"legendgroup\": \"ccode=BLR\", \"marker\": {\"color\": \"#FF6692\", \"size\": [10.033999999999999], \"sizemode\": \"area\", \"sizeref\": 0.34955583333333334, \"symbol\": \"circle\"}, \"mode\": \"markers\", \"name\": \"ccode=BLR\", \"showlegend\": true, \"type\": \"scatter\", \"x\": [9.058004710672485], \"xaxis\": \"x\", \"y\": [6.2393], \"yaxis\": \"y\"}, {\"hoverlabel\": {\"namelength\": 0}, \"hovertemplate\": \"<b>%{hovertext}</b><br><br>ccode=ESP<br>loggdp=%{x}<br>growth rate=%{y}<br>pop=%{marker.size}\", \"hovertext\": [\"ESP\"], \"legendgroup\": \"ccode=ESP\", \"marker\": {\"color\": \"#B6E880\", \"size\": [41.071999999999996], \"sizemode\": \"area\", \"sizeref\": 0.34955583333333334, \"symbol\": \"circle\"}, \"mode\": \"markers\", \"name\": \"ccode=ESP\", \"showlegend\": true, \"type\": \"scatter\", \"x\": [10.182027967070626], \"xaxis\": \"x\", \"y\": [1.4446], \"yaxis\": \"y\"}, {\"hoverlabel\": {\"namelength\": 0}, \"hovertemplate\": \"<b>%{hovertext}</b><br><br>ccode=ALB<br>loggdp=%{x}<br>growth rate=%{y}<br>pop=%{marker.size}\", \"hovertext\": [\"ALB\"], \"legendgroup\": \"ccode=ALB\", \"marker\": {\"color\": \"#FF97FF\", \"size\": [3.1639999999999997], \"sizemode\": \"area\", \"sizeref\": 0.34955583333333334, \"symbol\": \"circle\"}, \"mode\": \"markers\", \"name\": \"ccode=ALB\", \"showlegend\": true, \"type\": \"scatter\", \"x\": [8.553139318189707], \"xaxis\": \"x\", \"y\": [5.3161], \"yaxis\": \"y\"}, {\"hoverlabel\": {\"namelength\": 0}, \"hovertemplate\": \"<b>%{hovertext}</b><br><br>ccode=GMB<br>loggdp=%{x}<br>growth rate=%{y}<br>pop=%{marker.size}\", \"hovertext\": [\"GMB\"], \"legendgroup\": \"ccode=GMB\", \"marker\": {\"color\": \"#FECB52\", \"size\": [1.357], \"sizemode\": \"area\", \"sizeref\": 0.34955583333333334, \"symbol\": \"circle\"}, \"mode\": \"markers\", \"name\": \"ccode=GMB\", \"showlegend\": true, \"type\": \"scatter\", \"x\": [7.502186486602924], \"xaxis\": \"x\", \"y\": [0.3431], \"yaxis\": \"y\"}, {\"hoverlabel\": {\"namelength\": 0}, \"hovertemplate\": \"<b>%{hovertext}</b><br><br>ccode=KOR<br>loggdp=%{x}<br>growth rate=%{y}<br>pop=%{marker.size}\", \"hovertext\": [\"KOR\"], \"legendgroup\": \"ccode=KOR\", \"marker\": {\"color\": \"#636efa\", \"size\": [47.008], \"sizemode\": \"area\", \"sizeref\": 0.34955583333333334, \"symbol\": \"circle\"}, \"mode\": \"markers\", \"name\": \"ccode=KOR\", \"showlegend\": true, \"type\": \"scatter\", \"x\": [10.04020137585195], \"xaxis\": \"x\", \"y\": [2.969], \"yaxis\": \"y\"}, {\"hoverlabel\": {\"namelength\": 0}, \"hovertemplate\": \"<b>%{hovertext}</b><br><br>ccode=GNQ<br>loggdp=%{x}<br>growth rate=%{y}<br>pop=%{marker.size}\", \"hovertext\": [\"GNQ\"], \"legendgroup\": \"ccode=GNQ\", \"marker\": {\"color\": \"#EF553B\", \"size\": [0.491], \"sizemode\": \"area\", \"sizeref\": 0.34955583333333334, \"symbol\": \"circle\"}, \"mode\": \"markers\", \"name\": \"ccode=GNQ\", \"showlegend\": true, \"type\": \"scatter\", \"x\": [9.455167134121535], \"xaxis\": \"x\", \"y\": [8.4177], \"yaxis\": \"y\"}, {\"hoverlabel\": {\"namelength\": 0}, \"hovertemplate\": \"<b>%{hovertext}</b><br><br>ccode=MDG<br>loggdp=%{x}<br>growth rate=%{y}<br>pop=%{marker.size}\", \"hovertext\": [\"MDG\"], \"legendgroup\": \"ccode=MDG\", \"marker\": {\"color\": \"#00cc96\", \"size\": [15.712], \"sizemode\": \"area\", \"sizeref\": 0.34955583333333334, \"symbol\": \"circle\"}, \"mode\": \"markers\", \"name\": \"ccode=MDG\", \"showlegend\": true, \"type\": \"scatter\", \"x\": [6.882437470997847], \"xaxis\": \"x\", \"y\": [1.9745], \"yaxis\": \"y\"}, {\"hoverlabel\": {\"namelength\": 0}, \"hovertemplate\": \"<b>%{hovertext}</b><br><br>ccode=LCA<br>loggdp=%{x}<br>growth rate=%{y}<br>pop=%{marker.size}\", \"hovertext\": [\"LCA\"], \"legendgroup\": \"ccode=LCA\", \"marker\": {\"color\": \"#ab63fa\", \"size\": [0.153], \"sizemode\": \"area\", \"sizeref\": 0.34955583333333334, \"symbol\": \"circle\"}, \"mode\": \"markers\", \"name\": \"ccode=LCA\", \"showlegend\": true, \"type\": \"scatter\", \"x\": [8.814479000010714], \"xaxis\": \"x\", \"y\": [3.2474], \"yaxis\": \"y\"}, {\"hoverlabel\": {\"namelength\": 0}, \"hovertemplate\": \"<b>%{hovertext}</b><br><br>ccode=MRT<br>loggdp=%{x}<br>growth rate=%{y}<br>pop=%{marker.size}\", \"hovertext\": [\"MRT\"], \"legendgroup\": \"ccode=MRT\", \"marker\": {\"color\": \"#FFA15A\", \"size\": [2.501], \"sizemode\": \"area\", \"sizeref\": 0.34955583333333334, \"symbol\": \"circle\"}, \"mode\": \"markers\", \"name\": \"ccode=MRT\", \"showlegend\": true, \"type\": \"scatter\", \"x\": [7.573017256052546], \"xaxis\": \"x\", \"y\": [3.9755], \"yaxis\": \"y\"}, {\"hoverlabel\": {\"namelength\": 0}, \"hovertemplate\": \"<b>%{hovertext}</b><br><br>ccode=TCD<br>loggdp=%{x}<br>growth rate=%{y}<br>pop=%{marker.size}\", \"hovertext\": [\"TCD\"], \"legendgroup\": \"ccode=TCD\", \"marker\": {\"color\": \"#19d3f3\", \"size\": [7.943], \"sizemode\": \"area\", \"sizeref\": 0.34955583333333334, \"symbol\": \"circle\"}, \"mode\": \"markers\", \"name\": \"ccode=TCD\", \"showlegend\": true, \"type\": \"scatter\", \"x\": [6.8966943316227125], \"xaxis\": \"x\", \"y\": [6.1542], \"yaxis\": \"y\"}, {\"hoverlabel\": {\"namelength\": 0}, \"hovertemplate\": \"<b>%{hovertext}</b><br><br>ccode=MNG<br>loggdp=%{x}<br>growth rate=%{y}<br>pop=%{marker.size}\", \"hovertext\": [\"MNG\"], \"legendgroup\": \"ccode=MNG\", \"marker\": {\"color\": \"#FF6692\", \"size\": [2.461], \"sizemode\": \"area\", \"sizeref\": 0.34955583333333334, \"symbol\": \"circle\"}, \"mode\": \"markers\", \"name\": \"ccode=MNG\", \"showlegend\": true, \"type\": \"scatter\", \"x\": [7.914617709040679], \"xaxis\": \"x\", \"y\": [10.4714], \"yaxis\": \"y\"}, {\"hoverlabel\": {\"namelength\": 0}, \"hovertemplate\": \"<b>%{hovertext}</b><br><br>ccode=TUR<br>loggdp=%{x}<br>growth rate=%{y}<br>pop=%{marker.size}\", \"hovertext\": [\"TUR\"], \"legendgroup\": \"ccode=TUR\", \"marker\": {\"color\": \"#B6E880\", \"size\": [67.839], \"sizemode\": \"area\", \"sizeref\": 0.34955583333333334, \"symbol\": \"circle\"}, \"mode\": \"markers\", \"name\": \"ccode=TUR\", \"showlegend\": true, \"type\": \"scatter\", \"x\": [9.378393956972433], \"xaxis\": \"x\", \"y\": [3.9038], \"yaxis\": \"y\"}, {\"hoverlabel\": {\"namelength\": 0}, \"hovertemplate\": \"<b>%{hovertext}</b><br><br>ccode=KEN<br>loggdp=%{x}<br>growth rate=%{y}<br>pop=%{marker.size}\", \"hovertext\": [\"KEN\"], \"legendgroup\": \"ccode=KEN\", \"marker\": {\"color\": \"#FF97FF\", \"size\": [30.596999999999998], \"sizemode\": \"area\", \"sizeref\": 0.34955583333333334, \"symbol\": \"circle\"}, \"mode\": \"markers\", \"name\": \"ccode=KEN\", \"showlegend\": true, \"type\": \"scatter\", \"x\": [7.643003635560718], \"xaxis\": \"x\", \"y\": [2.5902], \"yaxis\": \"y\"}, {\"hoverlabel\": {\"namelength\": 0}, \"hovertemplate\": \"<b>%{hovertext}</b><br><br>ccode=VEN<br>loggdp=%{x}<br>growth rate=%{y}<br>pop=%{marker.size}\", \"hovertext\": [\"VEN\"], \"legendgroup\": \"ccode=VEN\", \"marker\": {\"color\": \"#FECB52\", \"size\": [23.62], \"sizemode\": \"area\", \"sizeref\": 0.34955583333333334, \"symbol\": \"circle\"}, \"mode\": \"markers\", \"name\": \"ccode=VEN\", \"showlegend\": true, \"type\": \"scatter\", \"x\": [8.978029932837156], \"xaxis\": \"x\", \"y\": [5.849], \"yaxis\": \"y\"}, {\"hoverlabel\": {\"namelength\": 0}, \"hovertemplate\": \"<b>%{hovertext}</b><br><br>ccode=KGZ<br>loggdp=%{x}<br>growth rate=%{y}<br>pop=%{marker.size}\", \"hovertext\": [\"KGZ\"], \"legendgroup\": \"ccode=KGZ\", \"marker\": {\"color\": \"#636efa\", \"size\": [4.8260000000000005], \"sizemode\": \"area\", \"sizeref\": 0.34955583333333334, \"symbol\": \"circle\"}, \"mode\": \"markers\", \"name\": \"ccode=KGZ\", \"showlegend\": true, \"type\": \"scatter\", \"x\": [7.60688453121963], \"xaxis\": \"x\", \"y\": [7.8197], \"yaxis\": \"y\"}, {\"hoverlabel\": {\"namelength\": 0}, \"hovertemplate\": \"<b>%{hovertext}</b><br><br>ccode=UGA<br>loggdp=%{x}<br>growth rate=%{y}<br>pop=%{marker.size}\", \"hovertext\": [\"UGA\"], \"legendgroup\": \"ccode=UGA\", \"marker\": {\"color\": \"#EF553B\", \"size\": [24.171999999999997], \"sizemode\": \"area\", \"sizeref\": 0.34955583333333334, \"symbol\": \"circle\"}, \"mode\": \"markers\", \"name\": \"ccode=UGA\", \"showlegend\": true, \"type\": \"scatter\", \"x\": [7.029087564149662], \"xaxis\": \"x\", \"y\": [3.6025], \"yaxis\": \"y\"}, {\"hoverlabel\": {\"namelength\": 0}, \"hovertemplate\": \"<b>%{hovertext}</b><br><br>ccode=LBR<br>loggdp=%{x}<br>growth rate=%{y}<br>pop=%{marker.size}\", \"hovertext\": [\"LBR\"], \"legendgroup\": \"ccode=LBR\", \"marker\": {\"color\": \"#00cc96\", \"size\": [2.847], \"sizemode\": \"area\", \"sizeref\": 0.34955583333333334, \"symbol\": \"circle\"}, \"mode\": \"markers\", \"name\": \"ccode=LBR\", \"showlegend\": true, \"type\": \"scatter\", \"x\": [6.261491684321042], \"xaxis\": \"x\", \"y\": [3.2143], \"yaxis\": \"y\"}, {\"hoverlabel\": {\"namelength\": 0}, \"hovertemplate\": \"<b>%{hovertext}</b><br><br>ccode=PAN<br>loggdp=%{x}<br>growth rate=%{y}<br>pop=%{marker.size}\", \"hovertext\": [\"PAN\"], \"legendgroup\": \"ccode=PAN\", \"marker\": {\"color\": \"#ab63fa\", \"size\": [2.9], \"sizemode\": \"area\", \"sizeref\": 0.34955583333333334, \"symbol\": \"circle\"}, \"mode\": \"markers\", \"name\": \"ccode=PAN\", \"showlegend\": true, \"type\": \"scatter\", \"x\": [9.122601457668177], \"xaxis\": \"x\", \"y\": [5.7124], \"yaxis\": \"y\"}, {\"hoverlabel\": {\"namelength\": 0}, \"hovertemplate\": \"<b>%{hovertext}</b><br><br>ccode=AGO<br>loggdp=%{x}<br>growth rate=%{y}<br>pop=%{marker.size}\", \"hovertext\": [\"AGO\"], \"legendgroup\": \"ccode=AGO\", \"marker\": {\"color\": \"#FFA15A\", \"size\": [11.093], \"sizemode\": \"area\", \"sizeref\": 0.34955583333333334, \"symbol\": \"circle\"}, \"mode\": \"markers\", \"name\": \"ccode=AGO\", \"showlegend\": true, \"type\": \"scatter\", \"x\": [7.4067107301776405], \"xaxis\": \"x\", \"y\": [12.5449], \"yaxis\": \"y\"}, {\"hoverlabel\": {\"namelength\": 0}, \"hovertemplate\": \"<b>%{hovertext}</b><br><br>ccode=KAZ<br>loggdp=%{x}<br>growth rate=%{y}<br>pop=%{marker.size}\", \"hovertext\": [\"KAZ\"], \"legendgroup\": \"ccode=KAZ\", \"marker\": {\"color\": \"#19d3f3\", \"size\": [15.335], \"sizemode\": \"area\", \"sizeref\": 0.34955583333333334, \"symbol\": \"circle\"}, \"mode\": \"markers\", \"name\": \"ccode=KAZ\", \"showlegend\": true, \"type\": \"scatter\", \"x\": [8.648922962094131], \"xaxis\": \"x\", \"y\": [10.6078], \"yaxis\": \"y\"}, {\"hoverlabel\": {\"namelength\": 0}, \"hovertemplate\": \"<b>%{hovertext}</b><br><br>ccode=SWZ<br>loggdp=%{x}<br>growth rate=%{y}<br>pop=%{marker.size}\", \"hovertext\": [\"SWZ\"], \"legendgroup\": \"ccode=SWZ\", \"marker\": {\"color\": \"#FF6692\", \"size\": [1.1440000000000001], \"sizemode\": \"area\", \"sizeref\": 0.34955583333333334, \"symbol\": \"circle\"}, \"mode\": \"markers\", \"name\": \"ccode=SWZ\", \"showlegend\": true, \"type\": \"scatter\", \"x\": [8.89521858376562], \"xaxis\": \"x\", \"y\": [0.3707], \"yaxis\": \"y\"}, {\"hoverlabel\": {\"namelength\": 0}, \"hovertemplate\": \"<b>%{hovertext}</b><br><br>ccode=DNK<br>loggdp=%{x}<br>growth rate=%{y}<br>pop=%{marker.size}\", \"hovertext\": [\"DNK\"], \"legendgroup\": \"ccode=DNK\", \"marker\": {\"color\": \"#B6E880\", \"size\": [5.34], \"sizemode\": \"area\", \"sizeref\": 0.34955583333333334, \"symbol\": \"circle\"}, \"mode\": \"markers\", \"name\": \"ccode=DNK\", \"showlegend\": true, \"type\": \"scatter\", \"x\": [10.489133037859581], \"xaxis\": \"x\", \"y\": [1.548], \"yaxis\": \"y\"}, {\"hoverlabel\": {\"namelength\": 0}, \"hovertemplate\": \"<b>%{hovertext}</b><br><br>ccode=CAN<br>loggdp=%{x}<br>growth rate=%{y}<br>pop=%{marker.size}\", \"hovertext\": [\"CAN\"], \"legendgroup\": \"ccode=CAN\", \"marker\": {\"color\": \"#FF97FF\", \"size\": [30.823], \"sizemode\": \"area\", \"sizeref\": 0.34955583333333334, \"symbol\": \"circle\"}, \"mode\": \"markers\", \"name\": \"ccode=CAN\", \"showlegend\": true, \"type\": \"scatter\", \"x\": [10.530655174162098], \"xaxis\": \"x\", \"y\": [0.9647], \"yaxis\": \"y\"}, {\"hoverlabel\": {\"namelength\": 0}, \"hovertemplate\": \"<b>%{hovertext}</b><br><br>ccode=ECU<br>loggdp=%{x}<br>growth rate=%{y}<br>pop=%{marker.size}\", \"hovertext\": [\"ECU\"], \"legendgroup\": \"ccode=ECU\", \"marker\": {\"color\": \"#FECB52\", \"size\": [12.446], \"sizemode\": \"area\", \"sizeref\": 0.34955583333333334, \"symbol\": \"circle\"}, \"mode\": \"markers\", \"name\": \"ccode=ECU\", \"showlegend\": true, \"type\": \"scatter\", \"x\": [8.522777569710138], \"xaxis\": \"x\", \"y\": [5.7828], \"yaxis\": \"y\"}, {\"hoverlabel\": {\"namelength\": 0}, \"hovertemplate\": \"<b>%{hovertext}</b><br><br>ccode=LUX<br>loggdp=%{x}<br>growth rate=%{y}<br>pop=%{marker.size}\", \"hovertext\": [\"LUX\"], \"legendgroup\": \"ccode=LUX\", \"marker\": {\"color\": \"#636efa\", \"size\": [0.43799999999999994], \"sizemode\": \"area\", \"sizeref\": 0.34955583333333334, \"symbol\": \"circle\"}, \"mode\": \"markers\", \"name\": \"ccode=LUX\", \"showlegend\": true, \"type\": \"scatter\", \"x\": [11.060667446852031], \"xaxis\": \"x\", \"y\": [0.3437], \"yaxis\": \"y\"}, {\"hoverlabel\": {\"namelength\": 0}, \"hovertemplate\": \"<b>%{hovertext}</b><br><br>ccode=THA<br>loggdp=%{x}<br>growth rate=%{y}<br>pop=%{marker.size}\", \"hovertext\": [\"THA\"], \"legendgroup\": \"ccode=THA\", \"marker\": {\"color\": \"#EF553B\", \"size\": [61.893], \"sizemode\": \"area\", \"sizeref\": 0.34955583333333334, \"symbol\": \"circle\"}, \"mode\": \"markers\", \"name\": \"ccode=THA\", \"showlegend\": true, \"type\": \"scatter\", \"x\": [8.842315546841863], \"xaxis\": \"x\", \"y\": [4.9362], \"yaxis\": \"y\"}, {\"hoverlabel\": {\"namelength\": 0}, \"hovertemplate\": \"<b>%{hovertext}</b><br><br>ccode=PER<br>loggdp=%{x}<br>growth rate=%{y}<br>pop=%{marker.size}\", \"hovertext\": [\"PER\"], \"legendgroup\": \"ccode=PER\", \"marker\": {\"color\": \"#00cc96\", \"size\": [25.839000000000002], \"sizemode\": \"area\", \"sizeref\": 0.34955583333333334, \"symbol\": \"circle\"}, \"mode\": \"markers\", \"name\": \"ccode=PER\", \"showlegend\": true, \"type\": \"scatter\", \"x\": [8.471568013389962], \"xaxis\": \"x\", \"y\": [6.1119], \"yaxis\": \"y\"}, {\"hoverlabel\": {\"namelength\": 0}, \"hovertemplate\": \"<b>%{hovertext}</b><br><br>ccode=CUB<br>loggdp=%{x}<br>growth rate=%{y}<br>pop=%{marker.size}\", \"hovertext\": [\"CUB\"], \"legendgroup\": \"ccode=CUB\", \"marker\": {\"color\": \"#ab63fa\", \"size\": [11.147], \"sizemode\": \"area\", \"sizeref\": 0.34955583333333334, \"symbol\": \"circle\"}, \"mode\": \"markers\", \"name\": \"ccode=CUB\", \"showlegend\": true, \"type\": \"scatter\", \"x\": [8.493310250952906], \"xaxis\": \"x\", \"y\": [3.239], \"yaxis\": \"y\"}, {\"hoverlabel\": {\"namelength\": 0}, \"hovertemplate\": \"<b>%{hovertext}</b><br><br>ccode=PAK<br>loggdp=%{x}<br>growth rate=%{y}<br>pop=%{marker.size}\", \"hovertext\": [\"PAK\"], \"legendgroup\": \"ccode=PAK\", \"marker\": {\"color\": \"#FFA15A\", \"size\": [147.029], \"sizemode\": \"area\", \"sizeref\": 0.34955583333333334, \"symbol\": \"circle\"}, \"mode\": \"markers\", \"name\": \"ccode=PAK\", \"showlegend\": true, \"type\": \"scatter\", \"x\": [7.866338923046544], \"xaxis\": \"x\", \"y\": [4.571], \"yaxis\": \"y\"}, {\"hoverlabel\": {\"namelength\": 0}, \"hovertemplate\": \"<b>%{hovertext}</b><br><br>ccode=ZMB<br>loggdp=%{x}<br>growth rate=%{y}<br>pop=%{marker.size}\", \"hovertext\": [\"ZMB\"], \"legendgroup\": \"ccode=ZMB\", \"marker\": {\"color\": \"#19d3f3\", \"size\": [10.475], \"sizemode\": \"area\", \"sizeref\": 0.34955583333333334, \"symbol\": \"circle\"}, \"mode\": \"markers\", \"name\": \"ccode=ZMB\", \"showlegend\": true, \"type\": \"scatter\", \"x\": [7.050122520269059], \"xaxis\": \"x\", \"y\": [8.3358], \"yaxis\": \"y\"}, {\"hoverlabel\": {\"namelength\": 0}, \"hovertemplate\": \"<b>%{hovertext}</b><br><br>ccode=ARG<br>loggdp=%{x}<br>growth rate=%{y}<br>pop=%{marker.size}\", \"hovertext\": [\"ARG\"], \"legendgroup\": \"ccode=ARG\", \"marker\": {\"color\": \"#FF6692\", \"size\": [37.336], \"sizemode\": \"area\", \"sizeref\": 0.34955583333333334, \"symbol\": \"circle\"}, \"mode\": \"markers\", \"name\": \"ccode=ARG\", \"showlegend\": true, \"type\": \"scatter\", \"x\": [9.610323816515109], \"xaxis\": \"x\", \"y\": [1.7427], \"yaxis\": \"y\"}, {\"hoverlabel\": {\"namelength\": 0}, \"hovertemplate\": \"<b>%{hovertext}</b><br><br>ccode=AUS<br>loggdp=%{x}<br>growth rate=%{y}<br>pop=%{marker.size}\", \"hovertext\": [\"AUS\"], \"legendgroup\": \"ccode=AUS\", \"marker\": {\"color\": \"#B6E880\", \"size\": [18.902], \"sizemode\": \"area\", \"sizeref\": 0.34955583333333334, \"symbol\": \"circle\"}, \"mode\": \"markers\", \"name\": \"ccode=AUS\", \"showlegend\": true, \"type\": \"scatter\", \"x\": [10.491301994830229], \"xaxis\": \"x\", \"y\": [1.4249], \"yaxis\": \"y\"}, {\"hoverlabel\": {\"namelength\": 0}, \"hovertemplate\": \"<b>%{hovertext}</b><br><br>ccode=CHN<br>loggdp=%{x}<br>growth rate=%{y}<br>pop=%{marker.size}\", \"hovertext\": [\"CHN\"], \"legendgroup\": \"ccode=CHN\", \"marker\": {\"color\": \"#FF97FF\", \"size\": [1258.401], \"sizemode\": \"area\", \"sizeref\": 0.34955583333333334, \"symbol\": \"circle\"}, \"mode\": \"markers\", \"name\": \"ccode=CHN\", \"showlegend\": true, \"type\": \"scatter\", \"x\": [8.31164394850298], \"xaxis\": \"x\", \"y\": [7.8376], \"yaxis\": \"y\"}, {\"hoverlabel\": {\"namelength\": 0}, \"hovertemplate\": \"<b>%{hovertext}</b><br><br>ccode=IRN<br>loggdp=%{x}<br>growth rate=%{y}<br>pop=%{marker.size}\", \"hovertext\": [\"IRN\"], \"legendgroup\": \"ccode=IRN\", \"marker\": {\"color\": \"#FECB52\", \"size\": [66.436], \"sizemode\": \"area\", \"sizeref\": 0.34955583333333334, \"symbol\": \"circle\"}, \"mode\": \"markers\", \"name\": \"ccode=IRN\", \"showlegend\": true, \"type\": \"scatter\", \"x\": [8.932344569113823], \"xaxis\": \"x\", \"y\": [5.1325], \"yaxis\": \"y\"}, {\"hoverlabel\": {\"namelength\": 0}, \"hovertemplate\": \"<b>%{hovertext}</b><br><br>ccode=RWA<br>loggdp=%{x}<br>growth rate=%{y}<br>pop=%{marker.size}\", \"hovertext\": [\"RWA\"], \"legendgroup\": \"ccode=RWA\", \"marker\": {\"color\": \"#636efa\", \"size\": [8.047], \"sizemode\": \"area\", \"sizeref\": 0.34955583333333334, \"symbol\": \"circle\"}, \"mode\": \"markers\", \"name\": \"ccode=RWA\", \"showlegend\": true, \"type\": \"scatter\", \"x\": [6.558197802812269], \"xaxis\": \"x\", \"y\": [6.024], \"yaxis\": \"y\"}, {\"hoverlabel\": {\"namelength\": 0}, \"hovertemplate\": \"<b>%{hovertext}</b><br><br>ccode=IRQ<br>loggdp=%{x}<br>growth rate=%{y}<br>pop=%{marker.size}\", \"hovertext\": [\"IRQ\"], \"legendgroup\": \"ccode=IRQ\", \"marker\": {\"color\": \"#EF553B\", \"size\": [24.46], \"sizemode\": \"area\", \"sizeref\": 0.34955583333333334, \"symbol\": \"circle\"}, \"mode\": \"markers\", \"name\": \"ccode=IRQ\", \"showlegend\": true, \"type\": \"scatter\", \"x\": [8.054204897064407], \"xaxis\": \"x\", \"y\": [10.5955], \"yaxis\": \"y\"}, {\"hoverlabel\": {\"namelength\": 0}, \"hovertemplate\": \"<b>%{hovertext}</b><br><br>ccode=AFG<br>loggdp=%{x}<br>growth rate=%{y}<br>pop=%{marker.size}\", \"hovertext\": [\"AFG\"], \"legendgroup\": \"ccode=AFG\", \"marker\": {\"color\": \"#00cc96\", \"size\": [22.461], \"sizemode\": \"area\", \"sizeref\": 0.34955583333333334, \"symbol\": \"circle\"}, \"mode\": \"markers\", \"name\": \"ccode=AFG\", \"showlegend\": true, \"type\": \"scatter\", \"x\": [6.5998704992128365], \"xaxis\": \"x\", \"y\": [7.496], \"yaxis\": \"y\"}, {\"hoverlabel\": {\"namelength\": 0}, \"hovertemplate\": \"<b>%{hovertext}</b><br><br>ccode=MDA<br>loggdp=%{x}<br>growth rate=%{y}<br>pop=%{marker.size}\", \"hovertext\": [\"MDA\"], \"legendgroup\": \"ccode=MDA\", \"marker\": {\"color\": \"#ab63fa\", \"size\": [4.199], \"sizemode\": \"area\", \"sizeref\": 0.34955583333333334, \"symbol\": \"circle\"}, \"mode\": \"markers\", \"name\": \"ccode=MDA\", \"showlegend\": true, \"type\": \"scatter\", \"x\": [7.496097345175956], \"xaxis\": \"x\", \"y\": [8.3486], \"yaxis\": \"y\"}, {\"hoverlabel\": {\"namelength\": 0}, \"hovertemplate\": \"<b>%{hovertext}</b><br><br>ccode=EST<br>loggdp=%{x}<br>growth rate=%{y}<br>pop=%{marker.size}\", \"hovertext\": [\"EST\"], \"legendgroup\": \"ccode=EST\", \"marker\": {\"color\": \"#FFA15A\", \"size\": [1.365], \"sizemode\": \"area\", \"sizeref\": 0.34955583333333334, \"symbol\": \"circle\"}, \"mode\": \"markers\", \"name\": \"ccode=EST\", \"showlegend\": true, \"type\": \"scatter\", \"x\": [9.384545748167879], \"xaxis\": \"x\", \"y\": [5.5703], \"yaxis\": \"y\"}, {\"hoverlabel\": {\"namelength\": 0}, \"hovertemplate\": \"<b>%{hovertext}</b><br><br>ccode=ARE<br>loggdp=%{x}<br>growth rate=%{y}<br>pop=%{marker.size}\", \"hovertext\": [\"ARE\"], \"legendgroup\": \"ccode=ARE\", \"marker\": {\"color\": \"#19d3f3\", \"size\": [3.075], \"sizemode\": \"area\", \"sizeref\": 0.34955583333333334, \"symbol\": \"circle\"}, \"mode\": \"markers\", \"name\": \"ccode=ARE\", \"showlegend\": true, \"type\": \"scatter\", \"x\": [11.563827682897347], \"xaxis\": \"x\", \"y\": [-3.147], \"yaxis\": \"y\"}, {\"hoverlabel\": {\"namelength\": 0}, \"hovertemplate\": \"<b>%{hovertext}</b><br><br>ccode=KHM<br>loggdp=%{x}<br>growth rate=%{y}<br>pop=%{marker.size}\", \"hovertext\": [\"KHM\"], \"legendgroup\": \"ccode=KHM\", \"marker\": {\"color\": \"#FF6692\", \"size\": [12.321], \"sizemode\": \"area\", \"sizeref\": 0.34955583333333334, \"symbol\": \"circle\"}, \"mode\": \"markers\", \"name\": \"ccode=KHM\", \"showlegend\": true, \"type\": \"scatter\", \"x\": [7.161622002939187], \"xaxis\": \"x\", \"y\": [6.1715], \"yaxis\": \"y\"}, {\"hoverlabel\": {\"namelength\": 0}, \"hovertemplate\": \"<b>%{hovertext}</b><br><br>ccode=BIH<br>loggdp=%{x}<br>growth rate=%{y}<br>pop=%{marker.size}\", \"hovertext\": [\"BIH\"], \"legendgroup\": \"ccode=BIH\", \"marker\": {\"color\": \"#B6E880\", \"size\": [3.9010000000000002], \"sizemode\": \"area\", \"sizeref\": 0.34955583333333334, \"symbol\": \"circle\"}, \"mode\": \"markers\", \"name\": \"ccode=BIH\", \"showlegend\": true, \"type\": \"scatter\", \"x\": [8.678291111758565], \"xaxis\": \"x\", \"y\": [3.8631], \"yaxis\": \"y\"}, {\"hoverlabel\": {\"namelength\": 0}, \"hovertemplate\": \"<b>%{hovertext}</b><br><br>ccode=BGR<br>loggdp=%{x}<br>growth rate=%{y}<br>pop=%{marker.size}\", \"hovertext\": [\"BGR\"], \"legendgroup\": \"ccode=BGR\", \"marker\": {\"color\": \"#FF97FF\", \"size\": [7.909], \"sizemode\": \"area\", \"sizeref\": 0.34955583333333334, \"symbol\": \"circle\"}, \"mode\": \"markers\", \"name\": \"ccode=BGR\", \"showlegend\": true, \"type\": \"scatter\", \"x\": [9.06773940337716], \"xaxis\": \"x\", \"y\": [4.7281], \"yaxis\": \"y\"}, {\"hoverlabel\": {\"namelength\": 0}, \"hovertemplate\": \"<b>%{hovertext}</b><br><br>ccode=COM<br>loggdp=%{x}<br>growth rate=%{y}<br>pop=%{marker.size}\", \"hovertext\": [\"COM\"], \"legendgroup\": \"ccode=COM\", \"marker\": {\"color\": \"#FECB52\", \"size\": [0.545], \"sizemode\": \"area\", \"sizeref\": 0.34955583333333334, \"symbol\": \"circle\"}, \"mode\": \"markers\", \"name\": \"ccode=COM\", \"showlegend\": true, \"type\": \"scatter\", \"x\": [7.288927694521257], \"xaxis\": \"x\", \"y\": [0.8928], \"yaxis\": \"y\"}, {\"hoverlabel\": {\"namelength\": 0}, \"hovertemplate\": \"<b>%{hovertext}</b><br><br>ccode=CAF<br>loggdp=%{x}<br>growth rate=%{y}<br>pop=%{marker.size}\", \"hovertext\": [\"CAF\"], \"legendgroup\": \"ccode=CAF\", \"marker\": {\"color\": \"#636efa\", \"size\": [3.98], \"sizemode\": \"area\", \"sizeref\": 0.34955583333333334, \"symbol\": \"circle\"}, \"mode\": \"markers\", \"name\": \"ccode=CAF\", \"showlegend\": true, \"type\": \"scatter\", \"x\": [6.814542897259958], \"xaxis\": \"x\", \"y\": [-3.0671], \"yaxis\": \"y\"}, {\"hoverlabel\": {\"namelength\": 0}, \"hovertemplate\": \"<b>%{hovertext}</b><br><br>ccode=RUS<br>loggdp=%{x}<br>growth rate=%{y}<br>pop=%{marker.size}\", \"hovertext\": [\"RUS\"], \"legendgroup\": \"ccode=RUS\", \"marker\": {\"color\": \"#EF553B\", \"size\": [146.80200000000002], \"sizemode\": \"area\", \"sizeref\": 0.34955583333333334, \"symbol\": \"circle\"}, \"mode\": \"markers\", \"name\": \"ccode=RUS\", \"showlegend\": true, \"type\": \"scatter\", \"x\": [9.05998249038762], \"xaxis\": \"x\", \"y\": [7.5375], \"yaxis\": \"y\"}, {\"hoverlabel\": {\"namelength\": 0}, \"hovertemplate\": \"<b>%{hovertext}</b><br><br>ccode=FRA<br>loggdp=%{x}<br>growth rate=%{y}<br>pop=%{marker.size}\", \"hovertext\": [\"FRA\"], \"legendgroup\": \"ccode=FRA\", \"marker\": {\"color\": \"#00cc96\", \"size\": [60.818999999999996], \"sizemode\": \"area\", \"sizeref\": 0.34955583333333334, \"symbol\": \"circle\"}, \"mode\": \"markers\", \"name\": \"ccode=FRA\", \"showlegend\": true, \"type\": \"scatter\", \"x\": [10.366309203003638], \"xaxis\": \"x\", \"y\": [1.3125], \"yaxis\": \"y\"}, {\"hoverlabel\": {\"namelength\": 0}, \"hovertemplate\": \"<b>%{hovertext}</b><br><br>ccode=NOR<br>loggdp=%{x}<br>growth rate=%{y}<br>pop=%{marker.size}\", \"hovertext\": [\"NOR\"], \"legendgroup\": \"ccode=NOR\", \"marker\": {\"color\": \"#ab63fa\", \"size\": [4.492], \"sizemode\": \"area\", \"sizeref\": 0.34955583333333334, \"symbol\": \"circle\"}, \"mode\": \"markers\", \"name\": \"ccode=NOR\", \"showlegend\": true, \"type\": \"scatter\", \"x\": [10.907679265584745], \"xaxis\": \"x\", \"y\": [2.3762], \"yaxis\": \"y\"}, {\"hoverlabel\": {\"namelength\": 0}, \"hovertemplate\": \"<b>%{hovertext}</b><br><br>ccode=NPL<br>loggdp=%{x}<br>growth rate=%{y}<br>pop=%{marker.size}\", \"hovertext\": [\"NPL\"], \"legendgroup\": \"ccode=NPL\", \"marker\": {\"color\": \"#FFA15A\", \"size\": [23.487], \"sizemode\": \"area\", \"sizeref\": 0.34955583333333334, \"symbol\": \"circle\"}, \"mode\": \"markers\", \"name\": \"ccode=NPL\", \"showlegend\": true, \"type\": \"scatter\", \"x\": [7.238496840894365], \"xaxis\": \"x\", \"y\": [4.48], \"yaxis\": \"y\"}, {\"hoverlabel\": {\"namelength\": 0}, \"hovertemplate\": \"<b>%{hovertext}</b><br><br>ccode=ITA<br>loggdp=%{x}<br>growth rate=%{y}<br>pop=%{marker.size}\", \"hovertext\": [\"ITA\"], \"legendgroup\": \"ccode=ITA\", \"marker\": {\"color\": \"#19d3f3\", \"size\": [56.966], \"sizemode\": \"area\", \"sizeref\": 0.34955583333333334, \"symbol\": \"circle\"}, \"mode\": \"markers\", \"name\": \"ccode=ITA\", \"showlegend\": true, \"type\": \"scatter\", \"x\": [10.409853245580026], \"xaxis\": \"x\", \"y\": [0.2511], \"yaxis\": \"y\"}, {\"hoverlabel\": {\"namelength\": 0}, \"hovertemplate\": \"<b>%{hovertext}</b><br><br>ccode=TKM<br>loggdp=%{x}<br>growth rate=%{y}<br>pop=%{marker.size}\", \"hovertext\": [\"TKM\"], \"legendgroup\": \"ccode=TKM\", \"marker\": {\"color\": \"#FF6692\", \"size\": [4.385], \"sizemode\": \"area\", \"sizeref\": 0.34955583333333334, \"symbol\": \"circle\"}, \"mode\": \"markers\", \"name\": \"ccode=TKM\", \"showlegend\": true, \"type\": \"scatter\", \"x\": [8.316055720364643], \"xaxis\": \"x\", \"y\": [12.0875], \"yaxis\": \"y\"}, {\"hoverlabel\": {\"namelength\": 0}, \"hovertemplate\": \"<b>%{hovertext}</b><br><br>ccode=HRV<br>loggdp=%{x}<br>growth rate=%{y}<br>pop=%{marker.size}\", \"hovertext\": [\"HRV\"], \"legendgroup\": \"ccode=HRV\", \"marker\": {\"color\": \"#B6E880\", \"size\": [4.39], \"sizemode\": \"area\", \"sizeref\": 0.34955583333333334, \"symbol\": \"circle\"}, \"mode\": \"markers\", \"name\": \"ccode=HRV\", \"showlegend\": true, \"type\": \"scatter\", \"x\": [9.569831347174397], \"xaxis\": \"x\", \"y\": [2.5805], \"yaxis\": \"y\"}, {\"hoverlabel\": {\"namelength\": 0}, \"hovertemplate\": \"<b>%{hovertext}</b><br><br>ccode=MAR<br>loggdp=%{x}<br>growth rate=%{y}<br>pop=%{marker.size}\", \"hovertext\": [\"MAR\"], \"legendgroup\": \"ccode=MAR\", \"marker\": {\"color\": \"#FF97FF\", \"size\": [28.974], \"sizemode\": \"area\", \"sizeref\": 0.34955583333333334, \"symbol\": \"circle\"}, \"mode\": \"markers\", \"name\": \"ccode=MAR\", \"showlegend\": true, \"type\": \"scatter\", \"x\": [8.429454277108231], \"xaxis\": \"x\", \"y\": [3.4101], \"yaxis\": \"y\"}, {\"hoverlabel\": {\"namelength\": 0}, \"hovertemplate\": \"<b>%{hovertext}</b><br><br>ccode=PHL<br>loggdp=%{x}<br>growth rate=%{y}<br>pop=%{marker.size}\", \"hovertext\": [\"PHL\"], \"legendgroup\": \"ccode=PHL\", \"marker\": {\"color\": \"#FECB52\", \"size\": [80.937], \"sizemode\": \"area\", \"sizeref\": 0.34955583333333334, \"symbol\": \"circle\"}, \"mode\": \"markers\", \"name\": \"ccode=PHL\", \"showlegend\": true, \"type\": \"scatter\", \"x\": [8.339739766019143], \"xaxis\": \"x\", \"y\": [3.2951], \"yaxis\": \"y\"}, {\"hoverlabel\": {\"namelength\": 0}, \"hovertemplate\": \"<b>%{hovertext}</b><br><br>ccode=DJI<br>loggdp=%{x}<br>growth rate=%{y}<br>pop=%{marker.size}\", \"hovertext\": [\"DJI\"], \"legendgroup\": \"ccode=DJI\", \"marker\": {\"color\": \"#636efa\", \"size\": [0.669], \"sizemode\": \"area\", \"sizeref\": 0.34955583333333334, \"symbol\": \"circle\"}, \"mode\": \"markers\", \"name\": \"ccode=DJI\", \"showlegend\": true, \"type\": \"scatter\", \"x\": [7.789454566086673], \"xaxis\": \"x\", \"y\": [1.8627], \"yaxis\": \"y\"}, {\"hoverlabel\": {\"namelength\": 0}, \"hovertemplate\": \"<b>%{hovertext}</b><br><br>ccode=CHE<br>loggdp=%{x}<br>growth rate=%{y}<br>pop=%{marker.size}\", \"hovertext\": [\"CHE\"], \"legendgroup\": \"ccode=CHE\", \"marker\": {\"color\": \"#EF553B\", \"size\": [7.314], \"sizemode\": \"area\", \"sizeref\": 0.34955583333333334, \"symbol\": \"circle\"}, \"mode\": \"markers\", \"name\": \"ccode=CHE\", \"showlegend\": true, \"type\": \"scatter\", \"x\": [10.663171256896318], \"xaxis\": \"x\", \"y\": [2.6505], \"yaxis\": \"y\"}, {\"hoverlabel\": {\"namelength\": 0}, \"hovertemplate\": \"<b>%{hovertext}</b><br><br>ccode=DZA<br>loggdp=%{x}<br>growth rate=%{y}<br>pop=%{marker.size}\", \"hovertext\": [\"DZA\"], \"legendgroup\": \"ccode=DZA\", \"marker\": {\"color\": \"#00cc96\", \"size\": [30.515], \"sizemode\": \"area\", \"sizeref\": 0.34955583333333334, \"symbol\": \"circle\"}, \"mode\": \"markers\", \"name\": \"ccode=DZA\", \"showlegend\": true, \"type\": \"scatter\", \"x\": [9.018574356354229], \"xaxis\": \"x\", \"y\": [3.1723], \"yaxis\": \"y\"}, {\"hoverlabel\": {\"namelength\": 0}, \"hovertemplate\": \"<b>%{hovertext}</b><br><br>ccode=NIC<br>loggdp=%{x}<br>growth rate=%{y}<br>pop=%{marker.size}\", \"hovertext\": [\"NIC\"], \"legendgroup\": \"ccode=NIC\", \"marker\": {\"color\": \"#ab63fa\", \"size\": [4.8660000000000005], \"sizemode\": \"area\", \"sizeref\": 0.34955583333333334, \"symbol\": \"circle\"}, \"mode\": \"markers\", \"name\": \"ccode=NIC\", \"showlegend\": true, \"type\": \"scatter\", \"x\": [7.909856667269403], \"xaxis\": \"x\", \"y\": [3.69], \"yaxis\": \"y\"}, {\"hoverlabel\": {\"namelength\": 0}, \"hovertemplate\": \"<b>%{hovertext}</b><br><br>ccode=IDN<br>loggdp=%{x}<br>growth rate=%{y}<br>pop=%{marker.size}\", \"hovertext\": [\"IDN\"], \"legendgroup\": \"ccode=IDN\", \"marker\": {\"color\": \"#FFA15A\", \"size\": [211.408], \"sizemode\": \"area\", \"sizeref\": 0.34955583333333334, \"symbol\": \"circle\"}, \"mode\": \"markers\", \"name\": \"ccode=IDN\", \"showlegend\": true, \"type\": \"scatter\", \"x\": [8.15248607578024], \"xaxis\": \"x\", \"y\": [7.6304], \"yaxis\": \"y\"}, {\"hoverlabel\": {\"namelength\": 0}, \"hovertemplate\": \"<b>%{hovertext}</b><br><br>ccode=LKA<br>loggdp=%{x}<br>growth rate=%{y}<br>pop=%{marker.size}\", \"hovertext\": [\"LKA\"], \"legendgroup\": \"ccode=LKA\", \"marker\": {\"color\": \"#19d3f3\", \"size\": [19.714000000000002], \"sizemode\": \"area\", \"sizeref\": 0.34955583333333334, \"symbol\": \"circle\"}, \"mode\": \"markers\", \"name\": \"ccode=LKA\", \"showlegend\": true, \"type\": \"scatter\", \"x\": [8.387312270561717], \"xaxis\": \"x\", \"y\": [6.2887], \"yaxis\": \"y\"}, {\"hoverlabel\": {\"namelength\": 0}, \"hovertemplate\": \"<b>%{hovertext}</b><br><br>ccode=JAM<br>loggdp=%{x}<br>growth rate=%{y}<br>pop=%{marker.size}\", \"hovertext\": [\"JAM\"], \"legendgroup\": \"ccode=JAM\", \"marker\": {\"color\": \"#FF6692\", \"size\": [2.617], \"sizemode\": \"area\", \"sizeref\": 0.34955583333333334, \"symbol\": \"circle\"}, \"mode\": \"markers\", \"name\": \"ccode=JAM\", \"showlegend\": true, \"type\": \"scatter\", \"x\": [8.583355393669907], \"xaxis\": \"x\", \"y\": [2.0488], \"yaxis\": \"y\"}, {\"hoverlabel\": {\"namelength\": 0}, \"hovertemplate\": \"<b>%{hovertext}</b><br><br>ccode=SDN<br>loggdp=%{x}<br>growth rate=%{y}<br>pop=%{marker.size}\", \"hovertext\": [\"SDN\"], \"legendgroup\": \"ccode=SDN\", \"marker\": {\"color\": \"#B6E880\", \"size\": [33.37], \"sizemode\": \"area\", \"sizeref\": 0.34955583333333334, \"symbol\": \"circle\"}, \"mode\": \"markers\", \"name\": \"ccode=SDN\", \"showlegend\": true, \"type\": \"scatter\", \"x\": [7.48605261786314], \"xaxis\": \"x\", \"y\": [5.201], \"yaxis\": \"y\"}, {\"hoverlabel\": {\"namelength\": 0}, \"hovertemplate\": \"<b>%{hovertext}</b><br><br>ccode=VNM<br>loggdp=%{x}<br>growth rate=%{y}<br>pop=%{marker.size}\", \"hovertext\": [\"VNM\"], \"legendgroup\": \"ccode=VNM\", \"marker\": {\"color\": \"#FF97FF\", \"size\": [79.207], \"sizemode\": \"area\", \"sizeref\": 0.34955583333333334, \"symbol\": \"circle\"}, \"mode\": \"markers\", \"name\": \"ccode=VNM\", \"showlegend\": true, \"type\": \"scatter\", \"x\": [7.715569534520208], \"xaxis\": \"x\", \"y\": [6.5146], \"yaxis\": \"y\"}, {\"hoverlabel\": {\"namelength\": 0}, \"hovertemplate\": \"<b>%{hovertext}</b><br><br>ccode=COG<br>loggdp=%{x}<br>growth rate=%{y}<br>pop=%{marker.size}\", \"hovertext\": [\"COG\"], \"legendgroup\": \"ccode=COG\", \"marker\": {\"color\": \"#FECB52\", \"size\": [2.9389999999999996], \"sizemode\": \"area\", \"sizeref\": 0.34955583333333334, \"symbol\": \"circle\"}, \"mode\": \"markers\", \"name\": \"ccode=COG\", \"showlegend\": true, \"type\": \"scatter\", \"x\": [7.910957382845589], \"xaxis\": \"x\", \"y\": [3.7422], \"yaxis\": \"y\"}, {\"hoverlabel\": {\"namelength\": 0}, \"hovertemplate\": \"<b>%{hovertext}</b><br><br>ccode=SVK<br>loggdp=%{x}<br>growth rate=%{y}<br>pop=%{marker.size}\", \"hovertext\": [\"SVK\"], \"legendgroup\": \"ccode=SVK\", \"marker\": {\"color\": \"#636efa\", \"size\": [5.352], \"sizemode\": \"area\", \"sizeref\": 0.34955583333333334, \"symbol\": \"circle\"}, \"mode\": \"markers\", \"name\": \"ccode=SVK\", \"showlegend\": true, \"type\": \"scatter\", \"x\": [9.53372736904874], \"xaxis\": \"x\", \"y\": [4.3152], \"yaxis\": \"y\"}, {\"hoverlabel\": {\"namelength\": 0}, \"hovertemplate\": \"<b>%{hovertext}</b><br><br>ccode=SLE<br>loggdp=%{x}<br>growth rate=%{y}<br>pop=%{marker.size}\", \"hovertext\": [\"SLE\"], \"legendgroup\": \"ccode=SLE\", \"marker\": {\"color\": \"#EF553B\", \"size\": [3.8089999999999997], \"sizemode\": \"area\", \"sizeref\": 0.34955583333333334, \"symbol\": \"circle\"}, \"mode\": \"markers\", \"name\": \"ccode=SLE\", \"showlegend\": true, \"type\": \"scatter\", \"x\": [6.905753276311464], \"xaxis\": \"x\", \"y\": [2.0505], \"yaxis\": \"y\"}, {\"hoverlabel\": {\"namelength\": 0}, \"hovertemplate\": \"<b>%{hovertext}</b><br><br>ccode=BOL<br>loggdp=%{x}<br>growth rate=%{y}<br>pop=%{marker.size}\", \"hovertext\": [\"BOL\"], \"legendgroup\": \"ccode=BOL\", \"marker\": {\"color\": \"#00cc96\", \"size\": [8.195], \"sizemode\": \"area\", \"sizeref\": 0.34955583333333334, \"symbol\": \"circle\"}, \"mode\": \"markers\", \"name\": \"ccode=BOL\", \"showlegend\": true, \"type\": \"scatter\", \"x\": [8.001019961323651], \"xaxis\": \"x\", \"y\": [4.8409], \"yaxis\": \"y\"}, {\"hoverlabel\": {\"namelength\": 0}, \"hovertemplate\": \"<b>%{hovertext}</b><br><br>ccode=CMR<br>loggdp=%{x}<br>growth rate=%{y}<br>pop=%{marker.size}\", \"hovertext\": [\"CMR\"], \"legendgroup\": \"ccode=CMR\", \"marker\": {\"color\": \"#ab63fa\", \"size\": [15.687999999999999], \"sizemode\": \"area\", \"sizeref\": 0.34955583333333334, \"symbol\": \"circle\"}, \"mode\": \"markers\", \"name\": \"ccode=CMR\", \"showlegend\": true, \"type\": \"scatter\", \"x\": [7.719573989259581], \"xaxis\": \"x\", \"y\": [1.229], \"yaxis\": \"y\"}, {\"hoverlabel\": {\"namelength\": 0}, \"hovertemplate\": \"<b>%{hovertext}</b><br><br>ccode=POL<br>loggdp=%{x}<br>growth rate=%{y}<br>pop=%{marker.size}\", \"hovertext\": [\"POL\"], \"legendgroup\": \"ccode=POL\", \"marker\": {\"color\": \"#FFA15A\", \"size\": [38.658], \"sizemode\": \"area\", \"sizeref\": 0.34955583333333334, \"symbol\": \"circle\"}, \"mode\": \"markers\", \"name\": \"ccode=POL\", \"showlegend\": true, \"type\": \"scatter\", \"x\": [9.488502271043805], \"xaxis\": \"x\", \"y\": [4.4686], \"yaxis\": \"y\"}, {\"hoverlabel\": {\"namelength\": 0}, \"hovertemplate\": \"<b>%{hovertext}</b><br><br>ccode=PRT<br>loggdp=%{x}<br>growth rate=%{y}<br>pop=%{marker.size}\", \"hovertext\": [\"PRT\"], \"legendgroup\": \"ccode=PRT\", \"marker\": {\"color\": \"#19d3f3\", \"size\": [10.228], \"sizemode\": \"area\", \"sizeref\": 0.34955583333333334, \"symbol\": \"circle\"}, \"mode\": \"markers\", \"name\": \"ccode=PRT\", \"showlegend\": true, \"type\": \"scatter\", \"x\": [9.975668669496136], \"xaxis\": \"x\", \"y\": [1.5649], \"yaxis\": \"y\"}, {\"hoverlabel\": {\"namelength\": 0}, \"hovertemplate\": \"<b>%{hovertext}</b><br><br>ccode=MEX<br>loggdp=%{x}<br>growth rate=%{y}<br>pop=%{marker.size}\", \"hovertext\": [\"MEX\"], \"legendgroup\": \"ccode=MEX\", \"marker\": {\"color\": \"#FF6692\", \"size\": [98.40299999999999], \"sizemode\": \"area\", \"sizeref\": 0.34955583333333334, \"symbol\": \"circle\"}, \"mode\": \"markers\", \"name\": \"ccode=MEX\", \"showlegend\": true, \"type\": \"scatter\", \"x\": [9.33591519488425], \"xaxis\": \"x\", \"y\": [2.2732], \"yaxis\": \"y\"}, {\"hoverlabel\": {\"namelength\": 0}, \"hovertemplate\": \"<b>%{hovertext}</b><br><br>ccode=DOM<br>loggdp=%{x}<br>growth rate=%{y}<br>pop=%{marker.size}\", \"hovertext\": [\"DOM\"], \"legendgroup\": \"ccode=DOM\", \"marker\": {\"color\": \"#B6E880\", \"size\": [8.468], \"sizemode\": \"area\", \"sizeref\": 0.34955583333333334, \"symbol\": \"circle\"}, \"mode\": \"markers\", \"name\": \"ccode=DOM\", \"showlegend\": true, \"type\": \"scatter\", \"x\": [8.927181388251986], \"xaxis\": \"x\", \"y\": [3.7751], \"yaxis\": \"y\"}, {\"hoverlabel\": {\"namelength\": 0}, \"hovertemplate\": \"<b>%{hovertext}</b><br><br>ccode=LSO<br>loggdp=%{x}<br>growth rate=%{y}<br>pop=%{marker.size}\", \"hovertext\": [\"LSO\"], \"legendgroup\": \"ccode=LSO\", \"marker\": {\"color\": \"#FF97FF\", \"size\": [1.916], \"sizemode\": \"area\", \"sizeref\": 0.34955583333333334, \"symbol\": \"circle\"}, \"mode\": \"markers\", \"name\": \"ccode=LSO\", \"showlegend\": true, \"type\": \"scatter\", \"x\": [7.637234388789473], \"xaxis\": \"x\", \"y\": [2.3753], \"yaxis\": \"y\"}, {\"hoverlabel\": {\"namelength\": 0}, \"hovertemplate\": \"<b>%{hovertext}</b><br><br>ccode=CPV<br>loggdp=%{x}<br>growth rate=%{y}<br>pop=%{marker.size}\", \"hovertext\": [\"CPV\"], \"legendgroup\": \"ccode=CPV\", \"marker\": {\"color\": \"#FECB52\", \"size\": [0.43], \"sizemode\": \"area\", \"sizeref\": 0.34955583333333334, \"symbol\": \"circle\"}, \"mode\": \"markers\", \"name\": \"ccode=CPV\", \"showlegend\": true, \"type\": \"scatter\", \"x\": [8.19863945529737], \"xaxis\": \"x\", \"y\": [4.0665], \"yaxis\": \"y\"}, {\"hoverlabel\": {\"namelength\": 0}, \"hovertemplate\": \"<b>%{hovertext}</b><br><br>ccode=SLV<br>loggdp=%{x}<br>growth rate=%{y}<br>pop=%{marker.size}\", \"hovertext\": [\"SLV\"], \"legendgroup\": \"ccode=SLV\", \"marker\": {\"color\": \"#636efa\", \"size\": [5.85], \"sizemode\": \"area\", \"sizeref\": 0.34955583333333334, \"symbol\": \"circle\"}, \"mode\": \"markers\", \"name\": \"ccode=SLV\", \"showlegend\": true, \"type\": \"scatter\", \"x\": [8.532278828834277], \"xaxis\": \"x\", \"y\": [3.2917], \"yaxis\": \"y\"}, {\"hoverlabel\": {\"namelength\": 0}, \"hovertemplate\": \"<b>%{hovertext}</b><br><br>ccode=TGO<br>loggdp=%{x}<br>growth rate=%{y}<br>pop=%{marker.size}\", \"hovertext\": [\"TGO\"], \"legendgroup\": \"ccode=TGO\", \"marker\": {\"color\": \"#EF553B\", \"size\": [4.992], \"sizemode\": \"area\", \"sizeref\": 0.34955583333333334, \"symbol\": \"circle\"}, \"mode\": \"markers\", \"name\": \"ccode=TGO\", \"showlegend\": true, \"type\": \"scatter\", \"x\": [7.05617528410041], \"xaxis\": \"x\", \"y\": [1.5715], \"yaxis\": \"y\"}, {\"hoverlabel\": {\"namelength\": 0}, \"hovertemplate\": \"<b>%{hovertext}</b><br><br>ccode=DEU<br>loggdp=%{x}<br>growth rate=%{y}<br>pop=%{marker.size}\", \"hovertext\": [\"DEU\"], \"legendgroup\": \"ccode=DEU\", \"marker\": {\"color\": \"#00cc96\", \"size\": [82.15700000000001], \"sizemode\": \"area\", \"sizeref\": 0.34955583333333334, \"symbol\": \"circle\"}, \"mode\": \"markers\", \"name\": \"ccode=DEU\", \"showlegend\": true, \"type\": \"scatter\", \"x\": [10.433380239019344], \"xaxis\": \"x\", \"y\": [2.194], \"yaxis\": \"y\"}, {\"hoverlabel\": {\"namelength\": 0}, \"hovertemplate\": \"<b>%{hovertext}</b><br><br>ccode=CHL<br>loggdp=%{x}<br>growth rate=%{y}<br>pop=%{marker.size}\", \"hovertext\": [\"CHL\"], \"legendgroup\": \"ccode=CHL\", \"marker\": {\"color\": \"#ab63fa\", \"size\": [15.34], \"sizemode\": \"area\", \"sizeref\": 0.34955583333333334, \"symbol\": \"circle\"}, \"mode\": \"markers\", \"name\": \"ccode=CHL\", \"showlegend\": true, \"type\": \"scatter\", \"x\": [9.296793259706382], \"xaxis\": \"x\", \"y\": [4.8254], \"yaxis\": \"y\"}, {\"hoverlabel\": {\"namelength\": 0}, \"hovertemplate\": \"<b>%{hovertext}</b><br><br>ccode=HKG<br>loggdp=%{x}<br>growth rate=%{y}<br>pop=%{marker.size}\", \"hovertext\": [\"HKG\"], \"legendgroup\": \"ccode=HKG\", \"marker\": {\"color\": \"#FFA15A\", \"size\": [6.59], \"sizemode\": \"area\", \"sizeref\": 0.34955583333333334, \"symbol\": \"circle\"}, \"mode\": \"markers\", \"name\": \"ccode=HKG\", \"showlegend\": true, \"type\": \"scatter\", \"x\": [10.54935967058025], \"xaxis\": \"x\", \"y\": [1.311], \"yaxis\": \"y\"}, {\"hoverlabel\": {\"namelength\": 0}, \"hovertemplate\": \"<b>%{hovertext}</b><br><br>ccode=BEL<br>loggdp=%{x}<br>growth rate=%{y}<br>pop=%{marker.size}\", \"hovertext\": [\"BEL\"], \"legendgroup\": \"ccode=BEL\", \"marker\": {\"color\": \"#19d3f3\", \"size\": [10.253], \"sizemode\": \"area\", \"sizeref\": 0.34955583333333334, \"symbol\": \"circle\"}, \"mode\": \"markers\", \"name\": \"ccode=BEL\", \"showlegend\": true, \"type\": \"scatter\", \"x\": [10.41711923563258], \"xaxis\": \"x\", \"y\": [1.1411], \"yaxis\": \"y\"}, {\"hoverlabel\": {\"namelength\": 0}, \"hovertemplate\": \"<b>%{hovertext}</b><br><br>ccode=PSE<br>loggdp=%{x}<br>growth rate=%{y}<br>pop=%{marker.size}\", \"hovertext\": [\"PSE\"], \"legendgroup\": \"ccode=PSE\", \"marker\": {\"color\": \"#FF6692\", \"size\": [3.075], \"sizemode\": \"area\", \"sizeref\": 0.34955583333333334, \"symbol\": \"circle\"}, \"mode\": \"markers\", \"name\": \"ccode=PSE\", \"showlegend\": true, \"type\": \"scatter\", \"x\": [8.25582842728183], \"xaxis\": \"x\", \"y\": [0.9008], \"yaxis\": \"y\"}, {\"hoverlabel\": {\"namelength\": 0}, \"hovertemplate\": \"<b>%{hovertext}</b><br><br>ccode=IND<br>loggdp=%{x}<br>growth rate=%{y}<br>pop=%{marker.size}\", \"hovertext\": [\"IND\"], \"legendgroup\": \"ccode=IND\", \"marker\": {\"color\": \"#B6E880\", \"size\": [1007.31], \"sizemode\": \"area\", \"sizeref\": 0.34955583333333334, \"symbol\": \"circle\"}, \"mode\": \"markers\", \"name\": \"ccode=IND\", \"showlegend\": true, \"type\": \"scatter\", \"x\": [7.602401335665818], \"xaxis\": \"x\", \"y\": [7.215], \"yaxis\": \"y\"}, {\"hoverlabel\": {\"namelength\": 0}, \"hovertemplate\": \"<b>%{hovertext}</b><br><br>ccode=BRA<br>loggdp=%{x}<br>growth rate=%{y}<br>pop=%{marker.size}\", \"hovertext\": [\"BRA\"], \"legendgroup\": \"ccode=BRA\", \"marker\": {\"color\": \"#FF97FF\", \"size\": [176.36900000000003], \"sizemode\": \"area\", \"sizeref\": 0.34955583333333334, \"symbol\": \"circle\"}, \"mode\": \"markers\", \"name\": \"ccode=BRA\", \"showlegend\": true, \"type\": \"scatter\", \"x\": [9.025936648977904], \"xaxis\": \"x\", \"y\": [4.216], \"yaxis\": \"y\"}, {\"hoverlabel\": {\"namelength\": 0}, \"hovertemplate\": \"<b>%{hovertext}</b><br><br>ccode=BRB<br>loggdp=%{x}<br>growth rate=%{y}<br>pop=%{marker.size}\", \"hovertext\": [\"BRB\"], \"legendgroup\": \"ccode=BRB\", \"marker\": {\"color\": \"#FECB52\", \"size\": [0.27399999999999997], \"sizemode\": \"area\", \"sizeref\": 0.34955583333333334, \"symbol\": \"circle\"}, \"mode\": \"markers\", \"name\": \"ccode=BRB\", \"showlegend\": true, \"type\": \"scatter\", \"x\": [9.933191975242458], \"xaxis\": \"x\", \"y\": [-5.0512], \"yaxis\": \"y\"}, {\"hoverlabel\": {\"namelength\": 0}, \"hovertemplate\": \"<b>%{hovertext}</b><br><br>ccode=USA<br>loggdp=%{x}<br>growth rate=%{y}<br>pop=%{marker.size}\", \"hovertext\": [\"USA\"], \"legendgroup\": \"ccode=USA\", \"marker\": {\"color\": \"#636efa\", \"size\": [282.738], \"sizemode\": \"area\", \"sizeref\": 0.34955583333333334, \"symbol\": \"circle\"}, \"mode\": \"markers\", \"name\": \"ccode=USA\", \"showlegend\": true, \"type\": \"scatter\", \"x\": [10.73393713153216], \"xaxis\": \"x\", \"y\": [0.8506], \"yaxis\": \"y\"}, {\"hoverlabel\": {\"namelength\": 0}, \"hovertemplate\": \"<b>%{hovertext}</b><br><br>ccode=AUT<br>loggdp=%{x}<br>growth rate=%{y}<br>pop=%{marker.size}\", \"hovertext\": [\"AUT\"], \"legendgroup\": \"ccode=AUT\", \"marker\": {\"color\": \"#EF553B\", \"size\": [8.059], \"sizemode\": \"area\", \"sizeref\": 0.34955583333333334, \"symbol\": \"circle\"}, \"mode\": \"markers\", \"name\": \"ccode=AUT\", \"showlegend\": true, \"type\": \"scatter\", \"x\": [10.48329804775707], \"xaxis\": \"x\", \"y\": [1.6474], \"yaxis\": \"y\"}, {\"hoverlabel\": {\"namelength\": 0}, \"hovertemplate\": \"<b>%{hovertext}</b><br><br>ccode=AZE<br>loggdp=%{x}<br>growth rate=%{y}<br>pop=%{marker.size}\", \"hovertext\": [\"AZE\"], \"legendgroup\": \"ccode=AZE\", \"marker\": {\"color\": \"#00cc96\", \"size\": [8.127], \"sizemode\": \"area\", \"sizeref\": 0.34955583333333334, \"symbol\": \"circle\"}, \"mode\": \"markers\", \"name\": \"ccode=AZE\", \"showlegend\": true, \"type\": \"scatter\", \"x\": [7.853993087224244], \"xaxis\": \"x\", \"y\": [13.9472], \"yaxis\": \"y\"}, {\"hoverlabel\": {\"namelength\": 0}, \"hovertemplate\": \"<b>%{hovertext}</b><br><br>ccode=BDI<br>loggdp=%{x}<br>growth rate=%{y}<br>pop=%{marker.size}\", \"hovertext\": [\"BDI\"], \"legendgroup\": \"ccode=BDI\", \"marker\": {\"color\": \"#ab63fa\", \"size\": [6.716], \"sizemode\": \"area\", \"sizeref\": 0.34955583333333334, \"symbol\": \"circle\"}, \"mode\": \"markers\", \"name\": \"ccode=BDI\", \"showlegend\": true, \"type\": \"scatter\", \"x\": [6.8690144506657065], \"xaxis\": \"x\", \"y\": [-1.4959], \"yaxis\": \"y\"}, {\"hoverlabel\": {\"namelength\": 0}, \"hovertemplate\": \"<b>%{hovertext}</b><br><br>ccode=MUS<br>loggdp=%{x}<br>growth rate=%{y}<br>pop=%{marker.size}\", \"hovertext\": [\"MUS\"], \"legendgroup\": \"ccode=MUS\", \"marker\": {\"color\": \"#FFA15A\", \"size\": [1.186], \"sizemode\": \"area\", \"sizeref\": 0.34955583333333334, \"symbol\": \"circle\"}, \"mode\": \"markers\", \"name\": \"ccode=MUS\", \"showlegend\": true, \"type\": \"scatter\", \"x\": [9.595602772766828], \"xaxis\": \"x\", \"y\": [1.3583], \"yaxis\": \"y\"}, {\"hoverlabel\": {\"namelength\": 0}, \"hovertemplate\": \"<b>%{hovertext}</b><br><br>ccode=NER<br>loggdp=%{x}<br>growth rate=%{y}<br>pop=%{marker.size}\", \"hovertext\": [\"NER\"], \"legendgroup\": \"ccode=NER\", \"marker\": {\"color\": \"#19d3f3\", \"size\": [10.748], \"sizemode\": \"area\", \"sizeref\": 0.34955583333333334, \"symbol\": \"circle\"}, \"mode\": \"markers\", \"name\": \"ccode=NER\", \"showlegend\": true, \"type\": \"scatter\", \"x\": [6.505784060128229], \"xaxis\": \"x\", \"y\": [2.0843], \"yaxis\": \"y\"}, {\"hoverlabel\": {\"namelength\": 0}, \"hovertemplate\": \"<b>%{hovertext}</b><br><br>ccode=MKD<br>loggdp=%{x}<br>growth rate=%{y}<br>pop=%{marker.size}\", \"hovertext\": [\"MKD\"], \"legendgroup\": \"ccode=MKD\", \"marker\": {\"color\": \"#FF6692\", \"size\": [2.015], \"sizemode\": \"area\", \"sizeref\": 0.34955583333333334, \"symbol\": \"circle\"}, \"mode\": \"markers\", \"name\": \"ccode=MKD\", \"showlegend\": true, \"type\": \"scatter\", \"x\": [9.009814110527381], \"xaxis\": \"x\", \"y\": [3.4239], \"yaxis\": \"y\"}, {\"hoverlabel\": {\"namelength\": 0}, \"hovertemplate\": \"<b>%{hovertext}</b><br><br>ccode=NGA<br>loggdp=%{x}<br>growth rate=%{y}<br>pop=%{marker.size}\", \"hovertext\": [\"NGA\"], \"legendgroup\": \"ccode=NGA\", \"marker\": {\"color\": \"#B6E880\", \"size\": [123.84299999999999], \"sizemode\": \"area\", \"sizeref\": 0.34955583333333334, \"symbol\": \"circle\"}, \"mode\": \"markers\", \"name\": \"ccode=NGA\", \"showlegend\": true, \"type\": \"scatter\", \"x\": [7.884952945759814], \"xaxis\": \"x\", \"y\": [5.3765], \"yaxis\": \"y\"}, {\"hoverlabel\": {\"namelength\": 0}, \"hovertemplate\": \"<b>%{hovertext}</b><br><br>ccode=LVA<br>loggdp=%{x}<br>growth rate=%{y}<br>pop=%{marker.size}\", \"hovertext\": [\"LVA\"], \"legendgroup\": \"ccode=LVA\", \"marker\": {\"color\": \"#FF97FF\", \"size\": [2.3680000000000003], \"sizemode\": \"area\", \"sizeref\": 0.34955583333333334, \"symbol\": \"circle\"}, \"mode\": \"markers\", \"name\": \"ccode=LVA\", \"showlegend\": true, \"type\": \"scatter\", \"x\": [9.273690687476945], \"xaxis\": \"x\", \"y\": [5.2966], \"yaxis\": \"y\"}, {\"hoverlabel\": {\"namelength\": 0}, \"hovertemplate\": \"<b>%{hovertext}</b><br><br>ccode=GRC<br>loggdp=%{x}<br>growth rate=%{y}<br>pop=%{marker.size}\", \"hovertext\": [\"GRC\"], \"legendgroup\": \"ccode=GRC\", \"marker\": {\"color\": \"#FECB52\", \"size\": [10.735], \"sizemode\": \"area\", \"sizeref\": 0.34955583333333334, \"symbol\": \"circle\"}, \"mode\": \"markers\", \"name\": \"ccode=GRC\", \"showlegend\": true, \"type\": \"scatter\", \"x\": [10.049231566588833], \"xaxis\": \"x\", \"y\": [0.3909], \"yaxis\": \"y\"}, {\"hoverlabel\": {\"namelength\": 0}, \"hovertemplate\": \"<b>%{hovertext}</b><br><br>ccode=NAM<br>loggdp=%{x}<br>growth rate=%{y}<br>pop=%{marker.size}\", \"hovertext\": [\"NAM\"], \"legendgroup\": \"ccode=NAM\", \"marker\": {\"color\": \"#636efa\", \"size\": [1.8780000000000001], \"sizemode\": \"area\", \"sizeref\": 0.34955583333333334, \"symbol\": \"circle\"}, \"mode\": \"markers\", \"name\": \"ccode=NAM\", \"showlegend\": true, \"type\": \"scatter\", \"x\": [8.557182839632397], \"xaxis\": \"x\", \"y\": [5.8166], \"yaxis\": \"y\"}, {\"hoverlabel\": {\"namelength\": 0}, \"hovertemplate\": \"<b>%{hovertext}</b><br><br>ccode=BEN<br>loggdp=%{x}<br>growth rate=%{y}<br>pop=%{marker.size}\", \"hovertext\": [\"BEN\"], \"legendgroup\": \"ccode=BEN\", \"marker\": {\"color\": \"#EF553B\", \"size\": [6.619], \"sizemode\": \"area\", \"sizeref\": 0.34955583333333334, \"symbol\": \"circle\"}, \"mode\": \"markers\", \"name\": \"ccode=BEN\", \"showlegend\": true, \"type\": \"scatter\", \"x\": [7.305860032684009], \"xaxis\": \"x\", \"y\": [2.4584], \"yaxis\": \"y\"}, {\"hoverlabel\": {\"namelength\": 0}, \"hovertemplate\": \"<b>%{hovertext}</b><br><br>ccode=ZAF<br>loggdp=%{x}<br>growth rate=%{y}<br>pop=%{marker.size}\", \"hovertext\": [\"ZAF\"], \"legendgroup\": \"ccode=ZAF\", \"marker\": {\"color\": \"#00cc96\", \"size\": [44.882], \"sizemode\": \"area\", \"sizeref\": 0.34955583333333334, \"symbol\": \"circle\"}, \"mode\": \"markers\", \"name\": \"ccode=ZAF\", \"showlegend\": true, \"type\": \"scatter\", \"x\": [9.045229851912582], \"xaxis\": \"x\", \"y\": [2.5432], \"yaxis\": \"y\"}, {\"hoverlabel\": {\"namelength\": 0}, \"hovertemplate\": \"<b>%{hovertext}</b><br><br>ccode=GAB<br>loggdp=%{x}<br>growth rate=%{y}<br>pop=%{marker.size}\", \"hovertext\": [\"GAB\"], \"legendgroup\": \"ccode=GAB\", \"marker\": {\"color\": \"#ab63fa\", \"size\": [1.236], \"sizemode\": \"area\", \"sizeref\": 0.34955583333333334, \"symbol\": \"circle\"}, \"mode\": \"markers\", \"name\": \"ccode=GAB\", \"showlegend\": true, \"type\": \"scatter\", \"x\": [9.259320994197804], \"xaxis\": \"x\", \"y\": [2.1023], \"yaxis\": \"y\"}, {\"hoverlabel\": {\"namelength\": 0}, \"hovertemplate\": \"<b>%{hovertext}</b><br><br>ccode=SWE<br>loggdp=%{x}<br>growth rate=%{y}<br>pop=%{marker.size}\", \"hovertext\": [\"SWE\"], \"legendgroup\": \"ccode=SWE\", \"marker\": {\"color\": \"#FFA15A\", \"size\": [8.872], \"sizemode\": \"area\", \"sizeref\": 0.34955583333333334, \"symbol\": \"circle\"}, \"mode\": \"markers\", \"name\": \"ccode=SWE\", \"showlegend\": true, \"type\": \"scatter\", \"x\": [10.501609512686963], \"xaxis\": \"x\", \"y\": [1.0672], \"yaxis\": \"y\"}, {\"hoverlabel\": {\"namelength\": 0}, \"hovertemplate\": \"<b>%{hovertext}</b><br><br>ccode=GNB<br>loggdp=%{x}<br>growth rate=%{y}<br>pop=%{marker.size}\", \"hovertext\": [\"GNB\"], \"legendgroup\": \"ccode=GNB\", \"marker\": {\"color\": \"#19d3f3\", \"size\": [1.2790000000000001], \"sizemode\": \"area\", \"sizeref\": 0.34955583333333334, \"symbol\": \"circle\"}, \"mode\": \"markers\", \"name\": \"ccode=GNB\", \"showlegend\": true, \"type\": \"scatter\", \"x\": [7.213031659834869], \"xaxis\": \"x\", \"y\": [-0.4331], \"yaxis\": \"y\"}, {\"hoverlabel\": {\"namelength\": 0}, \"hovertemplate\": \"<b>%{hovertext}</b><br><br>ccode=DMA<br>loggdp=%{x}<br>growth rate=%{y}<br>pop=%{marker.size}\", \"hovertext\": [\"DMA\"], \"legendgroup\": \"ccode=DMA\", \"marker\": {\"color\": \"#FF6692\", \"size\": [0.071], \"sizemode\": \"area\", \"sizeref\": 0.34955583333333334, \"symbol\": \"circle\"}, \"mode\": \"markers\", \"name\": \"ccode=DMA\", \"showlegend\": true, \"type\": \"scatter\", \"x\": [9.084323531392696], \"xaxis\": \"x\", \"y\": [0.7064], \"yaxis\": \"y\"}, {\"hoverlabel\": {\"namelength\": 0}, \"hovertemplate\": \"<b>%{hovertext}</b><br><br>ccode=QAT<br>loggdp=%{x}<br>growth rate=%{y}<br>pop=%{marker.size}\", \"hovertext\": [\"QAT\"], \"legendgroup\": \"ccode=QAT\", \"marker\": {\"color\": \"#B6E880\", \"size\": [0.556], \"sizemode\": \"area\", \"sizeref\": 0.34955583333333334, \"symbol\": \"circle\"}, \"mode\": \"markers\", \"name\": \"ccode=QAT\", \"showlegend\": true, \"type\": \"scatter\", \"x\": [11.097728152217645], \"xaxis\": \"x\", \"y\": [5.4446], \"yaxis\": \"y\"}, {\"hoverlabel\": {\"namelength\": 0}, \"hovertemplate\": \"<b>%{hovertext}</b><br><br>ccode=SYR<br>loggdp=%{x}<br>growth rate=%{y}<br>pop=%{marker.size}\", \"hovertext\": [\"SYR\"], \"legendgroup\": \"ccode=SYR\", \"marker\": {\"color\": \"#FF97FF\", \"size\": [16.334], \"sizemode\": \"area\", \"sizeref\": 0.34955583333333334, \"symbol\": \"circle\"}, \"mode\": \"markers\", \"name\": \"ccode=SYR\", \"showlegend\": true, \"type\": \"scatter\", \"x\": [8.506334448081361], \"xaxis\": \"x\", \"y\": [-1.3845], \"yaxis\": \"y\"}, {\"hoverlabel\": {\"namelength\": 0}, \"hovertemplate\": \"<b>%{hovertext}</b><br><br>ccode=GIN<br>loggdp=%{x}<br>growth rate=%{y}<br>pop=%{marker.size}\", \"hovertext\": [\"GIN\"], \"legendgroup\": \"ccode=GIN\", \"marker\": {\"color\": \"#FECB52\", \"size\": [8.35], \"sizemode\": \"area\", \"sizeref\": 0.34955583333333334, \"symbol\": \"circle\"}, \"mode\": \"markers\", \"name\": \"ccode=GIN\", \"showlegend\": true, \"type\": \"scatter\", \"x\": [6.9650803456014065], \"xaxis\": \"x\", \"y\": [3.2003], \"yaxis\": \"y\"}, {\"hoverlabel\": {\"namelength\": 0}, \"hovertemplate\": \"<b>%{hovertext}</b><br><br>ccode=HND<br>loggdp=%{x}<br>growth rate=%{y}<br>pop=%{marker.size}\", \"hovertext\": [\"HND\"], \"legendgroup\": \"ccode=HND\", \"marker\": {\"color\": \"#636efa\", \"size\": [6.359], \"sizemode\": \"area\", \"sizeref\": 0.34955583333333334, \"symbol\": \"circle\"}, \"mode\": \"markers\", \"name\": \"ccode=HND\", \"showlegend\": true, \"type\": \"scatter\", \"x\": [8.173293438966228], \"xaxis\": \"x\", \"y\": [1.3414], \"yaxis\": \"y\"}, {\"hoverlabel\": {\"namelength\": 0}, \"hovertemplate\": \"<b>%{hovertext}</b><br><br>ccode=UZB<br>loggdp=%{x}<br>growth rate=%{y}<br>pop=%{marker.size}\", \"hovertext\": [\"UZB\"], \"legendgroup\": \"ccode=UZB\", \"marker\": {\"color\": \"#EF553B\", \"size\": [25.041999999999998], \"sizemode\": \"area\", \"sizeref\": 0.34955583333333334, \"symbol\": \"circle\"}, \"mode\": \"markers\", \"name\": \"ccode=UZB\", \"showlegend\": true, \"type\": \"scatter\", \"x\": [8.125039097367745], \"xaxis\": \"x\", \"y\": [6.8232], \"yaxis\": \"y\"}, {\"hoverlabel\": {\"namelength\": 0}, \"hovertemplate\": \"<b>%{hovertext}</b><br><br>ccode=GTM<br>loggdp=%{x}<br>growth rate=%{y}<br>pop=%{marker.size}\", \"hovertext\": [\"GTM\"], \"legendgroup\": \"ccode=GTM\", \"marker\": {\"color\": \"#00cc96\", \"size\": [11.085999999999999], \"sizemode\": \"area\", \"sizeref\": 0.34955583333333334, \"symbol\": \"circle\"}, \"mode\": \"markers\", \"name\": \"ccode=GTM\", \"showlegend\": true, \"type\": \"scatter\", \"x\": [8.470730317005897], \"xaxis\": \"x\", \"y\": [2.6674], \"yaxis\": \"y\"}, {\"hoverlabel\": {\"namelength\": 0}, \"hovertemplate\": \"<b>%{hovertext}</b><br><br>ccode=HTI<br>loggdp=%{x}<br>growth rate=%{y}<br>pop=%{marker.size}\", \"hovertext\": [\"HTI\"], \"legendgroup\": \"ccode=HTI\", \"marker\": {\"color\": \"#ab63fa\", \"size\": [8.279], \"sizemode\": \"area\", \"sizeref\": 0.34955583333333334, \"symbol\": \"circle\"}, \"mode\": \"markers\", \"name\": \"ccode=HTI\", \"showlegend\": true, \"type\": \"scatter\", \"x\": [7.56734567601324], \"xaxis\": \"x\", \"y\": [-1.1066], \"yaxis\": \"y\"}, {\"hoverlabel\": {\"namelength\": 0}, \"hovertemplate\": \"<b>%{hovertext}</b><br><br>ccode=ISL<br>loggdp=%{x}<br>growth rate=%{y}<br>pop=%{marker.size}\", \"hovertext\": [\"ISL\"], \"legendgroup\": \"ccode=ISL\", \"marker\": {\"color\": \"#FFA15A\", \"size\": [0.281], \"sizemode\": \"area\", \"sizeref\": 0.34955583333333334, \"symbol\": \"circle\"}, \"mode\": \"markers\", \"name\": \"ccode=ISL\", \"showlegend\": true, \"type\": \"scatter\", \"x\": [10.480943258599881], \"xaxis\": \"x\", \"y\": [0.7179], \"yaxis\": \"y\"}, {\"hoverlabel\": {\"namelength\": 0}, \"hovertemplate\": \"<b>%{hovertext}</b><br><br>ccode=BGD<br>loggdp=%{x}<br>growth rate=%{y}<br>pop=%{marker.size}\", \"hovertext\": [\"BGD\"], \"legendgroup\": \"ccode=BGD\", \"marker\": {\"color\": \"#19d3f3\", \"size\": [135.211], \"sizemode\": \"area\", \"sizeref\": 0.34955583333333334, \"symbol\": \"circle\"}, \"mode\": \"markers\", \"name\": \"ccode=BGD\", \"showlegend\": true, \"type\": \"scatter\", \"x\": [7.221835825288449], \"xaxis\": \"x\", \"y\": [5.5106], \"yaxis\": \"y\"}, {\"hoverlabel\": {\"namelength\": 0}, \"hovertemplate\": \"<b>%{hovertext}</b><br><br>ccode=OMN<br>loggdp=%{x}<br>growth rate=%{y}<br>pop=%{marker.size}\", \"hovertext\": [\"OMN\"], \"legendgroup\": \"ccode=OMN\", \"marker\": {\"color\": \"#FF6692\", \"size\": [2.191], \"sizemode\": \"area\", \"sizeref\": 0.34955583333333334, \"symbol\": \"circle\"}, \"mode\": \"markers\", \"name\": \"ccode=OMN\", \"showlegend\": true, \"type\": \"scatter\", \"x\": [9.838522273683768], \"xaxis\": \"x\", \"y\": [5.1284], \"yaxis\": \"y\"}, {\"hoverlabel\": {\"namelength\": 0}, \"hovertemplate\": \"<b>%{hovertext}</b><br><br>ccode=YEM<br>loggdp=%{x}<br>growth rate=%{y}<br>pop=%{marker.size}\", \"hovertext\": [\"YEM\"], \"legendgroup\": \"ccode=YEM\", \"marker\": {\"color\": \"#B6E880\", \"size\": [18.472], \"sizemode\": \"area\", \"sizeref\": 0.34955583333333334, \"symbol\": \"circle\"}, \"mode\": \"markers\", \"name\": \"ccode=YEM\", \"showlegend\": true, \"type\": \"scatter\", \"x\": [8.028781162487148], \"xaxis\": \"x\", \"y\": [1.064], \"yaxis\": \"y\"}, {\"hoverlabel\": {\"namelength\": 0}, \"hovertemplate\": \"<b>%{hovertext}</b><br><br>ccode=MLT<br>loggdp=%{x}<br>growth rate=%{y}<br>pop=%{marker.size}\", \"hovertext\": [\"MLT\"], \"legendgroup\": \"ccode=MLT\", \"marker\": {\"color\": \"#FF97FF\", \"size\": [0.392], \"sizemode\": \"area\", \"sizeref\": 0.34955583333333334, \"symbol\": \"circle\"}, \"mode\": \"markers\", \"name\": \"ccode=MLT\", \"showlegend\": true, \"type\": \"scatter\", \"x\": [10.087391190512735], \"xaxis\": \"x\", \"y\": [0.281], \"yaxis\": \"y\"}, {\"hoverlabel\": {\"namelength\": 0}, \"hovertemplate\": \"<b>%{hovertext}</b><br><br>ccode=ARM<br>loggdp=%{x}<br>growth rate=%{y}<br>pop=%{marker.size}\", \"hovertext\": [\"ARM\"], \"legendgroup\": \"ccode=ARM\", \"marker\": {\"color\": \"#FECB52\", \"size\": [2.966], \"sizemode\": \"area\", \"sizeref\": 0.34955583333333334, \"symbol\": \"circle\"}, \"mode\": \"markers\", \"name\": \"ccode=ARM\", \"showlegend\": true, \"type\": \"scatter\", \"x\": [8.10892415597534], \"xaxis\": \"x\", \"y\": [7.5925], \"yaxis\": \"y\"}, {\"hoverlabel\": {\"namelength\": 0}, \"hovertemplate\": \"<b>%{hovertext}</b><br><br>ccode=STP<br>loggdp=%{x}<br>growth rate=%{y}<br>pop=%{marker.size}\", \"hovertext\": [\"STP\"], \"legendgroup\": \"ccode=STP\", \"marker\": {\"color\": \"#636efa\", \"size\": [0.141], \"sizemode\": \"area\", \"sizeref\": 0.34955583333333334, \"symbol\": \"circle\"}, \"mode\": \"markers\", \"name\": \"ccode=STP\", \"showlegend\": true, \"type\": \"scatter\", \"x\": [7.554334823725748], \"xaxis\": \"x\", \"y\": [4.4015], \"yaxis\": \"y\"}, {\"hoverlabel\": {\"namelength\": 0}, \"hovertemplate\": \"<b>%{hovertext}</b><br><br>ccode=CRI<br>loggdp=%{x}<br>growth rate=%{y}<br>pop=%{marker.size}\", \"hovertext\": [\"CRI\"], \"legendgroup\": \"ccode=CRI\", \"marker\": {\"color\": \"#EF553B\", \"size\": [3.888], \"sizemode\": \"area\", \"sizeref\": 0.34955583333333334, \"symbol\": \"circle\"}, \"mode\": \"markers\", \"name\": \"ccode=CRI\", \"showlegend\": true, \"type\": \"scatter\", \"x\": [9.159047077588632], \"xaxis\": \"x\", \"y\": [2.3312], \"yaxis\": \"y\"}, {\"hoverlabel\": {\"namelength\": 0}, \"hovertemplate\": \"<b>%{hovertext}</b><br><br>ccode=LTU<br>loggdp=%{x}<br>growth rate=%{y}<br>pop=%{marker.size}\", \"hovertext\": [\"LTU\"], \"legendgroup\": \"ccode=LTU\", \"marker\": {\"color\": \"#00cc96\", \"size\": [3.497], \"sizemode\": \"area\", \"sizeref\": 0.34955583333333334, \"symbol\": \"circle\"}, \"mode\": \"markers\", \"name\": \"ccode=LTU\", \"showlegend\": true, \"type\": \"scatter\", \"x\": [9.31578088443418], \"xaxis\": \"x\", \"y\": [5.842], \"yaxis\": \"y\"}, {\"hoverlabel\": {\"namelength\": 0}, \"hovertemplate\": \"<b>%{hovertext}</b><br><br>ccode=CIV<br>loggdp=%{x}<br>growth rate=%{y}<br>pop=%{marker.size}\", \"hovertext\": [\"CIV\"], \"legendgroup\": \"ccode=CIV\", \"marker\": {\"color\": \"#ab63fa\", \"size\": [16.885], \"sizemode\": \"area\", \"sizeref\": 0.34955583333333334, \"symbol\": \"circle\"}, \"mode\": \"markers\", \"name\": \"ccode=CIV\", \"showlegend\": true, \"type\": \"scatter\", \"x\": [7.6624678152002375], \"xaxis\": \"x\", \"y\": [3.0745], \"yaxis\": \"y\"}, {\"hoverlabel\": {\"namelength\": 0}, \"hovertemplate\": \"<b>%{hovertext}</b><br><br>ccode=GHA<br>loggdp=%{x}<br>growth rate=%{y}<br>pop=%{marker.size}\", \"hovertext\": [\"GHA\"], \"legendgroup\": \"ccode=GHA\", \"marker\": {\"color\": \"#FFA15A\", \"size\": [18.816], \"sizemode\": \"area\", \"sizeref\": 0.34955583333333334, \"symbol\": \"circle\"}, \"mode\": \"markers\", \"name\": \"ccode=GHA\", \"showlegend\": true, \"type\": \"scatter\", \"x\": [7.756623334538858], \"xaxis\": \"x\", \"y\": [3.1894], \"yaxis\": \"y\"}, {\"hoverlabel\": {\"namelength\": 0}, \"hovertemplate\": \"<b>%{hovertext}</b><br><br>ccode=IRL<br>loggdp=%{x}<br>growth rate=%{y}<br>pop=%{marker.size}\", \"hovertext\": [\"IRL\"], \"legendgroup\": \"ccode=IRL\", \"marker\": {\"color\": \"#19d3f3\", \"size\": [3.799], \"sizemode\": \"area\", \"sizeref\": 0.34955583333333334, \"symbol\": \"circle\"}, \"mode\": \"markers\", \"name\": \"ccode=IRL\", \"showlegend\": true, \"type\": \"scatter\", \"x\": [10.575206785682452], \"xaxis\": \"x\", \"y\": [2.0157], \"yaxis\": \"y\"}, {\"hoverlabel\": {\"namelength\": 0}, \"hovertemplate\": \"<b>%{hovertext}</b><br><br>ccode=SEN<br>loggdp=%{x}<br>growth rate=%{y}<br>pop=%{marker.size}\", \"hovertext\": [\"SEN\"], \"legendgroup\": \"ccode=SEN\", \"marker\": {\"color\": \"#FF6692\", \"size\": [10.311], \"sizemode\": \"area\", \"sizeref\": 0.34955583333333334, \"symbol\": \"circle\"}, \"mode\": \"markers\", \"name\": \"ccode=SEN\", \"showlegend\": true, \"type\": \"scatter\", \"x\": [7.52294091807237], \"xaxis\": \"x\", \"y\": [1.7358], \"yaxis\": \"y\"}, {\"hoverlabel\": {\"namelength\": 0}, \"hovertemplate\": \"<b>%{hovertext}</b><br><br>ccode=TUN<br>loggdp=%{x}<br>growth rate=%{y}<br>pop=%{marker.size}\", \"hovertext\": [\"TUN\"], \"legendgroup\": \"ccode=TUN\", \"marker\": {\"color\": \"#B6E880\", \"size\": [9.513], \"sizemode\": \"area\", \"sizeref\": 0.34955583333333334, \"symbol\": \"circle\"}, \"mode\": \"markers\", \"name\": \"ccode=TUN\", \"showlegend\": true, \"type\": \"scatter\", \"x\": [9.040737587590003], \"xaxis\": \"x\", \"y\": [1.6328], \"yaxis\": \"y\"}, {\"hoverlabel\": {\"namelength\": 0}, \"hovertemplate\": \"<b>%{hovertext}</b><br><br>ccode=GBR<br>loggdp=%{x}<br>growth rate=%{y}<br>pop=%{marker.size}\", \"hovertext\": [\"GBR\"], \"legendgroup\": \"ccode=GBR\", \"marker\": {\"color\": \"#FF97FF\", \"size\": [59.145], \"sizemode\": \"area\", \"sizeref\": 0.34955583333333334, \"symbol\": \"circle\"}, \"mode\": \"markers\", \"name\": \"ccode=GBR\", \"showlegend\": true, \"type\": \"scatter\", \"x\": [10.445521103426312], \"xaxis\": \"x\", \"y\": [0.7571], \"yaxis\": \"y\"}, {\"hoverlabel\": {\"namelength\": 0}, \"hovertemplate\": \"<b>%{hovertext}</b><br><br>ccode=MOZ<br>loggdp=%{x}<br>growth rate=%{y}<br>pop=%{marker.size}\", \"hovertext\": [\"MOZ\"], \"legendgroup\": \"ccode=MOZ\", \"marker\": {\"color\": \"#FECB52\", \"size\": [17.55], \"sizemode\": \"area\", \"sizeref\": 0.34955583333333334, \"symbol\": \"circle\"}, \"mode\": \"markers\", \"name\": \"ccode=MOZ\", \"showlegend\": true, \"type\": \"scatter\", \"x\": [6.406879986069314], \"xaxis\": \"x\", \"y\": [5.168], \"yaxis\": \"y\"}, {\"hoverlabel\": {\"namelength\": 0}, \"hovertemplate\": \"<b>%{hovertext}</b><br><br>ccode=KWT<br>loggdp=%{x}<br>growth rate=%{y}<br>pop=%{marker.size}\", \"hovertext\": [\"KWT\"], \"legendgroup\": \"ccode=KWT\", \"marker\": {\"color\": \"#636efa\", \"size\": [2.0069999999999997], \"sizemode\": \"area\", \"sizeref\": 0.34955583333333334, \"symbol\": \"circle\"}, \"mode\": \"markers\", \"name\": \"ccode=KWT\", \"showlegend\": true, \"type\": \"scatter\", \"x\": [10.690079537805937], \"xaxis\": \"x\", \"y\": [3.304], \"yaxis\": \"y\"}, {\"hoverlabel\": {\"namelength\": 0}, \"hovertemplate\": \"<b>%{hovertext}</b><br><br>ccode=CYP<br>loggdp=%{x}<br>growth rate=%{y}<br>pop=%{marker.size}\", \"hovertext\": [\"CYP\"], \"legendgroup\": \"ccode=CYP\", \"marker\": {\"color\": \"#EF553B\", \"size\": [0.815], \"sizemode\": \"area\", \"sizeref\": 0.34955583333333334, \"symbol\": \"circle\"}, \"mode\": \"markers\", \"name\": \"ccode=CYP\", \"showlegend\": true, \"type\": \"scatter\", \"x\": [10.146159183657883], \"xaxis\": \"x\", \"y\": [-0.0455], \"yaxis\": \"y\"}, {\"hoverlabel\": {\"namelength\": 0}, \"hovertemplate\": \"<b>%{hovertext}</b><br><br>ccode=GEO<br>loggdp=%{x}<br>growth rate=%{y}<br>pop=%{marker.size}\", \"hovertext\": [\"GEO\"], \"legendgroup\": \"ccode=GEO\", \"marker\": {\"color\": \"#00cc96\", \"size\": [4.814], \"sizemode\": \"area\", \"sizeref\": 0.34955583333333334, \"symbol\": \"circle\"}, \"mode\": \"markers\", \"name\": \"ccode=GEO\", \"showlegend\": true, \"type\": \"scatter\", \"x\": [8.14002395246292], \"xaxis\": \"x\", \"y\": [7.8698], \"yaxis\": \"y\"}, {\"hoverlabel\": {\"namelength\": 0}, \"hovertemplate\": \"<b>%{hovertext}</b><br><br>ccode=LAO<br>loggdp=%{x}<br>growth rate=%{y}<br>pop=%{marker.size}\", \"hovertext\": [\"LAO\"], \"legendgroup\": \"ccode=LAO\", \"marker\": {\"color\": \"#ab63fa\", \"size\": [5.397], \"sizemode\": \"area\", \"sizeref\": 0.34955583333333334, \"symbol\": \"circle\"}, \"mode\": \"markers\", \"name\": \"ccode=LAO\", \"showlegend\": true, \"type\": \"scatter\", \"x\": [7.597897950521784], \"xaxis\": \"x\", \"y\": [7.7462], \"yaxis\": \"y\"}, {\"hoverlabel\": {\"namelength\": 0}, \"hovertemplate\": \"<b>%{hovertext}</b><br><br>ccode=ISR<br>loggdp=%{x}<br>growth rate=%{y}<br>pop=%{marker.size}\", \"hovertext\": [\"ISR\"], \"legendgroup\": \"ccode=ISR\", \"marker\": {\"color\": \"#FFA15A\", \"size\": [6.122999999999999], \"sizemode\": \"area\", \"sizeref\": 0.34955583333333334, \"symbol\": \"circle\"}, \"mode\": \"markers\", \"name\": \"ccode=ISR\", \"showlegend\": true, \"type\": \"scatter\", \"x\": [10.306081877219272], \"xaxis\": \"x\", \"y\": [0.3592], \"yaxis\": \"y\"}, {\"hoverlabel\": {\"namelength\": 0}, \"hovertemplate\": \"<b>%{hovertext}</b><br><br>ccode=TJK<br>loggdp=%{x}<br>growth rate=%{y}<br>pop=%{marker.size}\", \"hovertext\": [\"TJK\"], \"legendgroup\": \"ccode=TJK\", \"marker\": {\"color\": \"#19d3f3\", \"size\": [6.229], \"sizemode\": \"area\", \"sizeref\": 0.34955583333333334, \"symbol\": \"circle\"}, \"mode\": \"markers\", \"name\": \"ccode=TJK\", \"showlegend\": true, \"type\": \"scatter\", \"x\": [7.149131598557407], \"xaxis\": \"x\", \"y\": [6.8674], \"yaxis\": \"y\"}, {\"hoverlabel\": {\"namelength\": 0}, \"hovertemplate\": \"<b>%{hovertext}</b><br><br>ccode=UKR<br>loggdp=%{x}<br>growth rate=%{y}<br>pop=%{marker.size}\", \"hovertext\": [\"UKR\"], \"legendgroup\": \"ccode=UKR\", \"marker\": {\"color\": \"#FF6692\", \"size\": [49.013999999999996], \"sizemode\": \"area\", \"sizeref\": 0.34955583333333334, \"symbol\": \"circle\"}, \"mode\": \"markers\", \"name\": \"ccode=UKR\", \"showlegend\": true, \"type\": \"scatter\", \"x\": [8.400209835930418], \"xaxis\": \"x\", \"y\": [6.2041], \"yaxis\": \"y\"}, {\"hoverlabel\": {\"namelength\": 0}, \"hovertemplate\": \"<b>%{hovertext}</b><br><br>ccode=COL<br>loggdp=%{x}<br>growth rate=%{y}<br>pop=%{marker.size}\", \"hovertext\": [\"COL\"], \"legendgroup\": \"ccode=COL\", \"marker\": {\"color\": \"#B6E880\", \"size\": [38.917], \"sizemode\": \"area\", \"sizeref\": 0.34955583333333334, \"symbol\": \"circle\"}, \"mode\": \"markers\", \"name\": \"ccode=COL\", \"showlegend\": true, \"type\": \"scatter\", \"x\": [8.83346272071993], \"xaxis\": \"x\", \"y\": [4.4497], \"yaxis\": \"y\"}, {\"hoverlabel\": {\"namelength\": 0}, \"hovertemplate\": \"<b>%{hovertext}</b><br><br>ccode=TZA<br>loggdp=%{x}<br>growth rate=%{y}<br>pop=%{marker.size}\", \"hovertext\": [\"TZA\"], \"legendgroup\": \"ccode=TZA\", \"marker\": {\"color\": \"#FF97FF\", \"size\": [33.741], \"sizemode\": \"area\", \"sizeref\": 0.34955583333333334, \"symbol\": \"circle\"}, \"mode\": \"markers\", \"name\": \"ccode=TZA\", \"showlegend\": true, \"type\": \"scatter\", \"x\": [7.036148493750536], \"xaxis\": \"x\", \"y\": [5.2745], \"yaxis\": \"y\"}, {\"hoverlabel\": {\"namelength\": 0}, \"hovertemplate\": \"<b>%{hovertext}</b><br><br>ccode=NLD<br>loggdp=%{x}<br>growth rate=%{y}<br>pop=%{marker.size}\", \"hovertext\": [\"NLD\"], \"legendgroup\": \"ccode=NLD\", \"marker\": {\"color\": \"#FECB52\", \"size\": [15.925999999999998], \"sizemode\": \"area\", \"sizeref\": 0.34955583333333334, \"symbol\": \"circle\"}, \"mode\": \"markers\", \"name\": \"ccode=NLD\", \"showlegend\": true, \"type\": \"scatter\", \"x\": [10.594707877902358], \"xaxis\": \"x\", \"y\": [1.2865], \"yaxis\": \"y\"}, {\"hoverlabel\": {\"namelength\": 0}, \"hovertemplate\": \"<b>%{hovertext}</b><br><br>ccode=PRY<br>loggdp=%{x}<br>growth rate=%{y}<br>pop=%{marker.size}\", \"hovertext\": [\"PRY\"], \"legendgroup\": \"ccode=PRY\", \"marker\": {\"color\": \"#636efa\", \"size\": [5.417999999999999], \"sizemode\": \"area\", \"sizeref\": 0.34955583333333334, \"symbol\": \"circle\"}, \"mode\": \"markers\", \"name\": \"ccode=PRY\", \"showlegend\": true, \"type\": \"scatter\", \"x\": [8.225235324101668], \"xaxis\": \"x\", \"y\": [5.789], \"yaxis\": \"y\"}, {\"hoverlabel\": {\"namelength\": 0}, \"hovertemplate\": \"<b>%{hovertext}</b><br><br>ccode=SAU<br>loggdp=%{x}<br>growth rate=%{y}<br>pop=%{marker.size}\", \"hovertext\": [\"SAU\"], \"legendgroup\": \"ccode=SAU\", \"marker\": {\"color\": \"#EF553B\", \"size\": [20.999000000000002], \"sizemode\": \"area\", \"sizeref\": 0.34955583333333334, \"symbol\": \"circle\"}, \"mode\": \"markers\", \"name\": \"ccode=SAU\", \"showlegend\": true, \"type\": \"scatter\", \"x\": [9.909916840301031], \"xaxis\": \"x\", \"y\": [6.2158], \"yaxis\": \"y\"}, {\"hoverlabel\": {\"namelength\": 0}, \"hovertemplate\": \"<b>%{hovertext}</b><br><br>ccode=ROU<br>loggdp=%{x}<br>growth rate=%{y}<br>pop=%{marker.size}\", \"hovertext\": [\"ROU\"], \"legendgroup\": \"ccode=ROU\", \"marker\": {\"color\": \"#00cc96\", \"size\": [22.447], \"sizemode\": \"area\", \"sizeref\": 0.34955583333333334, \"symbol\": \"circle\"}, \"mode\": \"markers\", \"name\": \"ccode=ROU\", \"showlegend\": true, \"type\": \"scatter\", \"x\": [8.913281137711804], \"xaxis\": \"x\", \"y\": [7.2105], \"yaxis\": \"y\"}, {\"hoverlabel\": {\"namelength\": 0}, \"hovertemplate\": \"<b>%{hovertext}</b><br><br>ccode=JPN<br>loggdp=%{x}<br>growth rate=%{y}<br>pop=%{marker.size}\", \"hovertext\": [\"JPN\"], \"legendgroup\": \"ccode=JPN\", \"marker\": {\"color\": \"#ab63fa\", \"size\": [126.93299999999999], \"sizemode\": \"area\", \"sizeref\": 0.34955583333333334, \"symbol\": \"circle\"}, \"mode\": \"markers\", \"name\": \"ccode=JPN\", \"showlegend\": true, \"type\": \"scatter\", \"x\": [10.413132479553957], \"xaxis\": \"x\", \"y\": [0.4694], \"yaxis\": \"y\"}, {\"hoverlabel\": {\"namelength\": 0}, \"hovertemplate\": \"<b>%{hovertext}</b><br><br>ccode=MWI<br>loggdp=%{x}<br>growth rate=%{y}<br>pop=%{marker.size}\", \"hovertext\": [\"MWI\"], \"legendgroup\": \"ccode=MWI\", \"marker\": {\"color\": \"#FFA15A\", \"size\": [11.339], \"sizemode\": \"area\", \"sizeref\": 0.34955583333333334, \"symbol\": \"circle\"}, \"mode\": \"markers\", \"name\": \"ccode=MWI\", \"showlegend\": true, \"type\": \"scatter\", \"x\": [6.771935555839602], \"xaxis\": \"x\", \"y\": [0.7108], \"yaxis\": \"y\"}],\n",
       "                        {\"height\": 600, \"legend\": {\"itemsizing\": \"constant\", \"tracegroupgap\": 0}, \"margin\": {\"t\": 60}, \"template\": {\"data\": {\"bar\": [{\"error_x\": {\"color\": \"#2a3f5f\"}, \"error_y\": {\"color\": \"#2a3f5f\"}, \"marker\": {\"line\": {\"color\": \"#E5ECF6\", \"width\": 0.5}}, \"type\": \"bar\"}], \"barpolar\": [{\"marker\": {\"line\": {\"color\": \"#E5ECF6\", \"width\": 0.5}}, \"type\": \"barpolar\"}], \"carpet\": [{\"aaxis\": {\"endlinecolor\": \"#2a3f5f\", \"gridcolor\": \"white\", \"linecolor\": \"white\", \"minorgridcolor\": \"white\", \"startlinecolor\": \"#2a3f5f\"}, \"baxis\": {\"endlinecolor\": \"#2a3f5f\", \"gridcolor\": \"white\", \"linecolor\": \"white\", \"minorgridcolor\": \"white\", \"startlinecolor\": \"#2a3f5f\"}, \"type\": \"carpet\"}], \"choropleth\": [{\"colorbar\": {\"outlinewidth\": 0, \"ticks\": \"\"}, \"type\": \"choropleth\"}], \"contour\": [{\"colorbar\": {\"outlinewidth\": 0, \"ticks\": \"\"}, \"colorscale\": [[0.0, \"#0d0887\"], [0.1111111111111111, \"#46039f\"], [0.2222222222222222, \"#7201a8\"], [0.3333333333333333, \"#9c179e\"], [0.4444444444444444, \"#bd3786\"], [0.5555555555555556, \"#d8576b\"], [0.6666666666666666, \"#ed7953\"], [0.7777777777777778, \"#fb9f3a\"], [0.8888888888888888, \"#fdca26\"], [1.0, \"#f0f921\"]], \"type\": \"contour\"}], \"contourcarpet\": [{\"colorbar\": {\"outlinewidth\": 0, \"ticks\": \"\"}, \"type\": \"contourcarpet\"}], \"heatmap\": [{\"colorbar\": {\"outlinewidth\": 0, \"ticks\": \"\"}, \"colorscale\": [[0.0, \"#0d0887\"], [0.1111111111111111, \"#46039f\"], [0.2222222222222222, \"#7201a8\"], [0.3333333333333333, \"#9c179e\"], [0.4444444444444444, \"#bd3786\"], [0.5555555555555556, \"#d8576b\"], [0.6666666666666666, \"#ed7953\"], [0.7777777777777778, \"#fb9f3a\"], [0.8888888888888888, \"#fdca26\"], [1.0, \"#f0f921\"]], \"type\": \"heatmap\"}], \"heatmapgl\": [{\"colorbar\": {\"outlinewidth\": 0, \"ticks\": \"\"}, \"colorscale\": [[0.0, \"#0d0887\"], [0.1111111111111111, \"#46039f\"], [0.2222222222222222, \"#7201a8\"], [0.3333333333333333, \"#9c179e\"], [0.4444444444444444, \"#bd3786\"], [0.5555555555555556, \"#d8576b\"], [0.6666666666666666, \"#ed7953\"], [0.7777777777777778, \"#fb9f3a\"], [0.8888888888888888, \"#fdca26\"], [1.0, \"#f0f921\"]], \"type\": \"heatmapgl\"}], \"histogram\": [{\"marker\": {\"colorbar\": {\"outlinewidth\": 0, \"ticks\": \"\"}}, \"type\": \"histogram\"}], \"histogram2d\": [{\"colorbar\": {\"outlinewidth\": 0, \"ticks\": \"\"}, \"colorscale\": [[0.0, \"#0d0887\"], [0.1111111111111111, \"#46039f\"], [0.2222222222222222, \"#7201a8\"], [0.3333333333333333, \"#9c179e\"], [0.4444444444444444, \"#bd3786\"], [0.5555555555555556, \"#d8576b\"], [0.6666666666666666, \"#ed7953\"], [0.7777777777777778, \"#fb9f3a\"], [0.8888888888888888, \"#fdca26\"], [1.0, \"#f0f921\"]], \"type\": \"histogram2d\"}], \"histogram2dcontour\": [{\"colorbar\": {\"outlinewidth\": 0, \"ticks\": \"\"}, \"colorscale\": [[0.0, \"#0d0887\"], [0.1111111111111111, \"#46039f\"], [0.2222222222222222, \"#7201a8\"], [0.3333333333333333, \"#9c179e\"], [0.4444444444444444, \"#bd3786\"], [0.5555555555555556, \"#d8576b\"], [0.6666666666666666, \"#ed7953\"], [0.7777777777777778, \"#fb9f3a\"], [0.8888888888888888, \"#fdca26\"], [1.0, \"#f0f921\"]], \"type\": \"histogram2dcontour\"}], \"mesh3d\": [{\"colorbar\": {\"outlinewidth\": 0, \"ticks\": \"\"}, \"type\": \"mesh3d\"}], \"parcoords\": [{\"line\": {\"colorbar\": {\"outlinewidth\": 0, \"ticks\": \"\"}}, \"type\": \"parcoords\"}], \"pie\": [{\"automargin\": true, \"type\": \"pie\"}], \"scatter\": [{\"marker\": {\"colorbar\": {\"outlinewidth\": 0, \"ticks\": \"\"}}, \"type\": \"scatter\"}], \"scatter3d\": [{\"line\": {\"colorbar\": {\"outlinewidth\": 0, \"ticks\": \"\"}}, \"marker\": {\"colorbar\": {\"outlinewidth\": 0, \"ticks\": \"\"}}, \"type\": \"scatter3d\"}], \"scattercarpet\": [{\"marker\": {\"colorbar\": {\"outlinewidth\": 0, \"ticks\": \"\"}}, \"type\": \"scattercarpet\"}], \"scattergeo\": [{\"marker\": {\"colorbar\": {\"outlinewidth\": 0, \"ticks\": \"\"}}, \"type\": \"scattergeo\"}], \"scattergl\": [{\"marker\": {\"colorbar\": {\"outlinewidth\": 0, \"ticks\": \"\"}}, \"type\": \"scattergl\"}], \"scattermapbox\": [{\"marker\": {\"colorbar\": {\"outlinewidth\": 0, \"ticks\": \"\"}}, \"type\": \"scattermapbox\"}], \"scatterpolar\": [{\"marker\": {\"colorbar\": {\"outlinewidth\": 0, \"ticks\": \"\"}}, \"type\": \"scatterpolar\"}], \"scatterpolargl\": [{\"marker\": {\"colorbar\": {\"outlinewidth\": 0, \"ticks\": \"\"}}, \"type\": \"scatterpolargl\"}], \"scatterternary\": [{\"marker\": {\"colorbar\": {\"outlinewidth\": 0, \"ticks\": \"\"}}, \"type\": \"scatterternary\"}], \"surface\": [{\"colorbar\": {\"outlinewidth\": 0, \"ticks\": \"\"}, \"colorscale\": [[0.0, \"#0d0887\"], [0.1111111111111111, \"#46039f\"], [0.2222222222222222, \"#7201a8\"], [0.3333333333333333, \"#9c179e\"], [0.4444444444444444, \"#bd3786\"], [0.5555555555555556, \"#d8576b\"], [0.6666666666666666, \"#ed7953\"], [0.7777777777777778, \"#fb9f3a\"], [0.8888888888888888, \"#fdca26\"], [1.0, \"#f0f921\"]], \"type\": \"surface\"}], \"table\": [{\"cells\": {\"fill\": {\"color\": \"#EBF0F8\"}, \"line\": {\"color\": \"white\"}}, \"header\": {\"fill\": {\"color\": \"#C8D4E3\"}, \"line\": {\"color\": \"white\"}}, \"type\": \"table\"}]}, \"layout\": {\"annotationdefaults\": {\"arrowcolor\": \"#2a3f5f\", \"arrowhead\": 0, \"arrowwidth\": 1}, \"coloraxis\": {\"colorbar\": {\"outlinewidth\": 0, \"ticks\": \"\"}}, \"colorscale\": {\"diverging\": [[0, \"#8e0152\"], [0.1, \"#c51b7d\"], [0.2, \"#de77ae\"], [0.3, \"#f1b6da\"], [0.4, \"#fde0ef\"], [0.5, \"#f7f7f7\"], [0.6, \"#e6f5d0\"], [0.7, \"#b8e186\"], [0.8, \"#7fbc41\"], [0.9, \"#4d9221\"], [1, \"#276419\"]], \"sequential\": [[0.0, \"#0d0887\"], [0.1111111111111111, \"#46039f\"], [0.2222222222222222, \"#7201a8\"], [0.3333333333333333, \"#9c179e\"], [0.4444444444444444, \"#bd3786\"], [0.5555555555555556, \"#d8576b\"], [0.6666666666666666, \"#ed7953\"], [0.7777777777777778, \"#fb9f3a\"], [0.8888888888888888, \"#fdca26\"], [1.0, \"#f0f921\"]], \"sequentialminus\": [[0.0, \"#0d0887\"], [0.1111111111111111, \"#46039f\"], [0.2222222222222222, \"#7201a8\"], [0.3333333333333333, \"#9c179e\"], [0.4444444444444444, \"#bd3786\"], [0.5555555555555556, \"#d8576b\"], [0.6666666666666666, \"#ed7953\"], [0.7777777777777778, \"#fb9f3a\"], [0.8888888888888888, \"#fdca26\"], [1.0, \"#f0f921\"]]}, \"colorway\": [\"#636efa\", \"#EF553B\", \"#00cc96\", \"#ab63fa\", \"#FFA15A\", \"#19d3f3\", \"#FF6692\", \"#B6E880\", \"#FF97FF\", \"#FECB52\"], \"font\": {\"color\": \"#2a3f5f\"}, \"geo\": {\"bgcolor\": \"white\", \"lakecolor\": \"white\", \"landcolor\": \"#E5ECF6\", \"showlakes\": true, \"showland\": true, \"subunitcolor\": \"white\"}, \"hoverlabel\": {\"align\": \"left\"}, \"hovermode\": \"closest\", \"mapbox\": {\"style\": \"light\"}, \"paper_bgcolor\": \"white\", \"plot_bgcolor\": \"#E5ECF6\", \"polar\": {\"angularaxis\": {\"gridcolor\": \"white\", \"linecolor\": \"white\", \"ticks\": \"\"}, \"bgcolor\": \"#E5ECF6\", \"radialaxis\": {\"gridcolor\": \"white\", \"linecolor\": \"white\", \"ticks\": \"\"}}, \"scene\": {\"xaxis\": {\"backgroundcolor\": \"#E5ECF6\", \"gridcolor\": \"white\", \"gridwidth\": 2, \"linecolor\": \"white\", \"showbackground\": true, \"ticks\": \"\", \"zerolinecolor\": \"white\"}, \"yaxis\": {\"backgroundcolor\": \"#E5ECF6\", \"gridcolor\": \"white\", \"gridwidth\": 2, \"linecolor\": \"white\", \"showbackground\": true, \"ticks\": \"\", \"zerolinecolor\": \"white\"}, \"zaxis\": {\"backgroundcolor\": \"#E5ECF6\", \"gridcolor\": \"white\", \"gridwidth\": 2, \"linecolor\": \"white\", \"showbackground\": true, \"ticks\": \"\", \"zerolinecolor\": \"white\"}}, \"shapedefaults\": {\"line\": {\"color\": \"#2a3f5f\"}}, \"ternary\": {\"aaxis\": {\"gridcolor\": \"white\", \"linecolor\": \"white\", \"ticks\": \"\"}, \"baxis\": {\"gridcolor\": \"white\", \"linecolor\": \"white\", \"ticks\": \"\"}, \"bgcolor\": \"#E5ECF6\", \"caxis\": {\"gridcolor\": \"white\", \"linecolor\": \"white\", \"ticks\": \"\"}}, \"title\": {\"x\": 0.05}, \"xaxis\": {\"automargin\": true, \"gridcolor\": \"white\", \"linecolor\": \"white\", \"ticks\": \"\", \"title\": {\"standoff\": 15}, \"zerolinecolor\": \"white\", \"zerolinewidth\": 2}, \"yaxis\": {\"automargin\": true, \"gridcolor\": \"white\", \"linecolor\": \"white\", \"ticks\": \"\", \"title\": {\"standoff\": 15}, \"zerolinecolor\": \"white\", \"zerolinewidth\": 2}}}, \"xaxis\": {\"anchor\": \"y\", \"domain\": [0.0, 1.0], \"title\": {\"text\": \"loggdp\"}}, \"yaxis\": {\"anchor\": \"x\", \"domain\": [0.0, 1.0], \"title\": {\"text\": \"growth rate\"}}},\n",
       "                        {\"responsive\": true}\n",
       "                    ).then(function(){\n",
       "                            \n",
       "var gd = document.getElementById('9b00fb0e-f3d5-4065-821a-9dc1a9f6e8fe');\n",
       "var x = new MutationObserver(function (mutations, observer) {{\n",
       "        var display = window.getComputedStyle(gd).display;\n",
       "        if (!display || display === 'none') {{\n",
       "            console.log([gd, 'removed!']);\n",
       "            Plotly.purge(gd);\n",
       "            observer.disconnect();\n",
       "        }}\n",
       "}});\n",
       "\n",
       "// Listen for the removal of the full notebook cells\n",
       "var notebookContainer = gd.closest('#notebook-container');\n",
       "if (notebookContainer) {{\n",
       "    x.observe(notebookContainer, {childList: true});\n",
       "}}\n",
       "\n",
       "// Listen for the clearing of the current output cell\n",
       "var outputEl = gd.closest('.output');\n",
       "if (outputEl) {{\n",
       "    x.observe(outputEl, {childList: true});\n",
       "}}\n",
       "\n",
       "                        })\n",
       "                };\n",
       "                });\n",
       "            </script>\n",
       "        </div>"
      ]
     },
     "metadata": {},
     "output_type": "display_data"
    }
   ],
   "source": [
    "growth(md_df,2000)"
   ]
  },
  {
   "cell_type": "markdown",
   "metadata": {},
   "source": [
    "Then you can use this function to generate the plot of the growth rate from any year to present. The plot for 1960 and 2000 are presented in the original article. "
   ]
  },
  {
   "cell_type": "code",
   "execution_count": null,
   "metadata": {},
   "outputs": [],
   "source": []
  }
 ],
 "metadata": {
  "kernelspec": {
   "display_name": "Python 3",
   "language": "python",
   "name": "python3"
  },
  "language_info": {
   "codemirror_mode": {
    "name": "ipython",
    "version": 3
   },
   "file_extension": ".py",
   "mimetype": "text/x-python",
   "name": "python",
   "nbconvert_exporter": "python",
   "pygments_lexer": "ipython3",
   "version": "3.6.8"
  }
 },
 "nbformat": 4,
 "nbformat_minor": 2
}
